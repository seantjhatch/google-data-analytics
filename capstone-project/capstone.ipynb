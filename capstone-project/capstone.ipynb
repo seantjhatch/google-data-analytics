{
 "cells": [
  {
   "cell_type": "markdown",
   "metadata": {},
   "source": [
    "<h1 style=\"text-align:center;\">Cyclistic Case Study</h1>\n",
    "\n",
    "## Table of Contents\n",
    "1. [Intro](#intro)\n",
    "\n",
    "2. [Ask](#ask)\n",
    "\n",
    "3. [Prepare](#prepare)\n",
    "\n",
    "4. [Process](#process)\n",
    "\n",
    "5. [Analyze](#analyze)\n",
    "\n",
    "6. [Share](#share)\n",
    "\n",
    "7. [Act](#act)\n",
    "\n",
    "## Intro<a name=\"intro\"></a>\n",
    "The goal of this project is to gain insight into how casual riders and annual members differ in their usage of a bike-share company. Within the company, the director of marketing believes that the company's future success depends on maximizing the number of annual memberships. Therefore, the insights found in this analysis will be used to design a digital marketing strategy aimed at converting casual riders into annual members. \n",
    "\n",
    "For the purpose of this study, **casual riders** are defined as customers who purchase single-ride or full-day passes, while **Cyclistic members** or **members** are customers who purchase an annual membership. \n",
    "\n",
    "## Ask<a name=\"ask\"></a>\n",
    "The question we are seeking to answer in this study is, \"How do annual members and casual riders use Cyclistic bikes differently?\"\n",
    "\n",
    "## Prepare<a name=\"prepare\"></a>\n",
    "The data we will use for this study is the previous 12 months worth of Cyclistic trip data. At the time this notebook was created, the 12 months were August 2023-July 2024. The data was pulled from an online database where the company keeps monthly trip information in .csv files. The data is the company's internal data. After downloading the data, it will be brought info this notebook. "
   ]
  },
  {
   "cell_type": "code",
   "execution_count": 1,
   "metadata": {},
   "outputs": [],
   "source": [
    "# Importing data science libraries\n",
    "import pandas as pd\n",
    "import numpy as np\n",
    "import glob\n",
    "import os\n",
    "\n",
    "# Importing visualization libraries\n",
    "import seaborn as sns\n",
    "import matplotlib.pyplot as plt\n",
    "import plotly as px\n",
    "import missingno as msno\n",
    "import plotly.offline as pyo \n",
    "import plotly.express as px\n",
    "import plotly.io as pio\n",
    "import plotly.graph_objects as go\n",
    "from plotly.subplots import make_subplots\n",
    "\n",
    "plt.style.use('ggplot')\n",
    "colors = ['#b58900', '#cb4b16', '#dc322f', '#d33682', '#6c71c4', '#268bd2', '#2aa198', '#859900']\n",
    "\n",
    "\n",
    "import warnings\n",
    "warnings.filterwarnings('ignore')"
   ]
  },
  {
   "cell_type": "code",
   "execution_count": 2,
   "metadata": {},
   "outputs": [],
   "source": [
    "# Importing the data\n",
    "path = 'data'\n",
    "csv_files = glob.glob(os.path.join(path, \"*.csv\"))\n",
    "\n",
    "dfs = []\n",
    "\n",
    "for file in csv_files:\n",
    "    df = pd.read_csv(file)\n",
    "    dfs.append(df)"
   ]
  },
  {
   "cell_type": "markdown",
   "metadata": {},
   "source": [
    "## Process<a name=\"process\"></a>\n",
    "Now that we have the csv files imported, we will combine them and begin exploring our dataset to get a better idea of what information we have available for analysis. We'll make sure that the data types for each column have been properly interpreted, and if not we'll change the type. We will also proceed with cleaning the data. We'll find out if there are any missing values and/or data that seems off and then figure out what to do with those records. "
   ]
  },
  {
   "cell_type": "code",
   "execution_count": 3,
   "metadata": {},
   "outputs": [
    {
     "data": {
      "text/html": [
       "<div>\n",
       "<style scoped>\n",
       "    .dataframe tbody tr th:only-of-type {\n",
       "        vertical-align: middle;\n",
       "    }\n",
       "\n",
       "    .dataframe tbody tr th {\n",
       "        vertical-align: top;\n",
       "    }\n",
       "\n",
       "    .dataframe thead th {\n",
       "        text-align: right;\n",
       "    }\n",
       "</style>\n",
       "<table border=\"1\" class=\"dataframe\">\n",
       "  <thead>\n",
       "    <tr style=\"text-align: right;\">\n",
       "      <th></th>\n",
       "      <th>ride_id</th>\n",
       "      <th>rideable_type</th>\n",
       "      <th>started_at</th>\n",
       "      <th>ended_at</th>\n",
       "      <th>start_station_name</th>\n",
       "      <th>start_station_id</th>\n",
       "      <th>end_station_name</th>\n",
       "      <th>end_station_id</th>\n",
       "      <th>start_lat</th>\n",
       "      <th>start_lng</th>\n",
       "      <th>end_lat</th>\n",
       "      <th>end_lng</th>\n",
       "      <th>member_casual</th>\n",
       "    </tr>\n",
       "  </thead>\n",
       "  <tbody>\n",
       "    <tr>\n",
       "      <th>0</th>\n",
       "      <td>4449097279F8BBE7</td>\n",
       "      <td>classic_bike</td>\n",
       "      <td>2023-10-08 10:36:26</td>\n",
       "      <td>2023-10-08 10:49:19</td>\n",
       "      <td>Orleans St &amp; Chestnut St (NEXT Apts)</td>\n",
       "      <td>620</td>\n",
       "      <td>Sheffield Ave &amp; Webster Ave</td>\n",
       "      <td>TA1309000033</td>\n",
       "      <td>41.898203</td>\n",
       "      <td>-87.637536</td>\n",
       "      <td>41.921540</td>\n",
       "      <td>-87.653818</td>\n",
       "      <td>member</td>\n",
       "    </tr>\n",
       "    <tr>\n",
       "      <th>1</th>\n",
       "      <td>9CF060543CA7B439</td>\n",
       "      <td>electric_bike</td>\n",
       "      <td>2023-10-11 17:23:59</td>\n",
       "      <td>2023-10-11 17:36:08</td>\n",
       "      <td>Desplaines St &amp; Kinzie St</td>\n",
       "      <td>TA1306000003</td>\n",
       "      <td>Sheffield Ave &amp; Webster Ave</td>\n",
       "      <td>TA1309000033</td>\n",
       "      <td>41.888641</td>\n",
       "      <td>-87.644415</td>\n",
       "      <td>41.921540</td>\n",
       "      <td>-87.653818</td>\n",
       "      <td>member</td>\n",
       "    </tr>\n",
       "    <tr>\n",
       "      <th>2</th>\n",
       "      <td>667F21F4D6BDE69C</td>\n",
       "      <td>electric_bike</td>\n",
       "      <td>2023-10-12 07:02:33</td>\n",
       "      <td>2023-10-12 07:06:53</td>\n",
       "      <td>Orleans St &amp; Chestnut St (NEXT Apts)</td>\n",
       "      <td>620</td>\n",
       "      <td>Franklin St &amp; Lake St</td>\n",
       "      <td>TA1307000111</td>\n",
       "      <td>41.898073</td>\n",
       "      <td>-87.637514</td>\n",
       "      <td>41.885837</td>\n",
       "      <td>-87.635500</td>\n",
       "      <td>member</td>\n",
       "    </tr>\n",
       "    <tr>\n",
       "      <th>3</th>\n",
       "      <td>F92714CC6B019B96</td>\n",
       "      <td>classic_bike</td>\n",
       "      <td>2023-10-24 19:13:03</td>\n",
       "      <td>2023-10-24 19:18:29</td>\n",
       "      <td>Desplaines St &amp; Kinzie St</td>\n",
       "      <td>TA1306000003</td>\n",
       "      <td>Franklin St &amp; Lake St</td>\n",
       "      <td>TA1307000111</td>\n",
       "      <td>41.888716</td>\n",
       "      <td>-87.644448</td>\n",
       "      <td>41.885837</td>\n",
       "      <td>-87.635500</td>\n",
       "      <td>member</td>\n",
       "    </tr>\n",
       "    <tr>\n",
       "      <th>4</th>\n",
       "      <td>5E34BA5DE945A9CC</td>\n",
       "      <td>classic_bike</td>\n",
       "      <td>2023-10-09 18:19:26</td>\n",
       "      <td>2023-10-09 18:30:56</td>\n",
       "      <td>Desplaines St &amp; Kinzie St</td>\n",
       "      <td>TA1306000003</td>\n",
       "      <td>Franklin St &amp; Lake St</td>\n",
       "      <td>TA1307000111</td>\n",
       "      <td>41.888716</td>\n",
       "      <td>-87.644448</td>\n",
       "      <td>41.885837</td>\n",
       "      <td>-87.635500</td>\n",
       "      <td>member</td>\n",
       "    </tr>\n",
       "    <tr>\n",
       "      <th>5</th>\n",
       "      <td>F7D7420AFAC53CD9</td>\n",
       "      <td>electric_bike</td>\n",
       "      <td>2023-10-04 17:10:59</td>\n",
       "      <td>2023-10-04 17:25:21</td>\n",
       "      <td>Orleans St &amp; Chestnut St (NEXT Apts)</td>\n",
       "      <td>620</td>\n",
       "      <td>Sheffield Ave &amp; Webster Ave</td>\n",
       "      <td>TA1309000033</td>\n",
       "      <td>41.898124</td>\n",
       "      <td>-87.637533</td>\n",
       "      <td>41.921540</td>\n",
       "      <td>-87.653818</td>\n",
       "      <td>member</td>\n",
       "    </tr>\n",
       "    <tr>\n",
       "      <th>6</th>\n",
       "      <td>870B2D4CD112D7B7</td>\n",
       "      <td>electric_bike</td>\n",
       "      <td>2023-10-31 17:32:20</td>\n",
       "      <td>2023-10-31 17:44:20</td>\n",
       "      <td>Orleans St &amp; Chestnut St (NEXT Apts)</td>\n",
       "      <td>620</td>\n",
       "      <td>Sheffield Ave &amp; Webster Ave</td>\n",
       "      <td>TA1309000033</td>\n",
       "      <td>41.898177</td>\n",
       "      <td>-87.637549</td>\n",
       "      <td>41.921540</td>\n",
       "      <td>-87.653818</td>\n",
       "      <td>member</td>\n",
       "    </tr>\n",
       "    <tr>\n",
       "      <th>7</th>\n",
       "      <td>D9179D36E32D456C</td>\n",
       "      <td>classic_bike</td>\n",
       "      <td>2023-10-02 18:51:51</td>\n",
       "      <td>2023-10-02 18:57:09</td>\n",
       "      <td>Desplaines St &amp; Kinzie St</td>\n",
       "      <td>TA1306000003</td>\n",
       "      <td>Franklin St &amp; Lake St</td>\n",
       "      <td>TA1307000111</td>\n",
       "      <td>41.888716</td>\n",
       "      <td>-87.644448</td>\n",
       "      <td>41.885837</td>\n",
       "      <td>-87.635500</td>\n",
       "      <td>casual</td>\n",
       "    </tr>\n",
       "    <tr>\n",
       "      <th>8</th>\n",
       "      <td>F8E131281F722FEF</td>\n",
       "      <td>classic_bike</td>\n",
       "      <td>2023-10-17 08:28:18</td>\n",
       "      <td>2023-10-17 08:50:03</td>\n",
       "      <td>Calumet Ave &amp; 18th St</td>\n",
       "      <td>13102</td>\n",
       "      <td>Morgan St &amp; Polk St</td>\n",
       "      <td>TA1307000130</td>\n",
       "      <td>41.857618</td>\n",
       "      <td>-87.619411</td>\n",
       "      <td>41.871737</td>\n",
       "      <td>-87.651030</td>\n",
       "      <td>member</td>\n",
       "    </tr>\n",
       "    <tr>\n",
       "      <th>9</th>\n",
       "      <td>91938B71748FA405</td>\n",
       "      <td>classic_bike</td>\n",
       "      <td>2023-10-17 19:17:38</td>\n",
       "      <td>2023-10-17 19:32:23</td>\n",
       "      <td>Wolcott Ave &amp; Polk St</td>\n",
       "      <td>TA1309000064</td>\n",
       "      <td>Morgan St &amp; Polk St</td>\n",
       "      <td>TA1307000130</td>\n",
       "      <td>41.871262</td>\n",
       "      <td>-87.673688</td>\n",
       "      <td>41.871737</td>\n",
       "      <td>-87.651030</td>\n",
       "      <td>member</td>\n",
       "    </tr>\n",
       "  </tbody>\n",
       "</table>\n",
       "</div>"
      ],
      "text/plain": [
       "            ride_id  rideable_type           started_at             ended_at  \\\n",
       "0  4449097279F8BBE7   classic_bike  2023-10-08 10:36:26  2023-10-08 10:49:19   \n",
       "1  9CF060543CA7B439  electric_bike  2023-10-11 17:23:59  2023-10-11 17:36:08   \n",
       "2  667F21F4D6BDE69C  electric_bike  2023-10-12 07:02:33  2023-10-12 07:06:53   \n",
       "3  F92714CC6B019B96   classic_bike  2023-10-24 19:13:03  2023-10-24 19:18:29   \n",
       "4  5E34BA5DE945A9CC   classic_bike  2023-10-09 18:19:26  2023-10-09 18:30:56   \n",
       "5  F7D7420AFAC53CD9  electric_bike  2023-10-04 17:10:59  2023-10-04 17:25:21   \n",
       "6  870B2D4CD112D7B7  electric_bike  2023-10-31 17:32:20  2023-10-31 17:44:20   \n",
       "7  D9179D36E32D456C   classic_bike  2023-10-02 18:51:51  2023-10-02 18:57:09   \n",
       "8  F8E131281F722FEF   classic_bike  2023-10-17 08:28:18  2023-10-17 08:50:03   \n",
       "9  91938B71748FA405   classic_bike  2023-10-17 19:17:38  2023-10-17 19:32:23   \n",
       "\n",
       "                     start_station_name start_station_id  \\\n",
       "0  Orleans St & Chestnut St (NEXT Apts)              620   \n",
       "1             Desplaines St & Kinzie St     TA1306000003   \n",
       "2  Orleans St & Chestnut St (NEXT Apts)              620   \n",
       "3             Desplaines St & Kinzie St     TA1306000003   \n",
       "4             Desplaines St & Kinzie St     TA1306000003   \n",
       "5  Orleans St & Chestnut St (NEXT Apts)              620   \n",
       "6  Orleans St & Chestnut St (NEXT Apts)              620   \n",
       "7             Desplaines St & Kinzie St     TA1306000003   \n",
       "8                 Calumet Ave & 18th St            13102   \n",
       "9                 Wolcott Ave & Polk St     TA1309000064   \n",
       "\n",
       "              end_station_name end_station_id  start_lat  start_lng  \\\n",
       "0  Sheffield Ave & Webster Ave   TA1309000033  41.898203 -87.637536   \n",
       "1  Sheffield Ave & Webster Ave   TA1309000033  41.888641 -87.644415   \n",
       "2        Franklin St & Lake St   TA1307000111  41.898073 -87.637514   \n",
       "3        Franklin St & Lake St   TA1307000111  41.888716 -87.644448   \n",
       "4        Franklin St & Lake St   TA1307000111  41.888716 -87.644448   \n",
       "5  Sheffield Ave & Webster Ave   TA1309000033  41.898124 -87.637533   \n",
       "6  Sheffield Ave & Webster Ave   TA1309000033  41.898177 -87.637549   \n",
       "7        Franklin St & Lake St   TA1307000111  41.888716 -87.644448   \n",
       "8          Morgan St & Polk St   TA1307000130  41.857618 -87.619411   \n",
       "9          Morgan St & Polk St   TA1307000130  41.871262 -87.673688   \n",
       "\n",
       "     end_lat    end_lng member_casual  \n",
       "0  41.921540 -87.653818        member  \n",
       "1  41.921540 -87.653818        member  \n",
       "2  41.885837 -87.635500        member  \n",
       "3  41.885837 -87.635500        member  \n",
       "4  41.885837 -87.635500        member  \n",
       "5  41.921540 -87.653818        member  \n",
       "6  41.921540 -87.653818        member  \n",
       "7  41.885837 -87.635500        casual  \n",
       "8  41.871737 -87.651030        member  \n",
       "9  41.871737 -87.651030        member  "
      ]
     },
     "execution_count": 3,
     "metadata": {},
     "output_type": "execute_result"
    }
   ],
   "source": [
    "# Combining the data into a single data frame and drop duplicates from a column that should only have unique IDs\n",
    "df = pd.concat(dfs, ignore_index=True).drop_duplicates('ride_id') \n",
    "\n",
    "# Checking the combined data frame\n",
    "df.head(10)"
   ]
  },
  {
   "cell_type": "code",
   "execution_count": 4,
   "metadata": {},
   "outputs": [
    {
     "data": {
      "text/plain": [
       "(5715482, 13)"
      ]
     },
     "execution_count": 4,
     "metadata": {},
     "output_type": "execute_result"
    }
   ],
   "source": [
    "# Getting some basic info on the data\n",
    "df.shape"
   ]
  },
  {
   "cell_type": "code",
   "execution_count": 5,
   "metadata": {},
   "outputs": [
    {
     "name": "stdout",
     "output_type": "stream",
     "text": [
      "<class 'pandas.core.frame.DataFrame'>\n",
      "Index: 5715482 entries, 0 to 5715692\n",
      "Data columns (total 13 columns):\n",
      " #   Column              Dtype  \n",
      "---  ------              -----  \n",
      " 0   ride_id             object \n",
      " 1   rideable_type       object \n",
      " 2   started_at          object \n",
      " 3   ended_at            object \n",
      " 4   start_station_name  object \n",
      " 5   start_station_id    object \n",
      " 6   end_station_name    object \n",
      " 7   end_station_id      object \n",
      " 8   start_lat           float64\n",
      " 9   start_lng           float64\n",
      " 10  end_lat             float64\n",
      " 11  end_lng             float64\n",
      " 12  member_casual       object \n",
      "dtypes: float64(4), object(9)\n",
      "memory usage: 610.5+ MB\n"
     ]
    }
   ],
   "source": [
    "df.info()"
   ]
  },
  {
   "cell_type": "code",
   "execution_count": 6,
   "metadata": {},
   "outputs": [
    {
     "name": "stdout",
     "output_type": "stream",
     "text": [
      "<class 'pandas.core.frame.DataFrame'>\n",
      "Index: 5715482 entries, 0 to 5715692\n",
      "Data columns (total 13 columns):\n",
      " #   Column              Dtype         \n",
      "---  ------              -----         \n",
      " 0   ride_id             object        \n",
      " 1   rideable_type       object        \n",
      " 2   started_at          datetime64[ns]\n",
      " 3   ended_at            datetime64[ns]\n",
      " 4   start_station_name  object        \n",
      " 5   start_station_id    object        \n",
      " 6   end_station_name    object        \n",
      " 7   end_station_id      object        \n",
      " 8   start_lat           float64       \n",
      " 9   start_lng           float64       \n",
      " 10  end_lat             float64       \n",
      " 11  end_lng             float64       \n",
      " 12  member_casual       object        \n",
      "dtypes: datetime64[ns](2), float64(4), object(7)\n",
      "memory usage: 610.5+ MB\n"
     ]
    }
   ],
   "source": [
    "# Converting `started_at` and `ended_at` to datetime format\n",
    "df['started_at'] = pd.to_datetime(df['started_at'], format='mixed')\n",
    "df['ended_at'] = pd.to_datetime(df['ended_at'], format='mixed')\n",
    "\n",
    "df.info()"
   ]
  },
  {
   "cell_type": "code",
   "execution_count": 7,
   "metadata": {},
   "outputs": [
    {
     "name": "stdout",
     "output_type": "stream",
     "text": [
      "<class 'pandas.core.frame.DataFrame'>\n",
      "Index: 5715482 entries, 0 to 5715692\n",
      "Data columns (total 13 columns):\n",
      " #   Column              Dtype         \n",
      "---  ------              -----         \n",
      " 0   ride_id             object        \n",
      " 1   rideable_type       category      \n",
      " 2   started_at          datetime64[ns]\n",
      " 3   ended_at            datetime64[ns]\n",
      " 4   start_station_name  object        \n",
      " 5   start_station_id    object        \n",
      " 6   end_station_name    object        \n",
      " 7   end_station_id      object        \n",
      " 8   start_lat           float64       \n",
      " 9   start_lng           float64       \n",
      " 10  end_lat             float64       \n",
      " 11  end_lng             float64       \n",
      " 12  member_casual       category      \n",
      "dtypes: category(2), datetime64[ns](2), float64(4), object(5)\n",
      "memory usage: 534.2+ MB\n"
     ]
    }
   ],
   "source": [
    "# Converting the `member_casual` and `rideable_type` columns to categories\n",
    "df['member_casual'] = df['member_casual'].astype('category')\n",
    "df['rideable_type'] = df['rideable_type'].astype('category')\n",
    "\n",
    "df.info()"
   ]
  },
  {
   "cell_type": "code",
   "execution_count": 8,
   "metadata": {},
   "outputs": [
    {
     "data": {
      "text/html": [
       "<div>\n",
       "<style scoped>\n",
       "    .dataframe tbody tr th:only-of-type {\n",
       "        vertical-align: middle;\n",
       "    }\n",
       "\n",
       "    .dataframe tbody tr th {\n",
       "        vertical-align: top;\n",
       "    }\n",
       "\n",
       "    .dataframe thead th {\n",
       "        text-align: right;\n",
       "    }\n",
       "</style>\n",
       "<table border=\"1\" class=\"dataframe\">\n",
       "  <thead>\n",
       "    <tr style=\"text-align: right;\">\n",
       "      <th></th>\n",
       "      <th>ride_id</th>\n",
       "      <th>rideable_type</th>\n",
       "      <th>started_at</th>\n",
       "      <th>ended_at</th>\n",
       "      <th>start_station_name</th>\n",
       "      <th>start_station_id</th>\n",
       "      <th>end_station_name</th>\n",
       "      <th>end_station_id</th>\n",
       "      <th>start_lat</th>\n",
       "      <th>start_lng</th>\n",
       "      <th>end_lat</th>\n",
       "      <th>end_lng</th>\n",
       "      <th>member_casual</th>\n",
       "    </tr>\n",
       "  </thead>\n",
       "  <tbody>\n",
       "    <tr>\n",
       "      <th>1594323</th>\n",
       "      <td>7F02F9C9518DE899</td>\n",
       "      <td>electric_bike</td>\n",
       "      <td>2024-07-31 23:56:29.404</td>\n",
       "      <td>2024-07-31 23:59:06.026</td>\n",
       "      <td>Montrose Harbor</td>\n",
       "      <td>TA1308000012</td>\n",
       "      <td>NaN</td>\n",
       "      <td>NaN</td>\n",
       "      <td>41.963982</td>\n",
       "      <td>-87.638181</td>\n",
       "      <td>41.960000</td>\n",
       "      <td>-87.640000</td>\n",
       "      <td>member</td>\n",
       "    </tr>\n",
       "    <tr>\n",
       "      <th>1217211</th>\n",
       "      <td>D8EA77522CDD0963</td>\n",
       "      <td>electric_bike</td>\n",
       "      <td>2024-07-31 23:55:00.044</td>\n",
       "      <td>2024-07-31 23:58:09.805</td>\n",
       "      <td>Wilton Ave &amp; Belmont Ave</td>\n",
       "      <td>TA1307000134</td>\n",
       "      <td>NaN</td>\n",
       "      <td>NaN</td>\n",
       "      <td>41.940232</td>\n",
       "      <td>-87.652944</td>\n",
       "      <td>41.950000</td>\n",
       "      <td>-87.650000</td>\n",
       "      <td>member</td>\n",
       "    </tr>\n",
       "    <tr>\n",
       "      <th>1098968</th>\n",
       "      <td>95217BF2C770F4DE</td>\n",
       "      <td>electric_bike</td>\n",
       "      <td>2024-07-31 23:54:26.535</td>\n",
       "      <td>2024-07-31 23:57:52.119</td>\n",
       "      <td>Stetson Ave &amp; South Water St</td>\n",
       "      <td>TA1308000029</td>\n",
       "      <td>Cityfront Plaza Dr &amp; Pioneer Ct</td>\n",
       "      <td>13427</td>\n",
       "      <td>41.886835</td>\n",
       "      <td>-87.622320</td>\n",
       "      <td>41.890573</td>\n",
       "      <td>-87.622072</td>\n",
       "      <td>casual</td>\n",
       "    </tr>\n",
       "    <tr>\n",
       "      <th>1028136</th>\n",
       "      <td>08C302BA8CA35FC2</td>\n",
       "      <td>electric_bike</td>\n",
       "      <td>2024-07-31 23:54:00.718</td>\n",
       "      <td>2024-07-31 23:55:50.961</td>\n",
       "      <td>State St &amp; Chicago Ave</td>\n",
       "      <td>21544</td>\n",
       "      <td>NaN</td>\n",
       "      <td>NaN</td>\n",
       "      <td>41.896617</td>\n",
       "      <td>-87.628579</td>\n",
       "      <td>41.900000</td>\n",
       "      <td>-87.630000</td>\n",
       "      <td>casual</td>\n",
       "    </tr>\n",
       "    <tr>\n",
       "      <th>1253867</th>\n",
       "      <td>C4121F2D05CE827E</td>\n",
       "      <td>electric_bike</td>\n",
       "      <td>2024-07-31 23:53:36.244</td>\n",
       "      <td>2024-07-31 23:56:48.209</td>\n",
       "      <td>NaN</td>\n",
       "      <td>NaN</td>\n",
       "      <td>NaN</td>\n",
       "      <td>NaN</td>\n",
       "      <td>41.930000</td>\n",
       "      <td>-87.650000</td>\n",
       "      <td>41.930000</td>\n",
       "      <td>-87.650000</td>\n",
       "      <td>casual</td>\n",
       "    </tr>\n",
       "    <tr>\n",
       "      <th>1351965</th>\n",
       "      <td>51A1A9F12078A3A9</td>\n",
       "      <td>electric_bike</td>\n",
       "      <td>2024-07-31 23:53:25.120</td>\n",
       "      <td>2024-07-31 23:57:01.391</td>\n",
       "      <td>Wells St &amp; Elm St</td>\n",
       "      <td>KA1504000135</td>\n",
       "      <td>Wells St &amp; Huron St</td>\n",
       "      <td>TA1306000012</td>\n",
       "      <td>41.903222</td>\n",
       "      <td>-87.634324</td>\n",
       "      <td>41.894722</td>\n",
       "      <td>-87.634362</td>\n",
       "      <td>casual</td>\n",
       "    </tr>\n",
       "    <tr>\n",
       "      <th>1627284</th>\n",
       "      <td>F150109CFA419D6E</td>\n",
       "      <td>electric_bike</td>\n",
       "      <td>2024-07-31 23:53:13.100</td>\n",
       "      <td>2024-07-31 23:59:00.637</td>\n",
       "      <td>NaN</td>\n",
       "      <td>NaN</td>\n",
       "      <td>Clark St &amp; Lincoln Ave</td>\n",
       "      <td>13179</td>\n",
       "      <td>41.930000</td>\n",
       "      <td>-87.650000</td>\n",
       "      <td>41.915689</td>\n",
       "      <td>-87.634600</td>\n",
       "      <td>member</td>\n",
       "    </tr>\n",
       "    <tr>\n",
       "      <th>1050922</th>\n",
       "      <td>AF0F739C3F723C91</td>\n",
       "      <td>electric_bike</td>\n",
       "      <td>2024-07-31 23:52:35.503</td>\n",
       "      <td>2024-07-31 23:55:43.916</td>\n",
       "      <td>Halsted St &amp; Wrightwood Ave</td>\n",
       "      <td>TA1309000061</td>\n",
       "      <td>NaN</td>\n",
       "      <td>NaN</td>\n",
       "      <td>41.929143</td>\n",
       "      <td>-87.649077</td>\n",
       "      <td>41.930000</td>\n",
       "      <td>-87.650000</td>\n",
       "      <td>member</td>\n",
       "    </tr>\n",
       "    <tr>\n",
       "      <th>1085365</th>\n",
       "      <td>5916FA2F813E5E74</td>\n",
       "      <td>electric_bike</td>\n",
       "      <td>2024-07-31 23:52:31.416</td>\n",
       "      <td>2024-07-31 23:55:21.415</td>\n",
       "      <td>Sheridan Rd &amp; Irving Park Rd</td>\n",
       "      <td>13063</td>\n",
       "      <td>NaN</td>\n",
       "      <td>NaN</td>\n",
       "      <td>41.954245</td>\n",
       "      <td>-87.654406</td>\n",
       "      <td>41.960000</td>\n",
       "      <td>-87.650000</td>\n",
       "      <td>member</td>\n",
       "    </tr>\n",
       "    <tr>\n",
       "      <th>1655166</th>\n",
       "      <td>6441AE460141DB52</td>\n",
       "      <td>electric_bike</td>\n",
       "      <td>2024-07-31 23:52:14.182</td>\n",
       "      <td>2024-07-31 23:59:06.039</td>\n",
       "      <td>Clarendon Ave &amp; Junior Ter</td>\n",
       "      <td>13389</td>\n",
       "      <td>Pine Grove Ave &amp; Waveland Ave</td>\n",
       "      <td>TA1307000150</td>\n",
       "      <td>41.961004</td>\n",
       "      <td>-87.649603</td>\n",
       "      <td>41.949473</td>\n",
       "      <td>-87.646453</td>\n",
       "      <td>casual</td>\n",
       "    </tr>\n",
       "  </tbody>\n",
       "</table>\n",
       "</div>"
      ],
      "text/plain": [
       "                  ride_id  rideable_type              started_at  \\\n",
       "1594323  7F02F9C9518DE899  electric_bike 2024-07-31 23:56:29.404   \n",
       "1217211  D8EA77522CDD0963  electric_bike 2024-07-31 23:55:00.044   \n",
       "1098968  95217BF2C770F4DE  electric_bike 2024-07-31 23:54:26.535   \n",
       "1028136  08C302BA8CA35FC2  electric_bike 2024-07-31 23:54:00.718   \n",
       "1253867  C4121F2D05CE827E  electric_bike 2024-07-31 23:53:36.244   \n",
       "1351965  51A1A9F12078A3A9  electric_bike 2024-07-31 23:53:25.120   \n",
       "1627284  F150109CFA419D6E  electric_bike 2024-07-31 23:53:13.100   \n",
       "1050922  AF0F739C3F723C91  electric_bike 2024-07-31 23:52:35.503   \n",
       "1085365  5916FA2F813E5E74  electric_bike 2024-07-31 23:52:31.416   \n",
       "1655166  6441AE460141DB52  electric_bike 2024-07-31 23:52:14.182   \n",
       "\n",
       "                       ended_at            start_station_name  \\\n",
       "1594323 2024-07-31 23:59:06.026               Montrose Harbor   \n",
       "1217211 2024-07-31 23:58:09.805      Wilton Ave & Belmont Ave   \n",
       "1098968 2024-07-31 23:57:52.119  Stetson Ave & South Water St   \n",
       "1028136 2024-07-31 23:55:50.961        State St & Chicago Ave   \n",
       "1253867 2024-07-31 23:56:48.209                           NaN   \n",
       "1351965 2024-07-31 23:57:01.391             Wells St & Elm St   \n",
       "1627284 2024-07-31 23:59:00.637                           NaN   \n",
       "1050922 2024-07-31 23:55:43.916   Halsted St & Wrightwood Ave   \n",
       "1085365 2024-07-31 23:55:21.415  Sheridan Rd & Irving Park Rd   \n",
       "1655166 2024-07-31 23:59:06.039    Clarendon Ave & Junior Ter   \n",
       "\n",
       "        start_station_id                 end_station_name end_station_id  \\\n",
       "1594323     TA1308000012                              NaN            NaN   \n",
       "1217211     TA1307000134                              NaN            NaN   \n",
       "1098968     TA1308000029  Cityfront Plaza Dr & Pioneer Ct          13427   \n",
       "1028136            21544                              NaN            NaN   \n",
       "1253867              NaN                              NaN            NaN   \n",
       "1351965     KA1504000135              Wells St & Huron St   TA1306000012   \n",
       "1627284              NaN           Clark St & Lincoln Ave          13179   \n",
       "1050922     TA1309000061                              NaN            NaN   \n",
       "1085365            13063                              NaN            NaN   \n",
       "1655166            13389    Pine Grove Ave & Waveland Ave   TA1307000150   \n",
       "\n",
       "         start_lat  start_lng    end_lat    end_lng member_casual  \n",
       "1594323  41.963982 -87.638181  41.960000 -87.640000        member  \n",
       "1217211  41.940232 -87.652944  41.950000 -87.650000        member  \n",
       "1098968  41.886835 -87.622320  41.890573 -87.622072        casual  \n",
       "1028136  41.896617 -87.628579  41.900000 -87.630000        casual  \n",
       "1253867  41.930000 -87.650000  41.930000 -87.650000        casual  \n",
       "1351965  41.903222 -87.634324  41.894722 -87.634362        casual  \n",
       "1627284  41.930000 -87.650000  41.915689 -87.634600        member  \n",
       "1050922  41.929143 -87.649077  41.930000 -87.650000        member  \n",
       "1085365  41.954245 -87.654406  41.960000 -87.650000        member  \n",
       "1655166  41.961004 -87.649603  41.949473 -87.646453        casual  "
      ]
     },
     "execution_count": 8,
     "metadata": {},
     "output_type": "execute_result"
    }
   ],
   "source": [
    "# Sorting by datetime, most recent first, to check that data has been properly imported and merged.\n",
    "df.sort_values('started_at', ascending = False).head(10)"
   ]
  },
  {
   "cell_type": "code",
   "execution_count": 9,
   "metadata": {},
   "outputs": [
    {
     "data": {
      "text/plain": [
       "ride_id               False\n",
       "rideable_type         False\n",
       "started_at            False\n",
       "ended_at              False\n",
       "start_station_name     True\n",
       "start_station_id       True\n",
       "end_station_name       True\n",
       "end_station_id         True\n",
       "start_lat             False\n",
       "start_lng             False\n",
       "end_lat                True\n",
       "end_lng                True\n",
       "member_casual         False\n",
       "dtype: bool"
      ]
     },
     "execution_count": 9,
     "metadata": {},
     "output_type": "execute_result"
    }
   ],
   "source": [
    "# Checking if there are any missing values across each column\n",
    "df.isnull().any()"
   ]
  },
  {
   "cell_type": "code",
   "execution_count": 10,
   "metadata": {},
   "outputs": [
    {
     "data": {
      "text/plain": [
       "ride_id                    0\n",
       "rideable_type              0\n",
       "started_at                 0\n",
       "ended_at                   0\n",
       "start_station_name    947002\n",
       "start_station_id      947002\n",
       "end_station_name      989396\n",
       "end_station_id        989396\n",
       "start_lat                  0\n",
       "start_lng                  0\n",
       "end_lat                 7716\n",
       "end_lng                 7716\n",
       "member_casual              0\n",
       "dtype: int64"
      ]
     },
     "execution_count": 10,
     "metadata": {},
     "output_type": "execute_result"
    }
   ],
   "source": [
    "# Showing how many missing values there are from each column\n",
    "df.isna().sum()"
   ]
  },
  {
   "cell_type": "code",
   "execution_count": 11,
   "metadata": {},
   "outputs": [
    {
     "data": {
      "text/plain": [
       "<Axes: >"
      ]
     },
     "execution_count": 11,
     "metadata": {},
     "output_type": "execute_result"
    },
    {
     "data": {
      "image/png": "[encoded data removed]",
      "text/plain": [
       "<Figure size 2500x1000 with 3 Axes>"
      ]
     },
     "metadata": {},
     "output_type": "display_data"
    }
   ],
   "source": [
    "# A couple visualizations to show missing data\n",
    "msno.bar(df)"
   ]
  },
  {
   "cell_type": "code",
   "execution_count": 12,
   "metadata": {},
   "outputs": [
    {
     "data": {
      "text/plain": [
       "<Axes: >"
      ]
     },
     "execution_count": 12,
     "metadata": {},
     "output_type": "execute_result"
    },
    {
     "data": {
      "image/png": "[encoded data removed]",
      "text/plain": [
       "<Figure size 2000x1200 with 2 Axes>"
      ]
     },
     "metadata": {},
     "output_type": "display_data"
    }
   ],
   "source": [
    "msno.heatmap(df, cmap='YlGnBu')"
   ]
  },
  {
   "cell_type": "code",
   "execution_count": 13,
   "metadata": {},
   "outputs": [
    {
     "data": {
      "text/plain": [
       "<Axes: >"
      ]
     },
     "execution_count": 13,
     "metadata": {},
     "output_type": "execute_result"
    },
    {
     "data": {
      "image/png": "[encoded data removed]",
      "text/plain": [
       "<Figure size 2500x1000 with 2 Axes>"
      ]
     },
     "metadata": {},
     "output_type": "display_data"
    }
   ],
   "source": [
    "msno.matrix(df)"
   ]
  },
  {
   "cell_type": "markdown",
   "metadata": {},
   "source": [
    "I'm going to start by replacing missing data with the hopes that it can still be used. I'll continue to investigate a bit here to decide if I need to remove the missing data instead."
   ]
  },
  {
   "cell_type": "code",
   "execution_count": 14,
   "metadata": {},
   "outputs": [
    {
     "data": {
      "text/html": [
       "<div>\n",
       "<style scoped>\n",
       "    .dataframe tbody tr th:only-of-type {\n",
       "        vertical-align: middle;\n",
       "    }\n",
       "\n",
       "    .dataframe tbody tr th {\n",
       "        vertical-align: top;\n",
       "    }\n",
       "\n",
       "    .dataframe thead th {\n",
       "        text-align: right;\n",
       "    }\n",
       "</style>\n",
       "<table border=\"1\" class=\"dataframe\">\n",
       "  <thead>\n",
       "    <tr style=\"text-align: right;\">\n",
       "      <th></th>\n",
       "      <th>ride_id</th>\n",
       "      <th>rideable_type</th>\n",
       "      <th>started_at</th>\n",
       "      <th>ended_at</th>\n",
       "      <th>start_station_name</th>\n",
       "      <th>start_station_id</th>\n",
       "      <th>end_station_name</th>\n",
       "      <th>end_station_id</th>\n",
       "      <th>start_lat</th>\n",
       "      <th>start_lng</th>\n",
       "      <th>end_lat</th>\n",
       "      <th>end_lng</th>\n",
       "      <th>member_casual</th>\n",
       "    </tr>\n",
       "  </thead>\n",
       "  <tbody>\n",
       "    <tr>\n",
       "      <th>852519</th>\n",
       "      <td>A154234C80CB6FDA</td>\n",
       "      <td>electric_bike</td>\n",
       "      <td>2024-04-27 17:56:43.000</td>\n",
       "      <td>2024-04-27 18:01:30.000</td>\n",
       "      <td>Unknown</td>\n",
       "      <td>Unknown</td>\n",
       "      <td>Unknown</td>\n",
       "      <td>Unknown</td>\n",
       "      <td>41.93</td>\n",
       "      <td>-87.66</td>\n",
       "      <td>41.940000</td>\n",
       "      <td>-87.660000</td>\n",
       "      <td>member</td>\n",
       "    </tr>\n",
       "    <tr>\n",
       "      <th>4521068</th>\n",
       "      <td>E706D4DCA3422041</td>\n",
       "      <td>electric_bike</td>\n",
       "      <td>2024-06-15 16:07:38.811</td>\n",
       "      <td>2024-06-15 16:24:41.547</td>\n",
       "      <td>Unknown</td>\n",
       "      <td>Unknown</td>\n",
       "      <td>Wells St &amp; Huron St</td>\n",
       "      <td>TA1306000012</td>\n",
       "      <td>41.94</td>\n",
       "      <td>-87.65</td>\n",
       "      <td>41.894722</td>\n",
       "      <td>-87.634362</td>\n",
       "      <td>member</td>\n",
       "    </tr>\n",
       "    <tr>\n",
       "      <th>4710901</th>\n",
       "      <td>95A9EC2AAF298C69</td>\n",
       "      <td>electric_bike</td>\n",
       "      <td>2024-06-12 14:26:19.643</td>\n",
       "      <td>2024-06-12 14:27:43.826</td>\n",
       "      <td>Unknown</td>\n",
       "      <td>Unknown</td>\n",
       "      <td>Unknown</td>\n",
       "      <td>Unknown</td>\n",
       "      <td>41.96</td>\n",
       "      <td>-87.65</td>\n",
       "      <td>41.970000</td>\n",
       "      <td>-87.650000</td>\n",
       "      <td>member</td>\n",
       "    </tr>\n",
       "    <tr>\n",
       "      <th>3648290</th>\n",
       "      <td>ADF863244DC9A284</td>\n",
       "      <td>electric_bike</td>\n",
       "      <td>2023-09-09 06:07:13.000</td>\n",
       "      <td>2023-09-09 06:10:20.000</td>\n",
       "      <td>Unknown</td>\n",
       "      <td>Unknown</td>\n",
       "      <td>Unknown</td>\n",
       "      <td>Unknown</td>\n",
       "      <td>41.96</td>\n",
       "      <td>-87.71</td>\n",
       "      <td>41.960000</td>\n",
       "      <td>-87.720000</td>\n",
       "      <td>casual</td>\n",
       "    </tr>\n",
       "    <tr>\n",
       "      <th>5335830</th>\n",
       "      <td>8D866A4C97E2BAF3</td>\n",
       "      <td>electric_bike</td>\n",
       "      <td>2024-05-12 09:26:28.000</td>\n",
       "      <td>2024-05-12 10:10:45.000</td>\n",
       "      <td>Unknown</td>\n",
       "      <td>Unknown</td>\n",
       "      <td>Unknown</td>\n",
       "      <td>Unknown</td>\n",
       "      <td>41.91</td>\n",
       "      <td>-87.62</td>\n",
       "      <td>41.950000</td>\n",
       "      <td>-87.640000</td>\n",
       "      <td>casual</td>\n",
       "    </tr>\n",
       "    <tr>\n",
       "      <th>4730101</th>\n",
       "      <td>BCC53A64A810AFAA</td>\n",
       "      <td>electric_bike</td>\n",
       "      <td>2024-06-17 19:26:34.708</td>\n",
       "      <td>2024-06-17 19:32:07.589</td>\n",
       "      <td>Unknown</td>\n",
       "      <td>Unknown</td>\n",
       "      <td>Unknown</td>\n",
       "      <td>Unknown</td>\n",
       "      <td>41.91</td>\n",
       "      <td>-87.67</td>\n",
       "      <td>41.900000</td>\n",
       "      <td>-87.680000</td>\n",
       "      <td>member</td>\n",
       "    </tr>\n",
       "    <tr>\n",
       "      <th>3443703</th>\n",
       "      <td>E1C673F02FFC8C96</td>\n",
       "      <td>electric_bike</td>\n",
       "      <td>2023-09-27 16:02:17.000</td>\n",
       "      <td>2023-09-27 16:07:24.000</td>\n",
       "      <td>Unknown</td>\n",
       "      <td>Unknown</td>\n",
       "      <td>MLK Jr Dr &amp; 29th St</td>\n",
       "      <td>TA1307000139</td>\n",
       "      <td>41.84</td>\n",
       "      <td>-87.62</td>\n",
       "      <td>41.842052</td>\n",
       "      <td>-87.617000</td>\n",
       "      <td>member</td>\n",
       "    </tr>\n",
       "    <tr>\n",
       "      <th>3627332</th>\n",
       "      <td>D0966A361AB6D602</td>\n",
       "      <td>electric_bike</td>\n",
       "      <td>2023-09-30 22:24:43.000</td>\n",
       "      <td>2023-09-30 22:25:29.000</td>\n",
       "      <td>Unknown</td>\n",
       "      <td>Unknown</td>\n",
       "      <td>Unknown</td>\n",
       "      <td>Unknown</td>\n",
       "      <td>41.94</td>\n",
       "      <td>-87.67</td>\n",
       "      <td>41.940000</td>\n",
       "      <td>-87.670000</td>\n",
       "      <td>member</td>\n",
       "    </tr>\n",
       "    <tr>\n",
       "      <th>4715031</th>\n",
       "      <td>4773CFF6C2550379</td>\n",
       "      <td>electric_bike</td>\n",
       "      <td>2024-06-24 16:55:02.226</td>\n",
       "      <td>2024-06-24 17:05:48.913</td>\n",
       "      <td>Unknown</td>\n",
       "      <td>Unknown</td>\n",
       "      <td>Unknown</td>\n",
       "      <td>Unknown</td>\n",
       "      <td>41.88</td>\n",
       "      <td>-87.64</td>\n",
       "      <td>41.900000</td>\n",
       "      <td>-87.630000</td>\n",
       "      <td>member</td>\n",
       "    </tr>\n",
       "    <tr>\n",
       "      <th>3799522</th>\n",
       "      <td>F9E6EDDB504D16A6</td>\n",
       "      <td>electric_bike</td>\n",
       "      <td>2023-09-18 17:31:45.000</td>\n",
       "      <td>2023-09-18 17:32:10.000</td>\n",
       "      <td>Unknown</td>\n",
       "      <td>Unknown</td>\n",
       "      <td>Unknown</td>\n",
       "      <td>Unknown</td>\n",
       "      <td>41.89</td>\n",
       "      <td>-87.65</td>\n",
       "      <td>41.890000</td>\n",
       "      <td>-87.650000</td>\n",
       "      <td>member</td>\n",
       "    </tr>\n",
       "  </tbody>\n",
       "</table>\n",
       "</div>"
      ],
      "text/plain": [
       "                  ride_id  rideable_type              started_at  \\\n",
       "852519   A154234C80CB6FDA  electric_bike 2024-04-27 17:56:43.000   \n",
       "4521068  E706D4DCA3422041  electric_bike 2024-06-15 16:07:38.811   \n",
       "4710901  95A9EC2AAF298C69  electric_bike 2024-06-12 14:26:19.643   \n",
       "3648290  ADF863244DC9A284  electric_bike 2023-09-09 06:07:13.000   \n",
       "5335830  8D866A4C97E2BAF3  electric_bike 2024-05-12 09:26:28.000   \n",
       "4730101  BCC53A64A810AFAA  electric_bike 2024-06-17 19:26:34.708   \n",
       "3443703  E1C673F02FFC8C96  electric_bike 2023-09-27 16:02:17.000   \n",
       "3627332  D0966A361AB6D602  electric_bike 2023-09-30 22:24:43.000   \n",
       "4715031  4773CFF6C2550379  electric_bike 2024-06-24 16:55:02.226   \n",
       "3799522  F9E6EDDB504D16A6  electric_bike 2023-09-18 17:31:45.000   \n",
       "\n",
       "                       ended_at start_station_name start_station_id  \\\n",
       "852519  2024-04-27 18:01:30.000            Unknown          Unknown   \n",
       "4521068 2024-06-15 16:24:41.547            Unknown          Unknown   \n",
       "4710901 2024-06-12 14:27:43.826            Unknown          Unknown   \n",
       "3648290 2023-09-09 06:10:20.000            Unknown          Unknown   \n",
       "5335830 2024-05-12 10:10:45.000            Unknown          Unknown   \n",
       "4730101 2024-06-17 19:32:07.589            Unknown          Unknown   \n",
       "3443703 2023-09-27 16:07:24.000            Unknown          Unknown   \n",
       "3627332 2023-09-30 22:25:29.000            Unknown          Unknown   \n",
       "4715031 2024-06-24 17:05:48.913            Unknown          Unknown   \n",
       "3799522 2023-09-18 17:32:10.000            Unknown          Unknown   \n",
       "\n",
       "            end_station_name end_station_id  start_lat  start_lng    end_lat  \\\n",
       "852519               Unknown        Unknown      41.93     -87.66  41.940000   \n",
       "4521068  Wells St & Huron St   TA1306000012      41.94     -87.65  41.894722   \n",
       "4710901              Unknown        Unknown      41.96     -87.65  41.970000   \n",
       "3648290              Unknown        Unknown      41.96     -87.71  41.960000   \n",
       "5335830              Unknown        Unknown      41.91     -87.62  41.950000   \n",
       "4730101              Unknown        Unknown      41.91     -87.67  41.900000   \n",
       "3443703  MLK Jr Dr & 29th St   TA1307000139      41.84     -87.62  41.842052   \n",
       "3627332              Unknown        Unknown      41.94     -87.67  41.940000   \n",
       "4715031              Unknown        Unknown      41.88     -87.64  41.900000   \n",
       "3799522              Unknown        Unknown      41.89     -87.65  41.890000   \n",
       "\n",
       "           end_lng member_casual  \n",
       "852519  -87.660000        member  \n",
       "4521068 -87.634362        member  \n",
       "4710901 -87.650000        member  \n",
       "3648290 -87.720000        casual  \n",
       "5335830 -87.640000        casual  \n",
       "4730101 -87.680000        member  \n",
       "3443703 -87.617000        member  \n",
       "3627332 -87.670000        member  \n",
       "4715031 -87.630000        member  \n",
       "3799522 -87.650000        member  "
      ]
     },
     "execution_count": 14,
     "metadata": {},
     "output_type": "execute_result"
    }
   ],
   "source": [
    "# Replacing missing values\n",
    "df['start_station_name'] = df['start_station_name'].fillna('Unknown')\n",
    "df['start_station_id'] = df['start_station_id'].fillna('Unknown')\n",
    "df['end_station_name'] = df['end_station_name'].fillna('Unknown')\n",
    "df['end_station_id'] = df['end_station_id'].fillna('Unknown')\n",
    "\n",
    "cd_u = df.loc[df['start_station_name'] == 'Unknown'].sample(n = 100)\n",
    "\n",
    "cd_u.head(10)"
   ]
  },
  {
   "cell_type": "code",
   "execution_count": 15,
   "metadata": {},
   "outputs": [
    {
     "data": {
      "application/vnd.plotly.v1+json": {
       "config": {
        "plotlyServerURL": "https://plot.ly"
       },
       "data": [
        {
         "geo": "geo",
         "hovertemplate": "start_lat=%{lat}<br>start_lng=%{lon}<extra></extra>",
         "lat": [
          41.93,
          41.94,
          41.96,
          41.96,
          41.91,
          41.91,
          41.84,
          41.94,
          41.88,
          41.89,
          41.88,
          41.93,
          42,
          41.97,
          41.92,
          41.94,
          41.92,
          41.78,
          41.92,
          41.88,
          41.9,
          42.01,
          41.96,
          41.95,
          41.8,
          41.91,
          42.01,
          41.85,
          41.8,
          41.93,
          41.94,
          41.87,
          41.89,
          41.87,
          41.96,
          41.91,
          41.91,
          42,
          41.94,
          41.92,
          41.83,
          41.75,
          41.95,
          41.91,
          41.89,
          42.01,
          41.88,
          41.79,
          41.9,
          41.95,
          41.92,
          41.92,
          41.88,
          42.01,
          41.92,
          41.91,
          41.95,
          41.93,
          41.95,
          41.93,
          41.84,
          41.79,
          41.93,
          41.95,
          41.9,
          41.9,
          41.91,
          41.96,
          41.91,
          41.88,
          41.78,
          41.91,
          41.88,
          41.89,
          41.96,
          41.94,
          41.92,
          41.95,
          41.94,
          41.8,
          41.92,
          41.87,
          41.93,
          41.92,
          41.96,
          41.93,
          41.92,
          41.89,
          41.89,
          41.96,
          41.9,
          41.92,
          41.93,
          41.92,
          41.79,
          41.91,
          41.88,
          41.95,
          41.86,
          41.92
         ],
         "legendgroup": "",
         "lon": [
          -87.66,
          -87.65,
          -87.65,
          -87.71,
          -87.62,
          -87.67,
          -87.62,
          -87.67,
          -87.64,
          -87.65,
          -87.65,
          -87.67,
          -87.66,
          -87.66,
          -87.65,
          -87.65,
          -87.65,
          -87.59,
          -87.65,
          -87.64,
          -87.67,
          -87.67,
          -87.64,
          -87.65,
          -87.6,
          -87.72,
          -87.66,
          -87.63,
          -87.6,
          -87.64,
          -87.68,
          -87.68,
          -87.65,
          -87.62,
          -87.65,
          -87.67,
          -87.63,
          -87.67,
          -87.67,
          -87.64,
          -87.64,
          -87.66,
          -87.67,
          -87.69,
          -87.62,
          -87.77,
          -87.65,
          -87.6,
          -87.64,
          -87.65,
          -87.63,
          -87.68,
          -87.67,
          -87.71,
          -87.65,
          -87.7,
          -87.66,
          -87.66,
          -87.66,
          -87.64,
          -87.63,
          -87.6,
          -87.63,
          -87.66,
          -87.67,
          -87.62,
          -87.68,
          -87.65,
          -87.65,
          -87.63,
          -87.59,
          -87.69,
          -87.73,
          -87.64,
          -87.69,
          -87.66,
          -87.77,
          -87.66,
          -87.75,
          -87.6,
          -87.78,
          -87.66,
          -87.64,
          -87.67,
          -87.63,
          -87.63,
          -87.78,
          -87.63,
          -87.63,
          -87.68,
          -87.62,
          -87.65,
          -87.69,
          -87.63,
          -87.72,
          -87.62,
          -87.64,
          -87.66,
          -87.61,
          -87.71
         ],
         "marker": {
          "color": "#636efa",
          "symbol": "circle"
         },
         "mode": "markers",
         "name": "",
         "showlegend": false,
         "type": "scattergeo"
        }
       ],
       "layout": {
        "geo": {
         "center": {},
         "domain": {
          "x": [
           0,
           1
          ],
          "y": [
           0,
           1
          ]
         }
        },
        "legend": {
         "tracegroupgap": 0
        },
        "template": {
         "data": {
          "bar": [
           {
            "error_x": {
             "color": "#2a3f5f"
            },
            "error_y": {
             "color": "#2a3f5f"
            },
            "marker": {
             "line": {
              "color": "#E5ECF6",
              "width": 0.5
             },
             "pattern": {
              "fillmode": "overlay",
              "size": 10,
              "solidity": 0.2
             }
            },
            "type": "bar"
           }
          ],
          "barpolar": [
           {
            "marker": {
             "line": {
              "color": "#E5ECF6",
              "width": 0.5
             },
             "pattern": {
              "fillmode": "overlay",
              "size": 10,
              "solidity": 0.2
             }
            },
            "type": "barpolar"
           }
          ],
          "carpet": [
           {
            "aaxis": {
             "endlinecolor": "#2a3f5f",
             "gridcolor": "white",
             "linecolor": "white",
             "minorgridcolor": "white",
             "startlinecolor": "#2a3f5f"
            },
            "baxis": {
             "endlinecolor": "#2a3f5f",
             "gridcolor": "white",
             "linecolor": "white",
             "minorgridcolor": "white",
             "startlinecolor": "#2a3f5f"
            },
            "type": "carpet"
           }
          ],
          "choropleth": [
           {
            "colorbar": {
             "outlinewidth": 0,
             "ticks": ""
            },
            "type": "choropleth"
           }
          ],
          "contour": [
           {
            "colorbar": {
             "outlinewidth": 0,
             "ticks": ""
            },
            "colorscale": [
             [
              0,
              "#0d0887"
             ],
             [
              0.1111111111111111,
              "#46039f"
             ],
             [
              0.2222222222222222,
              "#7201a8"
             ],
             [
              0.3333333333333333,
              "#9c179e"
             ],
             [
              0.4444444444444444,
              "#bd3786"
             ],
             [
              0.5555555555555556,
              "#d8576b"
             ],
             [
              0.6666666666666666,
              "#ed7953"
             ],
             [
              0.7777777777777778,
              "#fb9f3a"
             ],
             [
              0.8888888888888888,
              "#fdca26"
             ],
             [
              1,
              "#f0f921"
             ]
            ],
            "type": "contour"
           }
          ],
          "contourcarpet": [
           {
            "colorbar": {
             "outlinewidth": 0,
             "ticks": ""
            },
            "type": "contourcarpet"
           }
          ],
          "heatmap": [
           {
            "colorbar": {
             "outlinewidth": 0,
             "ticks": ""
            },
            "colorscale": [
             [
              0,
              "#0d0887"
             ],
             [
              0.1111111111111111,
              "#46039f"
             ],
             [
              0.2222222222222222,
              "#7201a8"
             ],
             [
              0.3333333333333333,
              "#9c179e"
             ],
             [
              0.4444444444444444,
              "#bd3786"
             ],
             [
              0.5555555555555556,
              "#d8576b"
             ],
             [
              0.6666666666666666,
              "#ed7953"
             ],
             [
              0.7777777777777778,
              "#fb9f3a"
             ],
             [
              0.8888888888888888,
              "#fdca26"
             ],
             [
              1,
              "#f0f921"
             ]
            ],
            "type": "heatmap"
           }
          ],
          "heatmapgl": [
           {
            "colorbar": {
             "outlinewidth": 0,
             "ticks": ""
            },
            "colorscale": [
             [
              0,
              "#0d0887"
             ],
             [
              0.1111111111111111,
              "#46039f"
             ],
             [
              0.2222222222222222,
              "#7201a8"
             ],
             [
              0.3333333333333333,
              "#9c179e"
             ],
             [
              0.4444444444444444,
              "#bd3786"
             ],
             [
              0.5555555555555556,
              "#d8576b"
             ],
             [
              0.6666666666666666,
              "#ed7953"
             ],
             [
              0.7777777777777778,
              "#fb9f3a"
             ],
             [
              0.8888888888888888,
              "#fdca26"
             ],
             [
              1,
              "#f0f921"
             ]
            ],
            "type": "heatmapgl"
           }
          ],
          "histogram": [
           {
            "marker": {
             "pattern": {
              "fillmode": "overlay",
              "size": 10,
              "solidity": 0.2
             }
            },
            "type": "histogram"
           }
          ],
          "histogram2d": [
           {
            "colorbar": {
             "outlinewidth": 0,
             "ticks": ""
            },
            "colorscale": [
             [
              0,
              "#0d0887"
             ],
             [
              0.1111111111111111,
              "#46039f"
             ],
             [
              0.2222222222222222,
              "#7201a8"
             ],
             [
              0.3333333333333333,
              "#9c179e"
             ],
             [
              0.4444444444444444,
              "#bd3786"
             ],
             [
              0.5555555555555556,
              "#d8576b"
             ],
             [
              0.6666666666666666,
              "#ed7953"
             ],
             [
              0.7777777777777778,
              "#fb9f3a"
             ],
             [
              0.8888888888888888,
              "#fdca26"
             ],
             [
              1,
              "#f0f921"
             ]
            ],
            "type": "histogram2d"
           }
          ],
          "histogram2dcontour": [
           {
            "colorbar": {
             "outlinewidth": 0,
             "ticks": ""
            },
            "colorscale": [
             [
              0,
              "#0d0887"
             ],
             [
              0.1111111111111111,
              "#46039f"
             ],
             [
              0.2222222222222222,
              "#7201a8"
             ],
             [
              0.3333333333333333,
              "#9c179e"
             ],
             [
              0.4444444444444444,
              "#bd3786"
             ],
             [
              0.5555555555555556,
              "#d8576b"
             ],
             [
              0.6666666666666666,
              "#ed7953"
             ],
             [
              0.7777777777777778,
              "#fb9f3a"
             ],
             [
              0.8888888888888888,
              "#fdca26"
             ],
             [
              1,
              "#f0f921"
             ]
            ],
            "type": "histogram2dcontour"
           }
          ],
          "mesh3d": [
           {
            "colorbar": {
             "outlinewidth": 0,
             "ticks": ""
            },
            "type": "mesh3d"
           }
          ],
          "parcoords": [
           {
            "line": {
             "colorbar": {
              "outlinewidth": 0,
              "ticks": ""
             }
            },
            "type": "parcoords"
           }
          ],
          "pie": [
           {
            "automargin": true,
            "type": "pie"
           }
          ],
          "scatter": [
           {
            "fillpattern": {
             "fillmode": "overlay",
             "size": 10,
             "solidity": 0.2
            },
            "type": "scatter"
           }
          ],
          "scatter3d": [
           {
            "line": {
             "colorbar": {
              "outlinewidth": 0,
              "ticks": ""
             }
            },
            "marker": {
             "colorbar": {
              "outlinewidth": 0,
              "ticks": ""
             }
            },
            "type": "scatter3d"
           }
          ],
          "scattercarpet": [
           {
            "marker": {
             "colorbar": {
              "outlinewidth": 0,
              "ticks": ""
             }
            },
            "type": "scattercarpet"
           }
          ],
          "scattergeo": [
           {
            "marker": {
             "colorbar": {
              "outlinewidth": 0,
              "ticks": ""
             }
            },
            "type": "scattergeo"
           }
          ],
          "scattergl": [
           {
            "marker": {
             "colorbar": {
              "outlinewidth": 0,
              "ticks": ""
             }
            },
            "type": "scattergl"
           }
          ],
          "scattermapbox": [
           {
            "marker": {
             "colorbar": {
              "outlinewidth": 0,
              "ticks": ""
             }
            },
            "type": "scattermapbox"
           }
          ],
          "scatterpolar": [
           {
            "marker": {
             "colorbar": {
              "outlinewidth": 0,
              "ticks": ""
             }
            },
            "type": "scatterpolar"
           }
          ],
          "scatterpolargl": [
           {
            "marker": {
             "colorbar": {
              "outlinewidth": 0,
              "ticks": ""
             }
            },
            "type": "scatterpolargl"
           }
          ],
          "scatterternary": [
           {
            "marker": {
             "colorbar": {
              "outlinewidth": 0,
              "ticks": ""
             }
            },
            "type": "scatterternary"
           }
          ],
          "surface": [
           {
            "colorbar": {
             "outlinewidth": 0,
             "ticks": ""
            },
            "colorscale": [
             [
              0,
              "#0d0887"
             ],
             [
              0.1111111111111111,
              "#46039f"
             ],
             [
              0.2222222222222222,
              "#7201a8"
             ],
             [
              0.3333333333333333,
              "#9c179e"
             ],
             [
              0.4444444444444444,
              "#bd3786"
             ],
             [
              0.5555555555555556,
              "#d8576b"
             ],
             [
              0.6666666666666666,
              "#ed7953"
             ],
             [
              0.7777777777777778,
              "#fb9f3a"
             ],
             [
              0.8888888888888888,
              "#fdca26"
             ],
             [
              1,
              "#f0f921"
             ]
            ],
            "type": "surface"
           }
          ],
          "table": [
           {
            "cells": {
             "fill": {
              "color": "#EBF0F8"
             },
             "line": {
              "color": "white"
             }
            },
            "header": {
             "fill": {
              "color": "#C8D4E3"
             },
             "line": {
              "color": "white"
             }
            },
            "type": "table"
           }
          ]
         },
         "layout": {
          "annotationdefaults": {
           "arrowcolor": "#2a3f5f",
           "arrowhead": 0,
           "arrowwidth": 1
          },
          "autotypenumbers": "strict",
          "coloraxis": {
           "colorbar": {
            "outlinewidth": 0,
            "ticks": ""
           }
          },
          "colorscale": {
           "diverging": [
            [
             0,
             "#8e0152"
            ],
            [
             0.1,
             "#c51b7d"
            ],
            [
             0.2,
             "#de77ae"
            ],
            [
             0.3,
             "#f1b6da"
            ],
            [
             0.4,
             "#fde0ef"
            ],
            [
             0.5,
             "#f7f7f7"
            ],
            [
             0.6,
             "#e6f5d0"
            ],
            [
             0.7,
             "#b8e186"
            ],
            [
             0.8,
             "#7fbc41"
            ],
            [
             0.9,
             "#4d9221"
            ],
            [
             1,
             "#276419"
            ]
           ],
           "sequential": [
            [
             0,
             "#0d0887"
            ],
            [
             0.1111111111111111,
             "#46039f"
            ],
            [
             0.2222222222222222,
             "#7201a8"
            ],
            [
             0.3333333333333333,
             "#9c179e"
            ],
            [
             0.4444444444444444,
             "#bd3786"
            ],
            [
             0.5555555555555556,
             "#d8576b"
            ],
            [
             0.6666666666666666,
             "#ed7953"
            ],
            [
             0.7777777777777778,
             "#fb9f3a"
            ],
            [
             0.8888888888888888,
             "#fdca26"
            ],
            [
             1,
             "#f0f921"
            ]
           ],
           "sequentialminus": [
            [
             0,
             "#0d0887"
            ],
            [
             0.1111111111111111,
             "#46039f"
            ],
            [
             0.2222222222222222,
             "#7201a8"
            ],
            [
             0.3333333333333333,
             "#9c179e"
            ],
            [
             0.4444444444444444,
             "#bd3786"
            ],
            [
             0.5555555555555556,
             "#d8576b"
            ],
            [
             0.6666666666666666,
             "#ed7953"
            ],
            [
             0.7777777777777778,
             "#fb9f3a"
            ],
            [
             0.8888888888888888,
             "#fdca26"
            ],
            [
             1,
             "#f0f921"
            ]
           ]
          },
          "colorway": [
           "#636efa",
           "#EF553B",
           "#00cc96",
           "#ab63fa",
           "#FFA15A",
           "#19d3f3",
           "#FF6692",
           "#B6E880",
           "#FF97FF",
           "#FECB52"
          ],
          "font": {
           "color": "#2a3f5f"
          },
          "geo": {
           "bgcolor": "white",
           "lakecolor": "white",
           "landcolor": "#E5ECF6",
           "showlakes": true,
           "showland": true,
           "subunitcolor": "white"
          },
          "hoverlabel": {
           "align": "left"
          },
          "hovermode": "closest",
          "mapbox": {
           "style": "light"
          },
          "paper_bgcolor": "white",
          "plot_bgcolor": "#E5ECF6",
          "polar": {
           "angularaxis": {
            "gridcolor": "white",
            "linecolor": "white",
            "ticks": ""
           },
           "bgcolor": "#E5ECF6",
           "radialaxis": {
            "gridcolor": "white",
            "linecolor": "white",
            "ticks": ""
           }
          },
          "scene": {
           "xaxis": {
            "backgroundcolor": "#E5ECF6",
            "gridcolor": "white",
            "gridwidth": 2,
            "linecolor": "white",
            "showbackground": true,
            "ticks": "",
            "zerolinecolor": "white"
           },
           "yaxis": {
            "backgroundcolor": "#E5ECF6",
            "gridcolor": "white",
            "gridwidth": 2,
            "linecolor": "white",
            "showbackground": true,
            "ticks": "",
            "zerolinecolor": "white"
           },
           "zaxis": {
            "backgroundcolor": "#E5ECF6",
            "gridcolor": "white",
            "gridwidth": 2,
            "linecolor": "white",
            "showbackground": true,
            "ticks": "",
            "zerolinecolor": "white"
           }
          },
          "shapedefaults": {
           "line": {
            "color": "#2a3f5f"
           }
          },
          "ternary": {
           "aaxis": {
            "gridcolor": "white",
            "linecolor": "white",
            "ticks": ""
           },
           "baxis": {
            "gridcolor": "white",
            "linecolor": "white",
            "ticks": ""
           },
           "bgcolor": "#E5ECF6",
           "caxis": {
            "gridcolor": "white",
            "linecolor": "white",
            "ticks": ""
           }
          },
          "title": {
           "x": 0.05
          },
          "xaxis": {
           "automargin": true,
           "gridcolor": "white",
           "linecolor": "white",
           "ticks": "",
           "title": {
            "standoff": 15
           },
           "zerolinecolor": "white",
           "zerolinewidth": 2
          },
          "yaxis": {
           "automargin": true,
           "gridcolor": "white",
           "linecolor": "white",
           "ticks": "",
           "title": {
            "standoff": 15
           },
           "zerolinecolor": "white",
           "zerolinewidth": 2
          }
         }
        },
        "title": {
         "text": "Unknown Start Station Name"
        }
       }
      }
     },
     "metadata": {},
     "output_type": "display_data"
    }
   ],
   "source": [
    "# Creating a geographic scatter plot to see if there is anyway to identify the missing station names based on their latitude and longitude. \n",
    "fig = px.scatter_geo(cd_u, lat='start_lat', lon='start_lng',\n",
    "                     title='Unknown Start Station Name')\n",
    "fig.show()"
   ]
  },
  {
   "cell_type": "markdown",
   "metadata": {},
   "source": [
    "## Analyze<a name=\"analyze\"></a>\n",
    "Now that we've imported the data, set the column data types, dealt with missing values, and become familiar with the info we have to work with, we will begin analyzing the data to derive insights related to our question: How do annual members and casual riders use Cyclistic bikes differently?"
   ]
  },
  {
   "cell_type": "code",
   "execution_count": 16,
   "metadata": {},
   "outputs": [
    {
     "data": {
      "text/plain": [
       "start_station_name\n",
       "Streeter Dr & Grand Ave               63675\n",
       "DuSable Lake Shore Dr & Monroe St     41624\n",
       "Michigan Ave & Oak St                 38367\n",
       "DuSable Lake Shore Dr & North Blvd    37837\n",
       "Kingsbury St & Kinzie St              35995\n",
       "Clark St & Elm St                     34853\n",
       "Clinton St & Washington Blvd          34243\n",
       "Wells St & Concord Ln                 31371\n",
       "Millennium Park                       30750\n",
       "Clinton St & Madison St               30054\n",
       "Wells St & Elm St                     29980\n",
       "Theater on the Lake                   29481\n",
       "Broadway & Barry Ave                  26145\n",
       "Wilton Ave & Belmont Ave              25854\n",
       "Indiana Ave & Roosevelt Rd            25676\n",
       "Dearborn St & Erie St                 25676\n",
       "Wabash Ave & Grand Ave                25626\n",
       "University Ave & 57th St              25512\n",
       "State St & Chicago Ave                25239\n",
       "Shedd Aquarium                        24922\n",
       "Name: count, dtype: int64"
      ]
     },
     "execution_count": 16,
     "metadata": {},
     "output_type": "execute_result"
    }
   ],
   "source": [
    "# Exploring start stations\n",
    "df['start_station_name'].loc[df['start_station_name'] != 'Unknown'].value_counts().head(20)"
   ]
  },
  {
   "cell_type": "code",
   "execution_count": 17,
   "metadata": {},
   "outputs": [
    {
     "data": {
      "text/plain": [
       "0   0 days 00:12:53\n",
       "1   0 days 00:12:09\n",
       "2   0 days 00:04:20\n",
       "3   0 days 00:05:26\n",
       "4   0 days 00:11:30\n",
       "Name: duration, dtype: timedelta64[ns]"
      ]
     },
     "execution_count": 17,
     "metadata": {},
     "output_type": "execute_result"
    }
   ],
   "source": [
    "# Creating a time delta column to examine the length of each ride\n",
    "d1 = df['started_at']\n",
    "d2 = df['ended_at']\n",
    "\n",
    "diff = d2-d1\n",
    "df['duration'] = diff\n",
    "df['duration'].head()"
   ]
  },
  {
   "cell_type": "code",
   "execution_count": 18,
   "metadata": {},
   "outputs": [
    {
     "data": {
      "text/html": [
       "<div>\n",
       "<style scoped>\n",
       "    .dataframe tbody tr th:only-of-type {\n",
       "        vertical-align: middle;\n",
       "    }\n",
       "\n",
       "    .dataframe tbody tr th {\n",
       "        vertical-align: top;\n",
       "    }\n",
       "\n",
       "    .dataframe thead th {\n",
       "        text-align: right;\n",
       "    }\n",
       "</style>\n",
       "<table border=\"1\" class=\"dataframe\">\n",
       "  <thead>\n",
       "    <tr style=\"text-align: right;\">\n",
       "      <th></th>\n",
       "      <th>ride_id</th>\n",
       "      <th>rideable_type</th>\n",
       "      <th>started_at</th>\n",
       "      <th>ended_at</th>\n",
       "      <th>start_station_name</th>\n",
       "      <th>start_station_id</th>\n",
       "      <th>end_station_name</th>\n",
       "      <th>end_station_id</th>\n",
       "      <th>start_lat</th>\n",
       "      <th>start_lng</th>\n",
       "      <th>end_lat</th>\n",
       "      <th>end_lng</th>\n",
       "      <th>member_casual</th>\n",
       "      <th>duration</th>\n",
       "    </tr>\n",
       "  </thead>\n",
       "  <tbody>\n",
       "    <tr>\n",
       "      <th>0</th>\n",
       "      <td>4449097279F8BBE7</td>\n",
       "      <td>classic_bike</td>\n",
       "      <td>2023-10-08 10:36:26</td>\n",
       "      <td>2023-10-08 10:49:19</td>\n",
       "      <td>Orleans St &amp; Chestnut St (NEXT Apts)</td>\n",
       "      <td>620</td>\n",
       "      <td>Sheffield Ave &amp; Webster Ave</td>\n",
       "      <td>TA1309000033</td>\n",
       "      <td>41.898203</td>\n",
       "      <td>-87.637536</td>\n",
       "      <td>41.921540</td>\n",
       "      <td>-87.653818</td>\n",
       "      <td>member</td>\n",
       "      <td>0 days 00:12:53</td>\n",
       "    </tr>\n",
       "    <tr>\n",
       "      <th>1</th>\n",
       "      <td>9CF060543CA7B439</td>\n",
       "      <td>electric_bike</td>\n",
       "      <td>2023-10-11 17:23:59</td>\n",
       "      <td>2023-10-11 17:36:08</td>\n",
       "      <td>Desplaines St &amp; Kinzie St</td>\n",
       "      <td>TA1306000003</td>\n",
       "      <td>Sheffield Ave &amp; Webster Ave</td>\n",
       "      <td>TA1309000033</td>\n",
       "      <td>41.888641</td>\n",
       "      <td>-87.644415</td>\n",
       "      <td>41.921540</td>\n",
       "      <td>-87.653818</td>\n",
       "      <td>member</td>\n",
       "      <td>0 days 00:12:09</td>\n",
       "    </tr>\n",
       "    <tr>\n",
       "      <th>2</th>\n",
       "      <td>667F21F4D6BDE69C</td>\n",
       "      <td>electric_bike</td>\n",
       "      <td>2023-10-12 07:02:33</td>\n",
       "      <td>2023-10-12 07:06:53</td>\n",
       "      <td>Orleans St &amp; Chestnut St (NEXT Apts)</td>\n",
       "      <td>620</td>\n",
       "      <td>Franklin St &amp; Lake St</td>\n",
       "      <td>TA1307000111</td>\n",
       "      <td>41.898073</td>\n",
       "      <td>-87.637514</td>\n",
       "      <td>41.885837</td>\n",
       "      <td>-87.635500</td>\n",
       "      <td>member</td>\n",
       "      <td>0 days 00:04:20</td>\n",
       "    </tr>\n",
       "    <tr>\n",
       "      <th>3</th>\n",
       "      <td>F92714CC6B019B96</td>\n",
       "      <td>classic_bike</td>\n",
       "      <td>2023-10-24 19:13:03</td>\n",
       "      <td>2023-10-24 19:18:29</td>\n",
       "      <td>Desplaines St &amp; Kinzie St</td>\n",
       "      <td>TA1306000003</td>\n",
       "      <td>Franklin St &amp; Lake St</td>\n",
       "      <td>TA1307000111</td>\n",
       "      <td>41.888716</td>\n",
       "      <td>-87.644448</td>\n",
       "      <td>41.885837</td>\n",
       "      <td>-87.635500</td>\n",
       "      <td>member</td>\n",
       "      <td>0 days 00:05:26</td>\n",
       "    </tr>\n",
       "    <tr>\n",
       "      <th>4</th>\n",
       "      <td>5E34BA5DE945A9CC</td>\n",
       "      <td>classic_bike</td>\n",
       "      <td>2023-10-09 18:19:26</td>\n",
       "      <td>2023-10-09 18:30:56</td>\n",
       "      <td>Desplaines St &amp; Kinzie St</td>\n",
       "      <td>TA1306000003</td>\n",
       "      <td>Franklin St &amp; Lake St</td>\n",
       "      <td>TA1307000111</td>\n",
       "      <td>41.888716</td>\n",
       "      <td>-87.644448</td>\n",
       "      <td>41.885837</td>\n",
       "      <td>-87.635500</td>\n",
       "      <td>member</td>\n",
       "      <td>0 days 00:11:30</td>\n",
       "    </tr>\n",
       "  </tbody>\n",
       "</table>\n",
       "</div>"
      ],
      "text/plain": [
       "            ride_id  rideable_type          started_at            ended_at  \\\n",
       "0  4449097279F8BBE7   classic_bike 2023-10-08 10:36:26 2023-10-08 10:49:19   \n",
       "1  9CF060543CA7B439  electric_bike 2023-10-11 17:23:59 2023-10-11 17:36:08   \n",
       "2  667F21F4D6BDE69C  electric_bike 2023-10-12 07:02:33 2023-10-12 07:06:53   \n",
       "3  F92714CC6B019B96   classic_bike 2023-10-24 19:13:03 2023-10-24 19:18:29   \n",
       "4  5E34BA5DE945A9CC   classic_bike 2023-10-09 18:19:26 2023-10-09 18:30:56   \n",
       "\n",
       "                     start_station_name start_station_id  \\\n",
       "0  Orleans St & Chestnut St (NEXT Apts)              620   \n",
       "1             Desplaines St & Kinzie St     TA1306000003   \n",
       "2  Orleans St & Chestnut St (NEXT Apts)              620   \n",
       "3             Desplaines St & Kinzie St     TA1306000003   \n",
       "4             Desplaines St & Kinzie St     TA1306000003   \n",
       "\n",
       "              end_station_name end_station_id  start_lat  start_lng  \\\n",
       "0  Sheffield Ave & Webster Ave   TA1309000033  41.898203 -87.637536   \n",
       "1  Sheffield Ave & Webster Ave   TA1309000033  41.888641 -87.644415   \n",
       "2        Franklin St & Lake St   TA1307000111  41.898073 -87.637514   \n",
       "3        Franklin St & Lake St   TA1307000111  41.888716 -87.644448   \n",
       "4        Franklin St & Lake St   TA1307000111  41.888716 -87.644448   \n",
       "\n",
       "     end_lat    end_lng member_casual        duration  \n",
       "0  41.921540 -87.653818        member 0 days 00:12:53  \n",
       "1  41.921540 -87.653818        member 0 days 00:12:09  \n",
       "2  41.885837 -87.635500        member 0 days 00:04:20  \n",
       "3  41.885837 -87.635500        member 0 days 00:05:26  \n",
       "4  41.885837 -87.635500        member 0 days 00:11:30  "
      ]
     },
     "execution_count": 18,
     "metadata": {},
     "output_type": "execute_result"
    }
   ],
   "source": [
    "# Looking at the data with the new column added\n",
    "df.head()"
   ]
  },
  {
   "cell_type": "code",
   "execution_count": 19,
   "metadata": {},
   "outputs": [
    {
     "data": {
      "text/html": [
       "<div>\n",
       "<style scoped>\n",
       "    .dataframe tbody tr th:only-of-type {\n",
       "        vertical-align: middle;\n",
       "    }\n",
       "\n",
       "    .dataframe tbody tr th {\n",
       "        vertical-align: top;\n",
       "    }\n",
       "\n",
       "    .dataframe thead th {\n",
       "        text-align: right;\n",
       "    }\n",
       "</style>\n",
       "<table border=\"1\" class=\"dataframe\">\n",
       "  <thead>\n",
       "    <tr style=\"text-align: right;\">\n",
       "      <th></th>\n",
       "      <th>ride_id</th>\n",
       "      <th>rideable_type</th>\n",
       "      <th>started_at</th>\n",
       "      <th>ended_at</th>\n",
       "      <th>start_station_name</th>\n",
       "      <th>start_station_id</th>\n",
       "      <th>end_station_name</th>\n",
       "      <th>end_station_id</th>\n",
       "      <th>start_lat</th>\n",
       "      <th>start_lng</th>\n",
       "      <th>end_lat</th>\n",
       "      <th>end_lng</th>\n",
       "      <th>member_casual</th>\n",
       "      <th>duration</th>\n",
       "    </tr>\n",
       "  </thead>\n",
       "  <tbody>\n",
       "    <tr>\n",
       "      <th>2448719</th>\n",
       "      <td>992B647C22E22513</td>\n",
       "      <td>docked_bike</td>\n",
       "      <td>2023-08-02 19:27:12</td>\n",
       "      <td>2023-10-10 04:56:16</td>\n",
       "      <td>Campbell Ave &amp; Montrose Ave</td>\n",
       "      <td>15623</td>\n",
       "      <td>Unknown</td>\n",
       "      <td>Unknown</td>\n",
       "      <td>41.961484</td>\n",
       "      <td>-87.692321</td>\n",
       "      <td>NaN</td>\n",
       "      <td>NaN</td>\n",
       "      <td>casual</td>\n",
       "      <td>68 days 09:29:04</td>\n",
       "    </tr>\n",
       "    <tr>\n",
       "      <th>1731692</th>\n",
       "      <td>24154619AEE96E2C</td>\n",
       "      <td>docked_bike</td>\n",
       "      <td>2023-08-03 22:06:08</td>\n",
       "      <td>2023-10-07 04:56:03</td>\n",
       "      <td>Broadway &amp; Argyle St</td>\n",
       "      <td>13108</td>\n",
       "      <td>Unknown</td>\n",
       "      <td>Unknown</td>\n",
       "      <td>41.973815</td>\n",
       "      <td>-87.659660</td>\n",
       "      <td>NaN</td>\n",
       "      <td>NaN</td>\n",
       "      <td>casual</td>\n",
       "      <td>64 days 06:49:55</td>\n",
       "    </tr>\n",
       "    <tr>\n",
       "      <th>1831074</th>\n",
       "      <td>9EC4ACDAA96E516F</td>\n",
       "      <td>docked_bike</td>\n",
       "      <td>2023-08-07 12:16:36</td>\n",
       "      <td>2023-10-04 09:59:11</td>\n",
       "      <td>State St &amp; Van Buren St</td>\n",
       "      <td>TA1305000035</td>\n",
       "      <td>Unknown</td>\n",
       "      <td>Unknown</td>\n",
       "      <td>41.877181</td>\n",
       "      <td>-87.627844</td>\n",
       "      <td>NaN</td>\n",
       "      <td>NaN</td>\n",
       "      <td>casual</td>\n",
       "      <td>57 days 21:42:35</td>\n",
       "    </tr>\n",
       "    <tr>\n",
       "      <th>2372946</th>\n",
       "      <td>ED31EE7C8024D292</td>\n",
       "      <td>docked_bike</td>\n",
       "      <td>2023-08-11 18:58:28</td>\n",
       "      <td>2023-10-06 04:33:29</td>\n",
       "      <td>Buckingham Fountain (Michigan/11th)</td>\n",
       "      <td>15541</td>\n",
       "      <td>Unknown</td>\n",
       "      <td>Unknown</td>\n",
       "      <td>41.876423</td>\n",
       "      <td>-87.620339</td>\n",
       "      <td>NaN</td>\n",
       "      <td>NaN</td>\n",
       "      <td>casual</td>\n",
       "      <td>55 days 09:35:01</td>\n",
       "    </tr>\n",
       "    <tr>\n",
       "      <th>2406247</th>\n",
       "      <td>1A572575C18B600B</td>\n",
       "      <td>docked_bike</td>\n",
       "      <td>2023-08-15 15:19:32</td>\n",
       "      <td>2023-09-29 04:51:14</td>\n",
       "      <td>Shedd Aquarium</td>\n",
       "      <td>15544</td>\n",
       "      <td>Unknown</td>\n",
       "      <td>Unknown</td>\n",
       "      <td>41.867226</td>\n",
       "      <td>-87.615355</td>\n",
       "      <td>NaN</td>\n",
       "      <td>NaN</td>\n",
       "      <td>casual</td>\n",
       "      <td>44 days 13:31:42</td>\n",
       "    </tr>\n",
       "  </tbody>\n",
       "</table>\n",
       "</div>"
      ],
      "text/plain": [
       "                  ride_id rideable_type          started_at  \\\n",
       "2448719  992B647C22E22513   docked_bike 2023-08-02 19:27:12   \n",
       "1731692  24154619AEE96E2C   docked_bike 2023-08-03 22:06:08   \n",
       "1831074  9EC4ACDAA96E516F   docked_bike 2023-08-07 12:16:36   \n",
       "2372946  ED31EE7C8024D292   docked_bike 2023-08-11 18:58:28   \n",
       "2406247  1A572575C18B600B   docked_bike 2023-08-15 15:19:32   \n",
       "\n",
       "                   ended_at                   start_station_name  \\\n",
       "2448719 2023-10-10 04:56:16          Campbell Ave & Montrose Ave   \n",
       "1731692 2023-10-07 04:56:03                 Broadway & Argyle St   \n",
       "1831074 2023-10-04 09:59:11              State St & Van Buren St   \n",
       "2372946 2023-10-06 04:33:29  Buckingham Fountain (Michigan/11th)   \n",
       "2406247 2023-09-29 04:51:14                       Shedd Aquarium   \n",
       "\n",
       "        start_station_id end_station_name end_station_id  start_lat  \\\n",
       "2448719            15623          Unknown        Unknown  41.961484   \n",
       "1731692            13108          Unknown        Unknown  41.973815   \n",
       "1831074     TA1305000035          Unknown        Unknown  41.877181   \n",
       "2372946            15541          Unknown        Unknown  41.876423   \n",
       "2406247            15544          Unknown        Unknown  41.867226   \n",
       "\n",
       "         start_lng  end_lat  end_lng member_casual         duration  \n",
       "2448719 -87.692321      NaN      NaN        casual 68 days 09:29:04  \n",
       "1731692 -87.659660      NaN      NaN        casual 64 days 06:49:55  \n",
       "1831074 -87.627844      NaN      NaN        casual 57 days 21:42:35  \n",
       "2372946 -87.620339      NaN      NaN        casual 55 days 09:35:01  \n",
       "2406247 -87.615355      NaN      NaN        casual 44 days 13:31:42  "
      ]
     },
     "execution_count": 19,
     "metadata": {},
     "output_type": "execute_result"
    }
   ],
   "source": [
    "# Examining rides with the longest durations\n",
    "df.nlargest(5, 'duration')"
   ]
  },
  {
   "cell_type": "code",
   "execution_count": 20,
   "metadata": {},
   "outputs": [
    {
     "data": {
      "text/html": [
       "<div>\n",
       "<style scoped>\n",
       "    .dataframe tbody tr th:only-of-type {\n",
       "        vertical-align: middle;\n",
       "    }\n",
       "\n",
       "    .dataframe tbody tr th {\n",
       "        vertical-align: top;\n",
       "    }\n",
       "\n",
       "    .dataframe thead th {\n",
       "        text-align: right;\n",
       "    }\n",
       "</style>\n",
       "<table border=\"1\" class=\"dataframe\">\n",
       "  <thead>\n",
       "    <tr style=\"text-align: right;\">\n",
       "      <th></th>\n",
       "      <th>ride_id</th>\n",
       "      <th>rideable_type</th>\n",
       "      <th>started_at</th>\n",
       "      <th>ended_at</th>\n",
       "      <th>start_station_name</th>\n",
       "      <th>start_station_id</th>\n",
       "      <th>end_station_name</th>\n",
       "      <th>end_station_id</th>\n",
       "      <th>start_lat</th>\n",
       "      <th>start_lng</th>\n",
       "      <th>end_lat</th>\n",
       "      <th>end_lng</th>\n",
       "      <th>member_casual</th>\n",
       "      <th>duration</th>\n",
       "    </tr>\n",
       "  </thead>\n",
       "  <tbody>\n",
       "    <tr>\n",
       "      <th>5582375</th>\n",
       "      <td>F584D47AE67FD388</td>\n",
       "      <td>classic_bike</td>\n",
       "      <td>2023-11-05 21:08:17</td>\n",
       "      <td>2023-10-25 07:31:46</td>\n",
       "      <td>Sheffield Ave &amp; Waveland Ave</td>\n",
       "      <td>TA1307000126</td>\n",
       "      <td>Unknown</td>\n",
       "      <td>Unknown</td>\n",
       "      <td>41.949288</td>\n",
       "      <td>-87.654462</td>\n",
       "      <td>41.95</td>\n",
       "      <td>-87.65</td>\n",
       "      <td>casual</td>\n",
       "      <td>-12 days +10:23:29</td>\n",
       "    </tr>\n",
       "    <tr>\n",
       "      <th>5620029</th>\n",
       "      <td>AE046C379C20B7CA</td>\n",
       "      <td>classic_bike</td>\n",
       "      <td>2023-11-05 20:46:59</td>\n",
       "      <td>2023-10-25 07:31:46</td>\n",
       "      <td>Sheridan Rd &amp; Irving Park Rd</td>\n",
       "      <td>13063</td>\n",
       "      <td>Unknown</td>\n",
       "      <td>Unknown</td>\n",
       "      <td>41.954297</td>\n",
       "      <td>-87.654399</td>\n",
       "      <td>41.95</td>\n",
       "      <td>-87.65</td>\n",
       "      <td>member</td>\n",
       "      <td>-12 days +10:44:47</td>\n",
       "    </tr>\n",
       "    <tr>\n",
       "      <th>5599448</th>\n",
       "      <td>A21D6507DA3C5AD4</td>\n",
       "      <td>classic_bike</td>\n",
       "      <td>2023-11-05 16:41:54</td>\n",
       "      <td>2023-10-25 07:31:46</td>\n",
       "      <td>Pine Grove Ave &amp; Irving Park Rd</td>\n",
       "      <td>TA1308000022</td>\n",
       "      <td>Unknown</td>\n",
       "      <td>Unknown</td>\n",
       "      <td>41.954397</td>\n",
       "      <td>-87.648046</td>\n",
       "      <td>41.95</td>\n",
       "      <td>-87.65</td>\n",
       "      <td>member</td>\n",
       "      <td>-12 days +14:49:52</td>\n",
       "    </tr>\n",
       "    <tr>\n",
       "      <th>5595225</th>\n",
       "      <td>DEC5EF8DE27398A0</td>\n",
       "      <td>classic_bike</td>\n",
       "      <td>2023-11-05 11:56:19</td>\n",
       "      <td>2023-10-25 07:31:46</td>\n",
       "      <td>Pine Grove Ave &amp; Irving Park Rd</td>\n",
       "      <td>TA1308000022</td>\n",
       "      <td>Unknown</td>\n",
       "      <td>Unknown</td>\n",
       "      <td>41.954360</td>\n",
       "      <td>-87.648109</td>\n",
       "      <td>41.95</td>\n",
       "      <td>-87.65</td>\n",
       "      <td>casual</td>\n",
       "      <td>-12 days +19:35:27</td>\n",
       "    </tr>\n",
       "    <tr>\n",
       "      <th>5619167</th>\n",
       "      <td>7850F6E2343BF766</td>\n",
       "      <td>classic_bike</td>\n",
       "      <td>2023-11-01 16:38:10</td>\n",
       "      <td>2023-10-25 07:31:46</td>\n",
       "      <td>Clark St &amp; Drummond Pl</td>\n",
       "      <td>TA1307000142</td>\n",
       "      <td>Unknown</td>\n",
       "      <td>Unknown</td>\n",
       "      <td>41.931195</td>\n",
       "      <td>-87.644212</td>\n",
       "      <td>41.93</td>\n",
       "      <td>-87.64</td>\n",
       "      <td>casual</td>\n",
       "      <td>-8 days +14:53:36</td>\n",
       "    </tr>\n",
       "  </tbody>\n",
       "</table>\n",
       "</div>"
      ],
      "text/plain": [
       "                  ride_id rideable_type          started_at  \\\n",
       "5582375  F584D47AE67FD388  classic_bike 2023-11-05 21:08:17   \n",
       "5620029  AE046C379C20B7CA  classic_bike 2023-11-05 20:46:59   \n",
       "5599448  A21D6507DA3C5AD4  classic_bike 2023-11-05 16:41:54   \n",
       "5595225  DEC5EF8DE27398A0  classic_bike 2023-11-05 11:56:19   \n",
       "5619167  7850F6E2343BF766  classic_bike 2023-11-01 16:38:10   \n",
       "\n",
       "                   ended_at               start_station_name start_station_id  \\\n",
       "5582375 2023-10-25 07:31:46     Sheffield Ave & Waveland Ave     TA1307000126   \n",
       "5620029 2023-10-25 07:31:46     Sheridan Rd & Irving Park Rd            13063   \n",
       "5599448 2023-10-25 07:31:46  Pine Grove Ave & Irving Park Rd     TA1308000022   \n",
       "5595225 2023-10-25 07:31:46  Pine Grove Ave & Irving Park Rd     TA1308000022   \n",
       "5619167 2023-10-25 07:31:46           Clark St & Drummond Pl     TA1307000142   \n",
       "\n",
       "        end_station_name end_station_id  start_lat  start_lng  end_lat  \\\n",
       "5582375          Unknown        Unknown  41.949288 -87.654462    41.95   \n",
       "5620029          Unknown        Unknown  41.954297 -87.654399    41.95   \n",
       "5599448          Unknown        Unknown  41.954397 -87.648046    41.95   \n",
       "5595225          Unknown        Unknown  41.954360 -87.648109    41.95   \n",
       "5619167          Unknown        Unknown  41.931195 -87.644212    41.93   \n",
       "\n",
       "         end_lng member_casual           duration  \n",
       "5582375   -87.65        casual -12 days +10:23:29  \n",
       "5620029   -87.65        member -12 days +10:44:47  \n",
       "5599448   -87.65        member -12 days +14:49:52  \n",
       "5595225   -87.65        casual -12 days +19:35:27  \n",
       "5619167   -87.64        casual  -8 days +14:53:36  "
      ]
     },
     "execution_count": 20,
     "metadata": {},
     "output_type": "execute_result"
    }
   ],
   "source": [
    "# And the rides with the shortest durations\n",
    "df.nsmallest(5, 'duration')"
   ]
  },
  {
   "cell_type": "markdown",
   "metadata": {},
   "source": [
    "I'm realizing that the durations on these rides is very skewed. It seems unlikely that there were casual riders with rides that last days, up to 68, and impossible that anyone would have had a ride that lasted a negative amount of time. I'm noticing that all of these outlier records include an unknown start station and/or end station. So, I'm going to go ahead and drop rows with unknown values. In an ideal setting, I would have an engineer I could talk to about those records, but for the purpose of this study, I will proceed without those entries because they significantly skew the data I'm after.  "
   ]
  },
  {
   "cell_type": "code",
   "execution_count": 21,
   "metadata": {},
   "outputs": [
    {
     "name": "stdout",
     "output_type": "stream",
     "text": [
      "<class 'pandas.core.frame.DataFrame'>\n",
      "Index: 4241241 entries, 0 to 5715692\n",
      "Data columns (total 14 columns):\n",
      " #   Column              Dtype          \n",
      "---  ------              -----          \n",
      " 0   ride_id             object         \n",
      " 1   rideable_type       category       \n",
      " 2   started_at          datetime64[ns] \n",
      " 3   ended_at            datetime64[ns] \n",
      " 4   start_station_name  object         \n",
      " 5   start_station_id    object         \n",
      " 6   end_station_name    object         \n",
      " 7   end_station_id      object         \n",
      " 8   start_lat           float64        \n",
      " 9   start_lng           float64        \n",
      " 10  end_lat             float64        \n",
      " 11  end_lng             float64        \n",
      " 12  member_casual       category       \n",
      " 13  duration            timedelta64[ns]\n",
      "dtypes: category(2), datetime64[ns](2), float64(4), object(5), timedelta64[ns](1)\n",
      "memory usage: 428.7+ MB\n"
     ]
    }
   ],
   "source": [
    "# Removing records with unknown start or end stations\n",
    "df = df[df['start_station_name'] != 'Unknown']\n",
    "df = df[df['end_station_name'] != 'Unknown']\n",
    "\n",
    "#Checking how many entries are left in our cleaned data frame\n",
    "df.info()"
   ]
  },
  {
   "cell_type": "code",
   "execution_count": 22,
   "metadata": {},
   "outputs": [
    {
     "data": {
      "text/html": [
       "<div>\n",
       "<style scoped>\n",
       "    .dataframe tbody tr th:only-of-type {\n",
       "        vertical-align: middle;\n",
       "    }\n",
       "\n",
       "    .dataframe tbody tr th {\n",
       "        vertical-align: top;\n",
       "    }\n",
       "\n",
       "    .dataframe thead th {\n",
       "        text-align: right;\n",
       "    }\n",
       "</style>\n",
       "<table border=\"1\" class=\"dataframe\">\n",
       "  <thead>\n",
       "    <tr style=\"text-align: right;\">\n",
       "      <th></th>\n",
       "      <th>ride_id</th>\n",
       "      <th>rideable_type</th>\n",
       "      <th>started_at</th>\n",
       "      <th>ended_at</th>\n",
       "      <th>start_station_name</th>\n",
       "      <th>start_station_id</th>\n",
       "      <th>end_station_name</th>\n",
       "      <th>end_station_id</th>\n",
       "      <th>start_lat</th>\n",
       "      <th>start_lng</th>\n",
       "      <th>end_lat</th>\n",
       "      <th>end_lng</th>\n",
       "      <th>member_casual</th>\n",
       "      <th>duration</th>\n",
       "    </tr>\n",
       "  </thead>\n",
       "  <tbody>\n",
       "    <tr>\n",
       "      <th>1975383</th>\n",
       "      <td>47158A16C754A9F4</td>\n",
       "      <td>docked_bike</td>\n",
       "      <td>2023-08-10 22:17:49</td>\n",
       "      <td>2023-08-15 17:09:02</td>\n",
       "      <td>Larrabee St &amp; Webster Ave</td>\n",
       "      <td>13193</td>\n",
       "      <td>Michigan Ave &amp; Oak St</td>\n",
       "      <td>13042</td>\n",
       "      <td>41.921822</td>\n",
       "      <td>-87.644140</td>\n",
       "      <td>41.900960</td>\n",
       "      <td>-87.623777</td>\n",
       "      <td>casual</td>\n",
       "      <td>4 days 18:51:13</td>\n",
       "    </tr>\n",
       "    <tr>\n",
       "      <th>1772455</th>\n",
       "      <td>4031082BC503CC84</td>\n",
       "      <td>docked_bike</td>\n",
       "      <td>2023-08-02 17:28:57</td>\n",
       "      <td>2023-08-06 11:07:57</td>\n",
       "      <td>University Ave &amp; 57th St</td>\n",
       "      <td>KA1503000071</td>\n",
       "      <td>Museum of Science and Industry</td>\n",
       "      <td>KA1503000074</td>\n",
       "      <td>41.791478</td>\n",
       "      <td>-87.599861</td>\n",
       "      <td>41.791728</td>\n",
       "      <td>-87.583945</td>\n",
       "      <td>casual</td>\n",
       "      <td>3 days 17:39:00</td>\n",
       "    </tr>\n",
       "    <tr>\n",
       "      <th>1778616</th>\n",
       "      <td>D2273A0F45CDD4CC</td>\n",
       "      <td>docked_bike</td>\n",
       "      <td>2023-08-18 09:13:48</td>\n",
       "      <td>2023-08-20 16:14:38</td>\n",
       "      <td>2112 W Peterson Ave</td>\n",
       "      <td>KA1504000155</td>\n",
       "      <td>Sheridan Rd &amp; Loyola Ave</td>\n",
       "      <td>RP-009</td>\n",
       "      <td>41.991178</td>\n",
       "      <td>-87.683593</td>\n",
       "      <td>42.001044</td>\n",
       "      <td>-87.661198</td>\n",
       "      <td>casual</td>\n",
       "      <td>2 days 07:00:50</td>\n",
       "    </tr>\n",
       "    <tr>\n",
       "      <th>2896281</th>\n",
       "      <td>7A5CAAC52FAE9E95</td>\n",
       "      <td>classic_bike</td>\n",
       "      <td>2024-03-09 16:58:39</td>\n",
       "      <td>2024-03-10 18:08:01</td>\n",
       "      <td>Talman Ave &amp; Addison St</td>\n",
       "      <td>15632</td>\n",
       "      <td>Talman Ave &amp; Addison St</td>\n",
       "      <td>15632</td>\n",
       "      <td>41.946636</td>\n",
       "      <td>-87.694615</td>\n",
       "      <td>41.946636</td>\n",
       "      <td>-87.694615</td>\n",
       "      <td>casual</td>\n",
       "      <td>1 days 01:09:22</td>\n",
       "    </tr>\n",
       "    <tr>\n",
       "      <th>3697920</th>\n",
       "      <td>7AC23ADF3F785C89</td>\n",
       "      <td>classic_bike</td>\n",
       "      <td>2023-09-29 12:32:03</td>\n",
       "      <td>2023-09-30 13:29:57</td>\n",
       "      <td>Halsted St &amp; 63rd St</td>\n",
       "      <td>KA1503000055</td>\n",
       "      <td>Halsted St &amp; 63rd St</td>\n",
       "      <td>KA1503000055</td>\n",
       "      <td>41.779381</td>\n",
       "      <td>-87.644621</td>\n",
       "      <td>41.779381</td>\n",
       "      <td>-87.644621</td>\n",
       "      <td>casual</td>\n",
       "      <td>1 days 00:57:54</td>\n",
       "    </tr>\n",
       "    <tr>\n",
       "      <th>2635039</th>\n",
       "      <td>8AFD9583BC85E0DE</td>\n",
       "      <td>classic_bike</td>\n",
       "      <td>2024-02-01 17:28:26</td>\n",
       "      <td>2024-02-02 18:26:05</td>\n",
       "      <td>Benson Ave &amp; Church St</td>\n",
       "      <td>596</td>\n",
       "      <td>Sheridan Rd &amp; Noyes St (NU)</td>\n",
       "      <td>604</td>\n",
       "      <td>42.048214</td>\n",
       "      <td>-87.683485</td>\n",
       "      <td>42.058239</td>\n",
       "      <td>-87.677432</td>\n",
       "      <td>member</td>\n",
       "      <td>1 days 00:57:39</td>\n",
       "    </tr>\n",
       "    <tr>\n",
       "      <th>5689334</th>\n",
       "      <td>2503BA4056C4C83B</td>\n",
       "      <td>classic_bike</td>\n",
       "      <td>2023-11-11 11:58:41</td>\n",
       "      <td>2023-11-12 12:56:11</td>\n",
       "      <td>Montrose Harbor</td>\n",
       "      <td>TA1308000012</td>\n",
       "      <td>Clark St &amp; Leland Ave</td>\n",
       "      <td>TA1309000014</td>\n",
       "      <td>41.963982</td>\n",
       "      <td>-87.638181</td>\n",
       "      <td>41.967088</td>\n",
       "      <td>-87.667291</td>\n",
       "      <td>member</td>\n",
       "      <td>1 days 00:57:30</td>\n",
       "    </tr>\n",
       "    <tr>\n",
       "      <th>3767134</th>\n",
       "      <td>C65FD7B15C4C410F</td>\n",
       "      <td>classic_bike</td>\n",
       "      <td>2023-09-18 17:57:10</td>\n",
       "      <td>2023-09-19 18:54:33</td>\n",
       "      <td>DuSable Lake Shore Dr &amp; Wellington Ave</td>\n",
       "      <td>TA1307000041</td>\n",
       "      <td>DuSable Lake Shore Dr &amp; Wellington Ave</td>\n",
       "      <td>TA1307000041</td>\n",
       "      <td>41.936688</td>\n",
       "      <td>-87.636829</td>\n",
       "      <td>41.936688</td>\n",
       "      <td>-87.636829</td>\n",
       "      <td>member</td>\n",
       "      <td>1 days 00:57:23</td>\n",
       "    </tr>\n",
       "    <tr>\n",
       "      <th>2567996</th>\n",
       "      <td>D1B2433CCB28F892</td>\n",
       "      <td>classic_bike</td>\n",
       "      <td>2024-01-17 07:44:28</td>\n",
       "      <td>2024-01-18 08:41:47</td>\n",
       "      <td>Ellis Ave &amp; 60th St</td>\n",
       "      <td>KA1503000014</td>\n",
       "      <td>Harper Ave &amp; 59th St</td>\n",
       "      <td>KA1503000070</td>\n",
       "      <td>41.785097</td>\n",
       "      <td>-87.601073</td>\n",
       "      <td>41.787943</td>\n",
       "      <td>-87.588315</td>\n",
       "      <td>member</td>\n",
       "      <td>1 days 00:57:19</td>\n",
       "    </tr>\n",
       "    <tr>\n",
       "      <th>2059315</th>\n",
       "      <td>3309CF3DBCAD8E84</td>\n",
       "      <td>docked_bike</td>\n",
       "      <td>2023-08-20 19:43:06</td>\n",
       "      <td>2023-08-21 20:40:23</td>\n",
       "      <td>Prairie Ave &amp; 43rd St</td>\n",
       "      <td>KA1503000027</td>\n",
       "      <td>Prairie Ave &amp; 43rd St</td>\n",
       "      <td>KA1503000027</td>\n",
       "      <td>41.816659</td>\n",
       "      <td>-87.619412</td>\n",
       "      <td>41.816659</td>\n",
       "      <td>-87.619412</td>\n",
       "      <td>casual</td>\n",
       "      <td>1 days 00:57:17</td>\n",
       "    </tr>\n",
       "  </tbody>\n",
       "</table>\n",
       "</div>"
      ],
      "text/plain": [
       "                  ride_id rideable_type          started_at  \\\n",
       "1975383  47158A16C754A9F4   docked_bike 2023-08-10 22:17:49   \n",
       "1772455  4031082BC503CC84   docked_bike 2023-08-02 17:28:57   \n",
       "1778616  D2273A0F45CDD4CC   docked_bike 2023-08-18 09:13:48   \n",
       "2896281  7A5CAAC52FAE9E95  classic_bike 2024-03-09 16:58:39   \n",
       "3697920  7AC23ADF3F785C89  classic_bike 2023-09-29 12:32:03   \n",
       "2635039  8AFD9583BC85E0DE  classic_bike 2024-02-01 17:28:26   \n",
       "5689334  2503BA4056C4C83B  classic_bike 2023-11-11 11:58:41   \n",
       "3767134  C65FD7B15C4C410F  classic_bike 2023-09-18 17:57:10   \n",
       "2567996  D1B2433CCB28F892  classic_bike 2024-01-17 07:44:28   \n",
       "2059315  3309CF3DBCAD8E84   docked_bike 2023-08-20 19:43:06   \n",
       "\n",
       "                   ended_at                      start_station_name  \\\n",
       "1975383 2023-08-15 17:09:02               Larrabee St & Webster Ave   \n",
       "1772455 2023-08-06 11:07:57                University Ave & 57th St   \n",
       "1778616 2023-08-20 16:14:38                     2112 W Peterson Ave   \n",
       "2896281 2024-03-10 18:08:01                 Talman Ave & Addison St   \n",
       "3697920 2023-09-30 13:29:57                    Halsted St & 63rd St   \n",
       "2635039 2024-02-02 18:26:05                  Benson Ave & Church St   \n",
       "5689334 2023-11-12 12:56:11                         Montrose Harbor   \n",
       "3767134 2023-09-19 18:54:33  DuSable Lake Shore Dr & Wellington Ave   \n",
       "2567996 2024-01-18 08:41:47                     Ellis Ave & 60th St   \n",
       "2059315 2023-08-21 20:40:23                   Prairie Ave & 43rd St   \n",
       "\n",
       "        start_station_id                        end_station_name  \\\n",
       "1975383            13193                   Michigan Ave & Oak St   \n",
       "1772455     KA1503000071          Museum of Science and Industry   \n",
       "1778616     KA1504000155                Sheridan Rd & Loyola Ave   \n",
       "2896281            15632                 Talman Ave & Addison St   \n",
       "3697920     KA1503000055                    Halsted St & 63rd St   \n",
       "2635039              596             Sheridan Rd & Noyes St (NU)   \n",
       "5689334     TA1308000012                   Clark St & Leland Ave   \n",
       "3767134     TA1307000041  DuSable Lake Shore Dr & Wellington Ave   \n",
       "2567996     KA1503000014                    Harper Ave & 59th St   \n",
       "2059315     KA1503000027                   Prairie Ave & 43rd St   \n",
       "\n",
       "        end_station_id  start_lat  start_lng    end_lat    end_lng  \\\n",
       "1975383          13042  41.921822 -87.644140  41.900960 -87.623777   \n",
       "1772455   KA1503000074  41.791478 -87.599861  41.791728 -87.583945   \n",
       "1778616         RP-009  41.991178 -87.683593  42.001044 -87.661198   \n",
       "2896281          15632  41.946636 -87.694615  41.946636 -87.694615   \n",
       "3697920   KA1503000055  41.779381 -87.644621  41.779381 -87.644621   \n",
       "2635039            604  42.048214 -87.683485  42.058239 -87.677432   \n",
       "5689334   TA1309000014  41.963982 -87.638181  41.967088 -87.667291   \n",
       "3767134   TA1307000041  41.936688 -87.636829  41.936688 -87.636829   \n",
       "2567996   KA1503000070  41.785097 -87.601073  41.787943 -87.588315   \n",
       "2059315   KA1503000027  41.816659 -87.619412  41.816659 -87.619412   \n",
       "\n",
       "        member_casual        duration  \n",
       "1975383        casual 4 days 18:51:13  \n",
       "1772455        casual 3 days 17:39:00  \n",
       "1778616        casual 2 days 07:00:50  \n",
       "2896281        casual 1 days 01:09:22  \n",
       "3697920        casual 1 days 00:57:54  \n",
       "2635039        member 1 days 00:57:39  \n",
       "5689334        member 1 days 00:57:30  \n",
       "3767134        member 1 days 00:57:23  \n",
       "2567996        member 1 days 00:57:19  \n",
       "2059315        casual 1 days 00:57:17  "
      ]
     },
     "execution_count": 22,
     "metadata": {},
     "output_type": "execute_result"
    }
   ],
   "source": [
    "# Rechecking longest durations\n",
    "df.nlargest(10, 'duration')"
   ]
  },
  {
   "cell_type": "code",
   "execution_count": 23,
   "metadata": {},
   "outputs": [
    {
     "data": {
      "text/html": [
       "<div>\n",
       "<style scoped>\n",
       "    .dataframe tbody tr th:only-of-type {\n",
       "        vertical-align: middle;\n",
       "    }\n",
       "\n",
       "    .dataframe tbody tr th {\n",
       "        vertical-align: top;\n",
       "    }\n",
       "\n",
       "    .dataframe thead th {\n",
       "        text-align: right;\n",
       "    }\n",
       "</style>\n",
       "<table border=\"1\" class=\"dataframe\">\n",
       "  <thead>\n",
       "    <tr style=\"text-align: right;\">\n",
       "      <th></th>\n",
       "      <th>ride_id</th>\n",
       "      <th>rideable_type</th>\n",
       "      <th>started_at</th>\n",
       "      <th>ended_at</th>\n",
       "      <th>start_station_name</th>\n",
       "      <th>start_station_id</th>\n",
       "      <th>end_station_name</th>\n",
       "      <th>end_station_id</th>\n",
       "      <th>start_lat</th>\n",
       "      <th>start_lng</th>\n",
       "      <th>end_lat</th>\n",
       "      <th>end_lng</th>\n",
       "      <th>member_casual</th>\n",
       "      <th>duration</th>\n",
       "    </tr>\n",
       "  </thead>\n",
       "  <tbody>\n",
       "    <tr>\n",
       "      <th>5672272</th>\n",
       "      <td>5C5FCC49C148635F</td>\n",
       "      <td>classic_bike</td>\n",
       "      <td>2023-11-05 01:55:47</td>\n",
       "      <td>2023-11-05 01:01:13</td>\n",
       "      <td>Halsted St &amp; Wrightwood Ave</td>\n",
       "      <td>TA1309000061</td>\n",
       "      <td>Halsted St &amp; Roscoe St</td>\n",
       "      <td>TA1309000025</td>\n",
       "      <td>41.929143</td>\n",
       "      <td>-87.649077</td>\n",
       "      <td>41.943670</td>\n",
       "      <td>-87.648950</td>\n",
       "      <td>member</td>\n",
       "      <td>-1 days +23:05:26</td>\n",
       "    </tr>\n",
       "    <tr>\n",
       "      <th>5653865</th>\n",
       "      <td>274EDE47C11F43AF</td>\n",
       "      <td>classic_bike</td>\n",
       "      <td>2023-11-05 01:55:51</td>\n",
       "      <td>2023-11-05 01:02:37</td>\n",
       "      <td>Southport Ave &amp; Wellington Ave</td>\n",
       "      <td>TA1307000006</td>\n",
       "      <td>Southport Ave &amp; Wrightwood Ave</td>\n",
       "      <td>TA1307000113</td>\n",
       "      <td>41.935775</td>\n",
       "      <td>-87.663600</td>\n",
       "      <td>41.928773</td>\n",
       "      <td>-87.663913</td>\n",
       "      <td>casual</td>\n",
       "      <td>-1 days +23:06:46</td>\n",
       "    </tr>\n",
       "    <tr>\n",
       "      <th>5476914</th>\n",
       "      <td>0AF3917F317F4C5F</td>\n",
       "      <td>classic_bike</td>\n",
       "      <td>2023-11-05 01:54:43</td>\n",
       "      <td>2023-11-05 01:01:31</td>\n",
       "      <td>Halsted St &amp; 21st St</td>\n",
       "      <td>13162</td>\n",
       "      <td>Racine Ave &amp; 18th St</td>\n",
       "      <td>13164</td>\n",
       "      <td>41.853780</td>\n",
       "      <td>-87.646603</td>\n",
       "      <td>41.858166</td>\n",
       "      <td>-87.656495</td>\n",
       "      <td>casual</td>\n",
       "      <td>-1 days +23:06:48</td>\n",
       "    </tr>\n",
       "    <tr>\n",
       "      <th>5635588</th>\n",
       "      <td>D17C0701A2AC27A8</td>\n",
       "      <td>classic_bike</td>\n",
       "      <td>2023-11-05 01:53:49</td>\n",
       "      <td>2023-11-05 01:00:41</td>\n",
       "      <td>Halsted St &amp; Wrightwood Ave</td>\n",
       "      <td>TA1309000061</td>\n",
       "      <td>Sedgwick St &amp; Webster Ave</td>\n",
       "      <td>13191</td>\n",
       "      <td>41.929143</td>\n",
       "      <td>-87.649077</td>\n",
       "      <td>41.922167</td>\n",
       "      <td>-87.638888</td>\n",
       "      <td>member</td>\n",
       "      <td>-1 days +23:06:52</td>\n",
       "    </tr>\n",
       "    <tr>\n",
       "      <th>5432129</th>\n",
       "      <td>FBDEF92A65F125D9</td>\n",
       "      <td>classic_bike</td>\n",
       "      <td>2023-11-05 01:58:37</td>\n",
       "      <td>2023-11-05 01:05:42</td>\n",
       "      <td>LaSalle Dr &amp; Huron St</td>\n",
       "      <td>KP1705001026</td>\n",
       "      <td>Clark St &amp; Elm St</td>\n",
       "      <td>TA1307000039</td>\n",
       "      <td>41.894877</td>\n",
       "      <td>-87.632326</td>\n",
       "      <td>41.902973</td>\n",
       "      <td>-87.631280</td>\n",
       "      <td>casual</td>\n",
       "      <td>-1 days +23:07:05</td>\n",
       "    </tr>\n",
       "    <tr>\n",
       "      <th>5476903</th>\n",
       "      <td>C182738D5AF4775B</td>\n",
       "      <td>classic_bike</td>\n",
       "      <td>2023-11-05 01:54:15</td>\n",
       "      <td>2023-11-05 01:01:33</td>\n",
       "      <td>Halsted St &amp; 21st St</td>\n",
       "      <td>13162</td>\n",
       "      <td>Racine Ave &amp; 18th St</td>\n",
       "      <td>13164</td>\n",
       "      <td>41.853780</td>\n",
       "      <td>-87.646603</td>\n",
       "      <td>41.858166</td>\n",
       "      <td>-87.656495</td>\n",
       "      <td>casual</td>\n",
       "      <td>-1 days +23:07:18</td>\n",
       "    </tr>\n",
       "    <tr>\n",
       "      <th>5640924</th>\n",
       "      <td>822A055416791A8D</td>\n",
       "      <td>classic_bike</td>\n",
       "      <td>2023-11-05 01:55:07</td>\n",
       "      <td>2023-11-05 01:02:40</td>\n",
       "      <td>Larrabee St &amp; Armitage Ave</td>\n",
       "      <td>TA1309000006</td>\n",
       "      <td>Sedgwick St &amp; North Ave</td>\n",
       "      <td>TA1307000038</td>\n",
       "      <td>41.918084</td>\n",
       "      <td>-87.643749</td>\n",
       "      <td>41.911386</td>\n",
       "      <td>-87.638677</td>\n",
       "      <td>casual</td>\n",
       "      <td>-1 days +23:07:33</td>\n",
       "    </tr>\n",
       "    <tr>\n",
       "      <th>5647890</th>\n",
       "      <td>A2B29BF080FD1672</td>\n",
       "      <td>classic_bike</td>\n",
       "      <td>2023-11-05 01:55:41</td>\n",
       "      <td>2023-11-05 01:03:22</td>\n",
       "      <td>Damen Ave &amp; Cortland St</td>\n",
       "      <td>13133</td>\n",
       "      <td>Campbell Ave &amp; Fullerton Ave</td>\n",
       "      <td>15648</td>\n",
       "      <td>41.915983</td>\n",
       "      <td>-87.677335</td>\n",
       "      <td>41.924632</td>\n",
       "      <td>-87.689307</td>\n",
       "      <td>casual</td>\n",
       "      <td>-1 days +23:07:41</td>\n",
       "    </tr>\n",
       "    <tr>\n",
       "      <th>5652678</th>\n",
       "      <td>368C90D097E27F50</td>\n",
       "      <td>classic_bike</td>\n",
       "      <td>2023-11-05 01:54:53</td>\n",
       "      <td>2023-11-05 01:02:56</td>\n",
       "      <td>Larrabee St &amp; Armitage Ave</td>\n",
       "      <td>TA1309000006</td>\n",
       "      <td>Clark St &amp; Drummond Pl</td>\n",
       "      <td>TA1307000142</td>\n",
       "      <td>41.918084</td>\n",
       "      <td>-87.643749</td>\n",
       "      <td>41.931248</td>\n",
       "      <td>-87.644336</td>\n",
       "      <td>casual</td>\n",
       "      <td>-1 days +23:08:03</td>\n",
       "    </tr>\n",
       "    <tr>\n",
       "      <th>5679388</th>\n",
       "      <td>3FE1CB266FEFC4F8</td>\n",
       "      <td>classic_bike</td>\n",
       "      <td>2023-11-05 01:56:53</td>\n",
       "      <td>2023-11-05 01:06:00</td>\n",
       "      <td>Dearborn St &amp; Erie St</td>\n",
       "      <td>13045</td>\n",
       "      <td>Ogden Ave &amp; Chicago Ave</td>\n",
       "      <td>TA1305000020</td>\n",
       "      <td>41.893992</td>\n",
       "      <td>-87.629318</td>\n",
       "      <td>41.896362</td>\n",
       "      <td>-87.654061</td>\n",
       "      <td>member</td>\n",
       "      <td>-1 days +23:09:07</td>\n",
       "    </tr>\n",
       "  </tbody>\n",
       "</table>\n",
       "</div>"
      ],
      "text/plain": [
       "                  ride_id rideable_type          started_at  \\\n",
       "5672272  5C5FCC49C148635F  classic_bike 2023-11-05 01:55:47   \n",
       "5653865  274EDE47C11F43AF  classic_bike 2023-11-05 01:55:51   \n",
       "5476914  0AF3917F317F4C5F  classic_bike 2023-11-05 01:54:43   \n",
       "5635588  D17C0701A2AC27A8  classic_bike 2023-11-05 01:53:49   \n",
       "5432129  FBDEF92A65F125D9  classic_bike 2023-11-05 01:58:37   \n",
       "5476903  C182738D5AF4775B  classic_bike 2023-11-05 01:54:15   \n",
       "5640924  822A055416791A8D  classic_bike 2023-11-05 01:55:07   \n",
       "5647890  A2B29BF080FD1672  classic_bike 2023-11-05 01:55:41   \n",
       "5652678  368C90D097E27F50  classic_bike 2023-11-05 01:54:53   \n",
       "5679388  3FE1CB266FEFC4F8  classic_bike 2023-11-05 01:56:53   \n",
       "\n",
       "                   ended_at              start_station_name start_station_id  \\\n",
       "5672272 2023-11-05 01:01:13     Halsted St & Wrightwood Ave     TA1309000061   \n",
       "5653865 2023-11-05 01:02:37  Southport Ave & Wellington Ave     TA1307000006   \n",
       "5476914 2023-11-05 01:01:31            Halsted St & 21st St            13162   \n",
       "5635588 2023-11-05 01:00:41     Halsted St & Wrightwood Ave     TA1309000061   \n",
       "5432129 2023-11-05 01:05:42           LaSalle Dr & Huron St     KP1705001026   \n",
       "5476903 2023-11-05 01:01:33            Halsted St & 21st St            13162   \n",
       "5640924 2023-11-05 01:02:40      Larrabee St & Armitage Ave     TA1309000006   \n",
       "5647890 2023-11-05 01:03:22         Damen Ave & Cortland St            13133   \n",
       "5652678 2023-11-05 01:02:56      Larrabee St & Armitage Ave     TA1309000006   \n",
       "5679388 2023-11-05 01:06:00           Dearborn St & Erie St            13045   \n",
       "\n",
       "                       end_station_name end_station_id  start_lat  start_lng  \\\n",
       "5672272          Halsted St & Roscoe St   TA1309000025  41.929143 -87.649077   \n",
       "5653865  Southport Ave & Wrightwood Ave   TA1307000113  41.935775 -87.663600   \n",
       "5476914            Racine Ave & 18th St          13164  41.853780 -87.646603   \n",
       "5635588       Sedgwick St & Webster Ave          13191  41.929143 -87.649077   \n",
       "5432129               Clark St & Elm St   TA1307000039  41.894877 -87.632326   \n",
       "5476903            Racine Ave & 18th St          13164  41.853780 -87.646603   \n",
       "5640924         Sedgwick St & North Ave   TA1307000038  41.918084 -87.643749   \n",
       "5647890    Campbell Ave & Fullerton Ave          15648  41.915983 -87.677335   \n",
       "5652678          Clark St & Drummond Pl   TA1307000142  41.918084 -87.643749   \n",
       "5679388         Ogden Ave & Chicago Ave   TA1305000020  41.893992 -87.629318   \n",
       "\n",
       "           end_lat    end_lng member_casual          duration  \n",
       "5672272  41.943670 -87.648950        member -1 days +23:05:26  \n",
       "5653865  41.928773 -87.663913        casual -1 days +23:06:46  \n",
       "5476914  41.858166 -87.656495        casual -1 days +23:06:48  \n",
       "5635588  41.922167 -87.638888        member -1 days +23:06:52  \n",
       "5432129  41.902973 -87.631280        casual -1 days +23:07:05  \n",
       "5476903  41.858166 -87.656495        casual -1 days +23:07:18  \n",
       "5640924  41.911386 -87.638677        casual -1 days +23:07:33  \n",
       "5647890  41.924632 -87.689307        casual -1 days +23:07:41  \n",
       "5652678  41.931248 -87.644336        casual -1 days +23:08:03  \n",
       "5679388  41.896362 -87.654061        member -1 days +23:09:07  "
      ]
     },
     "execution_count": 23,
     "metadata": {},
     "output_type": "execute_result"
    }
   ],
   "source": [
    "# And smallest durations\n",
    "df.nsmallest(10, 'duration')"
   ]
  },
  {
   "cell_type": "code",
   "execution_count": 24,
   "metadata": {},
   "outputs": [
    {
     "data": {
      "text/html": [
       "<div>\n",
       "<style scoped>\n",
       "    .dataframe tbody tr th:only-of-type {\n",
       "        vertical-align: middle;\n",
       "    }\n",
       "\n",
       "    .dataframe tbody tr th {\n",
       "        vertical-align: top;\n",
       "    }\n",
       "\n",
       "    .dataframe thead th {\n",
       "        text-align: right;\n",
       "    }\n",
       "</style>\n",
       "<table border=\"1\" class=\"dataframe\">\n",
       "  <thead>\n",
       "    <tr style=\"text-align: right;\">\n",
       "      <th></th>\n",
       "      <th>ride_id</th>\n",
       "      <th>rideable_type</th>\n",
       "      <th>started_at</th>\n",
       "      <th>ended_at</th>\n",
       "      <th>start_station_name</th>\n",
       "      <th>start_station_id</th>\n",
       "      <th>end_station_name</th>\n",
       "      <th>end_station_id</th>\n",
       "      <th>start_lat</th>\n",
       "      <th>start_lng</th>\n",
       "      <th>end_lat</th>\n",
       "      <th>end_lng</th>\n",
       "      <th>member_casual</th>\n",
       "      <th>duration</th>\n",
       "    </tr>\n",
       "  </thead>\n",
       "  <tbody>\n",
       "    <tr>\n",
       "      <th>4523</th>\n",
       "      <td>008A3B92A7D34888</td>\n",
       "      <td>electric_bike</td>\n",
       "      <td>2023-10-10 16:00:26</td>\n",
       "      <td>2023-10-10 16:00:26</td>\n",
       "      <td>Canal St &amp; Jackson Blvd</td>\n",
       "      <td>13138</td>\n",
       "      <td>Canal St &amp; Jackson Blvd</td>\n",
       "      <td>13138</td>\n",
       "      <td>41.877243</td>\n",
       "      <td>-87.639385</td>\n",
       "      <td>41.877245</td>\n",
       "      <td>-87.639366</td>\n",
       "      <td>member</td>\n",
       "      <td>0 days</td>\n",
       "    </tr>\n",
       "    <tr>\n",
       "      <th>6762</th>\n",
       "      <td>1B2A2112D72AF3D9</td>\n",
       "      <td>electric_bike</td>\n",
       "      <td>2023-10-04 21:58:34</td>\n",
       "      <td>2023-10-04 21:58:34</td>\n",
       "      <td>Michigan Ave &amp; 18th St</td>\n",
       "      <td>13150</td>\n",
       "      <td>Michigan Ave &amp; 18th St</td>\n",
       "      <td>13150</td>\n",
       "      <td>41.857966</td>\n",
       "      <td>-87.624612</td>\n",
       "      <td>41.857813</td>\n",
       "      <td>-87.624550</td>\n",
       "      <td>casual</td>\n",
       "      <td>0 days</td>\n",
       "    </tr>\n",
       "    <tr>\n",
       "      <th>6832</th>\n",
       "      <td>B97A9E823BD1D734</td>\n",
       "      <td>electric_bike</td>\n",
       "      <td>2023-10-15 13:48:09</td>\n",
       "      <td>2023-10-15 13:48:09</td>\n",
       "      <td>Fairfield Ave &amp; Roosevelt Rd</td>\n",
       "      <td>KA1504000102</td>\n",
       "      <td>Fairfield Ave &amp; Roosevelt Rd</td>\n",
       "      <td>KA1504000102</td>\n",
       "      <td>41.866628</td>\n",
       "      <td>-87.694494</td>\n",
       "      <td>41.866624</td>\n",
       "      <td>-87.694521</td>\n",
       "      <td>member</td>\n",
       "      <td>0 days</td>\n",
       "    </tr>\n",
       "    <tr>\n",
       "      <th>7702</th>\n",
       "      <td>F76620719E2AC573</td>\n",
       "      <td>classic_bike</td>\n",
       "      <td>2023-10-30 18:55:50</td>\n",
       "      <td>2023-10-30 18:55:50</td>\n",
       "      <td>Sheffield Ave &amp; Wellington Ave</td>\n",
       "      <td>TA1307000052</td>\n",
       "      <td>Sheffield Ave &amp; Wellington Ave</td>\n",
       "      <td>TA1307000052</td>\n",
       "      <td>41.936253</td>\n",
       "      <td>-87.652662</td>\n",
       "      <td>41.936253</td>\n",
       "      <td>-87.652662</td>\n",
       "      <td>member</td>\n",
       "      <td>0 days</td>\n",
       "    </tr>\n",
       "    <tr>\n",
       "      <th>9472</th>\n",
       "      <td>045ECA660D6195F7</td>\n",
       "      <td>classic_bike</td>\n",
       "      <td>2023-10-04 12:19:23</td>\n",
       "      <td>2023-10-04 12:19:23</td>\n",
       "      <td>Streeter Dr &amp; Grand Ave</td>\n",
       "      <td>13022</td>\n",
       "      <td>Streeter Dr &amp; Grand Ave</td>\n",
       "      <td>13022</td>\n",
       "      <td>41.892278</td>\n",
       "      <td>-87.612043</td>\n",
       "      <td>41.892278</td>\n",
       "      <td>-87.612043</td>\n",
       "      <td>casual</td>\n",
       "      <td>0 days</td>\n",
       "    </tr>\n",
       "    <tr>\n",
       "      <th>10265</th>\n",
       "      <td>7A28F74824688C30</td>\n",
       "      <td>electric_bike</td>\n",
       "      <td>2023-10-19 18:35:43</td>\n",
       "      <td>2023-10-19 18:35:43</td>\n",
       "      <td>Larrabee St &amp; Division St</td>\n",
       "      <td>KA1504000079</td>\n",
       "      <td>Larrabee St &amp; Division St</td>\n",
       "      <td>KA1504000079</td>\n",
       "      <td>41.903522</td>\n",
       "      <td>-87.643291</td>\n",
       "      <td>41.903486</td>\n",
       "      <td>-87.643353</td>\n",
       "      <td>member</td>\n",
       "      <td>0 days</td>\n",
       "    </tr>\n",
       "    <tr>\n",
       "      <th>10440</th>\n",
       "      <td>C90E8880524D90C4</td>\n",
       "      <td>classic_bike</td>\n",
       "      <td>2023-10-10 17:22:14</td>\n",
       "      <td>2023-10-10 17:22:14</td>\n",
       "      <td>Franklin St &amp; Adams St (Temp)</td>\n",
       "      <td>TA1309000008</td>\n",
       "      <td>Franklin St &amp; Adams St (Temp)</td>\n",
       "      <td>TA1309000008</td>\n",
       "      <td>41.879434</td>\n",
       "      <td>-87.635504</td>\n",
       "      <td>41.879434</td>\n",
       "      <td>-87.635504</td>\n",
       "      <td>member</td>\n",
       "      <td>0 days</td>\n",
       "    </tr>\n",
       "    <tr>\n",
       "      <th>13358</th>\n",
       "      <td>5A88A2A735837380</td>\n",
       "      <td>classic_bike</td>\n",
       "      <td>2023-10-06 11:23:23</td>\n",
       "      <td>2023-10-06 11:23:23</td>\n",
       "      <td>Clark St &amp; Elm St</td>\n",
       "      <td>TA1307000039</td>\n",
       "      <td>Clark St &amp; Elm St</td>\n",
       "      <td>TA1307000039</td>\n",
       "      <td>41.902973</td>\n",
       "      <td>-87.631280</td>\n",
       "      <td>41.902973</td>\n",
       "      <td>-87.631280</td>\n",
       "      <td>member</td>\n",
       "      <td>0 days</td>\n",
       "    </tr>\n",
       "    <tr>\n",
       "      <th>15780</th>\n",
       "      <td>C8B4652B56F8988B</td>\n",
       "      <td>electric_bike</td>\n",
       "      <td>2023-10-20 17:32:17</td>\n",
       "      <td>2023-10-20 17:32:17</td>\n",
       "      <td>Damen Ave &amp; Melrose Ave</td>\n",
       "      <td>13143</td>\n",
       "      <td>Damen Ave &amp; Melrose Ave</td>\n",
       "      <td>13143</td>\n",
       "      <td>41.940530</td>\n",
       "      <td>-87.678556</td>\n",
       "      <td>41.940600</td>\n",
       "      <td>-87.678500</td>\n",
       "      <td>member</td>\n",
       "      <td>0 days</td>\n",
       "    </tr>\n",
       "    <tr>\n",
       "      <th>25701</th>\n",
       "      <td>BFE586BA97FC7AB6</td>\n",
       "      <td>electric_bike</td>\n",
       "      <td>2023-10-10 10:36:31</td>\n",
       "      <td>2023-10-10 10:36:31</td>\n",
       "      <td>Logan Blvd &amp; Elston Ave</td>\n",
       "      <td>TA1308000031</td>\n",
       "      <td>Logan Blvd &amp; Elston Ave</td>\n",
       "      <td>TA1308000031</td>\n",
       "      <td>41.929376</td>\n",
       "      <td>-87.684226</td>\n",
       "      <td>41.929465</td>\n",
       "      <td>-87.684158</td>\n",
       "      <td>member</td>\n",
       "      <td>0 days</td>\n",
       "    </tr>\n",
       "  </tbody>\n",
       "</table>\n",
       "</div>"
      ],
      "text/plain": [
       "                ride_id  rideable_type          started_at  \\\n",
       "4523   008A3B92A7D34888  electric_bike 2023-10-10 16:00:26   \n",
       "6762   1B2A2112D72AF3D9  electric_bike 2023-10-04 21:58:34   \n",
       "6832   B97A9E823BD1D734  electric_bike 2023-10-15 13:48:09   \n",
       "7702   F76620719E2AC573   classic_bike 2023-10-30 18:55:50   \n",
       "9472   045ECA660D6195F7   classic_bike 2023-10-04 12:19:23   \n",
       "10265  7A28F74824688C30  electric_bike 2023-10-19 18:35:43   \n",
       "10440  C90E8880524D90C4   classic_bike 2023-10-10 17:22:14   \n",
       "13358  5A88A2A735837380   classic_bike 2023-10-06 11:23:23   \n",
       "15780  C8B4652B56F8988B  electric_bike 2023-10-20 17:32:17   \n",
       "25701  BFE586BA97FC7AB6  electric_bike 2023-10-10 10:36:31   \n",
       "\n",
       "                 ended_at              start_station_name start_station_id  \\\n",
       "4523  2023-10-10 16:00:26         Canal St & Jackson Blvd            13138   \n",
       "6762  2023-10-04 21:58:34          Michigan Ave & 18th St            13150   \n",
       "6832  2023-10-15 13:48:09    Fairfield Ave & Roosevelt Rd     KA1504000102   \n",
       "7702  2023-10-30 18:55:50  Sheffield Ave & Wellington Ave     TA1307000052   \n",
       "9472  2023-10-04 12:19:23         Streeter Dr & Grand Ave            13022   \n",
       "10265 2023-10-19 18:35:43       Larrabee St & Division St     KA1504000079   \n",
       "10440 2023-10-10 17:22:14   Franklin St & Adams St (Temp)     TA1309000008   \n",
       "13358 2023-10-06 11:23:23               Clark St & Elm St     TA1307000039   \n",
       "15780 2023-10-20 17:32:17         Damen Ave & Melrose Ave            13143   \n",
       "25701 2023-10-10 10:36:31         Logan Blvd & Elston Ave     TA1308000031   \n",
       "\n",
       "                     end_station_name end_station_id  start_lat  start_lng  \\\n",
       "4523          Canal St & Jackson Blvd          13138  41.877243 -87.639385   \n",
       "6762           Michigan Ave & 18th St          13150  41.857966 -87.624612   \n",
       "6832     Fairfield Ave & Roosevelt Rd   KA1504000102  41.866628 -87.694494   \n",
       "7702   Sheffield Ave & Wellington Ave   TA1307000052  41.936253 -87.652662   \n",
       "9472          Streeter Dr & Grand Ave          13022  41.892278 -87.612043   \n",
       "10265       Larrabee St & Division St   KA1504000079  41.903522 -87.643291   \n",
       "10440   Franklin St & Adams St (Temp)   TA1309000008  41.879434 -87.635504   \n",
       "13358               Clark St & Elm St   TA1307000039  41.902973 -87.631280   \n",
       "15780         Damen Ave & Melrose Ave          13143  41.940530 -87.678556   \n",
       "25701         Logan Blvd & Elston Ave   TA1308000031  41.929376 -87.684226   \n",
       "\n",
       "         end_lat    end_lng member_casual duration  \n",
       "4523   41.877245 -87.639366        member   0 days  \n",
       "6762   41.857813 -87.624550        casual   0 days  \n",
       "6832   41.866624 -87.694521        member   0 days  \n",
       "7702   41.936253 -87.652662        member   0 days  \n",
       "9472   41.892278 -87.612043        casual   0 days  \n",
       "10265  41.903486 -87.643353        member   0 days  \n",
       "10440  41.879434 -87.635504        member   0 days  \n",
       "13358  41.902973 -87.631280        member   0 days  \n",
       "15780  41.940600 -87.678500        member   0 days  \n",
       "25701  41.929465 -87.684158        member   0 days  "
      ]
     },
     "execution_count": 24,
     "metadata": {},
     "output_type": "execute_result"
    }
   ],
   "source": [
    "# Removing the remaining negative time durations\n",
    "df = df[df['duration'] >= pd.Timedelta(0)]\n",
    "\n",
    "#Confirming removal\n",
    "df.nsmallest(10, 'duration')"
   ]
  },
  {
   "cell_type": "code",
   "execution_count": 25,
   "metadata": {},
   "outputs": [
    {
     "data": {
      "text/plain": [
       "rideable_type\n",
       "classic_bike     2854413\n",
       "electric_bike    1371248\n",
       "docked_bike        15514\n",
       "Name: count, dtype: int64"
      ]
     },
     "execution_count": 25,
     "metadata": {},
     "output_type": "execute_result"
    }
   ],
   "source": [
    "# Looking at the number of events per rideable type\n",
    "df['rideable_type'].loc[df['rideable_type'] != 'n/a'].value_counts()"
   ]
  },
  {
   "cell_type": "code",
   "execution_count": 26,
   "metadata": {},
   "outputs": [
    {
     "name": "stdout",
     "output_type": "stream",
     "text": [
      "member_casual\n",
      "casual   0 days 00:24:04.275697968\n",
      "member   0 days 00:12:30.604388031\n",
      "Name: duration, dtype: timedelta64[ns]\n"
     ]
    }
   ],
   "source": [
    "# Looking at the average ride time for members vs. casual riders\n",
    "mc = df.groupby(df['member_casual'])\n",
    "mc_duration = mc['duration'].mean()\n",
    "\n",
    "print(mc_duration)"
   ]
  },
  {
   "cell_type": "code",
   "execution_count": 27,
   "metadata": {},
   "outputs": [
    {
     "data": {
      "text/plain": [
       "member_casual\n",
       "member    2750869\n",
       "casual    1490306\n",
       "Name: count, dtype: int64"
      ]
     },
     "execution_count": 27,
     "metadata": {},
     "output_type": "execute_result"
    }
   ],
   "source": [
    "# Now looking at the number of bike rental events for members vs. casual riders. \n",
    "df['member_casual'].value_counts()"
   ]
  },
  {
   "cell_type": "code",
   "execution_count": 28,
   "metadata": {},
   "outputs": [
    {
     "data": {
      "text/html": [
       "<div>\n",
       "<style scoped>\n",
       "    .dataframe tbody tr th:only-of-type {\n",
       "        vertical-align: middle;\n",
       "    }\n",
       "\n",
       "    .dataframe tbody tr th {\n",
       "        vertical-align: top;\n",
       "    }\n",
       "\n",
       "    .dataframe thead th {\n",
       "        text-align: right;\n",
       "    }\n",
       "</style>\n",
       "<table border=\"1\" class=\"dataframe\">\n",
       "  <thead>\n",
       "    <tr style=\"text-align: right;\">\n",
       "      <th></th>\n",
       "      <th>ride_id</th>\n",
       "      <th>rideable_type</th>\n",
       "      <th>started_at</th>\n",
       "      <th>ended_at</th>\n",
       "      <th>start_station_name</th>\n",
       "      <th>start_station_id</th>\n",
       "      <th>end_station_name</th>\n",
       "      <th>end_station_id</th>\n",
       "      <th>start_lat</th>\n",
       "      <th>start_lng</th>\n",
       "      <th>end_lat</th>\n",
       "      <th>end_lng</th>\n",
       "      <th>member_casual</th>\n",
       "      <th>duration</th>\n",
       "      <th>day_of_week</th>\n",
       "    </tr>\n",
       "  </thead>\n",
       "  <tbody>\n",
       "    <tr>\n",
       "      <th>0</th>\n",
       "      <td>4449097279F8BBE7</td>\n",
       "      <td>classic_bike</td>\n",
       "      <td>2023-10-08 10:36:26</td>\n",
       "      <td>2023-10-08 10:49:19</td>\n",
       "      <td>Orleans St &amp; Chestnut St (NEXT Apts)</td>\n",
       "      <td>620</td>\n",
       "      <td>Sheffield Ave &amp; Webster Ave</td>\n",
       "      <td>TA1309000033</td>\n",
       "      <td>41.898203</td>\n",
       "      <td>-87.637536</td>\n",
       "      <td>41.921540</td>\n",
       "      <td>-87.653818</td>\n",
       "      <td>member</td>\n",
       "      <td>0 days 00:12:53</td>\n",
       "      <td>Sunday</td>\n",
       "    </tr>\n",
       "    <tr>\n",
       "      <th>1</th>\n",
       "      <td>9CF060543CA7B439</td>\n",
       "      <td>electric_bike</td>\n",
       "      <td>2023-10-11 17:23:59</td>\n",
       "      <td>2023-10-11 17:36:08</td>\n",
       "      <td>Desplaines St &amp; Kinzie St</td>\n",
       "      <td>TA1306000003</td>\n",
       "      <td>Sheffield Ave &amp; Webster Ave</td>\n",
       "      <td>TA1309000033</td>\n",
       "      <td>41.888641</td>\n",
       "      <td>-87.644415</td>\n",
       "      <td>41.921540</td>\n",
       "      <td>-87.653818</td>\n",
       "      <td>member</td>\n",
       "      <td>0 days 00:12:09</td>\n",
       "      <td>Wednesday</td>\n",
       "    </tr>\n",
       "    <tr>\n",
       "      <th>2</th>\n",
       "      <td>667F21F4D6BDE69C</td>\n",
       "      <td>electric_bike</td>\n",
       "      <td>2023-10-12 07:02:33</td>\n",
       "      <td>2023-10-12 07:06:53</td>\n",
       "      <td>Orleans St &amp; Chestnut St (NEXT Apts)</td>\n",
       "      <td>620</td>\n",
       "      <td>Franklin St &amp; Lake St</td>\n",
       "      <td>TA1307000111</td>\n",
       "      <td>41.898073</td>\n",
       "      <td>-87.637514</td>\n",
       "      <td>41.885837</td>\n",
       "      <td>-87.635500</td>\n",
       "      <td>member</td>\n",
       "      <td>0 days 00:04:20</td>\n",
       "      <td>Thursday</td>\n",
       "    </tr>\n",
       "    <tr>\n",
       "      <th>3</th>\n",
       "      <td>F92714CC6B019B96</td>\n",
       "      <td>classic_bike</td>\n",
       "      <td>2023-10-24 19:13:03</td>\n",
       "      <td>2023-10-24 19:18:29</td>\n",
       "      <td>Desplaines St &amp; Kinzie St</td>\n",
       "      <td>TA1306000003</td>\n",
       "      <td>Franklin St &amp; Lake St</td>\n",
       "      <td>TA1307000111</td>\n",
       "      <td>41.888716</td>\n",
       "      <td>-87.644448</td>\n",
       "      <td>41.885837</td>\n",
       "      <td>-87.635500</td>\n",
       "      <td>member</td>\n",
       "      <td>0 days 00:05:26</td>\n",
       "      <td>Tuesday</td>\n",
       "    </tr>\n",
       "    <tr>\n",
       "      <th>4</th>\n",
       "      <td>5E34BA5DE945A9CC</td>\n",
       "      <td>classic_bike</td>\n",
       "      <td>2023-10-09 18:19:26</td>\n",
       "      <td>2023-10-09 18:30:56</td>\n",
       "      <td>Desplaines St &amp; Kinzie St</td>\n",
       "      <td>TA1306000003</td>\n",
       "      <td>Franklin St &amp; Lake St</td>\n",
       "      <td>TA1307000111</td>\n",
       "      <td>41.888716</td>\n",
       "      <td>-87.644448</td>\n",
       "      <td>41.885837</td>\n",
       "      <td>-87.635500</td>\n",
       "      <td>member</td>\n",
       "      <td>0 days 00:11:30</td>\n",
       "      <td>Monday</td>\n",
       "    </tr>\n",
       "    <tr>\n",
       "      <th>5</th>\n",
       "      <td>F7D7420AFAC53CD9</td>\n",
       "      <td>electric_bike</td>\n",
       "      <td>2023-10-04 17:10:59</td>\n",
       "      <td>2023-10-04 17:25:21</td>\n",
       "      <td>Orleans St &amp; Chestnut St (NEXT Apts)</td>\n",
       "      <td>620</td>\n",
       "      <td>Sheffield Ave &amp; Webster Ave</td>\n",
       "      <td>TA1309000033</td>\n",
       "      <td>41.898124</td>\n",
       "      <td>-87.637533</td>\n",
       "      <td>41.921540</td>\n",
       "      <td>-87.653818</td>\n",
       "      <td>member</td>\n",
       "      <td>0 days 00:14:22</td>\n",
       "      <td>Wednesday</td>\n",
       "    </tr>\n",
       "    <tr>\n",
       "      <th>6</th>\n",
       "      <td>870B2D4CD112D7B7</td>\n",
       "      <td>electric_bike</td>\n",
       "      <td>2023-10-31 17:32:20</td>\n",
       "      <td>2023-10-31 17:44:20</td>\n",
       "      <td>Orleans St &amp; Chestnut St (NEXT Apts)</td>\n",
       "      <td>620</td>\n",
       "      <td>Sheffield Ave &amp; Webster Ave</td>\n",
       "      <td>TA1309000033</td>\n",
       "      <td>41.898177</td>\n",
       "      <td>-87.637549</td>\n",
       "      <td>41.921540</td>\n",
       "      <td>-87.653818</td>\n",
       "      <td>member</td>\n",
       "      <td>0 days 00:12:00</td>\n",
       "      <td>Tuesday</td>\n",
       "    </tr>\n",
       "    <tr>\n",
       "      <th>7</th>\n",
       "      <td>D9179D36E32D456C</td>\n",
       "      <td>classic_bike</td>\n",
       "      <td>2023-10-02 18:51:51</td>\n",
       "      <td>2023-10-02 18:57:09</td>\n",
       "      <td>Desplaines St &amp; Kinzie St</td>\n",
       "      <td>TA1306000003</td>\n",
       "      <td>Franklin St &amp; Lake St</td>\n",
       "      <td>TA1307000111</td>\n",
       "      <td>41.888716</td>\n",
       "      <td>-87.644448</td>\n",
       "      <td>41.885837</td>\n",
       "      <td>-87.635500</td>\n",
       "      <td>casual</td>\n",
       "      <td>0 days 00:05:18</td>\n",
       "      <td>Monday</td>\n",
       "    </tr>\n",
       "    <tr>\n",
       "      <th>8</th>\n",
       "      <td>F8E131281F722FEF</td>\n",
       "      <td>classic_bike</td>\n",
       "      <td>2023-10-17 08:28:18</td>\n",
       "      <td>2023-10-17 08:50:03</td>\n",
       "      <td>Calumet Ave &amp; 18th St</td>\n",
       "      <td>13102</td>\n",
       "      <td>Morgan St &amp; Polk St</td>\n",
       "      <td>TA1307000130</td>\n",
       "      <td>41.857618</td>\n",
       "      <td>-87.619411</td>\n",
       "      <td>41.871737</td>\n",
       "      <td>-87.651030</td>\n",
       "      <td>member</td>\n",
       "      <td>0 days 00:21:45</td>\n",
       "      <td>Tuesday</td>\n",
       "    </tr>\n",
       "    <tr>\n",
       "      <th>9</th>\n",
       "      <td>91938B71748FA405</td>\n",
       "      <td>classic_bike</td>\n",
       "      <td>2023-10-17 19:17:38</td>\n",
       "      <td>2023-10-17 19:32:23</td>\n",
       "      <td>Wolcott Ave &amp; Polk St</td>\n",
       "      <td>TA1309000064</td>\n",
       "      <td>Morgan St &amp; Polk St</td>\n",
       "      <td>TA1307000130</td>\n",
       "      <td>41.871262</td>\n",
       "      <td>-87.673688</td>\n",
       "      <td>41.871737</td>\n",
       "      <td>-87.651030</td>\n",
       "      <td>member</td>\n",
       "      <td>0 days 00:14:45</td>\n",
       "      <td>Tuesday</td>\n",
       "    </tr>\n",
       "  </tbody>\n",
       "</table>\n",
       "</div>"
      ],
      "text/plain": [
       "            ride_id  rideable_type          started_at            ended_at  \\\n",
       "0  4449097279F8BBE7   classic_bike 2023-10-08 10:36:26 2023-10-08 10:49:19   \n",
       "1  9CF060543CA7B439  electric_bike 2023-10-11 17:23:59 2023-10-11 17:36:08   \n",
       "2  667F21F4D6BDE69C  electric_bike 2023-10-12 07:02:33 2023-10-12 07:06:53   \n",
       "3  F92714CC6B019B96   classic_bike 2023-10-24 19:13:03 2023-10-24 19:18:29   \n",
       "4  5E34BA5DE945A9CC   classic_bike 2023-10-09 18:19:26 2023-10-09 18:30:56   \n",
       "5  F7D7420AFAC53CD9  electric_bike 2023-10-04 17:10:59 2023-10-04 17:25:21   \n",
       "6  870B2D4CD112D7B7  electric_bike 2023-10-31 17:32:20 2023-10-31 17:44:20   \n",
       "7  D9179D36E32D456C   classic_bike 2023-10-02 18:51:51 2023-10-02 18:57:09   \n",
       "8  F8E131281F722FEF   classic_bike 2023-10-17 08:28:18 2023-10-17 08:50:03   \n",
       "9  91938B71748FA405   classic_bike 2023-10-17 19:17:38 2023-10-17 19:32:23   \n",
       "\n",
       "                     start_station_name start_station_id  \\\n",
       "0  Orleans St & Chestnut St (NEXT Apts)              620   \n",
       "1             Desplaines St & Kinzie St     TA1306000003   \n",
       "2  Orleans St & Chestnut St (NEXT Apts)              620   \n",
       "3             Desplaines St & Kinzie St     TA1306000003   \n",
       "4             Desplaines St & Kinzie St     TA1306000003   \n",
       "5  Orleans St & Chestnut St (NEXT Apts)              620   \n",
       "6  Orleans St & Chestnut St (NEXT Apts)              620   \n",
       "7             Desplaines St & Kinzie St     TA1306000003   \n",
       "8                 Calumet Ave & 18th St            13102   \n",
       "9                 Wolcott Ave & Polk St     TA1309000064   \n",
       "\n",
       "              end_station_name end_station_id  start_lat  start_lng  \\\n",
       "0  Sheffield Ave & Webster Ave   TA1309000033  41.898203 -87.637536   \n",
       "1  Sheffield Ave & Webster Ave   TA1309000033  41.888641 -87.644415   \n",
       "2        Franklin St & Lake St   TA1307000111  41.898073 -87.637514   \n",
       "3        Franklin St & Lake St   TA1307000111  41.888716 -87.644448   \n",
       "4        Franklin St & Lake St   TA1307000111  41.888716 -87.644448   \n",
       "5  Sheffield Ave & Webster Ave   TA1309000033  41.898124 -87.637533   \n",
       "6  Sheffield Ave & Webster Ave   TA1309000033  41.898177 -87.637549   \n",
       "7        Franklin St & Lake St   TA1307000111  41.888716 -87.644448   \n",
       "8          Morgan St & Polk St   TA1307000130  41.857618 -87.619411   \n",
       "9          Morgan St & Polk St   TA1307000130  41.871262 -87.673688   \n",
       "\n",
       "     end_lat    end_lng member_casual        duration day_of_week  \n",
       "0  41.921540 -87.653818        member 0 days 00:12:53      Sunday  \n",
       "1  41.921540 -87.653818        member 0 days 00:12:09   Wednesday  \n",
       "2  41.885837 -87.635500        member 0 days 00:04:20    Thursday  \n",
       "3  41.885837 -87.635500        member 0 days 00:05:26     Tuesday  \n",
       "4  41.885837 -87.635500        member 0 days 00:11:30      Monday  \n",
       "5  41.921540 -87.653818        member 0 days 00:14:22   Wednesday  \n",
       "6  41.921540 -87.653818        member 0 days 00:12:00     Tuesday  \n",
       "7  41.885837 -87.635500        casual 0 days 00:05:18      Monday  \n",
       "8  41.871737 -87.651030        member 0 days 00:21:45     Tuesday  \n",
       "9  41.871737 -87.651030        member 0 days 00:14:45     Tuesday  "
      ]
     },
     "execution_count": 28,
     "metadata": {},
     "output_type": "execute_result"
    }
   ],
   "source": [
    "# Creating day of the week column to examine  member vs. casual usage on days of the week\n",
    "df['day_of_week'] = df['started_at'].dt.day_name()\n",
    "df.head(10)"
   ]
  },
  {
   "cell_type": "code",
   "execution_count": 29,
   "metadata": {},
   "outputs": [
    {
     "data": {
      "text/plain": [
       "0    Wednesday\n",
       "Name: day_of_week, dtype: category\n",
       "Categories (7, object): ['Friday', 'Monday', 'Saturday', 'Sunday', 'Thursday', 'Tuesday', 'Wednesday']"
      ]
     },
     "execution_count": 29,
     "metadata": {},
     "output_type": "execute_result"
    }
   ],
   "source": [
    "df['day_of_week'] = df['day_of_week'].astype('category')\n",
    "df['day_of_week'].mode()"
   ]
  },
  {
   "cell_type": "code",
   "execution_count": 30,
   "metadata": {},
   "outputs": [
    {
     "data": {
      "text/html": [
       "<div>\n",
       "<style scoped>\n",
       "    .dataframe tbody tr th:only-of-type {\n",
       "        vertical-align: middle;\n",
       "    }\n",
       "\n",
       "    .dataframe tbody tr th {\n",
       "        vertical-align: top;\n",
       "    }\n",
       "\n",
       "    .dataframe thead th {\n",
       "        text-align: right;\n",
       "    }\n",
       "</style>\n",
       "<table border=\"1\" class=\"dataframe\">\n",
       "  <thead>\n",
       "    <tr style=\"text-align: right;\">\n",
       "      <th></th>\n",
       "      <th>ride_id</th>\n",
       "      <th>rideable_type</th>\n",
       "      <th>started_at</th>\n",
       "      <th>ended_at</th>\n",
       "      <th>start_station_name</th>\n",
       "      <th>start_station_id</th>\n",
       "      <th>end_station_name</th>\n",
       "      <th>end_station_id</th>\n",
       "      <th>start_lat</th>\n",
       "      <th>start_lng</th>\n",
       "      <th>end_lat</th>\n",
       "      <th>end_lng</th>\n",
       "      <th>member_casual</th>\n",
       "      <th>duration</th>\n",
       "      <th>day_of_week</th>\n",
       "    </tr>\n",
       "  </thead>\n",
       "  <tbody>\n",
       "    <tr>\n",
       "      <th>0</th>\n",
       "      <td>4449097279F8BBE7</td>\n",
       "      <td>classic_bike</td>\n",
       "      <td>2023-10-08 10:36:26</td>\n",
       "      <td>2023-10-08 10:49:19</td>\n",
       "      <td>Orleans St &amp; Chestnut St (NEXT Apts)</td>\n",
       "      <td>620</td>\n",
       "      <td>Sheffield Ave &amp; Webster Ave</td>\n",
       "      <td>TA1309000033</td>\n",
       "      <td>41.898203</td>\n",
       "      <td>-87.637536</td>\n",
       "      <td>41.921540</td>\n",
       "      <td>-87.653818</td>\n",
       "      <td>member</td>\n",
       "      <td>0 days 00:12:53</td>\n",
       "      <td>Sunday</td>\n",
       "    </tr>\n",
       "    <tr>\n",
       "      <th>1</th>\n",
       "      <td>9CF060543CA7B439</td>\n",
       "      <td>electric_bike</td>\n",
       "      <td>2023-10-11 17:23:59</td>\n",
       "      <td>2023-10-11 17:36:08</td>\n",
       "      <td>Desplaines St &amp; Kinzie St</td>\n",
       "      <td>TA1306000003</td>\n",
       "      <td>Sheffield Ave &amp; Webster Ave</td>\n",
       "      <td>TA1309000033</td>\n",
       "      <td>41.888641</td>\n",
       "      <td>-87.644415</td>\n",
       "      <td>41.921540</td>\n",
       "      <td>-87.653818</td>\n",
       "      <td>member</td>\n",
       "      <td>0 days 00:12:09</td>\n",
       "      <td>Wednesday</td>\n",
       "    </tr>\n",
       "    <tr>\n",
       "      <th>2</th>\n",
       "      <td>667F21F4D6BDE69C</td>\n",
       "      <td>electric_bike</td>\n",
       "      <td>2023-10-12 07:02:33</td>\n",
       "      <td>2023-10-12 07:06:53</td>\n",
       "      <td>Orleans St &amp; Chestnut St (NEXT Apts)</td>\n",
       "      <td>620</td>\n",
       "      <td>Franklin St &amp; Lake St</td>\n",
       "      <td>TA1307000111</td>\n",
       "      <td>41.898073</td>\n",
       "      <td>-87.637514</td>\n",
       "      <td>41.885837</td>\n",
       "      <td>-87.635500</td>\n",
       "      <td>member</td>\n",
       "      <td>0 days 00:04:20</td>\n",
       "      <td>Thursday</td>\n",
       "    </tr>\n",
       "    <tr>\n",
       "      <th>3</th>\n",
       "      <td>F92714CC6B019B96</td>\n",
       "      <td>classic_bike</td>\n",
       "      <td>2023-10-24 19:13:03</td>\n",
       "      <td>2023-10-24 19:18:29</td>\n",
       "      <td>Desplaines St &amp; Kinzie St</td>\n",
       "      <td>TA1306000003</td>\n",
       "      <td>Franklin St &amp; Lake St</td>\n",
       "      <td>TA1307000111</td>\n",
       "      <td>41.888716</td>\n",
       "      <td>-87.644448</td>\n",
       "      <td>41.885837</td>\n",
       "      <td>-87.635500</td>\n",
       "      <td>member</td>\n",
       "      <td>0 days 00:05:26</td>\n",
       "      <td>Tuesday</td>\n",
       "    </tr>\n",
       "    <tr>\n",
       "      <th>4</th>\n",
       "      <td>5E34BA5DE945A9CC</td>\n",
       "      <td>classic_bike</td>\n",
       "      <td>2023-10-09 18:19:26</td>\n",
       "      <td>2023-10-09 18:30:56</td>\n",
       "      <td>Desplaines St &amp; Kinzie St</td>\n",
       "      <td>TA1306000003</td>\n",
       "      <td>Franklin St &amp; Lake St</td>\n",
       "      <td>TA1307000111</td>\n",
       "      <td>41.888716</td>\n",
       "      <td>-87.644448</td>\n",
       "      <td>41.885837</td>\n",
       "      <td>-87.635500</td>\n",
       "      <td>member</td>\n",
       "      <td>0 days 00:11:30</td>\n",
       "      <td>Monday</td>\n",
       "    </tr>\n",
       "  </tbody>\n",
       "</table>\n",
       "</div>"
      ],
      "text/plain": [
       "            ride_id  rideable_type          started_at            ended_at  \\\n",
       "0  4449097279F8BBE7   classic_bike 2023-10-08 10:36:26 2023-10-08 10:49:19   \n",
       "1  9CF060543CA7B439  electric_bike 2023-10-11 17:23:59 2023-10-11 17:36:08   \n",
       "2  667F21F4D6BDE69C  electric_bike 2023-10-12 07:02:33 2023-10-12 07:06:53   \n",
       "3  F92714CC6B019B96   classic_bike 2023-10-24 19:13:03 2023-10-24 19:18:29   \n",
       "4  5E34BA5DE945A9CC   classic_bike 2023-10-09 18:19:26 2023-10-09 18:30:56   \n",
       "\n",
       "                     start_station_name start_station_id  \\\n",
       "0  Orleans St & Chestnut St (NEXT Apts)              620   \n",
       "1             Desplaines St & Kinzie St     TA1306000003   \n",
       "2  Orleans St & Chestnut St (NEXT Apts)              620   \n",
       "3             Desplaines St & Kinzie St     TA1306000003   \n",
       "4             Desplaines St & Kinzie St     TA1306000003   \n",
       "\n",
       "              end_station_name end_station_id  start_lat  start_lng  \\\n",
       "0  Sheffield Ave & Webster Ave   TA1309000033  41.898203 -87.637536   \n",
       "1  Sheffield Ave & Webster Ave   TA1309000033  41.888641 -87.644415   \n",
       "2        Franklin St & Lake St   TA1307000111  41.898073 -87.637514   \n",
       "3        Franklin St & Lake St   TA1307000111  41.888716 -87.644448   \n",
       "4        Franklin St & Lake St   TA1307000111  41.888716 -87.644448   \n",
       "\n",
       "     end_lat    end_lng member_casual        duration day_of_week  \n",
       "0  41.921540 -87.653818        member 0 days 00:12:53      Sunday  \n",
       "1  41.921540 -87.653818        member 0 days 00:12:09   Wednesday  \n",
       "2  41.885837 -87.635500        member 0 days 00:04:20    Thursday  \n",
       "3  41.885837 -87.635500        member 0 days 00:05:26     Tuesday  \n",
       "4  41.885837 -87.635500        member 0 days 00:11:30      Monday  "
      ]
     },
     "execution_count": 30,
     "metadata": {},
     "output_type": "execute_result"
    }
   ],
   "source": [
    "df['day_of_week'] = df['day_of_week'].cat.reorder_categories(['Sunday', 'Monday', 'Tuesday', 'Wednesday', 'Thursday', 'Friday', 'Saturday'], ordered=True).sort_values()\n",
    "df.head()"
   ]
  },
  {
   "cell_type": "code",
   "execution_count": 31,
   "metadata": {},
   "outputs": [
    {
     "data": {
      "text/html": [
       "<div>\n",
       "<style scoped>\n",
       "    .dataframe tbody tr th:only-of-type {\n",
       "        vertical-align: middle;\n",
       "    }\n",
       "\n",
       "    .dataframe tbody tr th {\n",
       "        vertical-align: top;\n",
       "    }\n",
       "\n",
       "    .dataframe thead th {\n",
       "        text-align: right;\n",
       "    }\n",
       "</style>\n",
       "<table border=\"1\" class=\"dataframe\">\n",
       "  <thead>\n",
       "    <tr style=\"text-align: right;\">\n",
       "      <th>member_casual</th>\n",
       "      <th>casual</th>\n",
       "      <th>member</th>\n",
       "    </tr>\n",
       "    <tr>\n",
       "      <th>day_of_week</th>\n",
       "      <th></th>\n",
       "      <th></th>\n",
       "    </tr>\n",
       "  </thead>\n",
       "  <tbody>\n",
       "    <tr>\n",
       "      <th>Sunday</th>\n",
       "      <td>254460</td>\n",
       "      <td>300227</td>\n",
       "    </tr>\n",
       "    <tr>\n",
       "      <th>Monday</th>\n",
       "      <td>166574</td>\n",
       "      <td>387331</td>\n",
       "    </tr>\n",
       "    <tr>\n",
       "      <th>Tuesday</th>\n",
       "      <td>170675</td>\n",
       "      <td>444175</td>\n",
       "    </tr>\n",
       "    <tr>\n",
       "      <th>Wednesday</th>\n",
       "      <td>190444</td>\n",
       "      <td>463606</td>\n",
       "    </tr>\n",
       "    <tr>\n",
       "      <th>Thursday</th>\n",
       "      <td>183468</td>\n",
       "      <td>432907</td>\n",
       "    </tr>\n",
       "    <tr>\n",
       "      <th>Friday</th>\n",
       "      <td>217250</td>\n",
       "      <td>382518</td>\n",
       "    </tr>\n",
       "    <tr>\n",
       "      <th>Saturday</th>\n",
       "      <td>307435</td>\n",
       "      <td>340105</td>\n",
       "    </tr>\n",
       "  </tbody>\n",
       "</table>\n",
       "</div>"
      ],
      "text/plain": [
       "member_casual  casual  member\n",
       "day_of_week                  \n",
       "Sunday         254460  300227\n",
       "Monday         166574  387331\n",
       "Tuesday        170675  444175\n",
       "Wednesday      190444  463606\n",
       "Thursday       183468  432907\n",
       "Friday         217250  382518\n",
       "Saturday       307435  340105"
      ]
     },
     "execution_count": 31,
     "metadata": {},
     "output_type": "execute_result"
    }
   ],
   "source": [
    "count_df = df.groupby(['day_of_week', 'member_casual']).size().unstack(fill_value = 0)\n",
    "count_df"
   ]
  },
  {
   "cell_type": "code",
   "execution_count": 32,
   "metadata": {},
   "outputs": [
    {
     "data": {
      "text/plain": [
       "rideable_type\n",
       "classic_bike     2854413\n",
       "electric_bike    1371248\n",
       "docked_bike        15514\n",
       "Name: count, dtype: int64"
      ]
     },
     "execution_count": 32,
     "metadata": {},
     "output_type": "execute_result"
    }
   ],
   "source": [
    "df['rideable_type'].loc[df['rideable_type'] != 'Unknown'].value_counts()"
   ]
  },
  {
   "cell_type": "code",
   "execution_count": 33,
   "metadata": {},
   "outputs": [
    {
     "data": {
      "text/html": [
       "<div>\n",
       "<style scoped>\n",
       "    .dataframe tbody tr th:only-of-type {\n",
       "        vertical-align: middle;\n",
       "    }\n",
       "\n",
       "    .dataframe tbody tr th {\n",
       "        vertical-align: top;\n",
       "    }\n",
       "\n",
       "    .dataframe thead th {\n",
       "        text-align: right;\n",
       "    }\n",
       "</style>\n",
       "<table border=\"1\" class=\"dataframe\">\n",
       "  <thead>\n",
       "    <tr style=\"text-align: right;\">\n",
       "      <th>member_casual</th>\n",
       "      <th>casual</th>\n",
       "      <th>member</th>\n",
       "    </tr>\n",
       "    <tr>\n",
       "      <th>rideable_type</th>\n",
       "      <th></th>\n",
       "      <th></th>\n",
       "    </tr>\n",
       "  </thead>\n",
       "  <tbody>\n",
       "    <tr>\n",
       "      <th>classic_bike</th>\n",
       "      <td>975559</td>\n",
       "      <td>1878854</td>\n",
       "    </tr>\n",
       "    <tr>\n",
       "      <th>docked_bike</th>\n",
       "      <td>15514</td>\n",
       "      <td>0</td>\n",
       "    </tr>\n",
       "    <tr>\n",
       "      <th>electric_bike</th>\n",
       "      <td>499233</td>\n",
       "      <td>872015</td>\n",
       "    </tr>\n",
       "  </tbody>\n",
       "</table>\n",
       "</div>"
      ],
      "text/plain": [
       "member_casual  casual   member\n",
       "rideable_type                 \n",
       "classic_bike   975559  1878854\n",
       "docked_bike     15514        0\n",
       "electric_bike  499233   872015"
      ]
     },
     "execution_count": 33,
     "metadata": {},
     "output_type": "execute_result"
    }
   ],
   "source": [
    "# Looking at events per rideable type for member vs. casual riders\n",
    "rideable_count = df.groupby(['rideable_type', 'member_casual']).size().unstack(fill_value = 0)\n",
    "rideable_count"
   ]
  },
  {
   "cell_type": "code",
   "execution_count": 34,
   "metadata": {},
   "outputs": [
    {
     "data": {
      "text/html": [
       "<div>\n",
       "<style scoped>\n",
       "    .dataframe tbody tr th:only-of-type {\n",
       "        vertical-align: middle;\n",
       "    }\n",
       "\n",
       "    .dataframe tbody tr th {\n",
       "        vertical-align: top;\n",
       "    }\n",
       "\n",
       "    .dataframe thead th {\n",
       "        text-align: right;\n",
       "    }\n",
       "</style>\n",
       "<table border=\"1\" class=\"dataframe\">\n",
       "  <thead>\n",
       "    <tr style=\"text-align: right;\">\n",
       "      <th>member_casual</th>\n",
       "      <th>casual</th>\n",
       "      <th>member</th>\n",
       "    </tr>\n",
       "    <tr>\n",
       "      <th>start_station_name</th>\n",
       "      <th></th>\n",
       "      <th></th>\n",
       "    </tr>\n",
       "  </thead>\n",
       "  <tbody>\n",
       "    <tr>\n",
       "      <th>Streeter Dr &amp; Grand Ave</th>\n",
       "      <td>45429</td>\n",
       "      <td>14776</td>\n",
       "    </tr>\n",
       "    <tr>\n",
       "      <th>DuSable Lake Shore Dr &amp; Monroe St</th>\n",
       "      <td>29993</td>\n",
       "      <td>9456</td>\n",
       "    </tr>\n",
       "    <tr>\n",
       "      <th>Michigan Ave &amp; Oak St</th>\n",
       "      <td>22338</td>\n",
       "      <td>13204</td>\n",
       "    </tr>\n",
       "    <tr>\n",
       "      <th>DuSable Lake Shore Dr &amp; North Blvd</th>\n",
       "      <td>20090</td>\n",
       "      <td>14922</td>\n",
       "    </tr>\n",
       "    <tr>\n",
       "      <th>Millennium Park</th>\n",
       "      <td>19045</td>\n",
       "      <td>9593</td>\n",
       "    </tr>\n",
       "    <tr>\n",
       "      <th>Shedd Aquarium</th>\n",
       "      <td>18951</td>\n",
       "      <td>4817</td>\n",
       "    </tr>\n",
       "    <tr>\n",
       "      <th>Dusable Harbor</th>\n",
       "      <td>16564</td>\n",
       "      <td>5894</td>\n",
       "    </tr>\n",
       "    <tr>\n",
       "      <th>Theater on the Lake</th>\n",
       "      <td>14958</td>\n",
       "      <td>12378</td>\n",
       "    </tr>\n",
       "    <tr>\n",
       "      <th>Adler Planetarium</th>\n",
       "      <td>12547</td>\n",
       "      <td>5065</td>\n",
       "    </tr>\n",
       "    <tr>\n",
       "      <th>Michigan Ave &amp; 8th St</th>\n",
       "      <td>11897</td>\n",
       "      <td>6525</td>\n",
       "    </tr>\n",
       "  </tbody>\n",
       "</table>\n",
       "</div>"
      ],
      "text/plain": [
       "member_casual                       casual  member\n",
       "start_station_name                                \n",
       "Streeter Dr & Grand Ave              45429   14776\n",
       "DuSable Lake Shore Dr & Monroe St    29993    9456\n",
       "Michigan Ave & Oak St                22338   13204\n",
       "DuSable Lake Shore Dr & North Blvd   20090   14922\n",
       "Millennium Park                      19045    9593\n",
       "Shedd Aquarium                       18951    4817\n",
       "Dusable Harbor                       16564    5894\n",
       "Theater on the Lake                  14958   12378\n",
       "Adler Planetarium                    12547    5065\n",
       "Michigan Ave & 8th St                11897    6525"
      ]
     },
     "execution_count": 34,
     "metadata": {},
     "output_type": "execute_result"
    }
   ],
   "source": [
    "# Exploring popular start and end stations for member vs. casual riders\n",
    "pop_start = df.groupby(['start_station_name', 'member_casual']).size().unstack(fill_value = 0)\n",
    "pop_start.nlargest(10, 'casual')"
   ]
  },
  {
   "cell_type": "code",
   "execution_count": 35,
   "metadata": {},
   "outputs": [
    {
     "data": {
      "text/html": [
       "<div>\n",
       "<style scoped>\n",
       "    .dataframe tbody tr th:only-of-type {\n",
       "        vertical-align: middle;\n",
       "    }\n",
       "\n",
       "    .dataframe tbody tr th {\n",
       "        vertical-align: top;\n",
       "    }\n",
       "\n",
       "    .dataframe thead th {\n",
       "        text-align: right;\n",
       "    }\n",
       "</style>\n",
       "<table border=\"1\" class=\"dataframe\">\n",
       "  <thead>\n",
       "    <tr style=\"text-align: right;\">\n",
       "      <th>member_casual</th>\n",
       "      <th>casual</th>\n",
       "      <th>member</th>\n",
       "    </tr>\n",
       "    <tr>\n",
       "      <th>start_station_name</th>\n",
       "      <th></th>\n",
       "      <th></th>\n",
       "    </tr>\n",
       "  </thead>\n",
       "  <tbody>\n",
       "    <tr>\n",
       "      <th>Clinton St &amp; Washington Blvd</th>\n",
       "      <td>5655</td>\n",
       "      <td>25601</td>\n",
       "    </tr>\n",
       "    <tr>\n",
       "      <th>Kingsbury St &amp; Kinzie St</th>\n",
       "      <td>8164</td>\n",
       "      <td>24985</td>\n",
       "    </tr>\n",
       "    <tr>\n",
       "      <th>Clark St &amp; Elm St</th>\n",
       "      <td>9381</td>\n",
       "      <td>22484</td>\n",
       "    </tr>\n",
       "    <tr>\n",
       "      <th>Clinton St &amp; Madison St</th>\n",
       "      <td>5993</td>\n",
       "      <td>21556</td>\n",
       "    </tr>\n",
       "    <tr>\n",
       "      <th>Wells St &amp; Elm St</th>\n",
       "      <td>8614</td>\n",
       "      <td>18293</td>\n",
       "    </tr>\n",
       "    <tr>\n",
       "      <th>Wells St &amp; Concord Ln</th>\n",
       "      <td>9419</td>\n",
       "      <td>18267</td>\n",
       "    </tr>\n",
       "    <tr>\n",
       "      <th>University Ave &amp; 57th St</th>\n",
       "      <td>5770</td>\n",
       "      <td>17571</td>\n",
       "    </tr>\n",
       "    <tr>\n",
       "      <th>Clinton St &amp; Jackson Blvd</th>\n",
       "      <td>5053</td>\n",
       "      <td>17015</td>\n",
       "    </tr>\n",
       "    <tr>\n",
       "      <th>Dearborn St &amp; Erie St</th>\n",
       "      <td>6987</td>\n",
       "      <td>16456</td>\n",
       "    </tr>\n",
       "    <tr>\n",
       "      <th>State St &amp; Chicago Ave</th>\n",
       "      <td>6185</td>\n",
       "      <td>16374</td>\n",
       "    </tr>\n",
       "  </tbody>\n",
       "</table>\n",
       "</div>"
      ],
      "text/plain": [
       "member_casual                 casual  member\n",
       "start_station_name                          \n",
       "Clinton St & Washington Blvd    5655   25601\n",
       "Kingsbury St & Kinzie St        8164   24985\n",
       "Clark St & Elm St               9381   22484\n",
       "Clinton St & Madison St         5993   21556\n",
       "Wells St & Elm St               8614   18293\n",
       "Wells St & Concord Ln           9419   18267\n",
       "University Ave & 57th St        5770   17571\n",
       "Clinton St & Jackson Blvd       5053   17015\n",
       "Dearborn St & Erie St           6987   16456\n",
       "State St & Chicago Ave          6185   16374"
      ]
     },
     "execution_count": 35,
     "metadata": {},
     "output_type": "execute_result"
    }
   ],
   "source": [
    "m_pop_start = df.groupby(['start_station_name', 'member_casual']).size().unstack(fill_value = 0)\n",
    "m_pop_start.nlargest(10, 'member')"
   ]
  },
  {
   "cell_type": "code",
   "execution_count": 36,
   "metadata": {},
   "outputs": [
    {
     "data": {
      "text/html": [
       "<div>\n",
       "<style scoped>\n",
       "    .dataframe tbody tr th:only-of-type {\n",
       "        vertical-align: middle;\n",
       "    }\n",
       "\n",
       "    .dataframe tbody tr th {\n",
       "        vertical-align: top;\n",
       "    }\n",
       "\n",
       "    .dataframe thead th {\n",
       "        text-align: right;\n",
       "    }\n",
       "</style>\n",
       "<table border=\"1\" class=\"dataframe\">\n",
       "  <thead>\n",
       "    <tr style=\"text-align: right;\">\n",
       "      <th>member_casual</th>\n",
       "      <th>casual</th>\n",
       "      <th>member</th>\n",
       "    </tr>\n",
       "    <tr>\n",
       "      <th>end_station_name</th>\n",
       "      <th></th>\n",
       "      <th></th>\n",
       "    </tr>\n",
       "  </thead>\n",
       "  <tbody>\n",
       "    <tr>\n",
       "      <th>Streeter Dr &amp; Grand Ave</th>\n",
       "      <td>49282</td>\n",
       "      <td>12501</td>\n",
       "    </tr>\n",
       "    <tr>\n",
       "      <th>DuSable Lake Shore Dr &amp; Monroe St</th>\n",
       "      <td>27551</td>\n",
       "      <td>10091</td>\n",
       "    </tr>\n",
       "    <tr>\n",
       "      <th>DuSable Lake Shore Dr &amp; North Blvd</th>\n",
       "      <td>23426</td>\n",
       "      <td>14690</td>\n",
       "    </tr>\n",
       "    <tr>\n",
       "      <th>Michigan Ave &amp; Oak St</th>\n",
       "      <td>23237</td>\n",
       "      <td>12754</td>\n",
       "    </tr>\n",
       "    <tr>\n",
       "      <th>Millennium Park</th>\n",
       "      <td>21281</td>\n",
       "      <td>8352</td>\n",
       "    </tr>\n",
       "    <tr>\n",
       "      <th>Shedd Aquarium</th>\n",
       "      <td>17221</td>\n",
       "      <td>5720</td>\n",
       "    </tr>\n",
       "    <tr>\n",
       "      <th>Theater on the Lake</th>\n",
       "      <td>16198</td>\n",
       "      <td>11650</td>\n",
       "    </tr>\n",
       "    <tr>\n",
       "      <th>Dusable Harbor</th>\n",
       "      <td>14661</td>\n",
       "      <td>6987</td>\n",
       "    </tr>\n",
       "    <tr>\n",
       "      <th>Michigan Ave &amp; 8th St</th>\n",
       "      <td>10565</td>\n",
       "      <td>6031</td>\n",
       "    </tr>\n",
       "    <tr>\n",
       "      <th>Adler Planetarium</th>\n",
       "      <td>10490</td>\n",
       "      <td>4456</td>\n",
       "    </tr>\n",
       "  </tbody>\n",
       "</table>\n",
       "</div>"
      ],
      "text/plain": [
       "member_casual                       casual  member\n",
       "end_station_name                                  \n",
       "Streeter Dr & Grand Ave              49282   12501\n",
       "DuSable Lake Shore Dr & Monroe St    27551   10091\n",
       "DuSable Lake Shore Dr & North Blvd   23426   14690\n",
       "Michigan Ave & Oak St                23237   12754\n",
       "Millennium Park                      21281    8352\n",
       "Shedd Aquarium                       17221    5720\n",
       "Theater on the Lake                  16198   11650\n",
       "Dusable Harbor                       14661    6987\n",
       "Michigan Ave & 8th St                10565    6031\n",
       "Adler Planetarium                    10490    4456"
      ]
     },
     "execution_count": 36,
     "metadata": {},
     "output_type": "execute_result"
    }
   ],
   "source": [
    "pop_end = df.groupby(['end_station_name', 'member_casual']).size().unstack(fill_value = 0)\n",
    "pop_end.nlargest(10, 'casual')"
   ]
  },
  {
   "cell_type": "code",
   "execution_count": 37,
   "metadata": {},
   "outputs": [
    {
     "data": {
      "text/html": [
       "<div>\n",
       "<style scoped>\n",
       "    .dataframe tbody tr th:only-of-type {\n",
       "        vertical-align: middle;\n",
       "    }\n",
       "\n",
       "    .dataframe tbody tr th {\n",
       "        vertical-align: top;\n",
       "    }\n",
       "\n",
       "    .dataframe thead th {\n",
       "        text-align: right;\n",
       "    }\n",
       "</style>\n",
       "<table border=\"1\" class=\"dataframe\">\n",
       "  <thead>\n",
       "    <tr style=\"text-align: right;\">\n",
       "      <th>member_casual</th>\n",
       "      <th>casual</th>\n",
       "      <th>member</th>\n",
       "    </tr>\n",
       "    <tr>\n",
       "      <th>end_station_name</th>\n",
       "      <th></th>\n",
       "      <th></th>\n",
       "    </tr>\n",
       "  </thead>\n",
       "  <tbody>\n",
       "    <tr>\n",
       "      <th>Clinton St &amp; Washington Blvd</th>\n",
       "      <td>5694</td>\n",
       "      <td>26312</td>\n",
       "    </tr>\n",
       "    <tr>\n",
       "      <th>Kingsbury St &amp; Kinzie St</th>\n",
       "      <td>7592</td>\n",
       "      <td>24922</td>\n",
       "    </tr>\n",
       "    <tr>\n",
       "      <th>Clinton St &amp; Madison St</th>\n",
       "      <td>5737</td>\n",
       "      <td>22653</td>\n",
       "    </tr>\n",
       "    <tr>\n",
       "      <th>Clark St &amp; Elm St</th>\n",
       "      <td>8987</td>\n",
       "      <td>22510</td>\n",
       "    </tr>\n",
       "    <tr>\n",
       "      <th>Wells St &amp; Concord Ln</th>\n",
       "      <td>9714</td>\n",
       "      <td>18579</td>\n",
       "    </tr>\n",
       "    <tr>\n",
       "      <th>Wells St &amp; Elm St</th>\n",
       "      <td>8917</td>\n",
       "      <td>18156</td>\n",
       "    </tr>\n",
       "    <tr>\n",
       "      <th>University Ave &amp; 57th St</th>\n",
       "      <td>5732</td>\n",
       "      <td>17802</td>\n",
       "    </tr>\n",
       "    <tr>\n",
       "      <th>Clinton St &amp; Jackson Blvd</th>\n",
       "      <td>5522</td>\n",
       "      <td>17089</td>\n",
       "    </tr>\n",
       "    <tr>\n",
       "      <th>State St &amp; Chicago Ave</th>\n",
       "      <td>5933</td>\n",
       "      <td>16997</td>\n",
       "    </tr>\n",
       "    <tr>\n",
       "      <th>Canal St &amp; Adams St</th>\n",
       "      <td>4237</td>\n",
       "      <td>16188</td>\n",
       "    </tr>\n",
       "  </tbody>\n",
       "</table>\n",
       "</div>"
      ],
      "text/plain": [
       "member_casual                 casual  member\n",
       "end_station_name                            \n",
       "Clinton St & Washington Blvd    5694   26312\n",
       "Kingsbury St & Kinzie St        7592   24922\n",
       "Clinton St & Madison St         5737   22653\n",
       "Clark St & Elm St               8987   22510\n",
       "Wells St & Concord Ln           9714   18579\n",
       "Wells St & Elm St               8917   18156\n",
       "University Ave & 57th St        5732   17802\n",
       "Clinton St & Jackson Blvd       5522   17089\n",
       "State St & Chicago Ave          5933   16997\n",
       "Canal St & Adams St             4237   16188"
      ]
     },
     "execution_count": 37,
     "metadata": {},
     "output_type": "execute_result"
    }
   ],
   "source": [
    "m_pop_end = df.groupby(['end_station_name', 'member_casual']).size().unstack(fill_value = 0)\n",
    "m_pop_end.nlargest(10, 'member')"
   ]
  },
  {
   "cell_type": "markdown",
   "metadata": {},
   "source": [
    "## Share<a name=\"share\"></a>\n",
    "Now that we've had a chance to analyze the available data, we're going to summarize relevant findings and create  visualizations to share with the marketing team and other key stakeholders. Again, we are answering the question of how usage of the bike rental service differs between members and casual riders."
   ]
  },
  {
   "cell_type": "markdown",
   "metadata": {},
   "source": [
    "### Observation #1\n",
    "The average member pass ride is about half the time of the average casual pass ride. It is unfortunate that there is not a way to parse out the casual pass rides into daily and single-ride passes. However, we can learn from the data as it is  that members' rides are usually shorter than the casual rides. "
   ]
  },
  {
   "cell_type": "code",
   "execution_count": 38,
   "metadata": {},
   "outputs": [
    {
     "data": {
      "image/png": "[encoded data removed]",
      "text/plain": [
       "<Figure size 640x480 with 1 Axes>"
      ]
     },
     "metadata": {},
     "output_type": "display_data"
    }
   ],
   "source": [
    "# Turning time delta into minutes and creating a bar chart to show the difference in average ride time\n",
    "td = mc_duration/60000000000\n",
    "\n",
    "ax = td.plot(kind='bar', title='Average Ride Time Member vs. Casual', xlabel = 'Member vs. Casual Rides', ylabel = 'Minutes', color = colors)\n",
    "plt.xticks(rotation = 0)\n",
    "plt.show()"
   ]
  },
  {
   "cell_type": "markdown",
   "metadata": {},
   "source": [
    "### Observation #2\n",
    "We also found that the number of rental events for members is much higher than the number of casual rider rentals. "
   ]
  },
  {
   "cell_type": "code",
   "execution_count": 39,
   "metadata": {},
   "outputs": [
    {
     "data": {
      "image/png": "[encoded data removed]",
      "text/plain": [
       "<Figure size 640x480 with 1 Axes>"
      ]
     },
     "metadata": {},
     "output_type": "display_data"
    }
   ],
   "source": [
    "# Creating a pie chart to show the difference in number of rental events\n",
    "pcount = df['member_casual'].value_counts()\n",
    "labels = ['Member', 'Casual']\n",
    "\n",
    "plt.pie(x = pcount, labels = labels, autopct = '%1.2f%%', colors = ['#268bd2', '#b58900'], pctdistance=0.84)\n",
    "plt.title(\n",
    "    label = \"Number of Rides\", \n",
    "    fontdict = {\"fontsize\":16},\n",
    "    pad = 20\n",
    ")\n",
    "centre_circle = plt.Circle((0,0),0.70,fc='#ffffff')\n",
    "fig = plt.gcf()\n",
    "fig.gca().add_artist(centre_circle)\n",
    "\n",
    "plt.show()"
   ]
  },
  {
   "cell_type": "markdown",
   "metadata": {},
   "source": [
    "### Observation #3\n",
    "We found that weekends are very popular times for casual bike rentals. "
   ]
  },
  {
   "cell_type": "code",
   "execution_count": 40,
   "metadata": {},
   "outputs": [
    {
     "data": {
      "image/png": "[encoded data removed]",
      "text/plain": [
       "<Figure size 640x480 with 1 Axes>"
      ]
     },
     "metadata": {},
     "output_type": "display_data"
    }
   ],
   "source": [
    "ax = count_df.plot(kind = 'bar', color = colors, xlabel = 'Member vs. Casual Rides', ylabel = 'Number of Rides')\n",
    "ax.set_title(\"Rides by Day of the Week\")\n",
    "ax.legend(['Casual', 'Member'])\n",
    "plt.xticks(rotation = 25)\n",
    "plt.show()"
   ]
  },
  {
   "cell_type": "markdown",
   "metadata": {},
   "source": [
    "### Observation #4\n",
    "We also found that certain starting and ending stations are more popular with members and casual riders. "
   ]
  },
  {
   "cell_type": "code",
   "execution_count": 41,
   "metadata": {},
   "outputs": [
    {
     "data": {
      "image/png": "[encoded data removed]",
      "text/plain": [
       "<Figure size 640x480 with 1 Axes>"
      ]
     },
     "metadata": {},
     "output_type": "display_data"
    }
   ],
   "source": [
    "ax = pop_start.nlargest(10, 'casual').plot(kind = 'barh', color = ['#2aa198', '#b58900'], xlabel = 'Member vs. Casual Rides', ylabel = 'Number of Rides')\n",
    "ax.set_title(\"Top 10 Start Stations for Casual Rides\")\n",
    "ax.legend(['Casual', 'Member'])\n",
    "plt.show()"
   ]
  },
  {
   "cell_type": "code",
   "execution_count": 42,
   "metadata": {},
   "outputs": [
    {
     "data": {
      "image/png": "[encoded data removed]",
      "text/plain": [
       "<Figure size 640x480 with 1 Axes>"
      ]
     },
     "metadata": {},
     "output_type": "display_data"
    }
   ],
   "source": [
    "ax = pop_end.nlargest(10, 'casual').plot(kind = 'barh', color = ['#2aa198', '#b58900'], xlabel = 'Member vs. Casual Rides', ylabel = 'Number of Rides')\n",
    "ax.set_title(\"Top 10 End Stations for Casual Rides\")\n",
    "ax.legend(['Casual', 'Member'])\n",
    "plt.show()"
   ]
  },
  {
   "cell_type": "code",
   "execution_count": 43,
   "metadata": {},
   "outputs": [
    {
     "data": {
      "image/png": "[encoded data removed]",
      "text/plain": [
       "<Figure size 640x480 with 1 Axes>"
      ]
     },
     "metadata": {},
     "output_type": "display_data"
    }
   ],
   "source": [
    "ax = m_pop_start.nlargest(10, 'casual').plot(kind = 'barh', color = ['#2aa198', '#b58900'], xlabel = 'Member vs. Casual Rides', ylabel = 'Number of Rides')\n",
    "ax.set_title(\"Top 10 Start Stations for Member Rides\")\n",
    "ax.legend(['Casual', 'Member'])\n",
    "plt.show()"
   ]
  },
  {
   "cell_type": "code",
   "execution_count": 44,
   "metadata": {},
   "outputs": [
    {
     "data": {
      "image/png": "[encoded data removed]",
      "text/plain": [
       "<Figure size 640x480 with 1 Axes>"
      ]
     },
     "metadata": {},
     "output_type": "display_data"
    }
   ],
   "source": [
    "ax = m_pop_end.nlargest(10, 'casual').plot(kind = 'barh', color = ['#2aa198', '#b58900'], xlabel = 'Member vs. Casual Rides', ylabel = 'Number of Rides')\n",
    "ax.set_title(\"Top 10 End Stations for Member Rides\")\n",
    "ax.legend(['Casual', 'Member'])\n",
    "plt.show()"
   ]
  },
  {
   "cell_type": "markdown",
   "metadata": {},
   "source": [
    "## Act<a name=\"act\"></a>\n",
    "A few final recommendations for the company to consider.\n",
    "\n",
    "### Recommendations\n",
    "- Consider a price per minute pay model. Keep the single ride and daily pass fees and add a cost per minute for actual usage as well. (Observation #1)\n",
    "- Consider a marketing campaign that focuses on the freedom of being able to ride wherever and whenever you want with the membership. Members ride more, take care of the environment and themselves, and only pay a low monthly price. Find a way to track repeat casual riders offer a promotional rate for their first few months. (Observation #2)\n",
    "- Consider a higher rate for passes and price per minute on weekends for casual riders. (Observation #3)\n",
    "- Focus the marketing campaign toward acquiring more members on certain starting and ending stations that are popular with casual riders. (Observation #4)\n",
    "- A further recommendation would be to understand how we ended up with errors in our data like excessively long rental durations, negative rental durations, and hundreds of thousands of incomplete records. It would also be helpful to capture more information, like repeat casual riders and separating out single-ride passes from day passes."
   ]
  }
 ],
 "metadata": {
  "kernelspec": {
   "display_name": "Python 3",
   "language": "python",
   "name": "python3"
  },
  "language_info": {
   "codemirror_mode": {
    "name": "ipython",
    "version": 3
   },
   "file_extension": ".py",
   "mimetype": "text/x-python",
   "name": "python",
   "nbconvert_exporter": "python",
   "pygments_lexer": "ipython3",
   "version": "3.12.4"
  }
 },
 "nbformat": 4,
 "nbformat_minor": 2
}

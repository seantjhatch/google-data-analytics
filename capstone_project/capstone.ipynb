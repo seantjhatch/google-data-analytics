{
 "cells": [
  {
   "cell_type": "markdown",
   "metadata": {},
   "source": [
    "# Cyclistic Case Study\n",
    "\n",
    "## Intro\n",
    "The goal of this project is to gain insight into how casual riders and annual members differ in their usage of a bike-share company. Withing the company, the director of marketing believes that the company's future success depends on maximizing the number of annual memberships. Therefore, the insights found in this analysis will be used to design a digital marketing strategy aimed at converting casual riders into annual members. \n",
    "\n",
    "For the purpose of this study, **casual riders** are defined as customers who purchase single-ride or full-day passes, while **Cyclistic members** or **members** are customers who purchase an annual membership. "
   ]
  },
  {
   "cell_type": "code",
   "execution_count": 1,
   "metadata": {},
   "outputs": [],
   "source": [
    "# Importing data science libraries\n",
    "import pandas as pd\n",
    "import numpy as np\n",
    "import glob\n",
    "import os\n",
    "\n",
    "# Importing visualization libraries\n",
    "import seaborn as sns\n",
    "import matplotlib.pyplot as plt\n",
    "import plotly as px\n",
    "import missingno as msno\n",
    "import plotly.offline as pyo \n",
    "import plotly.express as px\n",
    "import plotly.io as pio\n",
    "import plotly.graph_objects as go\n",
    "from plotly.subplots import make_subplots\n",
    "\n",
    "plt.style.use('fivethirtyeight')"
   ]
  },
  {
   "cell_type": "code",
   "execution_count": 2,
   "metadata": {},
   "outputs": [],
   "source": [
    "# Importing the data\n",
    "path = 'data'\n",
    "csv_files = glob.glob(os.path.join(path, \"*.csv\"))\n",
    "\n",
    "dfs = []\n",
    "\n",
    "for file in csv_files:\n",
    "    df = pd.read_csv(file)\n",
    "    dfs.append(df)"
   ]
  },
  {
   "cell_type": "code",
   "execution_count": 3,
   "metadata": {},
   "outputs": [
    {
     "data": {
      "text/html": [
       "<div>\n",
       "<style scoped>\n",
       "    .dataframe tbody tr th:only-of-type {\n",
       "        vertical-align: middle;\n",
       "    }\n",
       "\n",
       "    .dataframe tbody tr th {\n",
       "        vertical-align: top;\n",
       "    }\n",
       "\n",
       "    .dataframe thead th {\n",
       "        text-align: right;\n",
       "    }\n",
       "</style>\n",
       "<table border=\"1\" class=\"dataframe\">\n",
       "  <thead>\n",
       "    <tr style=\"text-align: right;\">\n",
       "      <th></th>\n",
       "      <th>ride_id</th>\n",
       "      <th>rideable_type</th>\n",
       "      <th>started_at</th>\n",
       "      <th>ended_at</th>\n",
       "      <th>start_station_name</th>\n",
       "      <th>start_station_id</th>\n",
       "      <th>end_station_name</th>\n",
       "      <th>end_station_id</th>\n",
       "      <th>start_lat</th>\n",
       "      <th>start_lng</th>\n",
       "      <th>end_lat</th>\n",
       "      <th>end_lng</th>\n",
       "      <th>member_casual</th>\n",
       "    </tr>\n",
       "  </thead>\n",
       "  <tbody>\n",
       "    <tr>\n",
       "      <th>0</th>\n",
       "      <td>4449097279F8BBE7</td>\n",
       "      <td>classic_bike</td>\n",
       "      <td>2023-10-08 10:36:26</td>\n",
       "      <td>2023-10-08 10:49:19</td>\n",
       "      <td>Orleans St &amp; Chestnut St (NEXT Apts)</td>\n",
       "      <td>620</td>\n",
       "      <td>Sheffield Ave &amp; Webster Ave</td>\n",
       "      <td>TA1309000033</td>\n",
       "      <td>41.898203</td>\n",
       "      <td>-87.637536</td>\n",
       "      <td>41.921540</td>\n",
       "      <td>-87.653818</td>\n",
       "      <td>member</td>\n",
       "    </tr>\n",
       "    <tr>\n",
       "      <th>1</th>\n",
       "      <td>9CF060543CA7B439</td>\n",
       "      <td>electric_bike</td>\n",
       "      <td>2023-10-11 17:23:59</td>\n",
       "      <td>2023-10-11 17:36:08</td>\n",
       "      <td>Desplaines St &amp; Kinzie St</td>\n",
       "      <td>TA1306000003</td>\n",
       "      <td>Sheffield Ave &amp; Webster Ave</td>\n",
       "      <td>TA1309000033</td>\n",
       "      <td>41.888641</td>\n",
       "      <td>-87.644415</td>\n",
       "      <td>41.921540</td>\n",
       "      <td>-87.653818</td>\n",
       "      <td>member</td>\n",
       "    </tr>\n",
       "    <tr>\n",
       "      <th>2</th>\n",
       "      <td>667F21F4D6BDE69C</td>\n",
       "      <td>electric_bike</td>\n",
       "      <td>2023-10-12 07:02:33</td>\n",
       "      <td>2023-10-12 07:06:53</td>\n",
       "      <td>Orleans St &amp; Chestnut St (NEXT Apts)</td>\n",
       "      <td>620</td>\n",
       "      <td>Franklin St &amp; Lake St</td>\n",
       "      <td>TA1307000111</td>\n",
       "      <td>41.898073</td>\n",
       "      <td>-87.637514</td>\n",
       "      <td>41.885837</td>\n",
       "      <td>-87.635500</td>\n",
       "      <td>member</td>\n",
       "    </tr>\n",
       "    <tr>\n",
       "      <th>3</th>\n",
       "      <td>F92714CC6B019B96</td>\n",
       "      <td>classic_bike</td>\n",
       "      <td>2023-10-24 19:13:03</td>\n",
       "      <td>2023-10-24 19:18:29</td>\n",
       "      <td>Desplaines St &amp; Kinzie St</td>\n",
       "      <td>TA1306000003</td>\n",
       "      <td>Franklin St &amp; Lake St</td>\n",
       "      <td>TA1307000111</td>\n",
       "      <td>41.888716</td>\n",
       "      <td>-87.644448</td>\n",
       "      <td>41.885837</td>\n",
       "      <td>-87.635500</td>\n",
       "      <td>member</td>\n",
       "    </tr>\n",
       "    <tr>\n",
       "      <th>4</th>\n",
       "      <td>5E34BA5DE945A9CC</td>\n",
       "      <td>classic_bike</td>\n",
       "      <td>2023-10-09 18:19:26</td>\n",
       "      <td>2023-10-09 18:30:56</td>\n",
       "      <td>Desplaines St &amp; Kinzie St</td>\n",
       "      <td>TA1306000003</td>\n",
       "      <td>Franklin St &amp; Lake St</td>\n",
       "      <td>TA1307000111</td>\n",
       "      <td>41.888716</td>\n",
       "      <td>-87.644448</td>\n",
       "      <td>41.885837</td>\n",
       "      <td>-87.635500</td>\n",
       "      <td>member</td>\n",
       "    </tr>\n",
       "    <tr>\n",
       "      <th>5</th>\n",
       "      <td>F7D7420AFAC53CD9</td>\n",
       "      <td>electric_bike</td>\n",
       "      <td>2023-10-04 17:10:59</td>\n",
       "      <td>2023-10-04 17:25:21</td>\n",
       "      <td>Orleans St &amp; Chestnut St (NEXT Apts)</td>\n",
       "      <td>620</td>\n",
       "      <td>Sheffield Ave &amp; Webster Ave</td>\n",
       "      <td>TA1309000033</td>\n",
       "      <td>41.898124</td>\n",
       "      <td>-87.637533</td>\n",
       "      <td>41.921540</td>\n",
       "      <td>-87.653818</td>\n",
       "      <td>member</td>\n",
       "    </tr>\n",
       "    <tr>\n",
       "      <th>6</th>\n",
       "      <td>870B2D4CD112D7B7</td>\n",
       "      <td>electric_bike</td>\n",
       "      <td>2023-10-31 17:32:20</td>\n",
       "      <td>2023-10-31 17:44:20</td>\n",
       "      <td>Orleans St &amp; Chestnut St (NEXT Apts)</td>\n",
       "      <td>620</td>\n",
       "      <td>Sheffield Ave &amp; Webster Ave</td>\n",
       "      <td>TA1309000033</td>\n",
       "      <td>41.898177</td>\n",
       "      <td>-87.637549</td>\n",
       "      <td>41.921540</td>\n",
       "      <td>-87.653818</td>\n",
       "      <td>member</td>\n",
       "    </tr>\n",
       "    <tr>\n",
       "      <th>7</th>\n",
       "      <td>D9179D36E32D456C</td>\n",
       "      <td>classic_bike</td>\n",
       "      <td>2023-10-02 18:51:51</td>\n",
       "      <td>2023-10-02 18:57:09</td>\n",
       "      <td>Desplaines St &amp; Kinzie St</td>\n",
       "      <td>TA1306000003</td>\n",
       "      <td>Franklin St &amp; Lake St</td>\n",
       "      <td>TA1307000111</td>\n",
       "      <td>41.888716</td>\n",
       "      <td>-87.644448</td>\n",
       "      <td>41.885837</td>\n",
       "      <td>-87.635500</td>\n",
       "      <td>casual</td>\n",
       "    </tr>\n",
       "    <tr>\n",
       "      <th>8</th>\n",
       "      <td>F8E131281F722FEF</td>\n",
       "      <td>classic_bike</td>\n",
       "      <td>2023-10-17 08:28:18</td>\n",
       "      <td>2023-10-17 08:50:03</td>\n",
       "      <td>Calumet Ave &amp; 18th St</td>\n",
       "      <td>13102</td>\n",
       "      <td>Morgan St &amp; Polk St</td>\n",
       "      <td>TA1307000130</td>\n",
       "      <td>41.857618</td>\n",
       "      <td>-87.619411</td>\n",
       "      <td>41.871737</td>\n",
       "      <td>-87.651030</td>\n",
       "      <td>member</td>\n",
       "    </tr>\n",
       "    <tr>\n",
       "      <th>9</th>\n",
       "      <td>91938B71748FA405</td>\n",
       "      <td>classic_bike</td>\n",
       "      <td>2023-10-17 19:17:38</td>\n",
       "      <td>2023-10-17 19:32:23</td>\n",
       "      <td>Wolcott Ave &amp; Polk St</td>\n",
       "      <td>TA1309000064</td>\n",
       "      <td>Morgan St &amp; Polk St</td>\n",
       "      <td>TA1307000130</td>\n",
       "      <td>41.871262</td>\n",
       "      <td>-87.673688</td>\n",
       "      <td>41.871737</td>\n",
       "      <td>-87.651030</td>\n",
       "      <td>member</td>\n",
       "    </tr>\n",
       "  </tbody>\n",
       "</table>\n",
       "</div>"
      ],
      "text/plain": [
       "            ride_id  rideable_type           started_at             ended_at  \\\n",
       "0  4449097279F8BBE7   classic_bike  2023-10-08 10:36:26  2023-10-08 10:49:19   \n",
       "1  9CF060543CA7B439  electric_bike  2023-10-11 17:23:59  2023-10-11 17:36:08   \n",
       "2  667F21F4D6BDE69C  electric_bike  2023-10-12 07:02:33  2023-10-12 07:06:53   \n",
       "3  F92714CC6B019B96   classic_bike  2023-10-24 19:13:03  2023-10-24 19:18:29   \n",
       "4  5E34BA5DE945A9CC   classic_bike  2023-10-09 18:19:26  2023-10-09 18:30:56   \n",
       "5  F7D7420AFAC53CD9  electric_bike  2023-10-04 17:10:59  2023-10-04 17:25:21   \n",
       "6  870B2D4CD112D7B7  electric_bike  2023-10-31 17:32:20  2023-10-31 17:44:20   \n",
       "7  D9179D36E32D456C   classic_bike  2023-10-02 18:51:51  2023-10-02 18:57:09   \n",
       "8  F8E131281F722FEF   classic_bike  2023-10-17 08:28:18  2023-10-17 08:50:03   \n",
       "9  91938B71748FA405   classic_bike  2023-10-17 19:17:38  2023-10-17 19:32:23   \n",
       "\n",
       "                     start_station_name start_station_id  \\\n",
       "0  Orleans St & Chestnut St (NEXT Apts)              620   \n",
       "1             Desplaines St & Kinzie St     TA1306000003   \n",
       "2  Orleans St & Chestnut St (NEXT Apts)              620   \n",
       "3             Desplaines St & Kinzie St     TA1306000003   \n",
       "4             Desplaines St & Kinzie St     TA1306000003   \n",
       "5  Orleans St & Chestnut St (NEXT Apts)              620   \n",
       "6  Orleans St & Chestnut St (NEXT Apts)              620   \n",
       "7             Desplaines St & Kinzie St     TA1306000003   \n",
       "8                 Calumet Ave & 18th St            13102   \n",
       "9                 Wolcott Ave & Polk St     TA1309000064   \n",
       "\n",
       "              end_station_name end_station_id  start_lat  start_lng  \\\n",
       "0  Sheffield Ave & Webster Ave   TA1309000033  41.898203 -87.637536   \n",
       "1  Sheffield Ave & Webster Ave   TA1309000033  41.888641 -87.644415   \n",
       "2        Franklin St & Lake St   TA1307000111  41.898073 -87.637514   \n",
       "3        Franklin St & Lake St   TA1307000111  41.888716 -87.644448   \n",
       "4        Franklin St & Lake St   TA1307000111  41.888716 -87.644448   \n",
       "5  Sheffield Ave & Webster Ave   TA1309000033  41.898124 -87.637533   \n",
       "6  Sheffield Ave & Webster Ave   TA1309000033  41.898177 -87.637549   \n",
       "7        Franklin St & Lake St   TA1307000111  41.888716 -87.644448   \n",
       "8          Morgan St & Polk St   TA1307000130  41.857618 -87.619411   \n",
       "9          Morgan St & Polk St   TA1307000130  41.871262 -87.673688   \n",
       "\n",
       "     end_lat    end_lng member_casual  \n",
       "0  41.921540 -87.653818        member  \n",
       "1  41.921540 -87.653818        member  \n",
       "2  41.885837 -87.635500        member  \n",
       "3  41.885837 -87.635500        member  \n",
       "4  41.885837 -87.635500        member  \n",
       "5  41.921540 -87.653818        member  \n",
       "6  41.921540 -87.653818        member  \n",
       "7  41.885837 -87.635500        casual  \n",
       "8  41.871737 -87.651030        member  \n",
       "9  41.871737 -87.651030        member  "
      ]
     },
     "execution_count": 3,
     "metadata": {},
     "output_type": "execute_result"
    }
   ],
   "source": [
    "# Combining the data into a single data frame\n",
    "df = pd.concat(dfs, ignore_index=True).drop_duplicates('ride_id') \n",
    "\n",
    "# Checking the combined data frame\n",
    "df.head(10)"
   ]
  },
  {
   "cell_type": "code",
   "execution_count": 4,
   "metadata": {},
   "outputs": [
    {
     "data": {
      "text/plain": [
       "(5715482, 13)"
      ]
     },
     "execution_count": 4,
     "metadata": {},
     "output_type": "execute_result"
    }
   ],
   "source": [
    "# Getting some basic info on the data\n",
    "df.shape"
   ]
  },
  {
   "cell_type": "code",
   "execution_count": 5,
   "metadata": {},
   "outputs": [
    {
     "name": "stdout",
     "output_type": "stream",
     "text": [
      "<class 'pandas.core.frame.DataFrame'>\n",
      "Index: 5715482 entries, 0 to 5715692\n",
      "Data columns (total 13 columns):\n",
      " #   Column              Dtype  \n",
      "---  ------              -----  \n",
      " 0   ride_id             object \n",
      " 1   rideable_type       object \n",
      " 2   started_at          object \n",
      " 3   ended_at            object \n",
      " 4   start_station_name  object \n",
      " 5   start_station_id    object \n",
      " 6   end_station_name    object \n",
      " 7   end_station_id      object \n",
      " 8   start_lat           float64\n",
      " 9   start_lng           float64\n",
      " 10  end_lat             float64\n",
      " 11  end_lng             float64\n",
      " 12  member_casual       object \n",
      "dtypes: float64(4), object(9)\n",
      "memory usage: 610.5+ MB\n"
     ]
    }
   ],
   "source": [
    "df.info()"
   ]
  },
  {
   "cell_type": "code",
   "execution_count": 6,
   "metadata": {},
   "outputs": [
    {
     "name": "stdout",
     "output_type": "stream",
     "text": [
      "<class 'pandas.core.frame.DataFrame'>\n",
      "Index: 5715482 entries, 0 to 5715692\n",
      "Data columns (total 13 columns):\n",
      " #   Column              Dtype         \n",
      "---  ------              -----         \n",
      " 0   ride_id             object        \n",
      " 1   rideable_type       object        \n",
      " 2   started_at          datetime64[ns]\n",
      " 3   ended_at            datetime64[ns]\n",
      " 4   start_station_name  object        \n",
      " 5   start_station_id    object        \n",
      " 6   end_station_name    object        \n",
      " 7   end_station_id      object        \n",
      " 8   start_lat           float64       \n",
      " 9   start_lng           float64       \n",
      " 10  end_lat             float64       \n",
      " 11  end_lng             float64       \n",
      " 12  member_casual       object        \n",
      "dtypes: datetime64[ns](2), float64(4), object(7)\n",
      "memory usage: 610.5+ MB\n"
     ]
    }
   ],
   "source": [
    "# Converting `started_at` and `ended_at` to datetime format\n",
    "df['started_at'] = pd.to_datetime(df['started_at'], format='mixed')\n",
    "df['ended_at'] = pd.to_datetime(df['ended_at'], format='mixed')\n",
    "\n",
    "df.info()"
   ]
  },
  {
   "cell_type": "code",
   "execution_count": 7,
   "metadata": {},
   "outputs": [
    {
     "name": "stdout",
     "output_type": "stream",
     "text": [
      "<class 'pandas.core.frame.DataFrame'>\n",
      "Index: 5715482 entries, 0 to 5715692\n",
      "Data columns (total 13 columns):\n",
      " #   Column              Dtype         \n",
      "---  ------              -----         \n",
      " 0   ride_id             object        \n",
      " 1   rideable_type       category      \n",
      " 2   started_at          datetime64[ns]\n",
      " 3   ended_at            datetime64[ns]\n",
      " 4   start_station_name  object        \n",
      " 5   start_station_id    object        \n",
      " 6   end_station_name    object        \n",
      " 7   end_station_id      object        \n",
      " 8   start_lat           float64       \n",
      " 9   start_lng           float64       \n",
      " 10  end_lat             float64       \n",
      " 11  end_lng             float64       \n",
      " 12  member_casual       category      \n",
      "dtypes: category(2), datetime64[ns](2), float64(4), object(5)\n",
      "memory usage: 534.2+ MB\n"
     ]
    }
   ],
   "source": [
    "# Converting the `member_casual` and `rideable_type` columns to categories\n",
    "df['member_casual'] = df['member_casual'].astype('category')\n",
    "df['rideable_type'] = df['rideable_type'].astype('category')\n",
    "\n",
    "df.info()"
   ]
  },
  {
   "cell_type": "code",
   "execution_count": 8,
   "metadata": {},
   "outputs": [
    {
     "data": {
      "text/html": [
       "<div>\n",
       "<style scoped>\n",
       "    .dataframe tbody tr th:only-of-type {\n",
       "        vertical-align: middle;\n",
       "    }\n",
       "\n",
       "    .dataframe tbody tr th {\n",
       "        vertical-align: top;\n",
       "    }\n",
       "\n",
       "    .dataframe thead th {\n",
       "        text-align: right;\n",
       "    }\n",
       "</style>\n",
       "<table border=\"1\" class=\"dataframe\">\n",
       "  <thead>\n",
       "    <tr style=\"text-align: right;\">\n",
       "      <th></th>\n",
       "      <th>ride_id</th>\n",
       "      <th>rideable_type</th>\n",
       "      <th>started_at</th>\n",
       "      <th>ended_at</th>\n",
       "      <th>start_station_name</th>\n",
       "      <th>start_station_id</th>\n",
       "      <th>end_station_name</th>\n",
       "      <th>end_station_id</th>\n",
       "      <th>start_lat</th>\n",
       "      <th>start_lng</th>\n",
       "      <th>end_lat</th>\n",
       "      <th>end_lng</th>\n",
       "      <th>member_casual</th>\n",
       "    </tr>\n",
       "  </thead>\n",
       "  <tbody>\n",
       "    <tr>\n",
       "      <th>1594323</th>\n",
       "      <td>7F02F9C9518DE899</td>\n",
       "      <td>electric_bike</td>\n",
       "      <td>2024-07-31 23:56:29.404</td>\n",
       "      <td>2024-07-31 23:59:06.026</td>\n",
       "      <td>Montrose Harbor</td>\n",
       "      <td>TA1308000012</td>\n",
       "      <td>NaN</td>\n",
       "      <td>NaN</td>\n",
       "      <td>41.963982</td>\n",
       "      <td>-87.638181</td>\n",
       "      <td>41.960000</td>\n",
       "      <td>-87.640000</td>\n",
       "      <td>member</td>\n",
       "    </tr>\n",
       "    <tr>\n",
       "      <th>1217211</th>\n",
       "      <td>D8EA77522CDD0963</td>\n",
       "      <td>electric_bike</td>\n",
       "      <td>2024-07-31 23:55:00.044</td>\n",
       "      <td>2024-07-31 23:58:09.805</td>\n",
       "      <td>Wilton Ave &amp; Belmont Ave</td>\n",
       "      <td>TA1307000134</td>\n",
       "      <td>NaN</td>\n",
       "      <td>NaN</td>\n",
       "      <td>41.940232</td>\n",
       "      <td>-87.652944</td>\n",
       "      <td>41.950000</td>\n",
       "      <td>-87.650000</td>\n",
       "      <td>member</td>\n",
       "    </tr>\n",
       "    <tr>\n",
       "      <th>1098968</th>\n",
       "      <td>95217BF2C770F4DE</td>\n",
       "      <td>electric_bike</td>\n",
       "      <td>2024-07-31 23:54:26.535</td>\n",
       "      <td>2024-07-31 23:57:52.119</td>\n",
       "      <td>Stetson Ave &amp; South Water St</td>\n",
       "      <td>TA1308000029</td>\n",
       "      <td>Cityfront Plaza Dr &amp; Pioneer Ct</td>\n",
       "      <td>13427</td>\n",
       "      <td>41.886835</td>\n",
       "      <td>-87.622320</td>\n",
       "      <td>41.890573</td>\n",
       "      <td>-87.622072</td>\n",
       "      <td>casual</td>\n",
       "    </tr>\n",
       "    <tr>\n",
       "      <th>1028136</th>\n",
       "      <td>08C302BA8CA35FC2</td>\n",
       "      <td>electric_bike</td>\n",
       "      <td>2024-07-31 23:54:00.718</td>\n",
       "      <td>2024-07-31 23:55:50.961</td>\n",
       "      <td>State St &amp; Chicago Ave</td>\n",
       "      <td>21544</td>\n",
       "      <td>NaN</td>\n",
       "      <td>NaN</td>\n",
       "      <td>41.896617</td>\n",
       "      <td>-87.628579</td>\n",
       "      <td>41.900000</td>\n",
       "      <td>-87.630000</td>\n",
       "      <td>casual</td>\n",
       "    </tr>\n",
       "    <tr>\n",
       "      <th>1253867</th>\n",
       "      <td>C4121F2D05CE827E</td>\n",
       "      <td>electric_bike</td>\n",
       "      <td>2024-07-31 23:53:36.244</td>\n",
       "      <td>2024-07-31 23:56:48.209</td>\n",
       "      <td>NaN</td>\n",
       "      <td>NaN</td>\n",
       "      <td>NaN</td>\n",
       "      <td>NaN</td>\n",
       "      <td>41.930000</td>\n",
       "      <td>-87.650000</td>\n",
       "      <td>41.930000</td>\n",
       "      <td>-87.650000</td>\n",
       "      <td>casual</td>\n",
       "    </tr>\n",
       "    <tr>\n",
       "      <th>1351965</th>\n",
       "      <td>51A1A9F12078A3A9</td>\n",
       "      <td>electric_bike</td>\n",
       "      <td>2024-07-31 23:53:25.120</td>\n",
       "      <td>2024-07-31 23:57:01.391</td>\n",
       "      <td>Wells St &amp; Elm St</td>\n",
       "      <td>KA1504000135</td>\n",
       "      <td>Wells St &amp; Huron St</td>\n",
       "      <td>TA1306000012</td>\n",
       "      <td>41.903222</td>\n",
       "      <td>-87.634324</td>\n",
       "      <td>41.894722</td>\n",
       "      <td>-87.634362</td>\n",
       "      <td>casual</td>\n",
       "    </tr>\n",
       "    <tr>\n",
       "      <th>1627284</th>\n",
       "      <td>F150109CFA419D6E</td>\n",
       "      <td>electric_bike</td>\n",
       "      <td>2024-07-31 23:53:13.100</td>\n",
       "      <td>2024-07-31 23:59:00.637</td>\n",
       "      <td>NaN</td>\n",
       "      <td>NaN</td>\n",
       "      <td>Clark St &amp; Lincoln Ave</td>\n",
       "      <td>13179</td>\n",
       "      <td>41.930000</td>\n",
       "      <td>-87.650000</td>\n",
       "      <td>41.915689</td>\n",
       "      <td>-87.634600</td>\n",
       "      <td>member</td>\n",
       "    </tr>\n",
       "    <tr>\n",
       "      <th>1050922</th>\n",
       "      <td>AF0F739C3F723C91</td>\n",
       "      <td>electric_bike</td>\n",
       "      <td>2024-07-31 23:52:35.503</td>\n",
       "      <td>2024-07-31 23:55:43.916</td>\n",
       "      <td>Halsted St &amp; Wrightwood Ave</td>\n",
       "      <td>TA1309000061</td>\n",
       "      <td>NaN</td>\n",
       "      <td>NaN</td>\n",
       "      <td>41.929143</td>\n",
       "      <td>-87.649077</td>\n",
       "      <td>41.930000</td>\n",
       "      <td>-87.650000</td>\n",
       "      <td>member</td>\n",
       "    </tr>\n",
       "    <tr>\n",
       "      <th>1085365</th>\n",
       "      <td>5916FA2F813E5E74</td>\n",
       "      <td>electric_bike</td>\n",
       "      <td>2024-07-31 23:52:31.416</td>\n",
       "      <td>2024-07-31 23:55:21.415</td>\n",
       "      <td>Sheridan Rd &amp; Irving Park Rd</td>\n",
       "      <td>13063</td>\n",
       "      <td>NaN</td>\n",
       "      <td>NaN</td>\n",
       "      <td>41.954245</td>\n",
       "      <td>-87.654406</td>\n",
       "      <td>41.960000</td>\n",
       "      <td>-87.650000</td>\n",
       "      <td>member</td>\n",
       "    </tr>\n",
       "    <tr>\n",
       "      <th>1655166</th>\n",
       "      <td>6441AE460141DB52</td>\n",
       "      <td>electric_bike</td>\n",
       "      <td>2024-07-31 23:52:14.182</td>\n",
       "      <td>2024-07-31 23:59:06.039</td>\n",
       "      <td>Clarendon Ave &amp; Junior Ter</td>\n",
       "      <td>13389</td>\n",
       "      <td>Pine Grove Ave &amp; Waveland Ave</td>\n",
       "      <td>TA1307000150</td>\n",
       "      <td>41.961004</td>\n",
       "      <td>-87.649603</td>\n",
       "      <td>41.949473</td>\n",
       "      <td>-87.646453</td>\n",
       "      <td>casual</td>\n",
       "    </tr>\n",
       "  </tbody>\n",
       "</table>\n",
       "</div>"
      ],
      "text/plain": [
       "                  ride_id  rideable_type              started_at  \\\n",
       "1594323  7F02F9C9518DE899  electric_bike 2024-07-31 23:56:29.404   \n",
       "1217211  D8EA77522CDD0963  electric_bike 2024-07-31 23:55:00.044   \n",
       "1098968  95217BF2C770F4DE  electric_bike 2024-07-31 23:54:26.535   \n",
       "1028136  08C302BA8CA35FC2  electric_bike 2024-07-31 23:54:00.718   \n",
       "1253867  C4121F2D05CE827E  electric_bike 2024-07-31 23:53:36.244   \n",
       "1351965  51A1A9F12078A3A9  electric_bike 2024-07-31 23:53:25.120   \n",
       "1627284  F150109CFA419D6E  electric_bike 2024-07-31 23:53:13.100   \n",
       "1050922  AF0F739C3F723C91  electric_bike 2024-07-31 23:52:35.503   \n",
       "1085365  5916FA2F813E5E74  electric_bike 2024-07-31 23:52:31.416   \n",
       "1655166  6441AE460141DB52  electric_bike 2024-07-31 23:52:14.182   \n",
       "\n",
       "                       ended_at            start_station_name  \\\n",
       "1594323 2024-07-31 23:59:06.026               Montrose Harbor   \n",
       "1217211 2024-07-31 23:58:09.805      Wilton Ave & Belmont Ave   \n",
       "1098968 2024-07-31 23:57:52.119  Stetson Ave & South Water St   \n",
       "1028136 2024-07-31 23:55:50.961        State St & Chicago Ave   \n",
       "1253867 2024-07-31 23:56:48.209                           NaN   \n",
       "1351965 2024-07-31 23:57:01.391             Wells St & Elm St   \n",
       "1627284 2024-07-31 23:59:00.637                           NaN   \n",
       "1050922 2024-07-31 23:55:43.916   Halsted St & Wrightwood Ave   \n",
       "1085365 2024-07-31 23:55:21.415  Sheridan Rd & Irving Park Rd   \n",
       "1655166 2024-07-31 23:59:06.039    Clarendon Ave & Junior Ter   \n",
       "\n",
       "        start_station_id                 end_station_name end_station_id  \\\n",
       "1594323     TA1308000012                              NaN            NaN   \n",
       "1217211     TA1307000134                              NaN            NaN   \n",
       "1098968     TA1308000029  Cityfront Plaza Dr & Pioneer Ct          13427   \n",
       "1028136            21544                              NaN            NaN   \n",
       "1253867              NaN                              NaN            NaN   \n",
       "1351965     KA1504000135              Wells St & Huron St   TA1306000012   \n",
       "1627284              NaN           Clark St & Lincoln Ave          13179   \n",
       "1050922     TA1309000061                              NaN            NaN   \n",
       "1085365            13063                              NaN            NaN   \n",
       "1655166            13389    Pine Grove Ave & Waveland Ave   TA1307000150   \n",
       "\n",
       "         start_lat  start_lng    end_lat    end_lng member_casual  \n",
       "1594323  41.963982 -87.638181  41.960000 -87.640000        member  \n",
       "1217211  41.940232 -87.652944  41.950000 -87.650000        member  \n",
       "1098968  41.886835 -87.622320  41.890573 -87.622072        casual  \n",
       "1028136  41.896617 -87.628579  41.900000 -87.630000        casual  \n",
       "1253867  41.930000 -87.650000  41.930000 -87.650000        casual  \n",
       "1351965  41.903222 -87.634324  41.894722 -87.634362        casual  \n",
       "1627284  41.930000 -87.650000  41.915689 -87.634600        member  \n",
       "1050922  41.929143 -87.649077  41.930000 -87.650000        member  \n",
       "1085365  41.954245 -87.654406  41.960000 -87.650000        member  \n",
       "1655166  41.961004 -87.649603  41.949473 -87.646453        casual  "
      ]
     },
     "execution_count": 8,
     "metadata": {},
     "output_type": "execute_result"
    }
   ],
   "source": [
    "# Sorting by datetime, most recent first, to check that data has been properly imported and merged.\n",
    "df.sort_values('started_at', ascending = False).head(10)"
   ]
  },
  {
   "cell_type": "markdown",
   "metadata": {},
   "source": [
    "## Cleaning the data\n",
    "Next we will look for missing values and duplicates and figure out how to deal with them. "
   ]
  },
  {
   "cell_type": "code",
   "execution_count": 9,
   "metadata": {},
   "outputs": [
    {
     "data": {
      "text/plain": [
       "ride_id               False\n",
       "rideable_type         False\n",
       "started_at            False\n",
       "ended_at              False\n",
       "start_station_name     True\n",
       "start_station_id       True\n",
       "end_station_name       True\n",
       "end_station_id         True\n",
       "start_lat             False\n",
       "start_lng             False\n",
       "end_lat                True\n",
       "end_lng                True\n",
       "member_casual         False\n",
       "dtype: bool"
      ]
     },
     "execution_count": 9,
     "metadata": {},
     "output_type": "execute_result"
    }
   ],
   "source": [
    "# Checking if there are any missing values across each column\n",
    "\n",
    "df.isnull().any()"
   ]
  },
  {
   "cell_type": "code",
   "execution_count": 10,
   "metadata": {},
   "outputs": [
    {
     "data": {
      "text/plain": [
       "ride_id                    0\n",
       "rideable_type              0\n",
       "started_at                 0\n",
       "ended_at                   0\n",
       "start_station_name    947002\n",
       "start_station_id      947002\n",
       "end_station_name      989396\n",
       "end_station_id        989396\n",
       "start_lat                  0\n",
       "start_lng                  0\n",
       "end_lat                 7716\n",
       "end_lng                 7716\n",
       "member_casual              0\n",
       "dtype: int64"
      ]
     },
     "execution_count": 10,
     "metadata": {},
     "output_type": "execute_result"
    }
   ],
   "source": [
    "df.isna().sum()"
   ]
  },
  {
   "cell_type": "code",
   "execution_count": 11,
   "metadata": {},
   "outputs": [
    {
     "data": {
      "text/plain": [
       "<Axes: >"
      ]
     },
     "execution_count": 11,
     "metadata": {},
     "output_type": "execute_result"
    },
    {
     "data": {
      "image/png": "[encoded data removed]",
      "text/plain": [
       "<Figure size 2500x1000 with 3 Axes>"
      ]
     },
     "metadata": {},
     "output_type": "display_data"
    }
   ],
   "source": [
    "msno.bar(df)"
   ]
  },
  {
   "cell_type": "code",
   "execution_count": 12,
   "metadata": {},
   "outputs": [
    {
     "data": {
      "text/plain": [
       "<Axes: >"
      ]
     },
     "execution_count": 12,
     "metadata": {},
     "output_type": "execute_result"
    },
    {
     "data": {
      "image/png": "[encoded data removed]",
      "text/plain": [
       "<Figure size 2000x1200 with 2 Axes>"
      ]
     },
     "metadata": {},
     "output_type": "display_data"
    }
   ],
   "source": [
    "msno.heatmap(df, cmap='YlGnBu')"
   ]
  },
  {
   "cell_type": "code",
   "execution_count": 13,
   "metadata": {},
   "outputs": [
    {
     "data": {
      "text/plain": [
       "<Axes: >"
      ]
     },
     "execution_count": 13,
     "metadata": {},
     "output_type": "execute_result"
    },
    {
     "data": {
      "image/png": "[encoded data removed]",
      "text/plain": [
       "<Figure size 2500x1000 with 2 Axes>"
      ]
     },
     "metadata": {},
     "output_type": "display_data"
    }
   ],
   "source": [
    "msno.matrix(df)"
   ]
  },
  {
   "cell_type": "code",
   "execution_count": 14,
   "metadata": {},
   "outputs": [
    {
     "data": {
      "text/html": [
       "<div>\n",
       "<style scoped>\n",
       "    .dataframe tbody tr th:only-of-type {\n",
       "        vertical-align: middle;\n",
       "    }\n",
       "\n",
       "    .dataframe tbody tr th {\n",
       "        vertical-align: top;\n",
       "    }\n",
       "\n",
       "    .dataframe thead th {\n",
       "        text-align: right;\n",
       "    }\n",
       "</style>\n",
       "<table border=\"1\" class=\"dataframe\">\n",
       "  <thead>\n",
       "    <tr style=\"text-align: right;\">\n",
       "      <th></th>\n",
       "      <th>ride_id</th>\n",
       "      <th>rideable_type</th>\n",
       "      <th>started_at</th>\n",
       "      <th>ended_at</th>\n",
       "      <th>start_station_name</th>\n",
       "      <th>start_station_id</th>\n",
       "      <th>end_station_name</th>\n",
       "      <th>end_station_id</th>\n",
       "      <th>start_lat</th>\n",
       "      <th>start_lng</th>\n",
       "      <th>end_lat</th>\n",
       "      <th>end_lng</th>\n",
       "      <th>member_casual</th>\n",
       "    </tr>\n",
       "  </thead>\n",
       "  <tbody>\n",
       "    <tr>\n",
       "      <th>1236004</th>\n",
       "      <td>9FF3941D1DBC0027</td>\n",
       "      <td>electric_bike</td>\n",
       "      <td>2024-07-28 03:03:30.238</td>\n",
       "      <td>2024-07-28 03:28:19.572</td>\n",
       "      <td>Unknown</td>\n",
       "      <td>Unknown</td>\n",
       "      <td>Unknown</td>\n",
       "      <td>Unknown</td>\n",
       "      <td>41.92</td>\n",
       "      <td>-87.65</td>\n",
       "      <td>41.910000</td>\n",
       "      <td>-87.630000</td>\n",
       "      <td>casual</td>\n",
       "    </tr>\n",
       "    <tr>\n",
       "      <th>5330353</th>\n",
       "      <td>4C547E2634545405</td>\n",
       "      <td>electric_bike</td>\n",
       "      <td>2024-05-30 19:11:29.000</td>\n",
       "      <td>2024-05-30 19:32:31.000</td>\n",
       "      <td>Unknown</td>\n",
       "      <td>Unknown</td>\n",
       "      <td>Unknown</td>\n",
       "      <td>Unknown</td>\n",
       "      <td>41.93</td>\n",
       "      <td>-87.65</td>\n",
       "      <td>41.970000</td>\n",
       "      <td>-87.640000</td>\n",
       "      <td>casual</td>\n",
       "    </tr>\n",
       "    <tr>\n",
       "      <th>2955308</th>\n",
       "      <td>86E08FE2E67A8ED1</td>\n",
       "      <td>electric_bike</td>\n",
       "      <td>2024-03-10 19:07:24.000</td>\n",
       "      <td>2024-03-10 19:16:34.000</td>\n",
       "      <td>Unknown</td>\n",
       "      <td>Unknown</td>\n",
       "      <td>Unknown</td>\n",
       "      <td>Unknown</td>\n",
       "      <td>41.91</td>\n",
       "      <td>-87.68</td>\n",
       "      <td>41.930000</td>\n",
       "      <td>-87.700000</td>\n",
       "      <td>casual</td>\n",
       "    </tr>\n",
       "    <tr>\n",
       "      <th>4610206</th>\n",
       "      <td>159A9CEE54D94453</td>\n",
       "      <td>electric_bike</td>\n",
       "      <td>2024-06-23 19:46:25.895</td>\n",
       "      <td>2024-06-23 20:02:06.689</td>\n",
       "      <td>Unknown</td>\n",
       "      <td>Unknown</td>\n",
       "      <td>Shore Dr &amp; 55th St</td>\n",
       "      <td>TA1308000009</td>\n",
       "      <td>41.84</td>\n",
       "      <td>-87.61</td>\n",
       "      <td>41.795212</td>\n",
       "      <td>-87.580715</td>\n",
       "      <td>member</td>\n",
       "    </tr>\n",
       "    <tr>\n",
       "      <th>5136526</th>\n",
       "      <td>2146519AF5072999</td>\n",
       "      <td>electric_bike</td>\n",
       "      <td>2024-05-11 12:38:07.000</td>\n",
       "      <td>2024-05-11 12:51:09.000</td>\n",
       "      <td>Unknown</td>\n",
       "      <td>Unknown</td>\n",
       "      <td>Paulina Ave &amp; North Ave</td>\n",
       "      <td>TA1305000037</td>\n",
       "      <td>41.92</td>\n",
       "      <td>-87.63</td>\n",
       "      <td>41.909855</td>\n",
       "      <td>-87.669930</td>\n",
       "      <td>member</td>\n",
       "    </tr>\n",
       "    <tr>\n",
       "      <th>191156</th>\n",
       "      <td>E2980A5723EB5CAC</td>\n",
       "      <td>electric_bike</td>\n",
       "      <td>2023-10-27 16:46:50.000</td>\n",
       "      <td>2023-10-27 16:59:33.000</td>\n",
       "      <td>Unknown</td>\n",
       "      <td>Unknown</td>\n",
       "      <td>DuSable Lake Shore Dr &amp; Diversey Pkwy</td>\n",
       "      <td>TA1309000039</td>\n",
       "      <td>41.96</td>\n",
       "      <td>-87.65</td>\n",
       "      <td>41.932588</td>\n",
       "      <td>-87.636427</td>\n",
       "      <td>member</td>\n",
       "    </tr>\n",
       "    <tr>\n",
       "      <th>1527396</th>\n",
       "      <td>A82DF8673D5B4305</td>\n",
       "      <td>electric_bike</td>\n",
       "      <td>2024-07-17 19:41:37.881</td>\n",
       "      <td>2024-07-17 19:51:14.240</td>\n",
       "      <td>Unknown</td>\n",
       "      <td>Unknown</td>\n",
       "      <td>Field Blvd &amp; South Water St</td>\n",
       "      <td>15534</td>\n",
       "      <td>41.90</td>\n",
       "      <td>-87.63</td>\n",
       "      <td>41.886349</td>\n",
       "      <td>-87.617517</td>\n",
       "      <td>casual</td>\n",
       "    </tr>\n",
       "    <tr>\n",
       "      <th>1339002</th>\n",
       "      <td>EEC5BDB6CA43442D</td>\n",
       "      <td>electric_bike</td>\n",
       "      <td>2024-07-08 16:52:27.771</td>\n",
       "      <td>2024-07-08 17:00:01.782</td>\n",
       "      <td>Unknown</td>\n",
       "      <td>Unknown</td>\n",
       "      <td>Canal St &amp; Adams St</td>\n",
       "      <td>13011</td>\n",
       "      <td>41.89</td>\n",
       "      <td>-87.63</td>\n",
       "      <td>41.879255</td>\n",
       "      <td>-87.639904</td>\n",
       "      <td>member</td>\n",
       "    </tr>\n",
       "    <tr>\n",
       "      <th>3269392</th>\n",
       "      <td>1CE9121EB632A81B</td>\n",
       "      <td>electric_bike</td>\n",
       "      <td>2023-09-04 10:29:18.000</td>\n",
       "      <td>2023-09-04 10:36:30.000</td>\n",
       "      <td>Unknown</td>\n",
       "      <td>Unknown</td>\n",
       "      <td>Stave St &amp; Armitage Ave</td>\n",
       "      <td>13266</td>\n",
       "      <td>41.92</td>\n",
       "      <td>-87.71</td>\n",
       "      <td>41.917741</td>\n",
       "      <td>-87.691392</td>\n",
       "      <td>member</td>\n",
       "    </tr>\n",
       "    <tr>\n",
       "      <th>4645572</th>\n",
       "      <td>CE7035BAAA57625D</td>\n",
       "      <td>electric_bike</td>\n",
       "      <td>2024-06-25 18:27:13.379</td>\n",
       "      <td>2024-06-25 18:35:48.717</td>\n",
       "      <td>Unknown</td>\n",
       "      <td>Unknown</td>\n",
       "      <td>Kosciuszko Park</td>\n",
       "      <td>15643</td>\n",
       "      <td>41.95</td>\n",
       "      <td>-87.71</td>\n",
       "      <td>41.930585</td>\n",
       "      <td>-87.723777</td>\n",
       "      <td>member</td>\n",
       "    </tr>\n",
       "    <tr>\n",
       "      <th>5277223</th>\n",
       "      <td>ACA7CF6E18D68863</td>\n",
       "      <td>electric_bike</td>\n",
       "      <td>2024-05-05 14:10:04.000</td>\n",
       "      <td>2024-05-05 14:22:03.000</td>\n",
       "      <td>Unknown</td>\n",
       "      <td>Unknown</td>\n",
       "      <td>Damen Ave &amp; Wabansia Ave</td>\n",
       "      <td>20.0</td>\n",
       "      <td>41.92</td>\n",
       "      <td>-87.64</td>\n",
       "      <td>41.912281</td>\n",
       "      <td>-87.677321</td>\n",
       "      <td>member</td>\n",
       "    </tr>\n",
       "    <tr>\n",
       "      <th>3351043</th>\n",
       "      <td>B59E75A1D10778F9</td>\n",
       "      <td>electric_bike</td>\n",
       "      <td>2023-09-18 12:37:43.000</td>\n",
       "      <td>2023-09-18 13:03:37.000</td>\n",
       "      <td>Unknown</td>\n",
       "      <td>Unknown</td>\n",
       "      <td>Michigan Ave &amp; Washington St</td>\n",
       "      <td>13001</td>\n",
       "      <td>41.94</td>\n",
       "      <td>-87.64</td>\n",
       "      <td>41.883984</td>\n",
       "      <td>-87.624684</td>\n",
       "      <td>member</td>\n",
       "    </tr>\n",
       "    <tr>\n",
       "      <th>3904518</th>\n",
       "      <td>87D81A1FE4B32210</td>\n",
       "      <td>electric_bike</td>\n",
       "      <td>2023-12-06 07:12:04.000</td>\n",
       "      <td>2023-12-06 07:16:45.000</td>\n",
       "      <td>Unknown</td>\n",
       "      <td>Unknown</td>\n",
       "      <td>Halsted St &amp; Wrightwood Ave</td>\n",
       "      <td>TA1309000061</td>\n",
       "      <td>41.94</td>\n",
       "      <td>-87.64</td>\n",
       "      <td>41.929143</td>\n",
       "      <td>-87.649077</td>\n",
       "      <td>member</td>\n",
       "    </tr>\n",
       "    <tr>\n",
       "      <th>5010276</th>\n",
       "      <td>247E7EF30B7777DE</td>\n",
       "      <td>electric_bike</td>\n",
       "      <td>2024-05-11 11:03:09.000</td>\n",
       "      <td>2024-05-11 11:19:04.000</td>\n",
       "      <td>Unknown</td>\n",
       "      <td>Unknown</td>\n",
       "      <td>Unknown</td>\n",
       "      <td>Unknown</td>\n",
       "      <td>41.91</td>\n",
       "      <td>-87.65</td>\n",
       "      <td>41.930000</td>\n",
       "      <td>-87.640000</td>\n",
       "      <td>member</td>\n",
       "    </tr>\n",
       "    <tr>\n",
       "      <th>3679269</th>\n",
       "      <td>09CA414121E0B248</td>\n",
       "      <td>electric_bike</td>\n",
       "      <td>2023-09-05 20:26:54.000</td>\n",
       "      <td>2023-09-05 20:32:38.000</td>\n",
       "      <td>Unknown</td>\n",
       "      <td>Unknown</td>\n",
       "      <td>Halsted St &amp; Roscoe St</td>\n",
       "      <td>TA1309000025</td>\n",
       "      <td>41.93</td>\n",
       "      <td>-87.65</td>\n",
       "      <td>41.943670</td>\n",
       "      <td>-87.648950</td>\n",
       "      <td>casual</td>\n",
       "    </tr>\n",
       "    <tr>\n",
       "      <th>1864889</th>\n",
       "      <td>2F7B5A25EEE3B821</td>\n",
       "      <td>electric_bike</td>\n",
       "      <td>2023-08-06 20:34:56.000</td>\n",
       "      <td>2023-08-06 20:56:09.000</td>\n",
       "      <td>Unknown</td>\n",
       "      <td>Unknown</td>\n",
       "      <td>Shore Dr &amp; 55th St</td>\n",
       "      <td>TA1308000009</td>\n",
       "      <td>41.73</td>\n",
       "      <td>-87.55</td>\n",
       "      <td>41.795212</td>\n",
       "      <td>-87.580715</td>\n",
       "      <td>member</td>\n",
       "    </tr>\n",
       "    <tr>\n",
       "      <th>2459663</th>\n",
       "      <td>4010544EDF35FBFF</td>\n",
       "      <td>electric_bike</td>\n",
       "      <td>2023-08-10 09:32:28.000</td>\n",
       "      <td>2023-08-10 09:43:38.000</td>\n",
       "      <td>Unknown</td>\n",
       "      <td>Unknown</td>\n",
       "      <td>Unknown</td>\n",
       "      <td>Unknown</td>\n",
       "      <td>41.89</td>\n",
       "      <td>-87.64</td>\n",
       "      <td>41.880000</td>\n",
       "      <td>-87.640000</td>\n",
       "      <td>member</td>\n",
       "    </tr>\n",
       "    <tr>\n",
       "      <th>5611923</th>\n",
       "      <td>7420DDE7BE852027</td>\n",
       "      <td>electric_bike</td>\n",
       "      <td>2023-11-27 09:08:20.000</td>\n",
       "      <td>2023-11-27 09:14:42.000</td>\n",
       "      <td>Unknown</td>\n",
       "      <td>Unknown</td>\n",
       "      <td>Unknown</td>\n",
       "      <td>Unknown</td>\n",
       "      <td>41.90</td>\n",
       "      <td>-87.63</td>\n",
       "      <td>41.900000</td>\n",
       "      <td>-87.620000</td>\n",
       "      <td>casual</td>\n",
       "    </tr>\n",
       "    <tr>\n",
       "      <th>5004562</th>\n",
       "      <td>05BADF029A6BCB04</td>\n",
       "      <td>electric_bike</td>\n",
       "      <td>2024-05-20 17:53:50.000</td>\n",
       "      <td>2024-05-20 18:03:22.000</td>\n",
       "      <td>Unknown</td>\n",
       "      <td>Unknown</td>\n",
       "      <td>California Ave &amp; Milwaukee Ave</td>\n",
       "      <td>13084</td>\n",
       "      <td>41.94</td>\n",
       "      <td>-87.72</td>\n",
       "      <td>41.922695</td>\n",
       "      <td>-87.697153</td>\n",
       "      <td>casual</td>\n",
       "    </tr>\n",
       "    <tr>\n",
       "      <th>3686776</th>\n",
       "      <td>6373ECFC9ADE0BD1</td>\n",
       "      <td>electric_bike</td>\n",
       "      <td>2023-09-06 08:25:53.000</td>\n",
       "      <td>2023-09-06 08:55:47.000</td>\n",
       "      <td>Unknown</td>\n",
       "      <td>Unknown</td>\n",
       "      <td>Rush St &amp; Hubbard St</td>\n",
       "      <td>KA1503000044</td>\n",
       "      <td>41.92</td>\n",
       "      <td>-87.71</td>\n",
       "      <td>41.890173</td>\n",
       "      <td>-87.626185</td>\n",
       "      <td>member</td>\n",
       "    </tr>\n",
       "    <tr>\n",
       "      <th>725966</th>\n",
       "      <td>6ABF1E7124BB9163</td>\n",
       "      <td>electric_bike</td>\n",
       "      <td>2024-04-27 02:38:30.000</td>\n",
       "      <td>2024-04-27 02:42:54.000</td>\n",
       "      <td>Unknown</td>\n",
       "      <td>Unknown</td>\n",
       "      <td>Broadway &amp; Berwyn Ave</td>\n",
       "      <td>13109</td>\n",
       "      <td>41.98</td>\n",
       "      <td>-87.67</td>\n",
       "      <td>41.978361</td>\n",
       "      <td>-87.659789</td>\n",
       "      <td>casual</td>\n",
       "    </tr>\n",
       "    <tr>\n",
       "      <th>1256919</th>\n",
       "      <td>348C516C9A323E30</td>\n",
       "      <td>electric_bike</td>\n",
       "      <td>2024-07-03 15:52:37.069</td>\n",
       "      <td>2024-07-03 15:59:35.537</td>\n",
       "      <td>Unknown</td>\n",
       "      <td>Unknown</td>\n",
       "      <td>Unknown</td>\n",
       "      <td>Unknown</td>\n",
       "      <td>41.99</td>\n",
       "      <td>-87.66</td>\n",
       "      <td>42.000000</td>\n",
       "      <td>-87.660000</td>\n",
       "      <td>casual</td>\n",
       "    </tr>\n",
       "    <tr>\n",
       "      <th>2584491</th>\n",
       "      <td>7908FD41652A680A</td>\n",
       "      <td>electric_bike</td>\n",
       "      <td>2024-01-04 13:40:59.000</td>\n",
       "      <td>2024-01-04 13:47:58.000</td>\n",
       "      <td>Unknown</td>\n",
       "      <td>Unknown</td>\n",
       "      <td>Franklin St &amp; Jackson Blvd</td>\n",
       "      <td>TA1305000025</td>\n",
       "      <td>41.89</td>\n",
       "      <td>-87.63</td>\n",
       "      <td>41.877708</td>\n",
       "      <td>-87.635321</td>\n",
       "      <td>casual</td>\n",
       "    </tr>\n",
       "    <tr>\n",
       "      <th>948260</th>\n",
       "      <td>B8CCB392961DED19</td>\n",
       "      <td>electric_bike</td>\n",
       "      <td>2024-04-17 22:09:13.000</td>\n",
       "      <td>2024-04-17 22:14:32.000</td>\n",
       "      <td>Unknown</td>\n",
       "      <td>Unknown</td>\n",
       "      <td>Unknown</td>\n",
       "      <td>Unknown</td>\n",
       "      <td>41.79</td>\n",
       "      <td>-87.59</td>\n",
       "      <td>41.780000</td>\n",
       "      <td>-87.600000</td>\n",
       "      <td>member</td>\n",
       "    </tr>\n",
       "    <tr>\n",
       "      <th>5690589</th>\n",
       "      <td>3C02919F79BAA152</td>\n",
       "      <td>electric_bike</td>\n",
       "      <td>2023-11-03 08:42:38.000</td>\n",
       "      <td>2023-11-03 09:03:37.000</td>\n",
       "      <td>Unknown</td>\n",
       "      <td>Unknown</td>\n",
       "      <td>N Paulina St &amp; Lincoln Ave</td>\n",
       "      <td>20253.0</td>\n",
       "      <td>41.90</td>\n",
       "      <td>-87.69</td>\n",
       "      <td>41.943838</td>\n",
       "      <td>-87.671469</td>\n",
       "      <td>member</td>\n",
       "    </tr>\n",
       "    <tr>\n",
       "      <th>4653521</th>\n",
       "      <td>5B8D0B892928B576</td>\n",
       "      <td>electric_bike</td>\n",
       "      <td>2024-06-13 23:22:09.935</td>\n",
       "      <td>2024-06-13 23:25:52.353</td>\n",
       "      <td>Unknown</td>\n",
       "      <td>Unknown</td>\n",
       "      <td>Dearborn St &amp; Erie St</td>\n",
       "      <td>13045</td>\n",
       "      <td>41.89</td>\n",
       "      <td>-87.63</td>\n",
       "      <td>41.893992</td>\n",
       "      <td>-87.629318</td>\n",
       "      <td>member</td>\n",
       "    </tr>\n",
       "    <tr>\n",
       "      <th>1873505</th>\n",
       "      <td>51A60AF2C19E1635</td>\n",
       "      <td>electric_bike</td>\n",
       "      <td>2023-08-23 23:57:58.000</td>\n",
       "      <td>2023-08-24 00:32:06.000</td>\n",
       "      <td>Unknown</td>\n",
       "      <td>Unknown</td>\n",
       "      <td>Lakefront Trail &amp; Bryn Mawr Ave</td>\n",
       "      <td>15576</td>\n",
       "      <td>41.96</td>\n",
       "      <td>-87.64</td>\n",
       "      <td>41.984044</td>\n",
       "      <td>-87.652281</td>\n",
       "      <td>casual</td>\n",
       "    </tr>\n",
       "    <tr>\n",
       "      <th>499707</th>\n",
       "      <td>7C57AC2221B995E9</td>\n",
       "      <td>electric_bike</td>\n",
       "      <td>2023-10-28 00:41:13.000</td>\n",
       "      <td>2023-10-28 00:47:33.000</td>\n",
       "      <td>Unknown</td>\n",
       "      <td>Unknown</td>\n",
       "      <td>Unknown</td>\n",
       "      <td>Unknown</td>\n",
       "      <td>41.95</td>\n",
       "      <td>-87.65</td>\n",
       "      <td>41.960000</td>\n",
       "      <td>-87.650000</td>\n",
       "      <td>casual</td>\n",
       "    </tr>\n",
       "    <tr>\n",
       "      <th>478496</th>\n",
       "      <td>2FBF7EE6720F48FC</td>\n",
       "      <td>electric_bike</td>\n",
       "      <td>2023-10-08 10:02:59.000</td>\n",
       "      <td>2023-10-08 10:11:06.000</td>\n",
       "      <td>Unknown</td>\n",
       "      <td>Unknown</td>\n",
       "      <td>Unknown</td>\n",
       "      <td>Unknown</td>\n",
       "      <td>41.87</td>\n",
       "      <td>-87.65</td>\n",
       "      <td>41.860000</td>\n",
       "      <td>-87.650000</td>\n",
       "      <td>casual</td>\n",
       "    </tr>\n",
       "    <tr>\n",
       "      <th>225553</th>\n",
       "      <td>D5AE0A0C986E3171</td>\n",
       "      <td>electric_bike</td>\n",
       "      <td>2023-10-18 19:07:26.000</td>\n",
       "      <td>2023-10-18 19:09:04.000</td>\n",
       "      <td>Unknown</td>\n",
       "      <td>Unknown</td>\n",
       "      <td>Sheridan Rd &amp; Argyle St</td>\n",
       "      <td>13059</td>\n",
       "      <td>41.98</td>\n",
       "      <td>-87.66</td>\n",
       "      <td>41.973287</td>\n",
       "      <td>-87.654760</td>\n",
       "      <td>member</td>\n",
       "    </tr>\n",
       "  </tbody>\n",
       "</table>\n",
       "</div>"
      ],
      "text/plain": [
       "                  ride_id  rideable_type              started_at  \\\n",
       "1236004  9FF3941D1DBC0027  electric_bike 2024-07-28 03:03:30.238   \n",
       "5330353  4C547E2634545405  electric_bike 2024-05-30 19:11:29.000   \n",
       "2955308  86E08FE2E67A8ED1  electric_bike 2024-03-10 19:07:24.000   \n",
       "4610206  159A9CEE54D94453  electric_bike 2024-06-23 19:46:25.895   \n",
       "5136526  2146519AF5072999  electric_bike 2024-05-11 12:38:07.000   \n",
       "191156   E2980A5723EB5CAC  electric_bike 2023-10-27 16:46:50.000   \n",
       "1527396  A82DF8673D5B4305  electric_bike 2024-07-17 19:41:37.881   \n",
       "1339002  EEC5BDB6CA43442D  electric_bike 2024-07-08 16:52:27.771   \n",
       "3269392  1CE9121EB632A81B  electric_bike 2023-09-04 10:29:18.000   \n",
       "4645572  CE7035BAAA57625D  electric_bike 2024-06-25 18:27:13.379   \n",
       "5277223  ACA7CF6E18D68863  electric_bike 2024-05-05 14:10:04.000   \n",
       "3351043  B59E75A1D10778F9  electric_bike 2023-09-18 12:37:43.000   \n",
       "3904518  87D81A1FE4B32210  electric_bike 2023-12-06 07:12:04.000   \n",
       "5010276  247E7EF30B7777DE  electric_bike 2024-05-11 11:03:09.000   \n",
       "3679269  09CA414121E0B248  electric_bike 2023-09-05 20:26:54.000   \n",
       "1864889  2F7B5A25EEE3B821  electric_bike 2023-08-06 20:34:56.000   \n",
       "2459663  4010544EDF35FBFF  electric_bike 2023-08-10 09:32:28.000   \n",
       "5611923  7420DDE7BE852027  electric_bike 2023-11-27 09:08:20.000   \n",
       "5004562  05BADF029A6BCB04  electric_bike 2024-05-20 17:53:50.000   \n",
       "3686776  6373ECFC9ADE0BD1  electric_bike 2023-09-06 08:25:53.000   \n",
       "725966   6ABF1E7124BB9163  electric_bike 2024-04-27 02:38:30.000   \n",
       "1256919  348C516C9A323E30  electric_bike 2024-07-03 15:52:37.069   \n",
       "2584491  7908FD41652A680A  electric_bike 2024-01-04 13:40:59.000   \n",
       "948260   B8CCB392961DED19  electric_bike 2024-04-17 22:09:13.000   \n",
       "5690589  3C02919F79BAA152  electric_bike 2023-11-03 08:42:38.000   \n",
       "4653521  5B8D0B892928B576  electric_bike 2024-06-13 23:22:09.935   \n",
       "1873505  51A60AF2C19E1635  electric_bike 2023-08-23 23:57:58.000   \n",
       "499707   7C57AC2221B995E9  electric_bike 2023-10-28 00:41:13.000   \n",
       "478496   2FBF7EE6720F48FC  electric_bike 2023-10-08 10:02:59.000   \n",
       "225553   D5AE0A0C986E3171  electric_bike 2023-10-18 19:07:26.000   \n",
       "\n",
       "                       ended_at start_station_name start_station_id  \\\n",
       "1236004 2024-07-28 03:28:19.572            Unknown          Unknown   \n",
       "5330353 2024-05-30 19:32:31.000            Unknown          Unknown   \n",
       "2955308 2024-03-10 19:16:34.000            Unknown          Unknown   \n",
       "4610206 2024-06-23 20:02:06.689            Unknown          Unknown   \n",
       "5136526 2024-05-11 12:51:09.000            Unknown          Unknown   \n",
       "191156  2023-10-27 16:59:33.000            Unknown          Unknown   \n",
       "1527396 2024-07-17 19:51:14.240            Unknown          Unknown   \n",
       "1339002 2024-07-08 17:00:01.782            Unknown          Unknown   \n",
       "3269392 2023-09-04 10:36:30.000            Unknown          Unknown   \n",
       "4645572 2024-06-25 18:35:48.717            Unknown          Unknown   \n",
       "5277223 2024-05-05 14:22:03.000            Unknown          Unknown   \n",
       "3351043 2023-09-18 13:03:37.000            Unknown          Unknown   \n",
       "3904518 2023-12-06 07:16:45.000            Unknown          Unknown   \n",
       "5010276 2024-05-11 11:19:04.000            Unknown          Unknown   \n",
       "3679269 2023-09-05 20:32:38.000            Unknown          Unknown   \n",
       "1864889 2023-08-06 20:56:09.000            Unknown          Unknown   \n",
       "2459663 2023-08-10 09:43:38.000            Unknown          Unknown   \n",
       "5611923 2023-11-27 09:14:42.000            Unknown          Unknown   \n",
       "5004562 2024-05-20 18:03:22.000            Unknown          Unknown   \n",
       "3686776 2023-09-06 08:55:47.000            Unknown          Unknown   \n",
       "725966  2024-04-27 02:42:54.000            Unknown          Unknown   \n",
       "1256919 2024-07-03 15:59:35.537            Unknown          Unknown   \n",
       "2584491 2024-01-04 13:47:58.000            Unknown          Unknown   \n",
       "948260  2024-04-17 22:14:32.000            Unknown          Unknown   \n",
       "5690589 2023-11-03 09:03:37.000            Unknown          Unknown   \n",
       "4653521 2024-06-13 23:25:52.353            Unknown          Unknown   \n",
       "1873505 2023-08-24 00:32:06.000            Unknown          Unknown   \n",
       "499707  2023-10-28 00:47:33.000            Unknown          Unknown   \n",
       "478496  2023-10-08 10:11:06.000            Unknown          Unknown   \n",
       "225553  2023-10-18 19:09:04.000            Unknown          Unknown   \n",
       "\n",
       "                              end_station_name end_station_id  start_lat  \\\n",
       "1236004                                Unknown        Unknown      41.92   \n",
       "5330353                                Unknown        Unknown      41.93   \n",
       "2955308                                Unknown        Unknown      41.91   \n",
       "4610206                     Shore Dr & 55th St   TA1308000009      41.84   \n",
       "5136526                Paulina Ave & North Ave   TA1305000037      41.92   \n",
       "191156   DuSable Lake Shore Dr & Diversey Pkwy   TA1309000039      41.96   \n",
       "1527396            Field Blvd & South Water St          15534      41.90   \n",
       "1339002                    Canal St & Adams St          13011      41.89   \n",
       "3269392                Stave St & Armitage Ave          13266      41.92   \n",
       "4645572                        Kosciuszko Park          15643      41.95   \n",
       "5277223               Damen Ave & Wabansia Ave           20.0      41.92   \n",
       "3351043           Michigan Ave & Washington St          13001      41.94   \n",
       "3904518            Halsted St & Wrightwood Ave   TA1309000061      41.94   \n",
       "5010276                                Unknown        Unknown      41.91   \n",
       "3679269                 Halsted St & Roscoe St   TA1309000025      41.93   \n",
       "1864889                     Shore Dr & 55th St   TA1308000009      41.73   \n",
       "2459663                                Unknown        Unknown      41.89   \n",
       "5611923                                Unknown        Unknown      41.90   \n",
       "5004562         California Ave & Milwaukee Ave          13084      41.94   \n",
       "3686776                   Rush St & Hubbard St   KA1503000044      41.92   \n",
       "725966                   Broadway & Berwyn Ave          13109      41.98   \n",
       "1256919                                Unknown        Unknown      41.99   \n",
       "2584491             Franklin St & Jackson Blvd   TA1305000025      41.89   \n",
       "948260                                 Unknown        Unknown      41.79   \n",
       "5690589             N Paulina St & Lincoln Ave        20253.0      41.90   \n",
       "4653521                  Dearborn St & Erie St          13045      41.89   \n",
       "1873505        Lakefront Trail & Bryn Mawr Ave          15576      41.96   \n",
       "499707                                 Unknown        Unknown      41.95   \n",
       "478496                                 Unknown        Unknown      41.87   \n",
       "225553                 Sheridan Rd & Argyle St          13059      41.98   \n",
       "\n",
       "         start_lng    end_lat    end_lng member_casual  \n",
       "1236004     -87.65  41.910000 -87.630000        casual  \n",
       "5330353     -87.65  41.970000 -87.640000        casual  \n",
       "2955308     -87.68  41.930000 -87.700000        casual  \n",
       "4610206     -87.61  41.795212 -87.580715        member  \n",
       "5136526     -87.63  41.909855 -87.669930        member  \n",
       "191156      -87.65  41.932588 -87.636427        member  \n",
       "1527396     -87.63  41.886349 -87.617517        casual  \n",
       "1339002     -87.63  41.879255 -87.639904        member  \n",
       "3269392     -87.71  41.917741 -87.691392        member  \n",
       "4645572     -87.71  41.930585 -87.723777        member  \n",
       "5277223     -87.64  41.912281 -87.677321        member  \n",
       "3351043     -87.64  41.883984 -87.624684        member  \n",
       "3904518     -87.64  41.929143 -87.649077        member  \n",
       "5010276     -87.65  41.930000 -87.640000        member  \n",
       "3679269     -87.65  41.943670 -87.648950        casual  \n",
       "1864889     -87.55  41.795212 -87.580715        member  \n",
       "2459663     -87.64  41.880000 -87.640000        member  \n",
       "5611923     -87.63  41.900000 -87.620000        casual  \n",
       "5004562     -87.72  41.922695 -87.697153        casual  \n",
       "3686776     -87.71  41.890173 -87.626185        member  \n",
       "725966      -87.67  41.978361 -87.659789        casual  \n",
       "1256919     -87.66  42.000000 -87.660000        casual  \n",
       "2584491     -87.63  41.877708 -87.635321        casual  \n",
       "948260      -87.59  41.780000 -87.600000        member  \n",
       "5690589     -87.69  41.943838 -87.671469        member  \n",
       "4653521     -87.63  41.893992 -87.629318        member  \n",
       "1873505     -87.64  41.984044 -87.652281        casual  \n",
       "499707      -87.65  41.960000 -87.650000        casual  \n",
       "478496      -87.65  41.860000 -87.650000        casual  \n",
       "225553      -87.66  41.973287 -87.654760        member  "
      ]
     },
     "execution_count": 14,
     "metadata": {},
     "output_type": "execute_result"
    }
   ],
   "source": [
    "# Replacing missing values\n",
    "df['start_station_name'] = df['start_station_name'].fillna('Unknown')\n",
    "df['start_station_id'] = df['start_station_id'].fillna('Unknown')\n",
    "df['end_station_name'] = df['end_station_name'].fillna('Unknown')\n",
    "df['end_station_id'] = df['end_station_id'].fillna('Unknown')\n",
    "\n",
    "cd_u = df.loc[df['start_station_name'] == 'Unknown'].sample(n = 100)\n",
    "\n",
    "cd_u.head(30)"
   ]
  },
  {
   "cell_type": "code",
   "execution_count": 15,
   "metadata": {},
   "outputs": [
    {
     "data": {
      "application/vnd.plotly.v1+json": {
       "config": {
        "plotlyServerURL": "https://plot.ly"
       },
       "data": [
        {
         "geo": "geo",
         "hovertemplate": "start_lat=%{lat}<br>start_lng=%{lon}<extra></extra>",
         "lat": [
          41.92,
          41.93,
          41.91,
          41.84,
          41.92,
          41.96,
          41.9,
          41.89,
          41.92,
          41.95,
          41.92,
          41.94,
          41.94,
          41.91,
          41.93,
          41.73,
          41.89,
          41.9,
          41.94,
          41.92,
          41.98,
          41.99,
          41.89,
          41.79,
          41.9,
          41.89,
          41.96,
          41.95,
          41.87,
          41.98,
          41.93,
          41.85,
          41.87,
          41.91,
          41.89,
          41.86,
          41.87,
          41.88,
          41.78,
          41.91,
          41.95,
          41.89,
          41.79,
          41.87,
          41.93,
          41.89,
          41.93,
          41.94,
          41.91,
          41.87,
          41.91,
          42.02,
          41.92,
          41.93,
          41.94,
          41.95,
          41.93,
          41.91,
          41.91,
          41.97,
          41.99,
          41.91,
          41.88,
          41.92,
          41.8,
          41.89,
          42.05,
          41.88,
          41.9,
          41.85,
          41.89,
          41.96,
          41.94,
          41.95,
          41.85,
          41.92,
          41.93,
          41.83,
          41.95,
          41.96,
          41.89,
          41.86,
          41.95,
          41.94,
          41.92,
          41.87,
          41.99,
          41.9,
          41.92,
          41.89,
          41.91,
          41.88,
          41.79,
          41.92,
          41.92,
          41.88,
          41.94,
          41.9,
          41.87,
          41.96
         ],
         "legendgroup": "",
         "lon": [
          -87.65,
          -87.65,
          -87.68,
          -87.61,
          -87.63,
          -87.65,
          -87.63,
          -87.63,
          -87.71,
          -87.71,
          -87.64,
          -87.64,
          -87.64,
          -87.65,
          -87.65,
          -87.55,
          -87.64,
          -87.63,
          -87.72,
          -87.71,
          -87.67,
          -87.66,
          -87.63,
          -87.59,
          -87.69,
          -87.63,
          -87.64,
          -87.65,
          -87.65,
          -87.66,
          -87.64,
          -87.64,
          -87.62,
          -87.65,
          -87.63,
          -87.66,
          -87.63,
          -87.64,
          -87.57,
          -87.68,
          -87.66,
          -87.63,
          -87.6,
          -87.63,
          -87.66,
          -87.68,
          -87.66,
          -87.64,
          -87.67,
          -87.74,
          -87.64,
          -87.68,
          -87.66,
          -87.64,
          -87.68,
          -87.66,
          -87.65,
          -87.68,
          -87.7,
          -87.75,
          -87.66,
          -87.7,
          -87.64,
          -87.7,
          -87.6,
          -87.63,
          -87.67,
          -87.63,
          -87.63,
          -87.72,
          -87.63,
          -87.68,
          -87.64,
          -87.72,
          -87.65,
          -87.72,
          -87.65,
          -87.65,
          -87.65,
          -87.67,
          -87.68,
          -87.65,
          -87.66,
          -87.67,
          -87.76,
          -87.63,
          -87.67,
          -87.63,
          -87.69,
          -87.62,
          -87.65,
          -87.64,
          -87.6,
          -87.63,
          -87.65,
          -87.65,
          -87.64,
          -87.63,
          -87.69,
          -87.67
         ],
         "marker": {
          "color": "#636efa",
          "symbol": "circle"
         },
         "mode": "markers",
         "name": "",
         "showlegend": false,
         "type": "scattergeo"
        }
       ],
       "layout": {
        "geo": {
         "center": {},
         "domain": {
          "x": [
           0,
           1
          ],
          "y": [
           0,
           1
          ]
         }
        },
        "legend": {
         "tracegroupgap": 0
        },
        "template": {
         "data": {
          "bar": [
           {
            "error_x": {
             "color": "#2a3f5f"
            },
            "error_y": {
             "color": "#2a3f5f"
            },
            "marker": {
             "line": {
              "color": "#E5ECF6",
              "width": 0.5
             },
             "pattern": {
              "fillmode": "overlay",
              "size": 10,
              "solidity": 0.2
             }
            },
            "type": "bar"
           }
          ],
          "barpolar": [
           {
            "marker": {
             "line": {
              "color": "#E5ECF6",
              "width": 0.5
             },
             "pattern": {
              "fillmode": "overlay",
              "size": 10,
              "solidity": 0.2
             }
            },
            "type": "barpolar"
           }
          ],
          "carpet": [
           {
            "aaxis": {
             "endlinecolor": "#2a3f5f",
             "gridcolor": "white",
             "linecolor": "white",
             "minorgridcolor": "white",
             "startlinecolor": "#2a3f5f"
            },
            "baxis": {
             "endlinecolor": "#2a3f5f",
             "gridcolor": "white",
             "linecolor": "white",
             "minorgridcolor": "white",
             "startlinecolor": "#2a3f5f"
            },
            "type": "carpet"
           }
          ],
          "choropleth": [
           {
            "colorbar": {
             "outlinewidth": 0,
             "ticks": ""
            },
            "type": "choropleth"
           }
          ],
          "contour": [
           {
            "colorbar": {
             "outlinewidth": 0,
             "ticks": ""
            },
            "colorscale": [
             [
              0,
              "#0d0887"
             ],
             [
              0.1111111111111111,
              "#46039f"
             ],
             [
              0.2222222222222222,
              "#7201a8"
             ],
             [
              0.3333333333333333,
              "#9c179e"
             ],
             [
              0.4444444444444444,
              "#bd3786"
             ],
             [
              0.5555555555555556,
              "#d8576b"
             ],
             [
              0.6666666666666666,
              "#ed7953"
             ],
             [
              0.7777777777777778,
              "#fb9f3a"
             ],
             [
              0.8888888888888888,
              "#fdca26"
             ],
             [
              1,
              "#f0f921"
             ]
            ],
            "type": "contour"
           }
          ],
          "contourcarpet": [
           {
            "colorbar": {
             "outlinewidth": 0,
             "ticks": ""
            },
            "type": "contourcarpet"
           }
          ],
          "heatmap": [
           {
            "colorbar": {
             "outlinewidth": 0,
             "ticks": ""
            },
            "colorscale": [
             [
              0,
              "#0d0887"
             ],
             [
              0.1111111111111111,
              "#46039f"
             ],
             [
              0.2222222222222222,
              "#7201a8"
             ],
             [
              0.3333333333333333,
              "#9c179e"
             ],
             [
              0.4444444444444444,
              "#bd3786"
             ],
             [
              0.5555555555555556,
              "#d8576b"
             ],
             [
              0.6666666666666666,
              "#ed7953"
             ],
             [
              0.7777777777777778,
              "#fb9f3a"
             ],
             [
              0.8888888888888888,
              "#fdca26"
             ],
             [
              1,
              "#f0f921"
             ]
            ],
            "type": "heatmap"
           }
          ],
          "heatmapgl": [
           {
            "colorbar": {
             "outlinewidth": 0,
             "ticks": ""
            },
            "colorscale": [
             [
              0,
              "#0d0887"
             ],
             [
              0.1111111111111111,
              "#46039f"
             ],
             [
              0.2222222222222222,
              "#7201a8"
             ],
             [
              0.3333333333333333,
              "#9c179e"
             ],
             [
              0.4444444444444444,
              "#bd3786"
             ],
             [
              0.5555555555555556,
              "#d8576b"
             ],
             [
              0.6666666666666666,
              "#ed7953"
             ],
             [
              0.7777777777777778,
              "#fb9f3a"
             ],
             [
              0.8888888888888888,
              "#fdca26"
             ],
             [
              1,
              "#f0f921"
             ]
            ],
            "type": "heatmapgl"
           }
          ],
          "histogram": [
           {
            "marker": {
             "pattern": {
              "fillmode": "overlay",
              "size": 10,
              "solidity": 0.2
             }
            },
            "type": "histogram"
           }
          ],
          "histogram2d": [
           {
            "colorbar": {
             "outlinewidth": 0,
             "ticks": ""
            },
            "colorscale": [
             [
              0,
              "#0d0887"
             ],
             [
              0.1111111111111111,
              "#46039f"
             ],
             [
              0.2222222222222222,
              "#7201a8"
             ],
             [
              0.3333333333333333,
              "#9c179e"
             ],
             [
              0.4444444444444444,
              "#bd3786"
             ],
             [
              0.5555555555555556,
              "#d8576b"
             ],
             [
              0.6666666666666666,
              "#ed7953"
             ],
             [
              0.7777777777777778,
              "#fb9f3a"
             ],
             [
              0.8888888888888888,
              "#fdca26"
             ],
             [
              1,
              "#f0f921"
             ]
            ],
            "type": "histogram2d"
           }
          ],
          "histogram2dcontour": [
           {
            "colorbar": {
             "outlinewidth": 0,
             "ticks": ""
            },
            "colorscale": [
             [
              0,
              "#0d0887"
             ],
             [
              0.1111111111111111,
              "#46039f"
             ],
             [
              0.2222222222222222,
              "#7201a8"
             ],
             [
              0.3333333333333333,
              "#9c179e"
             ],
             [
              0.4444444444444444,
              "#bd3786"
             ],
             [
              0.5555555555555556,
              "#d8576b"
             ],
             [
              0.6666666666666666,
              "#ed7953"
             ],
             [
              0.7777777777777778,
              "#fb9f3a"
             ],
             [
              0.8888888888888888,
              "#fdca26"
             ],
             [
              1,
              "#f0f921"
             ]
            ],
            "type": "histogram2dcontour"
           }
          ],
          "mesh3d": [
           {
            "colorbar": {
             "outlinewidth": 0,
             "ticks": ""
            },
            "type": "mesh3d"
           }
          ],
          "parcoords": [
           {
            "line": {
             "colorbar": {
              "outlinewidth": 0,
              "ticks": ""
             }
            },
            "type": "parcoords"
           }
          ],
          "pie": [
           {
            "automargin": true,
            "type": "pie"
           }
          ],
          "scatter": [
           {
            "fillpattern": {
             "fillmode": "overlay",
             "size": 10,
             "solidity": 0.2
            },
            "type": "scatter"
           }
          ],
          "scatter3d": [
           {
            "line": {
             "colorbar": {
              "outlinewidth": 0,
              "ticks": ""
             }
            },
            "marker": {
             "colorbar": {
              "outlinewidth": 0,
              "ticks": ""
             }
            },
            "type": "scatter3d"
           }
          ],
          "scattercarpet": [
           {
            "marker": {
             "colorbar": {
              "outlinewidth": 0,
              "ticks": ""
             }
            },
            "type": "scattercarpet"
           }
          ],
          "scattergeo": [
           {
            "marker": {
             "colorbar": {
              "outlinewidth": 0,
              "ticks": ""
             }
            },
            "type": "scattergeo"
           }
          ],
          "scattergl": [
           {
            "marker": {
             "colorbar": {
              "outlinewidth": 0,
              "ticks": ""
             }
            },
            "type": "scattergl"
           }
          ],
          "scattermapbox": [
           {
            "marker": {
             "colorbar": {
              "outlinewidth": 0,
              "ticks": ""
             }
            },
            "type": "scattermapbox"
           }
          ],
          "scatterpolar": [
           {
            "marker": {
             "colorbar": {
              "outlinewidth": 0,
              "ticks": ""
             }
            },
            "type": "scatterpolar"
           }
          ],
          "scatterpolargl": [
           {
            "marker": {
             "colorbar": {
              "outlinewidth": 0,
              "ticks": ""
             }
            },
            "type": "scatterpolargl"
           }
          ],
          "scatterternary": [
           {
            "marker": {
             "colorbar": {
              "outlinewidth": 0,
              "ticks": ""
             }
            },
            "type": "scatterternary"
           }
          ],
          "surface": [
           {
            "colorbar": {
             "outlinewidth": 0,
             "ticks": ""
            },
            "colorscale": [
             [
              0,
              "#0d0887"
             ],
             [
              0.1111111111111111,
              "#46039f"
             ],
             [
              0.2222222222222222,
              "#7201a8"
             ],
             [
              0.3333333333333333,
              "#9c179e"
             ],
             [
              0.4444444444444444,
              "#bd3786"
             ],
             [
              0.5555555555555556,
              "#d8576b"
             ],
             [
              0.6666666666666666,
              "#ed7953"
             ],
             [
              0.7777777777777778,
              "#fb9f3a"
             ],
             [
              0.8888888888888888,
              "#fdca26"
             ],
             [
              1,
              "#f0f921"
             ]
            ],
            "type": "surface"
           }
          ],
          "table": [
           {
            "cells": {
             "fill": {
              "color": "#EBF0F8"
             },
             "line": {
              "color": "white"
             }
            },
            "header": {
             "fill": {
              "color": "#C8D4E3"
             },
             "line": {
              "color": "white"
             }
            },
            "type": "table"
           }
          ]
         },
         "layout": {
          "annotationdefaults": {
           "arrowcolor": "#2a3f5f",
           "arrowhead": 0,
           "arrowwidth": 1
          },
          "autotypenumbers": "strict",
          "coloraxis": {
           "colorbar": {
            "outlinewidth": 0,
            "ticks": ""
           }
          },
          "colorscale": {
           "diverging": [
            [
             0,
             "#8e0152"
            ],
            [
             0.1,
             "#c51b7d"
            ],
            [
             0.2,
             "#de77ae"
            ],
            [
             0.3,
             "#f1b6da"
            ],
            [
             0.4,
             "#fde0ef"
            ],
            [
             0.5,
             "#f7f7f7"
            ],
            [
             0.6,
             "#e6f5d0"
            ],
            [
             0.7,
             "#b8e186"
            ],
            [
             0.8,
             "#7fbc41"
            ],
            [
             0.9,
             "#4d9221"
            ],
            [
             1,
             "#276419"
            ]
           ],
           "sequential": [
            [
             0,
             "#0d0887"
            ],
            [
             0.1111111111111111,
             "#46039f"
            ],
            [
             0.2222222222222222,
             "#7201a8"
            ],
            [
             0.3333333333333333,
             "#9c179e"
            ],
            [
             0.4444444444444444,
             "#bd3786"
            ],
            [
             0.5555555555555556,
             "#d8576b"
            ],
            [
             0.6666666666666666,
             "#ed7953"
            ],
            [
             0.7777777777777778,
             "#fb9f3a"
            ],
            [
             0.8888888888888888,
             "#fdca26"
            ],
            [
             1,
             "#f0f921"
            ]
           ],
           "sequentialminus": [
            [
             0,
             "#0d0887"
            ],
            [
             0.1111111111111111,
             "#46039f"
            ],
            [
             0.2222222222222222,
             "#7201a8"
            ],
            [
             0.3333333333333333,
             "#9c179e"
            ],
            [
             0.4444444444444444,
             "#bd3786"
            ],
            [
             0.5555555555555556,
             "#d8576b"
            ],
            [
             0.6666666666666666,
             "#ed7953"
            ],
            [
             0.7777777777777778,
             "#fb9f3a"
            ],
            [
             0.8888888888888888,
             "#fdca26"
            ],
            [
             1,
             "#f0f921"
            ]
           ]
          },
          "colorway": [
           "#636efa",
           "#EF553B",
           "#00cc96",
           "#ab63fa",
           "#FFA15A",
           "#19d3f3",
           "#FF6692",
           "#B6E880",
           "#FF97FF",
           "#FECB52"
          ],
          "font": {
           "color": "#2a3f5f"
          },
          "geo": {
           "bgcolor": "white",
           "lakecolor": "white",
           "landcolor": "#E5ECF6",
           "showlakes": true,
           "showland": true,
           "subunitcolor": "white"
          },
          "hoverlabel": {
           "align": "left"
          },
          "hovermode": "closest",
          "mapbox": {
           "style": "light"
          },
          "paper_bgcolor": "white",
          "plot_bgcolor": "#E5ECF6",
          "polar": {
           "angularaxis": {
            "gridcolor": "white",
            "linecolor": "white",
            "ticks": ""
           },
           "bgcolor": "#E5ECF6",
           "radialaxis": {
            "gridcolor": "white",
            "linecolor": "white",
            "ticks": ""
           }
          },
          "scene": {
           "xaxis": {
            "backgroundcolor": "#E5ECF6",
            "gridcolor": "white",
            "gridwidth": 2,
            "linecolor": "white",
            "showbackground": true,
            "ticks": "",
            "zerolinecolor": "white"
           },
           "yaxis": {
            "backgroundcolor": "#E5ECF6",
            "gridcolor": "white",
            "gridwidth": 2,
            "linecolor": "white",
            "showbackground": true,
            "ticks": "",
            "zerolinecolor": "white"
           },
           "zaxis": {
            "backgroundcolor": "#E5ECF6",
            "gridcolor": "white",
            "gridwidth": 2,
            "linecolor": "white",
            "showbackground": true,
            "ticks": "",
            "zerolinecolor": "white"
           }
          },
          "shapedefaults": {
           "line": {
            "color": "#2a3f5f"
           }
          },
          "ternary": {
           "aaxis": {
            "gridcolor": "white",
            "linecolor": "white",
            "ticks": ""
           },
           "baxis": {
            "gridcolor": "white",
            "linecolor": "white",
            "ticks": ""
           },
           "bgcolor": "#E5ECF6",
           "caxis": {
            "gridcolor": "white",
            "linecolor": "white",
            "ticks": ""
           }
          },
          "title": {
           "x": 0.05
          },
          "xaxis": {
           "automargin": true,
           "gridcolor": "white",
           "linecolor": "white",
           "ticks": "",
           "title": {
            "standoff": 15
           },
           "zerolinecolor": "white",
           "zerolinewidth": 2
          },
          "yaxis": {
           "automargin": true,
           "gridcolor": "white",
           "linecolor": "white",
           "ticks": "",
           "title": {
            "standoff": 15
           },
           "zerolinecolor": "white",
           "zerolinewidth": 2
          }
         }
        },
        "title": {
         "text": "Unknown Start Station Name"
        }
       }
      }
     },
     "metadata": {},
     "output_type": "display_data"
    }
   ],
   "source": [
    "fig = px.scatter_geo(cd_u, lat='start_lat', lon='start_lng',\n",
    "                     title='Unknown Start Station Name')\n",
    "fig.show()"
   ]
  },
  {
   "cell_type": "code",
   "execution_count": 16,
   "metadata": {},
   "outputs": [
    {
     "data": {
      "text/plain": [
       "start_station_name\n",
       "Streeter Dr & Grand Ave                  63675\n",
       "DuSable Lake Shore Dr & Monroe St        41624\n",
       "Michigan Ave & Oak St                    38367\n",
       "DuSable Lake Shore Dr & North Blvd       37837\n",
       "Kingsbury St & Kinzie St                 35995\n",
       "                                         ...  \n",
       "Public Rack - Horner & 85th                  1\n",
       "Public Rack - Princeton Ave & 99th Pl        1\n",
       "Public Rack - Ewing Ave & 96th St S          1\n",
       "Public Rack - Ashland Ave & 45th St          1\n",
       "Public Rack - Pulaski & 84th                 1\n",
       "Name: count, Length: 1705, dtype: int64"
      ]
     },
     "execution_count": 16,
     "metadata": {},
     "output_type": "execute_result"
    }
   ],
   "source": [
    "df['start_station_name'].loc[df['start_station_name'] != 'Unknown'].value_counts()"
   ]
  },
  {
   "cell_type": "code",
   "execution_count": 17,
   "metadata": {},
   "outputs": [
    {
     "data": {
      "text/plain": [
       "0   0 days 00:12:53\n",
       "1   0 days 00:12:09\n",
       "2   0 days 00:04:20\n",
       "3   0 days 00:05:26\n",
       "4   0 days 00:11:30\n",
       "Name: duration, dtype: timedelta64[ns]"
      ]
     },
     "execution_count": 17,
     "metadata": {},
     "output_type": "execute_result"
    }
   ],
   "source": [
    "d1 = df['started_at']\n",
    "d2 = df['ended_at']\n",
    "\n",
    "diff = d2-d1\n",
    "df['duration'] = diff\n",
    "df['duration'].head()"
   ]
  },
  {
   "cell_type": "code",
   "execution_count": 18,
   "metadata": {},
   "outputs": [
    {
     "data": {
      "text/html": [
       "<div>\n",
       "<style scoped>\n",
       "    .dataframe tbody tr th:only-of-type {\n",
       "        vertical-align: middle;\n",
       "    }\n",
       "\n",
       "    .dataframe tbody tr th {\n",
       "        vertical-align: top;\n",
       "    }\n",
       "\n",
       "    .dataframe thead th {\n",
       "        text-align: right;\n",
       "    }\n",
       "</style>\n",
       "<table border=\"1\" class=\"dataframe\">\n",
       "  <thead>\n",
       "    <tr style=\"text-align: right;\">\n",
       "      <th></th>\n",
       "      <th>ride_id</th>\n",
       "      <th>rideable_type</th>\n",
       "      <th>started_at</th>\n",
       "      <th>ended_at</th>\n",
       "      <th>start_station_name</th>\n",
       "      <th>start_station_id</th>\n",
       "      <th>end_station_name</th>\n",
       "      <th>end_station_id</th>\n",
       "      <th>start_lat</th>\n",
       "      <th>start_lng</th>\n",
       "      <th>end_lat</th>\n",
       "      <th>end_lng</th>\n",
       "      <th>member_casual</th>\n",
       "      <th>duration</th>\n",
       "    </tr>\n",
       "  </thead>\n",
       "  <tbody>\n",
       "    <tr>\n",
       "      <th>0</th>\n",
       "      <td>4449097279F8BBE7</td>\n",
       "      <td>classic_bike</td>\n",
       "      <td>2023-10-08 10:36:26</td>\n",
       "      <td>2023-10-08 10:49:19</td>\n",
       "      <td>Orleans St &amp; Chestnut St (NEXT Apts)</td>\n",
       "      <td>620</td>\n",
       "      <td>Sheffield Ave &amp; Webster Ave</td>\n",
       "      <td>TA1309000033</td>\n",
       "      <td>41.898203</td>\n",
       "      <td>-87.637536</td>\n",
       "      <td>41.921540</td>\n",
       "      <td>-87.653818</td>\n",
       "      <td>member</td>\n",
       "      <td>0 days 00:12:53</td>\n",
       "    </tr>\n",
       "    <tr>\n",
       "      <th>1</th>\n",
       "      <td>9CF060543CA7B439</td>\n",
       "      <td>electric_bike</td>\n",
       "      <td>2023-10-11 17:23:59</td>\n",
       "      <td>2023-10-11 17:36:08</td>\n",
       "      <td>Desplaines St &amp; Kinzie St</td>\n",
       "      <td>TA1306000003</td>\n",
       "      <td>Sheffield Ave &amp; Webster Ave</td>\n",
       "      <td>TA1309000033</td>\n",
       "      <td>41.888641</td>\n",
       "      <td>-87.644415</td>\n",
       "      <td>41.921540</td>\n",
       "      <td>-87.653818</td>\n",
       "      <td>member</td>\n",
       "      <td>0 days 00:12:09</td>\n",
       "    </tr>\n",
       "    <tr>\n",
       "      <th>2</th>\n",
       "      <td>667F21F4D6BDE69C</td>\n",
       "      <td>electric_bike</td>\n",
       "      <td>2023-10-12 07:02:33</td>\n",
       "      <td>2023-10-12 07:06:53</td>\n",
       "      <td>Orleans St &amp; Chestnut St (NEXT Apts)</td>\n",
       "      <td>620</td>\n",
       "      <td>Franklin St &amp; Lake St</td>\n",
       "      <td>TA1307000111</td>\n",
       "      <td>41.898073</td>\n",
       "      <td>-87.637514</td>\n",
       "      <td>41.885837</td>\n",
       "      <td>-87.635500</td>\n",
       "      <td>member</td>\n",
       "      <td>0 days 00:04:20</td>\n",
       "    </tr>\n",
       "    <tr>\n",
       "      <th>3</th>\n",
       "      <td>F92714CC6B019B96</td>\n",
       "      <td>classic_bike</td>\n",
       "      <td>2023-10-24 19:13:03</td>\n",
       "      <td>2023-10-24 19:18:29</td>\n",
       "      <td>Desplaines St &amp; Kinzie St</td>\n",
       "      <td>TA1306000003</td>\n",
       "      <td>Franklin St &amp; Lake St</td>\n",
       "      <td>TA1307000111</td>\n",
       "      <td>41.888716</td>\n",
       "      <td>-87.644448</td>\n",
       "      <td>41.885837</td>\n",
       "      <td>-87.635500</td>\n",
       "      <td>member</td>\n",
       "      <td>0 days 00:05:26</td>\n",
       "    </tr>\n",
       "    <tr>\n",
       "      <th>4</th>\n",
       "      <td>5E34BA5DE945A9CC</td>\n",
       "      <td>classic_bike</td>\n",
       "      <td>2023-10-09 18:19:26</td>\n",
       "      <td>2023-10-09 18:30:56</td>\n",
       "      <td>Desplaines St &amp; Kinzie St</td>\n",
       "      <td>TA1306000003</td>\n",
       "      <td>Franklin St &amp; Lake St</td>\n",
       "      <td>TA1307000111</td>\n",
       "      <td>41.888716</td>\n",
       "      <td>-87.644448</td>\n",
       "      <td>41.885837</td>\n",
       "      <td>-87.635500</td>\n",
       "      <td>member</td>\n",
       "      <td>0 days 00:11:30</td>\n",
       "    </tr>\n",
       "  </tbody>\n",
       "</table>\n",
       "</div>"
      ],
      "text/plain": [
       "            ride_id  rideable_type          started_at            ended_at  \\\n",
       "0  4449097279F8BBE7   classic_bike 2023-10-08 10:36:26 2023-10-08 10:49:19   \n",
       "1  9CF060543CA7B439  electric_bike 2023-10-11 17:23:59 2023-10-11 17:36:08   \n",
       "2  667F21F4D6BDE69C  electric_bike 2023-10-12 07:02:33 2023-10-12 07:06:53   \n",
       "3  F92714CC6B019B96   classic_bike 2023-10-24 19:13:03 2023-10-24 19:18:29   \n",
       "4  5E34BA5DE945A9CC   classic_bike 2023-10-09 18:19:26 2023-10-09 18:30:56   \n",
       "\n",
       "                     start_station_name start_station_id  \\\n",
       "0  Orleans St & Chestnut St (NEXT Apts)              620   \n",
       "1             Desplaines St & Kinzie St     TA1306000003   \n",
       "2  Orleans St & Chestnut St (NEXT Apts)              620   \n",
       "3             Desplaines St & Kinzie St     TA1306000003   \n",
       "4             Desplaines St & Kinzie St     TA1306000003   \n",
       "\n",
       "              end_station_name end_station_id  start_lat  start_lng  \\\n",
       "0  Sheffield Ave & Webster Ave   TA1309000033  41.898203 -87.637536   \n",
       "1  Sheffield Ave & Webster Ave   TA1309000033  41.888641 -87.644415   \n",
       "2        Franklin St & Lake St   TA1307000111  41.898073 -87.637514   \n",
       "3        Franklin St & Lake St   TA1307000111  41.888716 -87.644448   \n",
       "4        Franklin St & Lake St   TA1307000111  41.888716 -87.644448   \n",
       "\n",
       "     end_lat    end_lng member_casual        duration  \n",
       "0  41.921540 -87.653818        member 0 days 00:12:53  \n",
       "1  41.921540 -87.653818        member 0 days 00:12:09  \n",
       "2  41.885837 -87.635500        member 0 days 00:04:20  \n",
       "3  41.885837 -87.635500        member 0 days 00:05:26  \n",
       "4  41.885837 -87.635500        member 0 days 00:11:30  "
      ]
     },
     "execution_count": 18,
     "metadata": {},
     "output_type": "execute_result"
    }
   ],
   "source": [
    "df.head()"
   ]
  },
  {
   "cell_type": "code",
   "execution_count": 19,
   "metadata": {},
   "outputs": [
    {
     "data": {
      "text/html": [
       "<div>\n",
       "<style scoped>\n",
       "    .dataframe tbody tr th:only-of-type {\n",
       "        vertical-align: middle;\n",
       "    }\n",
       "\n",
       "    .dataframe tbody tr th {\n",
       "        vertical-align: top;\n",
       "    }\n",
       "\n",
       "    .dataframe thead th {\n",
       "        text-align: right;\n",
       "    }\n",
       "</style>\n",
       "<table border=\"1\" class=\"dataframe\">\n",
       "  <thead>\n",
       "    <tr style=\"text-align: right;\">\n",
       "      <th></th>\n",
       "      <th>ride_id</th>\n",
       "      <th>rideable_type</th>\n",
       "      <th>started_at</th>\n",
       "      <th>ended_at</th>\n",
       "      <th>start_station_name</th>\n",
       "      <th>start_station_id</th>\n",
       "      <th>end_station_name</th>\n",
       "      <th>end_station_id</th>\n",
       "      <th>start_lat</th>\n",
       "      <th>start_lng</th>\n",
       "      <th>end_lat</th>\n",
       "      <th>end_lng</th>\n",
       "      <th>member_casual</th>\n",
       "      <th>duration</th>\n",
       "    </tr>\n",
       "  </thead>\n",
       "  <tbody>\n",
       "    <tr>\n",
       "      <th>2448719</th>\n",
       "      <td>992B647C22E22513</td>\n",
       "      <td>docked_bike</td>\n",
       "      <td>2023-08-02 19:27:12</td>\n",
       "      <td>2023-10-10 04:56:16</td>\n",
       "      <td>Campbell Ave &amp; Montrose Ave</td>\n",
       "      <td>15623</td>\n",
       "      <td>Unknown</td>\n",
       "      <td>Unknown</td>\n",
       "      <td>41.961484</td>\n",
       "      <td>-87.692321</td>\n",
       "      <td>NaN</td>\n",
       "      <td>NaN</td>\n",
       "      <td>casual</td>\n",
       "      <td>68 days 09:29:04</td>\n",
       "    </tr>\n",
       "    <tr>\n",
       "      <th>1731692</th>\n",
       "      <td>24154619AEE96E2C</td>\n",
       "      <td>docked_bike</td>\n",
       "      <td>2023-08-03 22:06:08</td>\n",
       "      <td>2023-10-07 04:56:03</td>\n",
       "      <td>Broadway &amp; Argyle St</td>\n",
       "      <td>13108</td>\n",
       "      <td>Unknown</td>\n",
       "      <td>Unknown</td>\n",
       "      <td>41.973815</td>\n",
       "      <td>-87.659660</td>\n",
       "      <td>NaN</td>\n",
       "      <td>NaN</td>\n",
       "      <td>casual</td>\n",
       "      <td>64 days 06:49:55</td>\n",
       "    </tr>\n",
       "    <tr>\n",
       "      <th>1831074</th>\n",
       "      <td>9EC4ACDAA96E516F</td>\n",
       "      <td>docked_bike</td>\n",
       "      <td>2023-08-07 12:16:36</td>\n",
       "      <td>2023-10-04 09:59:11</td>\n",
       "      <td>State St &amp; Van Buren St</td>\n",
       "      <td>TA1305000035</td>\n",
       "      <td>Unknown</td>\n",
       "      <td>Unknown</td>\n",
       "      <td>41.877181</td>\n",
       "      <td>-87.627844</td>\n",
       "      <td>NaN</td>\n",
       "      <td>NaN</td>\n",
       "      <td>casual</td>\n",
       "      <td>57 days 21:42:35</td>\n",
       "    </tr>\n",
       "    <tr>\n",
       "      <th>2372946</th>\n",
       "      <td>ED31EE7C8024D292</td>\n",
       "      <td>docked_bike</td>\n",
       "      <td>2023-08-11 18:58:28</td>\n",
       "      <td>2023-10-06 04:33:29</td>\n",
       "      <td>Buckingham Fountain (Michigan/11th)</td>\n",
       "      <td>15541</td>\n",
       "      <td>Unknown</td>\n",
       "      <td>Unknown</td>\n",
       "      <td>41.876423</td>\n",
       "      <td>-87.620339</td>\n",
       "      <td>NaN</td>\n",
       "      <td>NaN</td>\n",
       "      <td>casual</td>\n",
       "      <td>55 days 09:35:01</td>\n",
       "    </tr>\n",
       "    <tr>\n",
       "      <th>2406247</th>\n",
       "      <td>1A572575C18B600B</td>\n",
       "      <td>docked_bike</td>\n",
       "      <td>2023-08-15 15:19:32</td>\n",
       "      <td>2023-09-29 04:51:14</td>\n",
       "      <td>Shedd Aquarium</td>\n",
       "      <td>15544</td>\n",
       "      <td>Unknown</td>\n",
       "      <td>Unknown</td>\n",
       "      <td>41.867226</td>\n",
       "      <td>-87.615355</td>\n",
       "      <td>NaN</td>\n",
       "      <td>NaN</td>\n",
       "      <td>casual</td>\n",
       "      <td>44 days 13:31:42</td>\n",
       "    </tr>\n",
       "  </tbody>\n",
       "</table>\n",
       "</div>"
      ],
      "text/plain": [
       "                  ride_id rideable_type          started_at  \\\n",
       "2448719  992B647C22E22513   docked_bike 2023-08-02 19:27:12   \n",
       "1731692  24154619AEE96E2C   docked_bike 2023-08-03 22:06:08   \n",
       "1831074  9EC4ACDAA96E516F   docked_bike 2023-08-07 12:16:36   \n",
       "2372946  ED31EE7C8024D292   docked_bike 2023-08-11 18:58:28   \n",
       "2406247  1A572575C18B600B   docked_bike 2023-08-15 15:19:32   \n",
       "\n",
       "                   ended_at                   start_station_name  \\\n",
       "2448719 2023-10-10 04:56:16          Campbell Ave & Montrose Ave   \n",
       "1731692 2023-10-07 04:56:03                 Broadway & Argyle St   \n",
       "1831074 2023-10-04 09:59:11              State St & Van Buren St   \n",
       "2372946 2023-10-06 04:33:29  Buckingham Fountain (Michigan/11th)   \n",
       "2406247 2023-09-29 04:51:14                       Shedd Aquarium   \n",
       "\n",
       "        start_station_id end_station_name end_station_id  start_lat  \\\n",
       "2448719            15623          Unknown        Unknown  41.961484   \n",
       "1731692            13108          Unknown        Unknown  41.973815   \n",
       "1831074     TA1305000035          Unknown        Unknown  41.877181   \n",
       "2372946            15541          Unknown        Unknown  41.876423   \n",
       "2406247            15544          Unknown        Unknown  41.867226   \n",
       "\n",
       "         start_lng  end_lat  end_lng member_casual         duration  \n",
       "2448719 -87.692321      NaN      NaN        casual 68 days 09:29:04  \n",
       "1731692 -87.659660      NaN      NaN        casual 64 days 06:49:55  \n",
       "1831074 -87.627844      NaN      NaN        casual 57 days 21:42:35  \n",
       "2372946 -87.620339      NaN      NaN        casual 55 days 09:35:01  \n",
       "2406247 -87.615355      NaN      NaN        casual 44 days 13:31:42  "
      ]
     },
     "execution_count": 19,
     "metadata": {},
     "output_type": "execute_result"
    }
   ],
   "source": [
    "df.nlargest(5, 'duration')"
   ]
  },
  {
   "cell_type": "code",
   "execution_count": 20,
   "metadata": {},
   "outputs": [
    {
     "data": {
      "text/html": [
       "<div>\n",
       "<style scoped>\n",
       "    .dataframe tbody tr th:only-of-type {\n",
       "        vertical-align: middle;\n",
       "    }\n",
       "\n",
       "    .dataframe tbody tr th {\n",
       "        vertical-align: top;\n",
       "    }\n",
       "\n",
       "    .dataframe thead th {\n",
       "        text-align: right;\n",
       "    }\n",
       "</style>\n",
       "<table border=\"1\" class=\"dataframe\">\n",
       "  <thead>\n",
       "    <tr style=\"text-align: right;\">\n",
       "      <th></th>\n",
       "      <th>ride_id</th>\n",
       "      <th>rideable_type</th>\n",
       "      <th>started_at</th>\n",
       "      <th>ended_at</th>\n",
       "      <th>start_station_name</th>\n",
       "      <th>start_station_id</th>\n",
       "      <th>end_station_name</th>\n",
       "      <th>end_station_id</th>\n",
       "      <th>start_lat</th>\n",
       "      <th>start_lng</th>\n",
       "      <th>end_lat</th>\n",
       "      <th>end_lng</th>\n",
       "      <th>member_casual</th>\n",
       "      <th>duration</th>\n",
       "    </tr>\n",
       "  </thead>\n",
       "  <tbody>\n",
       "    <tr>\n",
       "      <th>5582375</th>\n",
       "      <td>F584D47AE67FD388</td>\n",
       "      <td>classic_bike</td>\n",
       "      <td>2023-11-05 21:08:17</td>\n",
       "      <td>2023-10-25 07:31:46</td>\n",
       "      <td>Sheffield Ave &amp; Waveland Ave</td>\n",
       "      <td>TA1307000126</td>\n",
       "      <td>Unknown</td>\n",
       "      <td>Unknown</td>\n",
       "      <td>41.949288</td>\n",
       "      <td>-87.654462</td>\n",
       "      <td>41.95</td>\n",
       "      <td>-87.65</td>\n",
       "      <td>casual</td>\n",
       "      <td>-12 days +10:23:29</td>\n",
       "    </tr>\n",
       "    <tr>\n",
       "      <th>5620029</th>\n",
       "      <td>AE046C379C20B7CA</td>\n",
       "      <td>classic_bike</td>\n",
       "      <td>2023-11-05 20:46:59</td>\n",
       "      <td>2023-10-25 07:31:46</td>\n",
       "      <td>Sheridan Rd &amp; Irving Park Rd</td>\n",
       "      <td>13063</td>\n",
       "      <td>Unknown</td>\n",
       "      <td>Unknown</td>\n",
       "      <td>41.954297</td>\n",
       "      <td>-87.654399</td>\n",
       "      <td>41.95</td>\n",
       "      <td>-87.65</td>\n",
       "      <td>member</td>\n",
       "      <td>-12 days +10:44:47</td>\n",
       "    </tr>\n",
       "    <tr>\n",
       "      <th>5599448</th>\n",
       "      <td>A21D6507DA3C5AD4</td>\n",
       "      <td>classic_bike</td>\n",
       "      <td>2023-11-05 16:41:54</td>\n",
       "      <td>2023-10-25 07:31:46</td>\n",
       "      <td>Pine Grove Ave &amp; Irving Park Rd</td>\n",
       "      <td>TA1308000022</td>\n",
       "      <td>Unknown</td>\n",
       "      <td>Unknown</td>\n",
       "      <td>41.954397</td>\n",
       "      <td>-87.648046</td>\n",
       "      <td>41.95</td>\n",
       "      <td>-87.65</td>\n",
       "      <td>member</td>\n",
       "      <td>-12 days +14:49:52</td>\n",
       "    </tr>\n",
       "    <tr>\n",
       "      <th>5595225</th>\n",
       "      <td>DEC5EF8DE27398A0</td>\n",
       "      <td>classic_bike</td>\n",
       "      <td>2023-11-05 11:56:19</td>\n",
       "      <td>2023-10-25 07:31:46</td>\n",
       "      <td>Pine Grove Ave &amp; Irving Park Rd</td>\n",
       "      <td>TA1308000022</td>\n",
       "      <td>Unknown</td>\n",
       "      <td>Unknown</td>\n",
       "      <td>41.954360</td>\n",
       "      <td>-87.648109</td>\n",
       "      <td>41.95</td>\n",
       "      <td>-87.65</td>\n",
       "      <td>casual</td>\n",
       "      <td>-12 days +19:35:27</td>\n",
       "    </tr>\n",
       "    <tr>\n",
       "      <th>5619167</th>\n",
       "      <td>7850F6E2343BF766</td>\n",
       "      <td>classic_bike</td>\n",
       "      <td>2023-11-01 16:38:10</td>\n",
       "      <td>2023-10-25 07:31:46</td>\n",
       "      <td>Clark St &amp; Drummond Pl</td>\n",
       "      <td>TA1307000142</td>\n",
       "      <td>Unknown</td>\n",
       "      <td>Unknown</td>\n",
       "      <td>41.931195</td>\n",
       "      <td>-87.644212</td>\n",
       "      <td>41.93</td>\n",
       "      <td>-87.64</td>\n",
       "      <td>casual</td>\n",
       "      <td>-8 days +14:53:36</td>\n",
       "    </tr>\n",
       "  </tbody>\n",
       "</table>\n",
       "</div>"
      ],
      "text/plain": [
       "                  ride_id rideable_type          started_at  \\\n",
       "5582375  F584D47AE67FD388  classic_bike 2023-11-05 21:08:17   \n",
       "5620029  AE046C379C20B7CA  classic_bike 2023-11-05 20:46:59   \n",
       "5599448  A21D6507DA3C5AD4  classic_bike 2023-11-05 16:41:54   \n",
       "5595225  DEC5EF8DE27398A0  classic_bike 2023-11-05 11:56:19   \n",
       "5619167  7850F6E2343BF766  classic_bike 2023-11-01 16:38:10   \n",
       "\n",
       "                   ended_at               start_station_name start_station_id  \\\n",
       "5582375 2023-10-25 07:31:46     Sheffield Ave & Waveland Ave     TA1307000126   \n",
       "5620029 2023-10-25 07:31:46     Sheridan Rd & Irving Park Rd            13063   \n",
       "5599448 2023-10-25 07:31:46  Pine Grove Ave & Irving Park Rd     TA1308000022   \n",
       "5595225 2023-10-25 07:31:46  Pine Grove Ave & Irving Park Rd     TA1308000022   \n",
       "5619167 2023-10-25 07:31:46           Clark St & Drummond Pl     TA1307000142   \n",
       "\n",
       "        end_station_name end_station_id  start_lat  start_lng  end_lat  \\\n",
       "5582375          Unknown        Unknown  41.949288 -87.654462    41.95   \n",
       "5620029          Unknown        Unknown  41.954297 -87.654399    41.95   \n",
       "5599448          Unknown        Unknown  41.954397 -87.648046    41.95   \n",
       "5595225          Unknown        Unknown  41.954360 -87.648109    41.95   \n",
       "5619167          Unknown        Unknown  41.931195 -87.644212    41.93   \n",
       "\n",
       "         end_lng member_casual           duration  \n",
       "5582375   -87.65        casual -12 days +10:23:29  \n",
       "5620029   -87.65        member -12 days +10:44:47  \n",
       "5599448   -87.65        member -12 days +14:49:52  \n",
       "5595225   -87.65        casual -12 days +19:35:27  \n",
       "5619167   -87.64        casual  -8 days +14:53:36  "
      ]
     },
     "execution_count": 20,
     "metadata": {},
     "output_type": "execute_result"
    }
   ],
   "source": [
    "df.nsmallest(5, 'duration')"
   ]
  },
  {
   "cell_type": "markdown",
   "metadata": {},
   "source": [
    "I'm realizing that the durations on these rides is very skewed. It seems unlikely that there were casual riders with rides that last days, up to 68, and impossible that anyone would have had a ride that lasted a negative amount of time. I'm noticing that all of these records include an unknown start station and/or end station. So, I'm going to go ahead and drop rows with unknown values. In an ideal setting, I would have an engineer I could talk to about those records, but for the purpose of this study, I will proceed without those entries because they significantly skew the data I'm after.  "
   ]
  },
  {
   "cell_type": "code",
   "execution_count": 21,
   "metadata": {},
   "outputs": [
    {
     "name": "stdout",
     "output_type": "stream",
     "text": [
      "<class 'pandas.core.frame.DataFrame'>\n",
      "Index: 4241241 entries, 0 to 5715692\n",
      "Data columns (total 14 columns):\n",
      " #   Column              Dtype          \n",
      "---  ------              -----          \n",
      " 0   ride_id             object         \n",
      " 1   rideable_type       category       \n",
      " 2   started_at          datetime64[ns] \n",
      " 3   ended_at            datetime64[ns] \n",
      " 4   start_station_name  object         \n",
      " 5   start_station_id    object         \n",
      " 6   end_station_name    object         \n",
      " 7   end_station_id      object         \n",
      " 8   start_lat           float64        \n",
      " 9   start_lng           float64        \n",
      " 10  end_lat             float64        \n",
      " 11  end_lng             float64        \n",
      " 12  member_casual       category       \n",
      " 13  duration            timedelta64[ns]\n",
      "dtypes: category(2), datetime64[ns](2), float64(4), object(5), timedelta64[ns](1)\n",
      "memory usage: 428.7+ MB\n"
     ]
    }
   ],
   "source": [
    "df = df[df['start_station_name'] != 'Unknown']\n",
    "df = df[df['end_station_name'] != 'Unknown']\n",
    "\n",
    "df.info()"
   ]
  },
  {
   "cell_type": "code",
   "execution_count": 22,
   "metadata": {},
   "outputs": [
    {
     "data": {
      "text/html": [
       "<div>\n",
       "<style scoped>\n",
       "    .dataframe tbody tr th:only-of-type {\n",
       "        vertical-align: middle;\n",
       "    }\n",
       "\n",
       "    .dataframe tbody tr th {\n",
       "        vertical-align: top;\n",
       "    }\n",
       "\n",
       "    .dataframe thead th {\n",
       "        text-align: right;\n",
       "    }\n",
       "</style>\n",
       "<table border=\"1\" class=\"dataframe\">\n",
       "  <thead>\n",
       "    <tr style=\"text-align: right;\">\n",
       "      <th></th>\n",
       "      <th>ride_id</th>\n",
       "      <th>rideable_type</th>\n",
       "      <th>started_at</th>\n",
       "      <th>ended_at</th>\n",
       "      <th>start_station_name</th>\n",
       "      <th>start_station_id</th>\n",
       "      <th>end_station_name</th>\n",
       "      <th>end_station_id</th>\n",
       "      <th>start_lat</th>\n",
       "      <th>start_lng</th>\n",
       "      <th>end_lat</th>\n",
       "      <th>end_lng</th>\n",
       "      <th>member_casual</th>\n",
       "      <th>duration</th>\n",
       "    </tr>\n",
       "  </thead>\n",
       "  <tbody>\n",
       "    <tr>\n",
       "      <th>1975383</th>\n",
       "      <td>47158A16C754A9F4</td>\n",
       "      <td>docked_bike</td>\n",
       "      <td>2023-08-10 22:17:49</td>\n",
       "      <td>2023-08-15 17:09:02</td>\n",
       "      <td>Larrabee St &amp; Webster Ave</td>\n",
       "      <td>13193</td>\n",
       "      <td>Michigan Ave &amp; Oak St</td>\n",
       "      <td>13042</td>\n",
       "      <td>41.921822</td>\n",
       "      <td>-87.644140</td>\n",
       "      <td>41.900960</td>\n",
       "      <td>-87.623777</td>\n",
       "      <td>casual</td>\n",
       "      <td>4 days 18:51:13</td>\n",
       "    </tr>\n",
       "    <tr>\n",
       "      <th>1772455</th>\n",
       "      <td>4031082BC503CC84</td>\n",
       "      <td>docked_bike</td>\n",
       "      <td>2023-08-02 17:28:57</td>\n",
       "      <td>2023-08-06 11:07:57</td>\n",
       "      <td>University Ave &amp; 57th St</td>\n",
       "      <td>KA1503000071</td>\n",
       "      <td>Museum of Science and Industry</td>\n",
       "      <td>KA1503000074</td>\n",
       "      <td>41.791478</td>\n",
       "      <td>-87.599861</td>\n",
       "      <td>41.791728</td>\n",
       "      <td>-87.583945</td>\n",
       "      <td>casual</td>\n",
       "      <td>3 days 17:39:00</td>\n",
       "    </tr>\n",
       "    <tr>\n",
       "      <th>1778616</th>\n",
       "      <td>D2273A0F45CDD4CC</td>\n",
       "      <td>docked_bike</td>\n",
       "      <td>2023-08-18 09:13:48</td>\n",
       "      <td>2023-08-20 16:14:38</td>\n",
       "      <td>2112 W Peterson Ave</td>\n",
       "      <td>KA1504000155</td>\n",
       "      <td>Sheridan Rd &amp; Loyola Ave</td>\n",
       "      <td>RP-009</td>\n",
       "      <td>41.991178</td>\n",
       "      <td>-87.683593</td>\n",
       "      <td>42.001044</td>\n",
       "      <td>-87.661198</td>\n",
       "      <td>casual</td>\n",
       "      <td>2 days 07:00:50</td>\n",
       "    </tr>\n",
       "    <tr>\n",
       "      <th>2896281</th>\n",
       "      <td>7A5CAAC52FAE9E95</td>\n",
       "      <td>classic_bike</td>\n",
       "      <td>2024-03-09 16:58:39</td>\n",
       "      <td>2024-03-10 18:08:01</td>\n",
       "      <td>Talman Ave &amp; Addison St</td>\n",
       "      <td>15632</td>\n",
       "      <td>Talman Ave &amp; Addison St</td>\n",
       "      <td>15632</td>\n",
       "      <td>41.946636</td>\n",
       "      <td>-87.694615</td>\n",
       "      <td>41.946636</td>\n",
       "      <td>-87.694615</td>\n",
       "      <td>casual</td>\n",
       "      <td>1 days 01:09:22</td>\n",
       "    </tr>\n",
       "    <tr>\n",
       "      <th>3697920</th>\n",
       "      <td>7AC23ADF3F785C89</td>\n",
       "      <td>classic_bike</td>\n",
       "      <td>2023-09-29 12:32:03</td>\n",
       "      <td>2023-09-30 13:29:57</td>\n",
       "      <td>Halsted St &amp; 63rd St</td>\n",
       "      <td>KA1503000055</td>\n",
       "      <td>Halsted St &amp; 63rd St</td>\n",
       "      <td>KA1503000055</td>\n",
       "      <td>41.779381</td>\n",
       "      <td>-87.644621</td>\n",
       "      <td>41.779381</td>\n",
       "      <td>-87.644621</td>\n",
       "      <td>casual</td>\n",
       "      <td>1 days 00:57:54</td>\n",
       "    </tr>\n",
       "  </tbody>\n",
       "</table>\n",
       "</div>"
      ],
      "text/plain": [
       "                  ride_id rideable_type          started_at  \\\n",
       "1975383  47158A16C754A9F4   docked_bike 2023-08-10 22:17:49   \n",
       "1772455  4031082BC503CC84   docked_bike 2023-08-02 17:28:57   \n",
       "1778616  D2273A0F45CDD4CC   docked_bike 2023-08-18 09:13:48   \n",
       "2896281  7A5CAAC52FAE9E95  classic_bike 2024-03-09 16:58:39   \n",
       "3697920  7AC23ADF3F785C89  classic_bike 2023-09-29 12:32:03   \n",
       "\n",
       "                   ended_at         start_station_name start_station_id  \\\n",
       "1975383 2023-08-15 17:09:02  Larrabee St & Webster Ave            13193   \n",
       "1772455 2023-08-06 11:07:57   University Ave & 57th St     KA1503000071   \n",
       "1778616 2023-08-20 16:14:38        2112 W Peterson Ave     KA1504000155   \n",
       "2896281 2024-03-10 18:08:01    Talman Ave & Addison St            15632   \n",
       "3697920 2023-09-30 13:29:57       Halsted St & 63rd St     KA1503000055   \n",
       "\n",
       "                       end_station_name end_station_id  start_lat  start_lng  \\\n",
       "1975383           Michigan Ave & Oak St          13042  41.921822 -87.644140   \n",
       "1772455  Museum of Science and Industry   KA1503000074  41.791478 -87.599861   \n",
       "1778616        Sheridan Rd & Loyola Ave         RP-009  41.991178 -87.683593   \n",
       "2896281         Talman Ave & Addison St          15632  41.946636 -87.694615   \n",
       "3697920            Halsted St & 63rd St   KA1503000055  41.779381 -87.644621   \n",
       "\n",
       "           end_lat    end_lng member_casual        duration  \n",
       "1975383  41.900960 -87.623777        casual 4 days 18:51:13  \n",
       "1772455  41.791728 -87.583945        casual 3 days 17:39:00  \n",
       "1778616  42.001044 -87.661198        casual 2 days 07:00:50  \n",
       "2896281  41.946636 -87.694615        casual 1 days 01:09:22  \n",
       "3697920  41.779381 -87.644621        casual 1 days 00:57:54  "
      ]
     },
     "execution_count": 22,
     "metadata": {},
     "output_type": "execute_result"
    }
   ],
   "source": [
    "df.nlargest(5, 'duration')"
   ]
  },
  {
   "cell_type": "code",
   "execution_count": 23,
   "metadata": {},
   "outputs": [
    {
     "data": {
      "text/html": [
       "<div>\n",
       "<style scoped>\n",
       "    .dataframe tbody tr th:only-of-type {\n",
       "        vertical-align: middle;\n",
       "    }\n",
       "\n",
       "    .dataframe tbody tr th {\n",
       "        vertical-align: top;\n",
       "    }\n",
       "\n",
       "    .dataframe thead th {\n",
       "        text-align: right;\n",
       "    }\n",
       "</style>\n",
       "<table border=\"1\" class=\"dataframe\">\n",
       "  <thead>\n",
       "    <tr style=\"text-align: right;\">\n",
       "      <th></th>\n",
       "      <th>ride_id</th>\n",
       "      <th>rideable_type</th>\n",
       "      <th>started_at</th>\n",
       "      <th>ended_at</th>\n",
       "      <th>start_station_name</th>\n",
       "      <th>start_station_id</th>\n",
       "      <th>end_station_name</th>\n",
       "      <th>end_station_id</th>\n",
       "      <th>start_lat</th>\n",
       "      <th>start_lng</th>\n",
       "      <th>end_lat</th>\n",
       "      <th>end_lng</th>\n",
       "      <th>member_casual</th>\n",
       "      <th>duration</th>\n",
       "    </tr>\n",
       "  </thead>\n",
       "  <tbody>\n",
       "    <tr>\n",
       "      <th>5672272</th>\n",
       "      <td>5C5FCC49C148635F</td>\n",
       "      <td>classic_bike</td>\n",
       "      <td>2023-11-05 01:55:47</td>\n",
       "      <td>2023-11-05 01:01:13</td>\n",
       "      <td>Halsted St &amp; Wrightwood Ave</td>\n",
       "      <td>TA1309000061</td>\n",
       "      <td>Halsted St &amp; Roscoe St</td>\n",
       "      <td>TA1309000025</td>\n",
       "      <td>41.929143</td>\n",
       "      <td>-87.649077</td>\n",
       "      <td>41.943670</td>\n",
       "      <td>-87.648950</td>\n",
       "      <td>member</td>\n",
       "      <td>-1 days +23:05:26</td>\n",
       "    </tr>\n",
       "    <tr>\n",
       "      <th>5653865</th>\n",
       "      <td>274EDE47C11F43AF</td>\n",
       "      <td>classic_bike</td>\n",
       "      <td>2023-11-05 01:55:51</td>\n",
       "      <td>2023-11-05 01:02:37</td>\n",
       "      <td>Southport Ave &amp; Wellington Ave</td>\n",
       "      <td>TA1307000006</td>\n",
       "      <td>Southport Ave &amp; Wrightwood Ave</td>\n",
       "      <td>TA1307000113</td>\n",
       "      <td>41.935775</td>\n",
       "      <td>-87.663600</td>\n",
       "      <td>41.928773</td>\n",
       "      <td>-87.663913</td>\n",
       "      <td>casual</td>\n",
       "      <td>-1 days +23:06:46</td>\n",
       "    </tr>\n",
       "    <tr>\n",
       "      <th>5476914</th>\n",
       "      <td>0AF3917F317F4C5F</td>\n",
       "      <td>classic_bike</td>\n",
       "      <td>2023-11-05 01:54:43</td>\n",
       "      <td>2023-11-05 01:01:31</td>\n",
       "      <td>Halsted St &amp; 21st St</td>\n",
       "      <td>13162</td>\n",
       "      <td>Racine Ave &amp; 18th St</td>\n",
       "      <td>13164</td>\n",
       "      <td>41.853780</td>\n",
       "      <td>-87.646603</td>\n",
       "      <td>41.858166</td>\n",
       "      <td>-87.656495</td>\n",
       "      <td>casual</td>\n",
       "      <td>-1 days +23:06:48</td>\n",
       "    </tr>\n",
       "    <tr>\n",
       "      <th>5635588</th>\n",
       "      <td>D17C0701A2AC27A8</td>\n",
       "      <td>classic_bike</td>\n",
       "      <td>2023-11-05 01:53:49</td>\n",
       "      <td>2023-11-05 01:00:41</td>\n",
       "      <td>Halsted St &amp; Wrightwood Ave</td>\n",
       "      <td>TA1309000061</td>\n",
       "      <td>Sedgwick St &amp; Webster Ave</td>\n",
       "      <td>13191</td>\n",
       "      <td>41.929143</td>\n",
       "      <td>-87.649077</td>\n",
       "      <td>41.922167</td>\n",
       "      <td>-87.638888</td>\n",
       "      <td>member</td>\n",
       "      <td>-1 days +23:06:52</td>\n",
       "    </tr>\n",
       "    <tr>\n",
       "      <th>5432129</th>\n",
       "      <td>FBDEF92A65F125D9</td>\n",
       "      <td>classic_bike</td>\n",
       "      <td>2023-11-05 01:58:37</td>\n",
       "      <td>2023-11-05 01:05:42</td>\n",
       "      <td>LaSalle Dr &amp; Huron St</td>\n",
       "      <td>KP1705001026</td>\n",
       "      <td>Clark St &amp; Elm St</td>\n",
       "      <td>TA1307000039</td>\n",
       "      <td>41.894877</td>\n",
       "      <td>-87.632326</td>\n",
       "      <td>41.902973</td>\n",
       "      <td>-87.631280</td>\n",
       "      <td>casual</td>\n",
       "      <td>-1 days +23:07:05</td>\n",
       "    </tr>\n",
       "    <tr>\n",
       "      <th>5476903</th>\n",
       "      <td>C182738D5AF4775B</td>\n",
       "      <td>classic_bike</td>\n",
       "      <td>2023-11-05 01:54:15</td>\n",
       "      <td>2023-11-05 01:01:33</td>\n",
       "      <td>Halsted St &amp; 21st St</td>\n",
       "      <td>13162</td>\n",
       "      <td>Racine Ave &amp; 18th St</td>\n",
       "      <td>13164</td>\n",
       "      <td>41.853780</td>\n",
       "      <td>-87.646603</td>\n",
       "      <td>41.858166</td>\n",
       "      <td>-87.656495</td>\n",
       "      <td>casual</td>\n",
       "      <td>-1 days +23:07:18</td>\n",
       "    </tr>\n",
       "    <tr>\n",
       "      <th>5640924</th>\n",
       "      <td>822A055416791A8D</td>\n",
       "      <td>classic_bike</td>\n",
       "      <td>2023-11-05 01:55:07</td>\n",
       "      <td>2023-11-05 01:02:40</td>\n",
       "      <td>Larrabee St &amp; Armitage Ave</td>\n",
       "      <td>TA1309000006</td>\n",
       "      <td>Sedgwick St &amp; North Ave</td>\n",
       "      <td>TA1307000038</td>\n",
       "      <td>41.918084</td>\n",
       "      <td>-87.643749</td>\n",
       "      <td>41.911386</td>\n",
       "      <td>-87.638677</td>\n",
       "      <td>casual</td>\n",
       "      <td>-1 days +23:07:33</td>\n",
       "    </tr>\n",
       "    <tr>\n",
       "      <th>5647890</th>\n",
       "      <td>A2B29BF080FD1672</td>\n",
       "      <td>classic_bike</td>\n",
       "      <td>2023-11-05 01:55:41</td>\n",
       "      <td>2023-11-05 01:03:22</td>\n",
       "      <td>Damen Ave &amp; Cortland St</td>\n",
       "      <td>13133</td>\n",
       "      <td>Campbell Ave &amp; Fullerton Ave</td>\n",
       "      <td>15648</td>\n",
       "      <td>41.915983</td>\n",
       "      <td>-87.677335</td>\n",
       "      <td>41.924632</td>\n",
       "      <td>-87.689307</td>\n",
       "      <td>casual</td>\n",
       "      <td>-1 days +23:07:41</td>\n",
       "    </tr>\n",
       "    <tr>\n",
       "      <th>5652678</th>\n",
       "      <td>368C90D097E27F50</td>\n",
       "      <td>classic_bike</td>\n",
       "      <td>2023-11-05 01:54:53</td>\n",
       "      <td>2023-11-05 01:02:56</td>\n",
       "      <td>Larrabee St &amp; Armitage Ave</td>\n",
       "      <td>TA1309000006</td>\n",
       "      <td>Clark St &amp; Drummond Pl</td>\n",
       "      <td>TA1307000142</td>\n",
       "      <td>41.918084</td>\n",
       "      <td>-87.643749</td>\n",
       "      <td>41.931248</td>\n",
       "      <td>-87.644336</td>\n",
       "      <td>casual</td>\n",
       "      <td>-1 days +23:08:03</td>\n",
       "    </tr>\n",
       "    <tr>\n",
       "      <th>5679388</th>\n",
       "      <td>3FE1CB266FEFC4F8</td>\n",
       "      <td>classic_bike</td>\n",
       "      <td>2023-11-05 01:56:53</td>\n",
       "      <td>2023-11-05 01:06:00</td>\n",
       "      <td>Dearborn St &amp; Erie St</td>\n",
       "      <td>13045</td>\n",
       "      <td>Ogden Ave &amp; Chicago Ave</td>\n",
       "      <td>TA1305000020</td>\n",
       "      <td>41.893992</td>\n",
       "      <td>-87.629318</td>\n",
       "      <td>41.896362</td>\n",
       "      <td>-87.654061</td>\n",
       "      <td>member</td>\n",
       "      <td>-1 days +23:09:07</td>\n",
       "    </tr>\n",
       "    <tr>\n",
       "      <th>5364662</th>\n",
       "      <td>9D73776DE22E7CC3</td>\n",
       "      <td>classic_bike</td>\n",
       "      <td>2023-11-05 01:51:21</td>\n",
       "      <td>2023-11-05 01:01:21</td>\n",
       "      <td>Western Ave &amp; Fillmore St</td>\n",
       "      <td>644</td>\n",
       "      <td>May St &amp; Taylor St</td>\n",
       "      <td>13160</td>\n",
       "      <td>41.868563</td>\n",
       "      <td>-87.686234</td>\n",
       "      <td>41.869482</td>\n",
       "      <td>-87.655486</td>\n",
       "      <td>member</td>\n",
       "      <td>-1 days +23:10:00</td>\n",
       "    </tr>\n",
       "    <tr>\n",
       "      <th>5392853</th>\n",
       "      <td>D0AA61C39C6A4403</td>\n",
       "      <td>classic_bike</td>\n",
       "      <td>2023-11-05 01:51:59</td>\n",
       "      <td>2023-11-05 01:02:34</td>\n",
       "      <td>Damen Ave &amp; Cortland St</td>\n",
       "      <td>13133</td>\n",
       "      <td>Damen Ave &amp; Wellington Ave</td>\n",
       "      <td>13268</td>\n",
       "      <td>41.915983</td>\n",
       "      <td>-87.677335</td>\n",
       "      <td>41.935880</td>\n",
       "      <td>-87.678420</td>\n",
       "      <td>casual</td>\n",
       "      <td>-1 days +23:10:35</td>\n",
       "    </tr>\n",
       "    <tr>\n",
       "      <th>5442978</th>\n",
       "      <td>3A5E940DF2EE5625</td>\n",
       "      <td>electric_bike</td>\n",
       "      <td>2023-11-05 01:51:22</td>\n",
       "      <td>2023-11-05 01:02:48</td>\n",
       "      <td>Richmond St &amp; Diversey Ave</td>\n",
       "      <td>15645</td>\n",
       "      <td>Spaulding Ave &amp; Division St</td>\n",
       "      <td>15654</td>\n",
       "      <td>41.931954</td>\n",
       "      <td>-87.701249</td>\n",
       "      <td>41.902707</td>\n",
       "      <td>-87.709220</td>\n",
       "      <td>casual</td>\n",
       "      <td>-1 days +23:11:26</td>\n",
       "    </tr>\n",
       "    <tr>\n",
       "      <th>5680627</th>\n",
       "      <td>D5E274F3D04EF419</td>\n",
       "      <td>classic_bike</td>\n",
       "      <td>2023-11-05 01:52:56</td>\n",
       "      <td>2023-11-05 01:05:04</td>\n",
       "      <td>Racine Ave &amp; Fullerton Ave</td>\n",
       "      <td>TA1306000026</td>\n",
       "      <td>Broadway &amp; Barry Ave</td>\n",
       "      <td>13137</td>\n",
       "      <td>41.925566</td>\n",
       "      <td>-87.658416</td>\n",
       "      <td>41.937582</td>\n",
       "      <td>-87.644098</td>\n",
       "      <td>casual</td>\n",
       "      <td>-1 days +23:12:08</td>\n",
       "    </tr>\n",
       "    <tr>\n",
       "      <th>5703269</th>\n",
       "      <td>83192DD2002545D0</td>\n",
       "      <td>classic_bike</td>\n",
       "      <td>2023-11-05 01:59:44</td>\n",
       "      <td>2023-11-05 01:12:56</td>\n",
       "      <td>Racine Ave &amp; 13th St</td>\n",
       "      <td>13165</td>\n",
       "      <td>Emerald Ave &amp; 31st St</td>\n",
       "      <td>TA1309000055</td>\n",
       "      <td>41.865054</td>\n",
       "      <td>-87.656959</td>\n",
       "      <td>41.838198</td>\n",
       "      <td>-87.645143</td>\n",
       "      <td>casual</td>\n",
       "      <td>-1 days +23:13:12</td>\n",
       "    </tr>\n",
       "  </tbody>\n",
       "</table>\n",
       "</div>"
      ],
      "text/plain": [
       "                  ride_id  rideable_type          started_at  \\\n",
       "5672272  5C5FCC49C148635F   classic_bike 2023-11-05 01:55:47   \n",
       "5653865  274EDE47C11F43AF   classic_bike 2023-11-05 01:55:51   \n",
       "5476914  0AF3917F317F4C5F   classic_bike 2023-11-05 01:54:43   \n",
       "5635588  D17C0701A2AC27A8   classic_bike 2023-11-05 01:53:49   \n",
       "5432129  FBDEF92A65F125D9   classic_bike 2023-11-05 01:58:37   \n",
       "5476903  C182738D5AF4775B   classic_bike 2023-11-05 01:54:15   \n",
       "5640924  822A055416791A8D   classic_bike 2023-11-05 01:55:07   \n",
       "5647890  A2B29BF080FD1672   classic_bike 2023-11-05 01:55:41   \n",
       "5652678  368C90D097E27F50   classic_bike 2023-11-05 01:54:53   \n",
       "5679388  3FE1CB266FEFC4F8   classic_bike 2023-11-05 01:56:53   \n",
       "5364662  9D73776DE22E7CC3   classic_bike 2023-11-05 01:51:21   \n",
       "5392853  D0AA61C39C6A4403   classic_bike 2023-11-05 01:51:59   \n",
       "5442978  3A5E940DF2EE5625  electric_bike 2023-11-05 01:51:22   \n",
       "5680627  D5E274F3D04EF419   classic_bike 2023-11-05 01:52:56   \n",
       "5703269  83192DD2002545D0   classic_bike 2023-11-05 01:59:44   \n",
       "\n",
       "                   ended_at              start_station_name start_station_id  \\\n",
       "5672272 2023-11-05 01:01:13     Halsted St & Wrightwood Ave     TA1309000061   \n",
       "5653865 2023-11-05 01:02:37  Southport Ave & Wellington Ave     TA1307000006   \n",
       "5476914 2023-11-05 01:01:31            Halsted St & 21st St            13162   \n",
       "5635588 2023-11-05 01:00:41     Halsted St & Wrightwood Ave     TA1309000061   \n",
       "5432129 2023-11-05 01:05:42           LaSalle Dr & Huron St     KP1705001026   \n",
       "5476903 2023-11-05 01:01:33            Halsted St & 21st St            13162   \n",
       "5640924 2023-11-05 01:02:40      Larrabee St & Armitage Ave     TA1309000006   \n",
       "5647890 2023-11-05 01:03:22         Damen Ave & Cortland St            13133   \n",
       "5652678 2023-11-05 01:02:56      Larrabee St & Armitage Ave     TA1309000006   \n",
       "5679388 2023-11-05 01:06:00           Dearborn St & Erie St            13045   \n",
       "5364662 2023-11-05 01:01:21       Western Ave & Fillmore St              644   \n",
       "5392853 2023-11-05 01:02:34         Damen Ave & Cortland St            13133   \n",
       "5442978 2023-11-05 01:02:48      Richmond St & Diversey Ave            15645   \n",
       "5680627 2023-11-05 01:05:04      Racine Ave & Fullerton Ave     TA1306000026   \n",
       "5703269 2023-11-05 01:12:56            Racine Ave & 13th St            13165   \n",
       "\n",
       "                       end_station_name end_station_id  start_lat  start_lng  \\\n",
       "5672272          Halsted St & Roscoe St   TA1309000025  41.929143 -87.649077   \n",
       "5653865  Southport Ave & Wrightwood Ave   TA1307000113  41.935775 -87.663600   \n",
       "5476914            Racine Ave & 18th St          13164  41.853780 -87.646603   \n",
       "5635588       Sedgwick St & Webster Ave          13191  41.929143 -87.649077   \n",
       "5432129               Clark St & Elm St   TA1307000039  41.894877 -87.632326   \n",
       "5476903            Racine Ave & 18th St          13164  41.853780 -87.646603   \n",
       "5640924         Sedgwick St & North Ave   TA1307000038  41.918084 -87.643749   \n",
       "5647890    Campbell Ave & Fullerton Ave          15648  41.915983 -87.677335   \n",
       "5652678          Clark St & Drummond Pl   TA1307000142  41.918084 -87.643749   \n",
       "5679388         Ogden Ave & Chicago Ave   TA1305000020  41.893992 -87.629318   \n",
       "5364662              May St & Taylor St          13160  41.868563 -87.686234   \n",
       "5392853      Damen Ave & Wellington Ave          13268  41.915983 -87.677335   \n",
       "5442978     Spaulding Ave & Division St          15654  41.931954 -87.701249   \n",
       "5680627            Broadway & Barry Ave          13137  41.925566 -87.658416   \n",
       "5703269           Emerald Ave & 31st St   TA1309000055  41.865054 -87.656959   \n",
       "\n",
       "           end_lat    end_lng member_casual          duration  \n",
       "5672272  41.943670 -87.648950        member -1 days +23:05:26  \n",
       "5653865  41.928773 -87.663913        casual -1 days +23:06:46  \n",
       "5476914  41.858166 -87.656495        casual -1 days +23:06:48  \n",
       "5635588  41.922167 -87.638888        member -1 days +23:06:52  \n",
       "5432129  41.902973 -87.631280        casual -1 days +23:07:05  \n",
       "5476903  41.858166 -87.656495        casual -1 days +23:07:18  \n",
       "5640924  41.911386 -87.638677        casual -1 days +23:07:33  \n",
       "5647890  41.924632 -87.689307        casual -1 days +23:07:41  \n",
       "5652678  41.931248 -87.644336        casual -1 days +23:08:03  \n",
       "5679388  41.896362 -87.654061        member -1 days +23:09:07  \n",
       "5364662  41.869482 -87.655486        member -1 days +23:10:00  \n",
       "5392853  41.935880 -87.678420        casual -1 days +23:10:35  \n",
       "5442978  41.902707 -87.709220        casual -1 days +23:11:26  \n",
       "5680627  41.937582 -87.644098        casual -1 days +23:12:08  \n",
       "5703269  41.838198 -87.645143        casual -1 days +23:13:12  "
      ]
     },
     "execution_count": 23,
     "metadata": {},
     "output_type": "execute_result"
    }
   ],
   "source": [
    "df.nsmallest(15, 'duration')"
   ]
  },
  {
   "cell_type": "code",
   "execution_count": 24,
   "metadata": {},
   "outputs": [
    {
     "data": {
      "text/html": [
       "<div>\n",
       "<style scoped>\n",
       "    .dataframe tbody tr th:only-of-type {\n",
       "        vertical-align: middle;\n",
       "    }\n",
       "\n",
       "    .dataframe tbody tr th {\n",
       "        vertical-align: top;\n",
       "    }\n",
       "\n",
       "    .dataframe thead th {\n",
       "        text-align: right;\n",
       "    }\n",
       "</style>\n",
       "<table border=\"1\" class=\"dataframe\">\n",
       "  <thead>\n",
       "    <tr style=\"text-align: right;\">\n",
       "      <th></th>\n",
       "      <th>ride_id</th>\n",
       "      <th>rideable_type</th>\n",
       "      <th>started_at</th>\n",
       "      <th>ended_at</th>\n",
       "      <th>start_station_name</th>\n",
       "      <th>start_station_id</th>\n",
       "      <th>end_station_name</th>\n",
       "      <th>end_station_id</th>\n",
       "      <th>start_lat</th>\n",
       "      <th>start_lng</th>\n",
       "      <th>end_lat</th>\n",
       "      <th>end_lng</th>\n",
       "      <th>member_casual</th>\n",
       "      <th>duration</th>\n",
       "    </tr>\n",
       "  </thead>\n",
       "  <tbody>\n",
       "    <tr>\n",
       "      <th>4523</th>\n",
       "      <td>008A3B92A7D34888</td>\n",
       "      <td>electric_bike</td>\n",
       "      <td>2023-10-10 16:00:26</td>\n",
       "      <td>2023-10-10 16:00:26</td>\n",
       "      <td>Canal St &amp; Jackson Blvd</td>\n",
       "      <td>13138</td>\n",
       "      <td>Canal St &amp; Jackson Blvd</td>\n",
       "      <td>13138</td>\n",
       "      <td>41.877243</td>\n",
       "      <td>-87.639385</td>\n",
       "      <td>41.877245</td>\n",
       "      <td>-87.639366</td>\n",
       "      <td>member</td>\n",
       "      <td>0 days</td>\n",
       "    </tr>\n",
       "    <tr>\n",
       "      <th>6762</th>\n",
       "      <td>1B2A2112D72AF3D9</td>\n",
       "      <td>electric_bike</td>\n",
       "      <td>2023-10-04 21:58:34</td>\n",
       "      <td>2023-10-04 21:58:34</td>\n",
       "      <td>Michigan Ave &amp; 18th St</td>\n",
       "      <td>13150</td>\n",
       "      <td>Michigan Ave &amp; 18th St</td>\n",
       "      <td>13150</td>\n",
       "      <td>41.857966</td>\n",
       "      <td>-87.624612</td>\n",
       "      <td>41.857813</td>\n",
       "      <td>-87.624550</td>\n",
       "      <td>casual</td>\n",
       "      <td>0 days</td>\n",
       "    </tr>\n",
       "    <tr>\n",
       "      <th>6832</th>\n",
       "      <td>B97A9E823BD1D734</td>\n",
       "      <td>electric_bike</td>\n",
       "      <td>2023-10-15 13:48:09</td>\n",
       "      <td>2023-10-15 13:48:09</td>\n",
       "      <td>Fairfield Ave &amp; Roosevelt Rd</td>\n",
       "      <td>KA1504000102</td>\n",
       "      <td>Fairfield Ave &amp; Roosevelt Rd</td>\n",
       "      <td>KA1504000102</td>\n",
       "      <td>41.866628</td>\n",
       "      <td>-87.694494</td>\n",
       "      <td>41.866624</td>\n",
       "      <td>-87.694521</td>\n",
       "      <td>member</td>\n",
       "      <td>0 days</td>\n",
       "    </tr>\n",
       "    <tr>\n",
       "      <th>7702</th>\n",
       "      <td>F76620719E2AC573</td>\n",
       "      <td>classic_bike</td>\n",
       "      <td>2023-10-30 18:55:50</td>\n",
       "      <td>2023-10-30 18:55:50</td>\n",
       "      <td>Sheffield Ave &amp; Wellington Ave</td>\n",
       "      <td>TA1307000052</td>\n",
       "      <td>Sheffield Ave &amp; Wellington Ave</td>\n",
       "      <td>TA1307000052</td>\n",
       "      <td>41.936253</td>\n",
       "      <td>-87.652662</td>\n",
       "      <td>41.936253</td>\n",
       "      <td>-87.652662</td>\n",
       "      <td>member</td>\n",
       "      <td>0 days</td>\n",
       "    </tr>\n",
       "    <tr>\n",
       "      <th>9472</th>\n",
       "      <td>045ECA660D6195F7</td>\n",
       "      <td>classic_bike</td>\n",
       "      <td>2023-10-04 12:19:23</td>\n",
       "      <td>2023-10-04 12:19:23</td>\n",
       "      <td>Streeter Dr &amp; Grand Ave</td>\n",
       "      <td>13022</td>\n",
       "      <td>Streeter Dr &amp; Grand Ave</td>\n",
       "      <td>13022</td>\n",
       "      <td>41.892278</td>\n",
       "      <td>-87.612043</td>\n",
       "      <td>41.892278</td>\n",
       "      <td>-87.612043</td>\n",
       "      <td>casual</td>\n",
       "      <td>0 days</td>\n",
       "    </tr>\n",
       "  </tbody>\n",
       "</table>\n",
       "</div>"
      ],
      "text/plain": [
       "               ride_id  rideable_type          started_at            ended_at  \\\n",
       "4523  008A3B92A7D34888  electric_bike 2023-10-10 16:00:26 2023-10-10 16:00:26   \n",
       "6762  1B2A2112D72AF3D9  electric_bike 2023-10-04 21:58:34 2023-10-04 21:58:34   \n",
       "6832  B97A9E823BD1D734  electric_bike 2023-10-15 13:48:09 2023-10-15 13:48:09   \n",
       "7702  F76620719E2AC573   classic_bike 2023-10-30 18:55:50 2023-10-30 18:55:50   \n",
       "9472  045ECA660D6195F7   classic_bike 2023-10-04 12:19:23 2023-10-04 12:19:23   \n",
       "\n",
       "                  start_station_name start_station_id  \\\n",
       "4523         Canal St & Jackson Blvd            13138   \n",
       "6762          Michigan Ave & 18th St            13150   \n",
       "6832    Fairfield Ave & Roosevelt Rd     KA1504000102   \n",
       "7702  Sheffield Ave & Wellington Ave     TA1307000052   \n",
       "9472         Streeter Dr & Grand Ave            13022   \n",
       "\n",
       "                    end_station_name end_station_id  start_lat  start_lng  \\\n",
       "4523         Canal St & Jackson Blvd          13138  41.877243 -87.639385   \n",
       "6762          Michigan Ave & 18th St          13150  41.857966 -87.624612   \n",
       "6832    Fairfield Ave & Roosevelt Rd   KA1504000102  41.866628 -87.694494   \n",
       "7702  Sheffield Ave & Wellington Ave   TA1307000052  41.936253 -87.652662   \n",
       "9472         Streeter Dr & Grand Ave          13022  41.892278 -87.612043   \n",
       "\n",
       "        end_lat    end_lng member_casual duration  \n",
       "4523  41.877245 -87.639366        member   0 days  \n",
       "6762  41.857813 -87.624550        casual   0 days  \n",
       "6832  41.866624 -87.694521        member   0 days  \n",
       "7702  41.936253 -87.652662        member   0 days  \n",
       "9472  41.892278 -87.612043        casual   0 days  "
      ]
     },
     "execution_count": 24,
     "metadata": {},
     "output_type": "execute_result"
    }
   ],
   "source": [
    "df = df[df['duration'] >= pd.Timedelta(0)]\n",
    "\n",
    "df.nsmallest(5, 'duration')"
   ]
  },
  {
   "cell_type": "code",
   "execution_count": 25,
   "metadata": {},
   "outputs": [
    {
     "data": {
      "text/plain": [
       "rideable_type\n",
       "classic_bike     2854413\n",
       "electric_bike    1371248\n",
       "docked_bike        15514\n",
       "Name: count, dtype: int64"
      ]
     },
     "execution_count": 25,
     "metadata": {},
     "output_type": "execute_result"
    }
   ],
   "source": [
    "# Looking at the number of events per rideable type\n",
    "df['rideable_type'].loc[df['rideable_type'] != 'n/a'].value_counts()"
   ]
  },
  {
   "cell_type": "code",
   "execution_count": 26,
   "metadata": {},
   "outputs": [
    {
     "name": "stdout",
     "output_type": "stream",
     "text": [
      "member_casual\n",
      "casual   0 days 00:24:04.275697968\n",
      "member   0 days 00:12:30.604388031\n",
      "Name: duration, dtype: timedelta64[ns]\n"
     ]
    },
    {
     "name": "stderr",
     "output_type": "stream",
     "text": [
      "/var/folders/6h/n89x378s0rg8yhvjb1y_rgsc0000gn/T/ipykernel_95861/2157092916.py:3: FutureWarning:\n",
      "\n",
      "The default of observed=False is deprecated and will be changed to True in a future version of pandas. Pass observed=False to retain current behavior or observed=True to adopt the future default and silence this warning.\n",
      "\n"
     ]
    }
   ],
   "source": [
    "# Looking at the average ride time for members vs. casual riders\n",
    "\n",
    "mc = df.groupby(df['member_casual'])\n",
    "mc_duration = mc['duration'].mean()\n",
    "\n",
    "print(mc_duration)"
   ]
  },
  {
   "cell_type": "markdown",
   "metadata": {},
   "source": [
    "## Observation #1\n",
    "The average member pass ride is about half the time of the average casual pass ride. It is unfortunate that there is not a way to parse out the casual pass rides into daily and single-ride passes. However, we can learn from the data as it is  that members' rides are usually shorter than the casual rides. \n",
    "\n",
    "A suggestion based on this might be to implement some kind of charge per minute pricing structure on casual rides. Implementing a price per use + price per minute structure on casual rides and a price per day + price per minute structure on daily passes could cause more riders to choose the membership route. "
   ]
  },
  {
   "cell_type": "code",
   "execution_count": 27,
   "metadata": {},
   "outputs": [
    {
     "data": {
      "image/png": "[encoded data removed]",
      "text/plain": [
       "<Figure size 640x480 with 1 Axes>"
      ]
     },
     "metadata": {},
     "output_type": "display_data"
    }
   ],
   "source": [
    "td = mc_duration/60000000000\n",
    "color = ['green', 'orange']\n",
    "\n",
    "ax = td.plot(kind='bar', title='Average Ride Time Member vs. Casual', xlabel = 'Member vs. Casual Rides', ylabel = 'Minutes', color = color)\n",
    "plt.xticks(rotation = 0)\n",
    "plt.show()"
   ]
  },
  {
   "cell_type": "code",
   "execution_count": 28,
   "metadata": {},
   "outputs": [
    {
     "data": {
      "text/plain": [
       "member_casual\n",
       "member    2750869\n",
       "casual    1490306\n",
       "Name: count, dtype: int64"
      ]
     },
     "execution_count": 28,
     "metadata": {},
     "output_type": "execute_result"
    }
   ],
   "source": [
    "# Now looking at the number of bike rental events for members vs. casual riders. \n",
    "\n",
    "df['member_casual'].value_counts()"
   ]
  },
  {
   "cell_type": "markdown",
   "metadata": {},
   "source": [
    "## Observation #2\n",
    "So we've found that the average ride time for casual riders is much higher than members, but we've now seen that the number of rental events for members is much higher than the number of casual rider rentals. "
   ]
  },
  {
   "cell_type": "code",
   "execution_count": 29,
   "metadata": {},
   "outputs": [
    {
     "data": {
      "image/png": "[encoded data removed]",
      "text/plain": [
       "<Figure size 640x480 with 1 Axes>"
      ]
     },
     "metadata": {},
     "output_type": "display_data"
    }
   ],
   "source": [
    "from matplotlib import ticker\n",
    "import warnings\n",
    "warnings.simplefilter(action='ignore', category=FutureWarning)\n",
    "\n",
    "# additional code before plt.show()\n",
    "formatter = ticker.ScalarFormatter()\n",
    "formatter.set_scientific(True)\n",
    "\n",
    "ax = sns.barplot(df['member_casual'].value_counts(), palette=color)\n",
    "plt.xlabel(\"Ride Type\")\n",
    "plt.ylabel(\"# of Rides (in Millions)\")\n",
    "plt.title(\"Rides per Pass Type\")\n",
    "ax.yaxis.set_major_formatter(formatter)"
   ]
  },
  {
   "cell_type": "code",
   "execution_count": null,
   "metadata": {},
   "outputs": [],
   "source": []
  }
 ],
 "metadata": {
  "kernelspec": {
   "display_name": "Python 3",
   "language": "python",
   "name": "python3"
  },
  "language_info": {
   "codemirror_mode": {
    "name": "ipython",
    "version": 3
   },
   "file_extension": ".py",
   "mimetype": "text/x-python",
   "name": "python",
   "nbconvert_exporter": "python",
   "pygments_lexer": "ipython3",
   "version": "3.12.4"
  }
 },
 "nbformat": 4,
 "nbformat_minor": 2
}

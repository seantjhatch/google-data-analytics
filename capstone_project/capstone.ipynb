{
 "cells": [
  {
   "cell_type": "markdown",
   "metadata": {},
   "source": [
    "# Cyclistic Case Study\n",
    "\n",
    "## Intro\n",
    "The goal of this project is to gain insight into how casual riders and annual members differ in their usage of a bike-share company. Withing the company, the director of marketing believes that the company's future success depends on maximizing the number of annual memberships. Therefore, the insights found in this analysis will be used to design a digital marketing strategy aimed at converting casual riders into annual members. \n",
    "\n",
    "For the purpose of this study, **casual riders** are defined as customers who purchase single-ride or full-day passes, while **Cyclistic members** are customers who purchase an annual membership. "
   ]
  },
  {
   "cell_type": "code",
   "execution_count": 1,
   "metadata": {},
   "outputs": [],
   "source": [
    "# Importing data science libraries\n",
    "import pandas as pd\n",
    "import numpy as np\n",
    "import glob\n",
    "import os\n",
    "\n",
    "# Importing visualization libraries\n",
    "import seaborn as sns\n",
    "import matplotlib.pyplot as plt\n",
    "import plotly as px\n",
    "import missingno as msno\n",
    "import plotly.offline as pyo \n",
    "import plotly.express as px\n",
    "import plotly.io as pio\n",
    "import plotly.graph_objects as go\n",
    "from plotly.subplots import make_subplots\n",
    "\n",
    "plt.style.use('fivethirtyeight')"
   ]
  },
  {
   "cell_type": "code",
   "execution_count": 2,
   "metadata": {},
   "outputs": [],
   "source": [
    "# Importing the data\n",
    "path = 'data'\n",
    "csv_files = glob.glob(os.path.join(path, \"*.csv\"))\n",
    "\n",
    "dfs = []\n",
    "\n",
    "for file in csv_files:\n",
    "    df = pd.read_csv(file)\n",
    "    dfs.append(df)"
   ]
  },
  {
   "cell_type": "code",
   "execution_count": 3,
   "metadata": {},
   "outputs": [
    {
     "data": {
      "text/html": [
       "<div>\n",
       "<style scoped>\n",
       "    .dataframe tbody tr th:only-of-type {\n",
       "        vertical-align: middle;\n",
       "    }\n",
       "\n",
       "    .dataframe tbody tr th {\n",
       "        vertical-align: top;\n",
       "    }\n",
       "\n",
       "    .dataframe thead th {\n",
       "        text-align: right;\n",
       "    }\n",
       "</style>\n",
       "<table border=\"1\" class=\"dataframe\">\n",
       "  <thead>\n",
       "    <tr style=\"text-align: right;\">\n",
       "      <th></th>\n",
       "      <th>ride_id</th>\n",
       "      <th>rideable_type</th>\n",
       "      <th>started_at</th>\n",
       "      <th>ended_at</th>\n",
       "      <th>start_station_name</th>\n",
       "      <th>start_station_id</th>\n",
       "      <th>end_station_name</th>\n",
       "      <th>end_station_id</th>\n",
       "      <th>start_lat</th>\n",
       "      <th>start_lng</th>\n",
       "      <th>end_lat</th>\n",
       "      <th>end_lng</th>\n",
       "      <th>member_casual</th>\n",
       "    </tr>\n",
       "  </thead>\n",
       "  <tbody>\n",
       "    <tr>\n",
       "      <th>0</th>\n",
       "      <td>4449097279F8BBE7</td>\n",
       "      <td>classic_bike</td>\n",
       "      <td>2023-10-08 10:36:26</td>\n",
       "      <td>2023-10-08 10:49:19</td>\n",
       "      <td>Orleans St &amp; Chestnut St (NEXT Apts)</td>\n",
       "      <td>620</td>\n",
       "      <td>Sheffield Ave &amp; Webster Ave</td>\n",
       "      <td>TA1309000033</td>\n",
       "      <td>41.898203</td>\n",
       "      <td>-87.637536</td>\n",
       "      <td>41.921540</td>\n",
       "      <td>-87.653818</td>\n",
       "      <td>member</td>\n",
       "    </tr>\n",
       "    <tr>\n",
       "      <th>1</th>\n",
       "      <td>9CF060543CA7B439</td>\n",
       "      <td>electric_bike</td>\n",
       "      <td>2023-10-11 17:23:59</td>\n",
       "      <td>2023-10-11 17:36:08</td>\n",
       "      <td>Desplaines St &amp; Kinzie St</td>\n",
       "      <td>TA1306000003</td>\n",
       "      <td>Sheffield Ave &amp; Webster Ave</td>\n",
       "      <td>TA1309000033</td>\n",
       "      <td>41.888641</td>\n",
       "      <td>-87.644415</td>\n",
       "      <td>41.921540</td>\n",
       "      <td>-87.653818</td>\n",
       "      <td>member</td>\n",
       "    </tr>\n",
       "    <tr>\n",
       "      <th>2</th>\n",
       "      <td>667F21F4D6BDE69C</td>\n",
       "      <td>electric_bike</td>\n",
       "      <td>2023-10-12 07:02:33</td>\n",
       "      <td>2023-10-12 07:06:53</td>\n",
       "      <td>Orleans St &amp; Chestnut St (NEXT Apts)</td>\n",
       "      <td>620</td>\n",
       "      <td>Franklin St &amp; Lake St</td>\n",
       "      <td>TA1307000111</td>\n",
       "      <td>41.898073</td>\n",
       "      <td>-87.637514</td>\n",
       "      <td>41.885837</td>\n",
       "      <td>-87.635500</td>\n",
       "      <td>member</td>\n",
       "    </tr>\n",
       "    <tr>\n",
       "      <th>3</th>\n",
       "      <td>F92714CC6B019B96</td>\n",
       "      <td>classic_bike</td>\n",
       "      <td>2023-10-24 19:13:03</td>\n",
       "      <td>2023-10-24 19:18:29</td>\n",
       "      <td>Desplaines St &amp; Kinzie St</td>\n",
       "      <td>TA1306000003</td>\n",
       "      <td>Franklin St &amp; Lake St</td>\n",
       "      <td>TA1307000111</td>\n",
       "      <td>41.888716</td>\n",
       "      <td>-87.644448</td>\n",
       "      <td>41.885837</td>\n",
       "      <td>-87.635500</td>\n",
       "      <td>member</td>\n",
       "    </tr>\n",
       "    <tr>\n",
       "      <th>4</th>\n",
       "      <td>5E34BA5DE945A9CC</td>\n",
       "      <td>classic_bike</td>\n",
       "      <td>2023-10-09 18:19:26</td>\n",
       "      <td>2023-10-09 18:30:56</td>\n",
       "      <td>Desplaines St &amp; Kinzie St</td>\n",
       "      <td>TA1306000003</td>\n",
       "      <td>Franklin St &amp; Lake St</td>\n",
       "      <td>TA1307000111</td>\n",
       "      <td>41.888716</td>\n",
       "      <td>-87.644448</td>\n",
       "      <td>41.885837</td>\n",
       "      <td>-87.635500</td>\n",
       "      <td>member</td>\n",
       "    </tr>\n",
       "    <tr>\n",
       "      <th>5</th>\n",
       "      <td>F7D7420AFAC53CD9</td>\n",
       "      <td>electric_bike</td>\n",
       "      <td>2023-10-04 17:10:59</td>\n",
       "      <td>2023-10-04 17:25:21</td>\n",
       "      <td>Orleans St &amp; Chestnut St (NEXT Apts)</td>\n",
       "      <td>620</td>\n",
       "      <td>Sheffield Ave &amp; Webster Ave</td>\n",
       "      <td>TA1309000033</td>\n",
       "      <td>41.898124</td>\n",
       "      <td>-87.637533</td>\n",
       "      <td>41.921540</td>\n",
       "      <td>-87.653818</td>\n",
       "      <td>member</td>\n",
       "    </tr>\n",
       "    <tr>\n",
       "      <th>6</th>\n",
       "      <td>870B2D4CD112D7B7</td>\n",
       "      <td>electric_bike</td>\n",
       "      <td>2023-10-31 17:32:20</td>\n",
       "      <td>2023-10-31 17:44:20</td>\n",
       "      <td>Orleans St &amp; Chestnut St (NEXT Apts)</td>\n",
       "      <td>620</td>\n",
       "      <td>Sheffield Ave &amp; Webster Ave</td>\n",
       "      <td>TA1309000033</td>\n",
       "      <td>41.898177</td>\n",
       "      <td>-87.637549</td>\n",
       "      <td>41.921540</td>\n",
       "      <td>-87.653818</td>\n",
       "      <td>member</td>\n",
       "    </tr>\n",
       "    <tr>\n",
       "      <th>7</th>\n",
       "      <td>D9179D36E32D456C</td>\n",
       "      <td>classic_bike</td>\n",
       "      <td>2023-10-02 18:51:51</td>\n",
       "      <td>2023-10-02 18:57:09</td>\n",
       "      <td>Desplaines St &amp; Kinzie St</td>\n",
       "      <td>TA1306000003</td>\n",
       "      <td>Franklin St &amp; Lake St</td>\n",
       "      <td>TA1307000111</td>\n",
       "      <td>41.888716</td>\n",
       "      <td>-87.644448</td>\n",
       "      <td>41.885837</td>\n",
       "      <td>-87.635500</td>\n",
       "      <td>casual</td>\n",
       "    </tr>\n",
       "    <tr>\n",
       "      <th>8</th>\n",
       "      <td>F8E131281F722FEF</td>\n",
       "      <td>classic_bike</td>\n",
       "      <td>2023-10-17 08:28:18</td>\n",
       "      <td>2023-10-17 08:50:03</td>\n",
       "      <td>Calumet Ave &amp; 18th St</td>\n",
       "      <td>13102</td>\n",
       "      <td>Morgan St &amp; Polk St</td>\n",
       "      <td>TA1307000130</td>\n",
       "      <td>41.857618</td>\n",
       "      <td>-87.619411</td>\n",
       "      <td>41.871737</td>\n",
       "      <td>-87.651030</td>\n",
       "      <td>member</td>\n",
       "    </tr>\n",
       "    <tr>\n",
       "      <th>9</th>\n",
       "      <td>91938B71748FA405</td>\n",
       "      <td>classic_bike</td>\n",
       "      <td>2023-10-17 19:17:38</td>\n",
       "      <td>2023-10-17 19:32:23</td>\n",
       "      <td>Wolcott Ave &amp; Polk St</td>\n",
       "      <td>TA1309000064</td>\n",
       "      <td>Morgan St &amp; Polk St</td>\n",
       "      <td>TA1307000130</td>\n",
       "      <td>41.871262</td>\n",
       "      <td>-87.673688</td>\n",
       "      <td>41.871737</td>\n",
       "      <td>-87.651030</td>\n",
       "      <td>member</td>\n",
       "    </tr>\n",
       "  </tbody>\n",
       "</table>\n",
       "</div>"
      ],
      "text/plain": [
       "            ride_id  rideable_type           started_at             ended_at  \\\n",
       "0  4449097279F8BBE7   classic_bike  2023-10-08 10:36:26  2023-10-08 10:49:19   \n",
       "1  9CF060543CA7B439  electric_bike  2023-10-11 17:23:59  2023-10-11 17:36:08   \n",
       "2  667F21F4D6BDE69C  electric_bike  2023-10-12 07:02:33  2023-10-12 07:06:53   \n",
       "3  F92714CC6B019B96   classic_bike  2023-10-24 19:13:03  2023-10-24 19:18:29   \n",
       "4  5E34BA5DE945A9CC   classic_bike  2023-10-09 18:19:26  2023-10-09 18:30:56   \n",
       "5  F7D7420AFAC53CD9  electric_bike  2023-10-04 17:10:59  2023-10-04 17:25:21   \n",
       "6  870B2D4CD112D7B7  electric_bike  2023-10-31 17:32:20  2023-10-31 17:44:20   \n",
       "7  D9179D36E32D456C   classic_bike  2023-10-02 18:51:51  2023-10-02 18:57:09   \n",
       "8  F8E131281F722FEF   classic_bike  2023-10-17 08:28:18  2023-10-17 08:50:03   \n",
       "9  91938B71748FA405   classic_bike  2023-10-17 19:17:38  2023-10-17 19:32:23   \n",
       "\n",
       "                     start_station_name start_station_id  \\\n",
       "0  Orleans St & Chestnut St (NEXT Apts)              620   \n",
       "1             Desplaines St & Kinzie St     TA1306000003   \n",
       "2  Orleans St & Chestnut St (NEXT Apts)              620   \n",
       "3             Desplaines St & Kinzie St     TA1306000003   \n",
       "4             Desplaines St & Kinzie St     TA1306000003   \n",
       "5  Orleans St & Chestnut St (NEXT Apts)              620   \n",
       "6  Orleans St & Chestnut St (NEXT Apts)              620   \n",
       "7             Desplaines St & Kinzie St     TA1306000003   \n",
       "8                 Calumet Ave & 18th St            13102   \n",
       "9                 Wolcott Ave & Polk St     TA1309000064   \n",
       "\n",
       "              end_station_name end_station_id  start_lat  start_lng  \\\n",
       "0  Sheffield Ave & Webster Ave   TA1309000033  41.898203 -87.637536   \n",
       "1  Sheffield Ave & Webster Ave   TA1309000033  41.888641 -87.644415   \n",
       "2        Franklin St & Lake St   TA1307000111  41.898073 -87.637514   \n",
       "3        Franklin St & Lake St   TA1307000111  41.888716 -87.644448   \n",
       "4        Franklin St & Lake St   TA1307000111  41.888716 -87.644448   \n",
       "5  Sheffield Ave & Webster Ave   TA1309000033  41.898124 -87.637533   \n",
       "6  Sheffield Ave & Webster Ave   TA1309000033  41.898177 -87.637549   \n",
       "7        Franklin St & Lake St   TA1307000111  41.888716 -87.644448   \n",
       "8          Morgan St & Polk St   TA1307000130  41.857618 -87.619411   \n",
       "9          Morgan St & Polk St   TA1307000130  41.871262 -87.673688   \n",
       "\n",
       "     end_lat    end_lng member_casual  \n",
       "0  41.921540 -87.653818        member  \n",
       "1  41.921540 -87.653818        member  \n",
       "2  41.885837 -87.635500        member  \n",
       "3  41.885837 -87.635500        member  \n",
       "4  41.885837 -87.635500        member  \n",
       "5  41.921540 -87.653818        member  \n",
       "6  41.921540 -87.653818        member  \n",
       "7  41.885837 -87.635500        casual  \n",
       "8  41.871737 -87.651030        member  \n",
       "9  41.871737 -87.651030        member  "
      ]
     },
     "execution_count": 3,
     "metadata": {},
     "output_type": "execute_result"
    }
   ],
   "source": [
    "# Combining the data into a single data frame\n",
    "df = pd.concat(dfs, ignore_index=True).drop_duplicates('ride_id') \n",
    "\n",
    "# Checking the combined data frame\n",
    "df.head(10)"
   ]
  },
  {
   "cell_type": "code",
   "execution_count": 4,
   "metadata": {},
   "outputs": [
    {
     "data": {
      "text/plain": [
       "(5715482, 13)"
      ]
     },
     "execution_count": 4,
     "metadata": {},
     "output_type": "execute_result"
    }
   ],
   "source": [
    "df.shape"
   ]
  },
  {
   "cell_type": "code",
   "execution_count": 5,
   "metadata": {},
   "outputs": [
    {
     "name": "stdout",
     "output_type": "stream",
     "text": [
      "<class 'pandas.core.frame.DataFrame'>\n",
      "Index: 5715482 entries, 0 to 5715692\n",
      "Data columns (total 13 columns):\n",
      " #   Column              Dtype  \n",
      "---  ------              -----  \n",
      " 0   ride_id             object \n",
      " 1   rideable_type       object \n",
      " 2   started_at          object \n",
      " 3   ended_at            object \n",
      " 4   start_station_name  object \n",
      " 5   start_station_id    object \n",
      " 6   end_station_name    object \n",
      " 7   end_station_id      object \n",
      " 8   start_lat           float64\n",
      " 9   start_lng           float64\n",
      " 10  end_lat             float64\n",
      " 11  end_lng             float64\n",
      " 12  member_casual       object \n",
      "dtypes: float64(4), object(9)\n",
      "memory usage: 610.5+ MB\n"
     ]
    }
   ],
   "source": [
    "df.info()"
   ]
  },
  {
   "cell_type": "code",
   "execution_count": 7,
   "metadata": {},
   "outputs": [
    {
     "name": "stdout",
     "output_type": "stream",
     "text": [
      "<class 'pandas.core.frame.DataFrame'>\n",
      "Index: 5715482 entries, 0 to 5715692\n",
      "Data columns (total 13 columns):\n",
      " #   Column              Dtype         \n",
      "---  ------              -----         \n",
      " 0   ride_id             object        \n",
      " 1   rideable_type       object        \n",
      " 2   started_at          datetime64[ns]\n",
      " 3   ended_at            datetime64[ns]\n",
      " 4   start_station_name  object        \n",
      " 5   start_station_id    object        \n",
      " 6   end_station_name    object        \n",
      " 7   end_station_id      object        \n",
      " 8   start_lat           float64       \n",
      " 9   start_lng           float64       \n",
      " 10  end_lat             float64       \n",
      " 11  end_lng             float64       \n",
      " 12  member_casual       object        \n",
      "dtypes: datetime64[ns](2), float64(4), object(7)\n",
      "memory usage: 610.5+ MB\n"
     ]
    }
   ],
   "source": [
    "# Converting `started_at` and `ended_at` to datetime format\n",
    "df['started_at'] = pd.to_datetime(df['started_at'], format='mixed')\n",
    "df['ended_at'] = pd.to_datetime(df['ended_at'], format='mixed')\n",
    "\n",
    "df.info()"
   ]
  },
  {
   "cell_type": "code",
   "execution_count": 8,
   "metadata": {},
   "outputs": [
    {
     "data": {
      "text/html": [
       "<div>\n",
       "<style scoped>\n",
       "    .dataframe tbody tr th:only-of-type {\n",
       "        vertical-align: middle;\n",
       "    }\n",
       "\n",
       "    .dataframe tbody tr th {\n",
       "        vertical-align: top;\n",
       "    }\n",
       "\n",
       "    .dataframe thead th {\n",
       "        text-align: right;\n",
       "    }\n",
       "</style>\n",
       "<table border=\"1\" class=\"dataframe\">\n",
       "  <thead>\n",
       "    <tr style=\"text-align: right;\">\n",
       "      <th></th>\n",
       "      <th>ride_id</th>\n",
       "      <th>rideable_type</th>\n",
       "      <th>started_at</th>\n",
       "      <th>ended_at</th>\n",
       "      <th>start_station_name</th>\n",
       "      <th>start_station_id</th>\n",
       "      <th>end_station_name</th>\n",
       "      <th>end_station_id</th>\n",
       "      <th>start_lat</th>\n",
       "      <th>start_lng</th>\n",
       "      <th>end_lat</th>\n",
       "      <th>end_lng</th>\n",
       "      <th>member_casual</th>\n",
       "    </tr>\n",
       "  </thead>\n",
       "  <tbody>\n",
       "    <tr>\n",
       "      <th>1594323</th>\n",
       "      <td>7F02F9C9518DE899</td>\n",
       "      <td>electric_bike</td>\n",
       "      <td>2024-07-31 23:56:29.404</td>\n",
       "      <td>2024-07-31 23:59:06.026</td>\n",
       "      <td>Montrose Harbor</td>\n",
       "      <td>TA1308000012</td>\n",
       "      <td>NaN</td>\n",
       "      <td>NaN</td>\n",
       "      <td>41.963982</td>\n",
       "      <td>-87.638181</td>\n",
       "      <td>41.960000</td>\n",
       "      <td>-87.640000</td>\n",
       "      <td>member</td>\n",
       "    </tr>\n",
       "    <tr>\n",
       "      <th>1217211</th>\n",
       "      <td>D8EA77522CDD0963</td>\n",
       "      <td>electric_bike</td>\n",
       "      <td>2024-07-31 23:55:00.044</td>\n",
       "      <td>2024-07-31 23:58:09.805</td>\n",
       "      <td>Wilton Ave &amp; Belmont Ave</td>\n",
       "      <td>TA1307000134</td>\n",
       "      <td>NaN</td>\n",
       "      <td>NaN</td>\n",
       "      <td>41.940232</td>\n",
       "      <td>-87.652944</td>\n",
       "      <td>41.950000</td>\n",
       "      <td>-87.650000</td>\n",
       "      <td>member</td>\n",
       "    </tr>\n",
       "    <tr>\n",
       "      <th>1098968</th>\n",
       "      <td>95217BF2C770F4DE</td>\n",
       "      <td>electric_bike</td>\n",
       "      <td>2024-07-31 23:54:26.535</td>\n",
       "      <td>2024-07-31 23:57:52.119</td>\n",
       "      <td>Stetson Ave &amp; South Water St</td>\n",
       "      <td>TA1308000029</td>\n",
       "      <td>Cityfront Plaza Dr &amp; Pioneer Ct</td>\n",
       "      <td>13427</td>\n",
       "      <td>41.886835</td>\n",
       "      <td>-87.622320</td>\n",
       "      <td>41.890573</td>\n",
       "      <td>-87.622072</td>\n",
       "      <td>casual</td>\n",
       "    </tr>\n",
       "    <tr>\n",
       "      <th>1028136</th>\n",
       "      <td>08C302BA8CA35FC2</td>\n",
       "      <td>electric_bike</td>\n",
       "      <td>2024-07-31 23:54:00.718</td>\n",
       "      <td>2024-07-31 23:55:50.961</td>\n",
       "      <td>State St &amp; Chicago Ave</td>\n",
       "      <td>21544</td>\n",
       "      <td>NaN</td>\n",
       "      <td>NaN</td>\n",
       "      <td>41.896617</td>\n",
       "      <td>-87.628579</td>\n",
       "      <td>41.900000</td>\n",
       "      <td>-87.630000</td>\n",
       "      <td>casual</td>\n",
       "    </tr>\n",
       "    <tr>\n",
       "      <th>1253867</th>\n",
       "      <td>C4121F2D05CE827E</td>\n",
       "      <td>electric_bike</td>\n",
       "      <td>2024-07-31 23:53:36.244</td>\n",
       "      <td>2024-07-31 23:56:48.209</td>\n",
       "      <td>NaN</td>\n",
       "      <td>NaN</td>\n",
       "      <td>NaN</td>\n",
       "      <td>NaN</td>\n",
       "      <td>41.930000</td>\n",
       "      <td>-87.650000</td>\n",
       "      <td>41.930000</td>\n",
       "      <td>-87.650000</td>\n",
       "      <td>casual</td>\n",
       "    </tr>\n",
       "    <tr>\n",
       "      <th>1351965</th>\n",
       "      <td>51A1A9F12078A3A9</td>\n",
       "      <td>electric_bike</td>\n",
       "      <td>2024-07-31 23:53:25.120</td>\n",
       "      <td>2024-07-31 23:57:01.391</td>\n",
       "      <td>Wells St &amp; Elm St</td>\n",
       "      <td>KA1504000135</td>\n",
       "      <td>Wells St &amp; Huron St</td>\n",
       "      <td>TA1306000012</td>\n",
       "      <td>41.903222</td>\n",
       "      <td>-87.634324</td>\n",
       "      <td>41.894722</td>\n",
       "      <td>-87.634362</td>\n",
       "      <td>casual</td>\n",
       "    </tr>\n",
       "    <tr>\n",
       "      <th>1627284</th>\n",
       "      <td>F150109CFA419D6E</td>\n",
       "      <td>electric_bike</td>\n",
       "      <td>2024-07-31 23:53:13.100</td>\n",
       "      <td>2024-07-31 23:59:00.637</td>\n",
       "      <td>NaN</td>\n",
       "      <td>NaN</td>\n",
       "      <td>Clark St &amp; Lincoln Ave</td>\n",
       "      <td>13179</td>\n",
       "      <td>41.930000</td>\n",
       "      <td>-87.650000</td>\n",
       "      <td>41.915689</td>\n",
       "      <td>-87.634600</td>\n",
       "      <td>member</td>\n",
       "    </tr>\n",
       "    <tr>\n",
       "      <th>1050922</th>\n",
       "      <td>AF0F739C3F723C91</td>\n",
       "      <td>electric_bike</td>\n",
       "      <td>2024-07-31 23:52:35.503</td>\n",
       "      <td>2024-07-31 23:55:43.916</td>\n",
       "      <td>Halsted St &amp; Wrightwood Ave</td>\n",
       "      <td>TA1309000061</td>\n",
       "      <td>NaN</td>\n",
       "      <td>NaN</td>\n",
       "      <td>41.929143</td>\n",
       "      <td>-87.649077</td>\n",
       "      <td>41.930000</td>\n",
       "      <td>-87.650000</td>\n",
       "      <td>member</td>\n",
       "    </tr>\n",
       "    <tr>\n",
       "      <th>1085365</th>\n",
       "      <td>5916FA2F813E5E74</td>\n",
       "      <td>electric_bike</td>\n",
       "      <td>2024-07-31 23:52:31.416</td>\n",
       "      <td>2024-07-31 23:55:21.415</td>\n",
       "      <td>Sheridan Rd &amp; Irving Park Rd</td>\n",
       "      <td>13063</td>\n",
       "      <td>NaN</td>\n",
       "      <td>NaN</td>\n",
       "      <td>41.954245</td>\n",
       "      <td>-87.654406</td>\n",
       "      <td>41.960000</td>\n",
       "      <td>-87.650000</td>\n",
       "      <td>member</td>\n",
       "    </tr>\n",
       "    <tr>\n",
       "      <th>1655166</th>\n",
       "      <td>6441AE460141DB52</td>\n",
       "      <td>electric_bike</td>\n",
       "      <td>2024-07-31 23:52:14.182</td>\n",
       "      <td>2024-07-31 23:59:06.039</td>\n",
       "      <td>Clarendon Ave &amp; Junior Ter</td>\n",
       "      <td>13389</td>\n",
       "      <td>Pine Grove Ave &amp; Waveland Ave</td>\n",
       "      <td>TA1307000150</td>\n",
       "      <td>41.961004</td>\n",
       "      <td>-87.649603</td>\n",
       "      <td>41.949473</td>\n",
       "      <td>-87.646453</td>\n",
       "      <td>casual</td>\n",
       "    </tr>\n",
       "  </tbody>\n",
       "</table>\n",
       "</div>"
      ],
      "text/plain": [
       "                  ride_id  rideable_type              started_at  \\\n",
       "1594323  7F02F9C9518DE899  electric_bike 2024-07-31 23:56:29.404   \n",
       "1217211  D8EA77522CDD0963  electric_bike 2024-07-31 23:55:00.044   \n",
       "1098968  95217BF2C770F4DE  electric_bike 2024-07-31 23:54:26.535   \n",
       "1028136  08C302BA8CA35FC2  electric_bike 2024-07-31 23:54:00.718   \n",
       "1253867  C4121F2D05CE827E  electric_bike 2024-07-31 23:53:36.244   \n",
       "1351965  51A1A9F12078A3A9  electric_bike 2024-07-31 23:53:25.120   \n",
       "1627284  F150109CFA419D6E  electric_bike 2024-07-31 23:53:13.100   \n",
       "1050922  AF0F739C3F723C91  electric_bike 2024-07-31 23:52:35.503   \n",
       "1085365  5916FA2F813E5E74  electric_bike 2024-07-31 23:52:31.416   \n",
       "1655166  6441AE460141DB52  electric_bike 2024-07-31 23:52:14.182   \n",
       "\n",
       "                       ended_at            start_station_name  \\\n",
       "1594323 2024-07-31 23:59:06.026               Montrose Harbor   \n",
       "1217211 2024-07-31 23:58:09.805      Wilton Ave & Belmont Ave   \n",
       "1098968 2024-07-31 23:57:52.119  Stetson Ave & South Water St   \n",
       "1028136 2024-07-31 23:55:50.961        State St & Chicago Ave   \n",
       "1253867 2024-07-31 23:56:48.209                           NaN   \n",
       "1351965 2024-07-31 23:57:01.391             Wells St & Elm St   \n",
       "1627284 2024-07-31 23:59:00.637                           NaN   \n",
       "1050922 2024-07-31 23:55:43.916   Halsted St & Wrightwood Ave   \n",
       "1085365 2024-07-31 23:55:21.415  Sheridan Rd & Irving Park Rd   \n",
       "1655166 2024-07-31 23:59:06.039    Clarendon Ave & Junior Ter   \n",
       "\n",
       "        start_station_id                 end_station_name end_station_id  \\\n",
       "1594323     TA1308000012                              NaN            NaN   \n",
       "1217211     TA1307000134                              NaN            NaN   \n",
       "1098968     TA1308000029  Cityfront Plaza Dr & Pioneer Ct          13427   \n",
       "1028136            21544                              NaN            NaN   \n",
       "1253867              NaN                              NaN            NaN   \n",
       "1351965     KA1504000135              Wells St & Huron St   TA1306000012   \n",
       "1627284              NaN           Clark St & Lincoln Ave          13179   \n",
       "1050922     TA1309000061                              NaN            NaN   \n",
       "1085365            13063                              NaN            NaN   \n",
       "1655166            13389    Pine Grove Ave & Waveland Ave   TA1307000150   \n",
       "\n",
       "         start_lat  start_lng    end_lat    end_lng member_casual  \n",
       "1594323  41.963982 -87.638181  41.960000 -87.640000        member  \n",
       "1217211  41.940232 -87.652944  41.950000 -87.650000        member  \n",
       "1098968  41.886835 -87.622320  41.890573 -87.622072        casual  \n",
       "1028136  41.896617 -87.628579  41.900000 -87.630000        casual  \n",
       "1253867  41.930000 -87.650000  41.930000 -87.650000        casual  \n",
       "1351965  41.903222 -87.634324  41.894722 -87.634362        casual  \n",
       "1627284  41.930000 -87.650000  41.915689 -87.634600        member  \n",
       "1050922  41.929143 -87.649077  41.930000 -87.650000        member  \n",
       "1085365  41.954245 -87.654406  41.960000 -87.650000        member  \n",
       "1655166  41.961004 -87.649603  41.949473 -87.646453        casual  "
      ]
     },
     "execution_count": 8,
     "metadata": {},
     "output_type": "execute_result"
    }
   ],
   "source": [
    "# Sorting by datetime, most recent first\n",
    "df.sort_values('started_at', ascending = False).head(10)"
   ]
  },
  {
   "cell_type": "markdown",
   "metadata": {},
   "source": [
    "## Cleaning the data\n",
    "Next we will look for missing values and duplicates and figure out how to deal with them. "
   ]
  },
  {
   "cell_type": "code",
   "execution_count": 9,
   "metadata": {},
   "outputs": [
    {
     "data": {
      "text/plain": [
       "ride_id               False\n",
       "rideable_type         False\n",
       "started_at            False\n",
       "ended_at              False\n",
       "start_station_name     True\n",
       "start_station_id       True\n",
       "end_station_name       True\n",
       "end_station_id         True\n",
       "start_lat             False\n",
       "start_lng             False\n",
       "end_lat                True\n",
       "end_lng                True\n",
       "member_casual         False\n",
       "dtype: bool"
      ]
     },
     "execution_count": 9,
     "metadata": {},
     "output_type": "execute_result"
    }
   ],
   "source": [
    "# Checking if there are any missing values across each column\n",
    "\n",
    "df.isnull().any()"
   ]
  },
  {
   "cell_type": "code",
   "execution_count": 10,
   "metadata": {},
   "outputs": [
    {
     "data": {
      "text/plain": [
       "ride_id                    0\n",
       "rideable_type              0\n",
       "started_at                 0\n",
       "ended_at                   0\n",
       "start_station_name    947002\n",
       "start_station_id      947002\n",
       "end_station_name      989396\n",
       "end_station_id        989396\n",
       "start_lat                  0\n",
       "start_lng                  0\n",
       "end_lat                 7716\n",
       "end_lng                 7716\n",
       "member_casual              0\n",
       "dtype: int64"
      ]
     },
     "execution_count": 10,
     "metadata": {},
     "output_type": "execute_result"
    }
   ],
   "source": [
    "df.isna().sum()"
   ]
  },
  {
   "cell_type": "code",
   "execution_count": 11,
   "metadata": {},
   "outputs": [
    {
     "data": {
      "text/plain": [
       "<Axes: >"
      ]
     },
     "execution_count": 11,
     "metadata": {},
     "output_type": "execute_result"
    },
    {
     "data": {
      "image/png": "[encoded data removed]",
      "text/plain": [
       "<Figure size 2500x1000 with 3 Axes>"
      ]
     },
     "metadata": {},
     "output_type": "display_data"
    }
   ],
   "source": [
    "msno.bar(df)"
   ]
  },
  {
   "cell_type": "code",
   "execution_count": 12,
   "metadata": {},
   "outputs": [
    {
     "data": {
      "text/plain": [
       "<Axes: >"
      ]
     },
     "execution_count": 12,
     "metadata": {},
     "output_type": "execute_result"
    },
    {
     "data": {
      "image/png": "[encoded data removed]",
      "text/plain": [
       "<Figure size 2000x1200 with 2 Axes>"
      ]
     },
     "metadata": {},
     "output_type": "display_data"
    }
   ],
   "source": [
    "msno.heatmap(df, cmap='YlGnBu')"
   ]
  },
  {
   "cell_type": "code",
   "execution_count": 13,
   "metadata": {},
   "outputs": [
    {
     "data": {
      "text/plain": [
       "<Axes: >"
      ]
     },
     "execution_count": 13,
     "metadata": {},
     "output_type": "execute_result"
    },
    {
     "data": {
      "image/png": "[encoded data removed]",
      "text/plain": [
       "<Figure size 2500x1000 with 2 Axes>"
      ]
     },
     "metadata": {},
     "output_type": "display_data"
    }
   ],
   "source": [
    "msno.matrix(df)"
   ]
  },
  {
   "cell_type": "code",
   "execution_count": 14,
   "metadata": {},
   "outputs": [
    {
     "data": {
      "text/html": [
       "<div>\n",
       "<style scoped>\n",
       "    .dataframe tbody tr th:only-of-type {\n",
       "        vertical-align: middle;\n",
       "    }\n",
       "\n",
       "    .dataframe tbody tr th {\n",
       "        vertical-align: top;\n",
       "    }\n",
       "\n",
       "    .dataframe thead th {\n",
       "        text-align: right;\n",
       "    }\n",
       "</style>\n",
       "<table border=\"1\" class=\"dataframe\">\n",
       "  <thead>\n",
       "    <tr style=\"text-align: right;\">\n",
       "      <th></th>\n",
       "      <th>ride_id</th>\n",
       "      <th>rideable_type</th>\n",
       "      <th>started_at</th>\n",
       "      <th>ended_at</th>\n",
       "      <th>start_station_name</th>\n",
       "      <th>start_station_id</th>\n",
       "      <th>end_station_name</th>\n",
       "      <th>end_station_id</th>\n",
       "      <th>start_lat</th>\n",
       "      <th>start_lng</th>\n",
       "      <th>end_lat</th>\n",
       "      <th>end_lng</th>\n",
       "      <th>member_casual</th>\n",
       "    </tr>\n",
       "  </thead>\n",
       "  <tbody>\n",
       "    <tr>\n",
       "      <th>460774</th>\n",
       "      <td>03DC17C7B101F847</td>\n",
       "      <td>electric_bike</td>\n",
       "      <td>2023-10-07 13:24:40.000</td>\n",
       "      <td>2023-10-07 13:26:20.000</td>\n",
       "      <td>Unknown</td>\n",
       "      <td>Unknown</td>\n",
       "      <td>Clarendon Ave &amp; Junior Ter</td>\n",
       "      <td>13389</td>\n",
       "      <td>41.96</td>\n",
       "      <td>-87.65</td>\n",
       "      <td>41.961004</td>\n",
       "      <td>-87.649603</td>\n",
       "      <td>member</td>\n",
       "    </tr>\n",
       "    <tr>\n",
       "      <th>1281987</th>\n",
       "      <td>621131642F4DECFF</td>\n",
       "      <td>electric_bike</td>\n",
       "      <td>2024-07-27 13:48:06.094</td>\n",
       "      <td>2024-07-27 13:57:16.333</td>\n",
       "      <td>Unknown</td>\n",
       "      <td>Unknown</td>\n",
       "      <td>Unknown</td>\n",
       "      <td>Unknown</td>\n",
       "      <td>41.91</td>\n",
       "      <td>-87.62</td>\n",
       "      <td>41.930000</td>\n",
       "      <td>-87.640000</td>\n",
       "      <td>casual</td>\n",
       "    </tr>\n",
       "    <tr>\n",
       "      <th>5488606</th>\n",
       "      <td>B7CC13C3AAAED8CA</td>\n",
       "      <td>electric_bike</td>\n",
       "      <td>2023-11-19 11:35:32.000</td>\n",
       "      <td>2023-11-19 11:41:29.000</td>\n",
       "      <td>Unknown</td>\n",
       "      <td>Unknown</td>\n",
       "      <td>Clarendon Ave &amp; Gordon Ter</td>\n",
       "      <td>13379</td>\n",
       "      <td>41.97</td>\n",
       "      <td>-87.66</td>\n",
       "      <td>41.957867</td>\n",
       "      <td>-87.649505</td>\n",
       "      <td>member</td>\n",
       "    </tr>\n",
       "    <tr>\n",
       "      <th>2850093</th>\n",
       "      <td>5C66746A3733D505</td>\n",
       "      <td>electric_bike</td>\n",
       "      <td>2024-03-03 16:34:15.000</td>\n",
       "      <td>2024-03-03 16:39:09.000</td>\n",
       "      <td>Unknown</td>\n",
       "      <td>Unknown</td>\n",
       "      <td>Unknown</td>\n",
       "      <td>Unknown</td>\n",
       "      <td>41.88</td>\n",
       "      <td>-87.65</td>\n",
       "      <td>41.870000</td>\n",
       "      <td>-87.660000</td>\n",
       "      <td>member</td>\n",
       "    </tr>\n",
       "    <tr>\n",
       "      <th>2433475</th>\n",
       "      <td>4840801EFAE0DA2A</td>\n",
       "      <td>electric_bike</td>\n",
       "      <td>2023-08-15 18:03:18.000</td>\n",
       "      <td>2023-08-15 18:18:20.000</td>\n",
       "      <td>Unknown</td>\n",
       "      <td>Unknown</td>\n",
       "      <td>Unknown</td>\n",
       "      <td>Unknown</td>\n",
       "      <td>41.91</td>\n",
       "      <td>-87.63</td>\n",
       "      <td>41.950000</td>\n",
       "      <td>-87.660000</td>\n",
       "      <td>casual</td>\n",
       "    </tr>\n",
       "    <tr>\n",
       "      <th>3628143</th>\n",
       "      <td>01905FE346BB3797</td>\n",
       "      <td>electric_bike</td>\n",
       "      <td>2023-09-06 15:43:18.000</td>\n",
       "      <td>2023-09-06 15:58:28.000</td>\n",
       "      <td>Unknown</td>\n",
       "      <td>Unknown</td>\n",
       "      <td>Unknown</td>\n",
       "      <td>Unknown</td>\n",
       "      <td>41.92</td>\n",
       "      <td>-87.73</td>\n",
       "      <td>41.920000</td>\n",
       "      <td>-87.770000</td>\n",
       "      <td>member</td>\n",
       "    </tr>\n",
       "    <tr>\n",
       "      <th>2881481</th>\n",
       "      <td>31DC9B59019F7C9B</td>\n",
       "      <td>electric_bike</td>\n",
       "      <td>2024-03-23 13:15:57.000</td>\n",
       "      <td>2024-03-23 13:25:45.000</td>\n",
       "      <td>Unknown</td>\n",
       "      <td>Unknown</td>\n",
       "      <td>Leavitt St &amp; Addison St</td>\n",
       "      <td>KA1504000143</td>\n",
       "      <td>41.93</td>\n",
       "      <td>-87.69</td>\n",
       "      <td>41.946655</td>\n",
       "      <td>-87.683359</td>\n",
       "      <td>casual</td>\n",
       "    </tr>\n",
       "    <tr>\n",
       "      <th>3350702</th>\n",
       "      <td>84C4C615DDC8DBBD</td>\n",
       "      <td>electric_bike</td>\n",
       "      <td>2023-09-06 11:23:59.000</td>\n",
       "      <td>2023-09-06 11:30:30.000</td>\n",
       "      <td>Unknown</td>\n",
       "      <td>Unknown</td>\n",
       "      <td>Wood St &amp; Milwaukee Ave</td>\n",
       "      <td>13221</td>\n",
       "      <td>41.92</td>\n",
       "      <td>-87.69</td>\n",
       "      <td>41.907655</td>\n",
       "      <td>-87.672552</td>\n",
       "      <td>casual</td>\n",
       "    </tr>\n",
       "    <tr>\n",
       "      <th>4470484</th>\n",
       "      <td>1FDF787519A5E1FF</td>\n",
       "      <td>electric_bike</td>\n",
       "      <td>2024-06-02 09:21:14.887</td>\n",
       "      <td>2024-06-02 09:26:08.472</td>\n",
       "      <td>Unknown</td>\n",
       "      <td>Unknown</td>\n",
       "      <td>Unknown</td>\n",
       "      <td>Unknown</td>\n",
       "      <td>41.93</td>\n",
       "      <td>-87.71</td>\n",
       "      <td>41.930000</td>\n",
       "      <td>-87.720000</td>\n",
       "      <td>casual</td>\n",
       "    </tr>\n",
       "    <tr>\n",
       "      <th>483408</th>\n",
       "      <td>B324ED83F9E2CD34</td>\n",
       "      <td>electric_bike</td>\n",
       "      <td>2023-10-22 18:54:11.000</td>\n",
       "      <td>2023-10-22 19:07:42.000</td>\n",
       "      <td>Unknown</td>\n",
       "      <td>Unknown</td>\n",
       "      <td>Unknown</td>\n",
       "      <td>Unknown</td>\n",
       "      <td>41.80</td>\n",
       "      <td>-87.59</td>\n",
       "      <td>41.780000</td>\n",
       "      <td>-87.600000</td>\n",
       "      <td>member</td>\n",
       "    </tr>\n",
       "    <tr>\n",
       "      <th>1551827</th>\n",
       "      <td>38A160BEB880D330</td>\n",
       "      <td>electric_bike</td>\n",
       "      <td>2024-07-08 15:52:58.571</td>\n",
       "      <td>2024-07-08 16:02:30.936</td>\n",
       "      <td>Unknown</td>\n",
       "      <td>Unknown</td>\n",
       "      <td>Rush St &amp; Superior St</td>\n",
       "      <td>15530</td>\n",
       "      <td>41.89</td>\n",
       "      <td>-87.64</td>\n",
       "      <td>41.895765</td>\n",
       "      <td>-87.625908</td>\n",
       "      <td>member</td>\n",
       "    </tr>\n",
       "    <tr>\n",
       "      <th>3921369</th>\n",
       "      <td>BE4DCC47C8F6F9CC</td>\n",
       "      <td>electric_bike</td>\n",
       "      <td>2023-12-08 17:21:59.000</td>\n",
       "      <td>2023-12-08 17:30:52.000</td>\n",
       "      <td>Unknown</td>\n",
       "      <td>Unknown</td>\n",
       "      <td>Unknown</td>\n",
       "      <td>Unknown</td>\n",
       "      <td>41.95</td>\n",
       "      <td>-87.66</td>\n",
       "      <td>41.940000</td>\n",
       "      <td>-87.650000</td>\n",
       "      <td>casual</td>\n",
       "    </tr>\n",
       "    <tr>\n",
       "      <th>1154672</th>\n",
       "      <td>650516530CE68E42</td>\n",
       "      <td>electric_bike</td>\n",
       "      <td>2024-07-22 07:56:07.377</td>\n",
       "      <td>2024-07-22 08:04:41.321</td>\n",
       "      <td>Unknown</td>\n",
       "      <td>Unknown</td>\n",
       "      <td>Spaulding Ave &amp; Armitage Ave</td>\n",
       "      <td>15650</td>\n",
       "      <td>41.91</td>\n",
       "      <td>-87.68</td>\n",
       "      <td>41.917108</td>\n",
       "      <td>-87.710221</td>\n",
       "      <td>member</td>\n",
       "    </tr>\n",
       "    <tr>\n",
       "      <th>4721970</th>\n",
       "      <td>F0AF12A825EE3FCB</td>\n",
       "      <td>electric_bike</td>\n",
       "      <td>2024-06-22 12:05:24.587</td>\n",
       "      <td>2024-06-22 12:11:00.333</td>\n",
       "      <td>Unknown</td>\n",
       "      <td>Unknown</td>\n",
       "      <td>Unknown</td>\n",
       "      <td>Unknown</td>\n",
       "      <td>41.96</td>\n",
       "      <td>-87.66</td>\n",
       "      <td>41.970000</td>\n",
       "      <td>-87.670000</td>\n",
       "      <td>member</td>\n",
       "    </tr>\n",
       "    <tr>\n",
       "      <th>3764764</th>\n",
       "      <td>5BB5CAE84CB185DB</td>\n",
       "      <td>electric_bike</td>\n",
       "      <td>2023-09-18 16:58:07.000</td>\n",
       "      <td>2023-09-18 17:07:35.000</td>\n",
       "      <td>Unknown</td>\n",
       "      <td>Unknown</td>\n",
       "      <td>Clark St &amp; Lincoln Ave</td>\n",
       "      <td>13179</td>\n",
       "      <td>41.94</td>\n",
       "      <td>-87.64</td>\n",
       "      <td>41.915689</td>\n",
       "      <td>-87.634600</td>\n",
       "      <td>casual</td>\n",
       "    </tr>\n",
       "    <tr>\n",
       "      <th>958882</th>\n",
       "      <td>BDD82C3BCBB70ADF</td>\n",
       "      <td>electric_bike</td>\n",
       "      <td>2024-07-24 18:12:20.079</td>\n",
       "      <td>2024-07-24 18:12:40.001</td>\n",
       "      <td>Unknown</td>\n",
       "      <td>Unknown</td>\n",
       "      <td>Unknown</td>\n",
       "      <td>Unknown</td>\n",
       "      <td>41.89</td>\n",
       "      <td>-87.62</td>\n",
       "      <td>41.890000</td>\n",
       "      <td>-87.620000</td>\n",
       "      <td>casual</td>\n",
       "    </tr>\n",
       "    <tr>\n",
       "      <th>4060617</th>\n",
       "      <td>2A6F3B5D294EB168</td>\n",
       "      <td>electric_bike</td>\n",
       "      <td>2024-06-23 11:07:52.039</td>\n",
       "      <td>2024-06-23 11:17:58.662</td>\n",
       "      <td>Unknown</td>\n",
       "      <td>Unknown</td>\n",
       "      <td>Sheffield Ave &amp; Fullerton Ave</td>\n",
       "      <td>TA1306000016</td>\n",
       "      <td>41.90</td>\n",
       "      <td>-87.64</td>\n",
       "      <td>41.925602</td>\n",
       "      <td>-87.653708</td>\n",
       "      <td>casual</td>\n",
       "    </tr>\n",
       "    <tr>\n",
       "      <th>1146480</th>\n",
       "      <td>D2E33B3F81CE2467</td>\n",
       "      <td>electric_bike</td>\n",
       "      <td>2024-07-04 17:06:23.395</td>\n",
       "      <td>2024-07-04 17:39:04.836</td>\n",
       "      <td>Unknown</td>\n",
       "      <td>Unknown</td>\n",
       "      <td>Wood St &amp; Augusta Blvd</td>\n",
       "      <td>657</td>\n",
       "      <td>41.96</td>\n",
       "      <td>-87.64</td>\n",
       "      <td>41.899181</td>\n",
       "      <td>-87.672200</td>\n",
       "      <td>member</td>\n",
       "    </tr>\n",
       "    <tr>\n",
       "      <th>473205</th>\n",
       "      <td>280182D9F6604497</td>\n",
       "      <td>electric_bike</td>\n",
       "      <td>2023-10-10 08:20:52.000</td>\n",
       "      <td>2023-10-10 08:25:07.000</td>\n",
       "      <td>Unknown</td>\n",
       "      <td>Unknown</td>\n",
       "      <td>California Ave &amp; Milwaukee Ave</td>\n",
       "      <td>13084</td>\n",
       "      <td>41.93</td>\n",
       "      <td>-87.69</td>\n",
       "      <td>41.922695</td>\n",
       "      <td>-87.697153</td>\n",
       "      <td>member</td>\n",
       "    </tr>\n",
       "    <tr>\n",
       "      <th>1503902</th>\n",
       "      <td>9A508EE4821FB1EB</td>\n",
       "      <td>electric_bike</td>\n",
       "      <td>2024-07-25 08:23:27.309</td>\n",
       "      <td>2024-07-25 08:32:47.986</td>\n",
       "      <td>Unknown</td>\n",
       "      <td>Unknown</td>\n",
       "      <td>Major Ave &amp; Addison St</td>\n",
       "      <td>23166</td>\n",
       "      <td>41.97</td>\n",
       "      <td>-87.76</td>\n",
       "      <td>41.945835</td>\n",
       "      <td>-87.769185</td>\n",
       "      <td>casual</td>\n",
       "    </tr>\n",
       "    <tr>\n",
       "      <th>4718577</th>\n",
       "      <td>53FEB05281931C3A</td>\n",
       "      <td>electric_bike</td>\n",
       "      <td>2024-06-30 13:16:03.601</td>\n",
       "      <td>2024-06-30 13:39:23.232</td>\n",
       "      <td>Unknown</td>\n",
       "      <td>Unknown</td>\n",
       "      <td>Unknown</td>\n",
       "      <td>Unknown</td>\n",
       "      <td>41.95</td>\n",
       "      <td>-87.65</td>\n",
       "      <td>41.960000</td>\n",
       "      <td>-87.710000</td>\n",
       "      <td>casual</td>\n",
       "    </tr>\n",
       "    <tr>\n",
       "      <th>2428162</th>\n",
       "      <td>F40D26F3D6836718</td>\n",
       "      <td>electric_bike</td>\n",
       "      <td>2023-08-24 22:58:59.000</td>\n",
       "      <td>2023-08-24 23:13:29.000</td>\n",
       "      <td>Unknown</td>\n",
       "      <td>Unknown</td>\n",
       "      <td>Unknown</td>\n",
       "      <td>Unknown</td>\n",
       "      <td>41.92</td>\n",
       "      <td>-87.69</td>\n",
       "      <td>41.900000</td>\n",
       "      <td>-87.690000</td>\n",
       "      <td>casual</td>\n",
       "    </tr>\n",
       "    <tr>\n",
       "      <th>2237975</th>\n",
       "      <td>C4CF20737821F67D</td>\n",
       "      <td>electric_bike</td>\n",
       "      <td>2023-08-06 19:29:11.000</td>\n",
       "      <td>2023-08-06 20:15:09.000</td>\n",
       "      <td>Unknown</td>\n",
       "      <td>Unknown</td>\n",
       "      <td>Sheridan Rd &amp; Buena Ave</td>\n",
       "      <td>TA1309000027</td>\n",
       "      <td>41.88</td>\n",
       "      <td>-87.62</td>\n",
       "      <td>41.958494</td>\n",
       "      <td>-87.654966</td>\n",
       "      <td>member</td>\n",
       "    </tr>\n",
       "    <tr>\n",
       "      <th>2846548</th>\n",
       "      <td>29E15BB66C7222CF</td>\n",
       "      <td>electric_bike</td>\n",
       "      <td>2024-03-15 19:32:31.000</td>\n",
       "      <td>2024-03-15 19:35:09.000</td>\n",
       "      <td>Unknown</td>\n",
       "      <td>Unknown</td>\n",
       "      <td>Unknown</td>\n",
       "      <td>Unknown</td>\n",
       "      <td>41.87</td>\n",
       "      <td>-87.65</td>\n",
       "      <td>41.870000</td>\n",
       "      <td>-87.650000</td>\n",
       "      <td>member</td>\n",
       "    </tr>\n",
       "    <tr>\n",
       "      <th>4707570</th>\n",
       "      <td>3BA36DDD51108B59</td>\n",
       "      <td>electric_bike</td>\n",
       "      <td>2024-06-11 20:15:23.680</td>\n",
       "      <td>2024-06-11 20:16:47.699</td>\n",
       "      <td>Unknown</td>\n",
       "      <td>Unknown</td>\n",
       "      <td>Unknown</td>\n",
       "      <td>Unknown</td>\n",
       "      <td>41.91</td>\n",
       "      <td>-87.65</td>\n",
       "      <td>41.910000</td>\n",
       "      <td>-87.650000</td>\n",
       "      <td>casual</td>\n",
       "    </tr>\n",
       "    <tr>\n",
       "      <th>4936452</th>\n",
       "      <td>0878C5C0866CF4D6</td>\n",
       "      <td>electric_bike</td>\n",
       "      <td>2024-05-21 17:13:56.000</td>\n",
       "      <td>2024-05-21 17:20:40.000</td>\n",
       "      <td>Unknown</td>\n",
       "      <td>Unknown</td>\n",
       "      <td>Milwaukee Ave &amp; Wabansia Ave</td>\n",
       "      <td>13243</td>\n",
       "      <td>41.90</td>\n",
       "      <td>-87.67</td>\n",
       "      <td>41.912616</td>\n",
       "      <td>-87.681391</td>\n",
       "      <td>member</td>\n",
       "    </tr>\n",
       "    <tr>\n",
       "      <th>955929</th>\n",
       "      <td>F4E30A5599B65AD6</td>\n",
       "      <td>electric_bike</td>\n",
       "      <td>2024-07-19 16:09:16.222</td>\n",
       "      <td>2024-07-19 16:09:17.770</td>\n",
       "      <td>Unknown</td>\n",
       "      <td>Unknown</td>\n",
       "      <td>Unknown</td>\n",
       "      <td>Unknown</td>\n",
       "      <td>41.88</td>\n",
       "      <td>-87.63</td>\n",
       "      <td>41.880000</td>\n",
       "      <td>-87.630000</td>\n",
       "      <td>casual</td>\n",
       "    </tr>\n",
       "    <tr>\n",
       "      <th>3802861</th>\n",
       "      <td>00AC240273DE1C44</td>\n",
       "      <td>electric_bike</td>\n",
       "      <td>2023-09-29 18:30:17.000</td>\n",
       "      <td>2023-09-29 18:38:22.000</td>\n",
       "      <td>Unknown</td>\n",
       "      <td>Unknown</td>\n",
       "      <td>Unknown</td>\n",
       "      <td>Unknown</td>\n",
       "      <td>41.91</td>\n",
       "      <td>-87.63</td>\n",
       "      <td>41.890000</td>\n",
       "      <td>-87.640000</td>\n",
       "      <td>casual</td>\n",
       "    </tr>\n",
       "    <tr>\n",
       "      <th>3328191</th>\n",
       "      <td>3899B3251F6710E6</td>\n",
       "      <td>electric_bike</td>\n",
       "      <td>2023-09-08 17:40:59.000</td>\n",
       "      <td>2023-09-08 17:52:58.000</td>\n",
       "      <td>Unknown</td>\n",
       "      <td>Unknown</td>\n",
       "      <td>Elston Ave &amp; Cortland St</td>\n",
       "      <td>TA1305000039</td>\n",
       "      <td>41.95</td>\n",
       "      <td>-87.66</td>\n",
       "      <td>41.916433</td>\n",
       "      <td>-87.666746</td>\n",
       "      <td>casual</td>\n",
       "    </tr>\n",
       "    <tr>\n",
       "      <th>3355797</th>\n",
       "      <td>2DED7BFDF87951C4</td>\n",
       "      <td>electric_bike</td>\n",
       "      <td>2023-09-06 15:53:46.000</td>\n",
       "      <td>2023-09-06 16:06:06.000</td>\n",
       "      <td>Unknown</td>\n",
       "      <td>Unknown</td>\n",
       "      <td>Clark St &amp; Newport St</td>\n",
       "      <td>632</td>\n",
       "      <td>41.93</td>\n",
       "      <td>-87.65</td>\n",
       "      <td>41.944540</td>\n",
       "      <td>-87.654678</td>\n",
       "      <td>member</td>\n",
       "    </tr>\n",
       "  </tbody>\n",
       "</table>\n",
       "</div>"
      ],
      "text/plain": [
       "                  ride_id  rideable_type              started_at  \\\n",
       "460774   03DC17C7B101F847  electric_bike 2023-10-07 13:24:40.000   \n",
       "1281987  621131642F4DECFF  electric_bike 2024-07-27 13:48:06.094   \n",
       "5488606  B7CC13C3AAAED8CA  electric_bike 2023-11-19 11:35:32.000   \n",
       "2850093  5C66746A3733D505  electric_bike 2024-03-03 16:34:15.000   \n",
       "2433475  4840801EFAE0DA2A  electric_bike 2023-08-15 18:03:18.000   \n",
       "3628143  01905FE346BB3797  electric_bike 2023-09-06 15:43:18.000   \n",
       "2881481  31DC9B59019F7C9B  electric_bike 2024-03-23 13:15:57.000   \n",
       "3350702  84C4C615DDC8DBBD  electric_bike 2023-09-06 11:23:59.000   \n",
       "4470484  1FDF787519A5E1FF  electric_bike 2024-06-02 09:21:14.887   \n",
       "483408   B324ED83F9E2CD34  electric_bike 2023-10-22 18:54:11.000   \n",
       "1551827  38A160BEB880D330  electric_bike 2024-07-08 15:52:58.571   \n",
       "3921369  BE4DCC47C8F6F9CC  electric_bike 2023-12-08 17:21:59.000   \n",
       "1154672  650516530CE68E42  electric_bike 2024-07-22 07:56:07.377   \n",
       "4721970  F0AF12A825EE3FCB  electric_bike 2024-06-22 12:05:24.587   \n",
       "3764764  5BB5CAE84CB185DB  electric_bike 2023-09-18 16:58:07.000   \n",
       "958882   BDD82C3BCBB70ADF  electric_bike 2024-07-24 18:12:20.079   \n",
       "4060617  2A6F3B5D294EB168  electric_bike 2024-06-23 11:07:52.039   \n",
       "1146480  D2E33B3F81CE2467  electric_bike 2024-07-04 17:06:23.395   \n",
       "473205   280182D9F6604497  electric_bike 2023-10-10 08:20:52.000   \n",
       "1503902  9A508EE4821FB1EB  electric_bike 2024-07-25 08:23:27.309   \n",
       "4718577  53FEB05281931C3A  electric_bike 2024-06-30 13:16:03.601   \n",
       "2428162  F40D26F3D6836718  electric_bike 2023-08-24 22:58:59.000   \n",
       "2237975  C4CF20737821F67D  electric_bike 2023-08-06 19:29:11.000   \n",
       "2846548  29E15BB66C7222CF  electric_bike 2024-03-15 19:32:31.000   \n",
       "4707570  3BA36DDD51108B59  electric_bike 2024-06-11 20:15:23.680   \n",
       "4936452  0878C5C0866CF4D6  electric_bike 2024-05-21 17:13:56.000   \n",
       "955929   F4E30A5599B65AD6  electric_bike 2024-07-19 16:09:16.222   \n",
       "3802861  00AC240273DE1C44  electric_bike 2023-09-29 18:30:17.000   \n",
       "3328191  3899B3251F6710E6  electric_bike 2023-09-08 17:40:59.000   \n",
       "3355797  2DED7BFDF87951C4  electric_bike 2023-09-06 15:53:46.000   \n",
       "\n",
       "                       ended_at start_station_name start_station_id  \\\n",
       "460774  2023-10-07 13:26:20.000            Unknown          Unknown   \n",
       "1281987 2024-07-27 13:57:16.333            Unknown          Unknown   \n",
       "5488606 2023-11-19 11:41:29.000            Unknown          Unknown   \n",
       "2850093 2024-03-03 16:39:09.000            Unknown          Unknown   \n",
       "2433475 2023-08-15 18:18:20.000            Unknown          Unknown   \n",
       "3628143 2023-09-06 15:58:28.000            Unknown          Unknown   \n",
       "2881481 2024-03-23 13:25:45.000            Unknown          Unknown   \n",
       "3350702 2023-09-06 11:30:30.000            Unknown          Unknown   \n",
       "4470484 2024-06-02 09:26:08.472            Unknown          Unknown   \n",
       "483408  2023-10-22 19:07:42.000            Unknown          Unknown   \n",
       "1551827 2024-07-08 16:02:30.936            Unknown          Unknown   \n",
       "3921369 2023-12-08 17:30:52.000            Unknown          Unknown   \n",
       "1154672 2024-07-22 08:04:41.321            Unknown          Unknown   \n",
       "4721970 2024-06-22 12:11:00.333            Unknown          Unknown   \n",
       "3764764 2023-09-18 17:07:35.000            Unknown          Unknown   \n",
       "958882  2024-07-24 18:12:40.001            Unknown          Unknown   \n",
       "4060617 2024-06-23 11:17:58.662            Unknown          Unknown   \n",
       "1146480 2024-07-04 17:39:04.836            Unknown          Unknown   \n",
       "473205  2023-10-10 08:25:07.000            Unknown          Unknown   \n",
       "1503902 2024-07-25 08:32:47.986            Unknown          Unknown   \n",
       "4718577 2024-06-30 13:39:23.232            Unknown          Unknown   \n",
       "2428162 2023-08-24 23:13:29.000            Unknown          Unknown   \n",
       "2237975 2023-08-06 20:15:09.000            Unknown          Unknown   \n",
       "2846548 2024-03-15 19:35:09.000            Unknown          Unknown   \n",
       "4707570 2024-06-11 20:16:47.699            Unknown          Unknown   \n",
       "4936452 2024-05-21 17:20:40.000            Unknown          Unknown   \n",
       "955929  2024-07-19 16:09:17.770            Unknown          Unknown   \n",
       "3802861 2023-09-29 18:38:22.000            Unknown          Unknown   \n",
       "3328191 2023-09-08 17:52:58.000            Unknown          Unknown   \n",
       "3355797 2023-09-06 16:06:06.000            Unknown          Unknown   \n",
       "\n",
       "                       end_station_name end_station_id  start_lat  start_lng  \\\n",
       "460774       Clarendon Ave & Junior Ter          13389      41.96     -87.65   \n",
       "1281987                         Unknown        Unknown      41.91     -87.62   \n",
       "5488606      Clarendon Ave & Gordon Ter          13379      41.97     -87.66   \n",
       "2850093                         Unknown        Unknown      41.88     -87.65   \n",
       "2433475                         Unknown        Unknown      41.91     -87.63   \n",
       "3628143                         Unknown        Unknown      41.92     -87.73   \n",
       "2881481         Leavitt St & Addison St   KA1504000143      41.93     -87.69   \n",
       "3350702         Wood St & Milwaukee Ave          13221      41.92     -87.69   \n",
       "4470484                         Unknown        Unknown      41.93     -87.71   \n",
       "483408                          Unknown        Unknown      41.80     -87.59   \n",
       "1551827           Rush St & Superior St          15530      41.89     -87.64   \n",
       "3921369                         Unknown        Unknown      41.95     -87.66   \n",
       "1154672    Spaulding Ave & Armitage Ave          15650      41.91     -87.68   \n",
       "4721970                         Unknown        Unknown      41.96     -87.66   \n",
       "3764764          Clark St & Lincoln Ave          13179      41.94     -87.64   \n",
       "958882                          Unknown        Unknown      41.89     -87.62   \n",
       "4060617   Sheffield Ave & Fullerton Ave   TA1306000016      41.90     -87.64   \n",
       "1146480          Wood St & Augusta Blvd            657      41.96     -87.64   \n",
       "473205   California Ave & Milwaukee Ave          13084      41.93     -87.69   \n",
       "1503902          Major Ave & Addison St          23166      41.97     -87.76   \n",
       "4718577                         Unknown        Unknown      41.95     -87.65   \n",
       "2428162                         Unknown        Unknown      41.92     -87.69   \n",
       "2237975         Sheridan Rd & Buena Ave   TA1309000027      41.88     -87.62   \n",
       "2846548                         Unknown        Unknown      41.87     -87.65   \n",
       "4707570                         Unknown        Unknown      41.91     -87.65   \n",
       "4936452    Milwaukee Ave & Wabansia Ave          13243      41.90     -87.67   \n",
       "955929                          Unknown        Unknown      41.88     -87.63   \n",
       "3802861                         Unknown        Unknown      41.91     -87.63   \n",
       "3328191        Elston Ave & Cortland St   TA1305000039      41.95     -87.66   \n",
       "3355797           Clark St & Newport St            632      41.93     -87.65   \n",
       "\n",
       "           end_lat    end_lng member_casual  \n",
       "460774   41.961004 -87.649603        member  \n",
       "1281987  41.930000 -87.640000        casual  \n",
       "5488606  41.957867 -87.649505        member  \n",
       "2850093  41.870000 -87.660000        member  \n",
       "2433475  41.950000 -87.660000        casual  \n",
       "3628143  41.920000 -87.770000        member  \n",
       "2881481  41.946655 -87.683359        casual  \n",
       "3350702  41.907655 -87.672552        casual  \n",
       "4470484  41.930000 -87.720000        casual  \n",
       "483408   41.780000 -87.600000        member  \n",
       "1551827  41.895765 -87.625908        member  \n",
       "3921369  41.940000 -87.650000        casual  \n",
       "1154672  41.917108 -87.710221        member  \n",
       "4721970  41.970000 -87.670000        member  \n",
       "3764764  41.915689 -87.634600        casual  \n",
       "958882   41.890000 -87.620000        casual  \n",
       "4060617  41.925602 -87.653708        casual  \n",
       "1146480  41.899181 -87.672200        member  \n",
       "473205   41.922695 -87.697153        member  \n",
       "1503902  41.945835 -87.769185        casual  \n",
       "4718577  41.960000 -87.710000        casual  \n",
       "2428162  41.900000 -87.690000        casual  \n",
       "2237975  41.958494 -87.654966        member  \n",
       "2846548  41.870000 -87.650000        member  \n",
       "4707570  41.910000 -87.650000        casual  \n",
       "4936452  41.912616 -87.681391        member  \n",
       "955929   41.880000 -87.630000        casual  \n",
       "3802861  41.890000 -87.640000        casual  \n",
       "3328191  41.916433 -87.666746        casual  \n",
       "3355797  41.944540 -87.654678        member  "
      ]
     },
     "execution_count": 14,
     "metadata": {},
     "output_type": "execute_result"
    }
   ],
   "source": [
    "# Replacing missing values\n",
    "df['start_station_name'] = df['start_station_name'].fillna('Unknown')\n",
    "df['start_station_id'] = df['start_station_id'].fillna('Unknown')\n",
    "df['end_station_name'] = df['end_station_name'].fillna('Unknown')\n",
    "df['end_station_id'] = df['end_station_id'].fillna('Unknown')\n",
    "\n",
    "cd_u = df.loc[df['start_station_name'] == 'Unknown'].sample(n = 100)\n",
    "\n",
    "cd_u.head(30)"
   ]
  },
  {
   "cell_type": "code",
   "execution_count": 15,
   "metadata": {},
   "outputs": [
    {
     "data": {
      "application/vnd.plotly.v1+json": {
       "config": {
        "plotlyServerURL": "https://plot.ly"
       },
       "data": [
        {
         "geo": "geo",
         "hovertemplate": "start_lat=%{lat}<br>start_lng=%{lon}<extra></extra>",
         "lat": [
          41.96,
          41.91,
          41.97,
          41.88,
          41.91,
          41.92,
          41.93,
          41.92,
          41.93,
          41.8,
          41.89,
          41.95,
          41.91,
          41.96,
          41.94,
          41.89,
          41.9,
          41.96,
          41.93,
          41.97,
          41.95,
          41.92,
          41.88,
          41.87,
          41.91,
          41.9,
          41.88,
          41.91,
          41.95,
          41.93,
          41.97,
          41.93,
          41.96,
          41.93,
          41.83,
          41.96,
          41.88,
          41.98,
          41.95,
          41.91,
          41.92,
          41.92,
          41.89,
          41.96,
          41.89,
          41.83,
          41.93,
          41.89,
          41.94,
          41.97,
          41.97,
          41.94,
          41.8,
          41.94,
          41.91,
          41.96,
          41.9,
          41.89,
          41.89,
          41.96,
          41.88,
          41.93,
          41.92,
          41.92,
          41.89,
          41.91,
          41.9,
          41.89,
          41.88,
          41.9,
          41.77,
          41.92,
          41.92,
          41.97,
          41.88,
          41.89,
          41.87,
          41.9,
          41.94,
          41.88,
          41.91,
          41.94,
          42,
          41.92,
          41.92,
          41.91,
          41.79,
          41.9,
          41.92,
          41.88,
          41.89,
          41.95,
          41.95,
          41.95,
          41.89,
          41.93,
          41.96,
          41.92,
          41.93,
          42.05
         ],
         "legendgroup": "",
         "lon": [
          -87.65,
          -87.62,
          -87.66,
          -87.65,
          -87.63,
          -87.73,
          -87.69,
          -87.69,
          -87.71,
          -87.59,
          -87.64,
          -87.66,
          -87.68,
          -87.66,
          -87.64,
          -87.62,
          -87.64,
          -87.64,
          -87.69,
          -87.76,
          -87.65,
          -87.69,
          -87.62,
          -87.65,
          -87.65,
          -87.67,
          -87.63,
          -87.63,
          -87.66,
          -87.65,
          -87.68,
          -87.68,
          -87.67,
          -87.71,
          -87.63,
          -87.67,
          -87.62,
          -87.67,
          -87.66,
          -87.69,
          -87.64,
          -87.63,
          -87.62,
          -87.68,
          -87.61,
          -87.65,
          -87.69,
          -87.64,
          -87.66,
          -87.67,
          -87.66,
          -87.64,
          -87.59,
          -87.65,
          -87.63,
          -87.64,
          -87.63,
          -87.63,
          -87.64,
          -87.67,
          -87.63,
          -87.72,
          -87.68,
          -87.63,
          -87.61,
          -87.72,
          -87.64,
          -87.65,
          -87.62,
          -87.7,
          -87.66,
          -87.71,
          -87.64,
          -87.73,
          -87.62,
          -87.64,
          -87.61,
          -87.62,
          -87.7,
          -87.63,
          -87.63,
          -87.65,
          -87.77,
          -87.64,
          -87.67,
          -87.63,
          -87.6,
          -87.62,
          -87.66,
          -87.66,
          -87.62,
          -87.65,
          -87.65,
          -87.73,
          -87.62,
          -87.64,
          -87.65,
          -87.65,
          -87.63,
          -87.67
         ],
         "marker": {
          "color": "#636efa",
          "symbol": "circle"
         },
         "mode": "markers",
         "name": "",
         "showlegend": false,
         "type": "scattergeo"
        }
       ],
       "layout": {
        "geo": {
         "center": {},
         "domain": {
          "x": [
           0,
           1
          ],
          "y": [
           0,
           1
          ]
         }
        },
        "legend": {
         "tracegroupgap": 0
        },
        "template": {
         "data": {
          "bar": [
           {
            "error_x": {
             "color": "#2a3f5f"
            },
            "error_y": {
             "color": "#2a3f5f"
            },
            "marker": {
             "line": {
              "color": "#E5ECF6",
              "width": 0.5
             },
             "pattern": {
              "fillmode": "overlay",
              "size": 10,
              "solidity": 0.2
             }
            },
            "type": "bar"
           }
          ],
          "barpolar": [
           {
            "marker": {
             "line": {
              "color": "#E5ECF6",
              "width": 0.5
             },
             "pattern": {
              "fillmode": "overlay",
              "size": 10,
              "solidity": 0.2
             }
            },
            "type": "barpolar"
           }
          ],
          "carpet": [
           {
            "aaxis": {
             "endlinecolor": "#2a3f5f",
             "gridcolor": "white",
             "linecolor": "white",
             "minorgridcolor": "white",
             "startlinecolor": "#2a3f5f"
            },
            "baxis": {
             "endlinecolor": "#2a3f5f",
             "gridcolor": "white",
             "linecolor": "white",
             "minorgridcolor": "white",
             "startlinecolor": "#2a3f5f"
            },
            "type": "carpet"
           }
          ],
          "choropleth": [
           {
            "colorbar": {
             "outlinewidth": 0,
             "ticks": ""
            },
            "type": "choropleth"
           }
          ],
          "contour": [
           {
            "colorbar": {
             "outlinewidth": 0,
             "ticks": ""
            },
            "colorscale": [
             [
              0,
              "#0d0887"
             ],
             [
              0.1111111111111111,
              "#46039f"
             ],
             [
              0.2222222222222222,
              "#7201a8"
             ],
             [
              0.3333333333333333,
              "#9c179e"
             ],
             [
              0.4444444444444444,
              "#bd3786"
             ],
             [
              0.5555555555555556,
              "#d8576b"
             ],
             [
              0.6666666666666666,
              "#ed7953"
             ],
             [
              0.7777777777777778,
              "#fb9f3a"
             ],
             [
              0.8888888888888888,
              "#fdca26"
             ],
             [
              1,
              "#f0f921"
             ]
            ],
            "type": "contour"
           }
          ],
          "contourcarpet": [
           {
            "colorbar": {
             "outlinewidth": 0,
             "ticks": ""
            },
            "type": "contourcarpet"
           }
          ],
          "heatmap": [
           {
            "colorbar": {
             "outlinewidth": 0,
             "ticks": ""
            },
            "colorscale": [
             [
              0,
              "#0d0887"
             ],
             [
              0.1111111111111111,
              "#46039f"
             ],
             [
              0.2222222222222222,
              "#7201a8"
             ],
             [
              0.3333333333333333,
              "#9c179e"
             ],
             [
              0.4444444444444444,
              "#bd3786"
             ],
             [
              0.5555555555555556,
              "#d8576b"
             ],
             [
              0.6666666666666666,
              "#ed7953"
             ],
             [
              0.7777777777777778,
              "#fb9f3a"
             ],
             [
              0.8888888888888888,
              "#fdca26"
             ],
             [
              1,
              "#f0f921"
             ]
            ],
            "type": "heatmap"
           }
          ],
          "heatmapgl": [
           {
            "colorbar": {
             "outlinewidth": 0,
             "ticks": ""
            },
            "colorscale": [
             [
              0,
              "#0d0887"
             ],
             [
              0.1111111111111111,
              "#46039f"
             ],
             [
              0.2222222222222222,
              "#7201a8"
             ],
             [
              0.3333333333333333,
              "#9c179e"
             ],
             [
              0.4444444444444444,
              "#bd3786"
             ],
             [
              0.5555555555555556,
              "#d8576b"
             ],
             [
              0.6666666666666666,
              "#ed7953"
             ],
             [
              0.7777777777777778,
              "#fb9f3a"
             ],
             [
              0.8888888888888888,
              "#fdca26"
             ],
             [
              1,
              "#f0f921"
             ]
            ],
            "type": "heatmapgl"
           }
          ],
          "histogram": [
           {
            "marker": {
             "pattern": {
              "fillmode": "overlay",
              "size": 10,
              "solidity": 0.2
             }
            },
            "type": "histogram"
           }
          ],
          "histogram2d": [
           {
            "colorbar": {
             "outlinewidth": 0,
             "ticks": ""
            },
            "colorscale": [
             [
              0,
              "#0d0887"
             ],
             [
              0.1111111111111111,
              "#46039f"
             ],
             [
              0.2222222222222222,
              "#7201a8"
             ],
             [
              0.3333333333333333,
              "#9c179e"
             ],
             [
              0.4444444444444444,
              "#bd3786"
             ],
             [
              0.5555555555555556,
              "#d8576b"
             ],
             [
              0.6666666666666666,
              "#ed7953"
             ],
             [
              0.7777777777777778,
              "#fb9f3a"
             ],
             [
              0.8888888888888888,
              "#fdca26"
             ],
             [
              1,
              "#f0f921"
             ]
            ],
            "type": "histogram2d"
           }
          ],
          "histogram2dcontour": [
           {
            "colorbar": {
             "outlinewidth": 0,
             "ticks": ""
            },
            "colorscale": [
             [
              0,
              "#0d0887"
             ],
             [
              0.1111111111111111,
              "#46039f"
             ],
             [
              0.2222222222222222,
              "#7201a8"
             ],
             [
              0.3333333333333333,
              "#9c179e"
             ],
             [
              0.4444444444444444,
              "#bd3786"
             ],
             [
              0.5555555555555556,
              "#d8576b"
             ],
             [
              0.6666666666666666,
              "#ed7953"
             ],
             [
              0.7777777777777778,
              "#fb9f3a"
             ],
             [
              0.8888888888888888,
              "#fdca26"
             ],
             [
              1,
              "#f0f921"
             ]
            ],
            "type": "histogram2dcontour"
           }
          ],
          "mesh3d": [
           {
            "colorbar": {
             "outlinewidth": 0,
             "ticks": ""
            },
            "type": "mesh3d"
           }
          ],
          "parcoords": [
           {
            "line": {
             "colorbar": {
              "outlinewidth": 0,
              "ticks": ""
             }
            },
            "type": "parcoords"
           }
          ],
          "pie": [
           {
            "automargin": true,
            "type": "pie"
           }
          ],
          "scatter": [
           {
            "fillpattern": {
             "fillmode": "overlay",
             "size": 10,
             "solidity": 0.2
            },
            "type": "scatter"
           }
          ],
          "scatter3d": [
           {
            "line": {
             "colorbar": {
              "outlinewidth": 0,
              "ticks": ""
             }
            },
            "marker": {
             "colorbar": {
              "outlinewidth": 0,
              "ticks": ""
             }
            },
            "type": "scatter3d"
           }
          ],
          "scattercarpet": [
           {
            "marker": {
             "colorbar": {
              "outlinewidth": 0,
              "ticks": ""
             }
            },
            "type": "scattercarpet"
           }
          ],
          "scattergeo": [
           {
            "marker": {
             "colorbar": {
              "outlinewidth": 0,
              "ticks": ""
             }
            },
            "type": "scattergeo"
           }
          ],
          "scattergl": [
           {
            "marker": {
             "colorbar": {
              "outlinewidth": 0,
              "ticks": ""
             }
            },
            "type": "scattergl"
           }
          ],
          "scattermapbox": [
           {
            "marker": {
             "colorbar": {
              "outlinewidth": 0,
              "ticks": ""
             }
            },
            "type": "scattermapbox"
           }
          ],
          "scatterpolar": [
           {
            "marker": {
             "colorbar": {
              "outlinewidth": 0,
              "ticks": ""
             }
            },
            "type": "scatterpolar"
           }
          ],
          "scatterpolargl": [
           {
            "marker": {
             "colorbar": {
              "outlinewidth": 0,
              "ticks": ""
             }
            },
            "type": "scatterpolargl"
           }
          ],
          "scatterternary": [
           {
            "marker": {
             "colorbar": {
              "outlinewidth": 0,
              "ticks": ""
             }
            },
            "type": "scatterternary"
           }
          ],
          "surface": [
           {
            "colorbar": {
             "outlinewidth": 0,
             "ticks": ""
            },
            "colorscale": [
             [
              0,
              "#0d0887"
             ],
             [
              0.1111111111111111,
              "#46039f"
             ],
             [
              0.2222222222222222,
              "#7201a8"
             ],
             [
              0.3333333333333333,
              "#9c179e"
             ],
             [
              0.4444444444444444,
              "#bd3786"
             ],
             [
              0.5555555555555556,
              "#d8576b"
             ],
             [
              0.6666666666666666,
              "#ed7953"
             ],
             [
              0.7777777777777778,
              "#fb9f3a"
             ],
             [
              0.8888888888888888,
              "#fdca26"
             ],
             [
              1,
              "#f0f921"
             ]
            ],
            "type": "surface"
           }
          ],
          "table": [
           {
            "cells": {
             "fill": {
              "color": "#EBF0F8"
             },
             "line": {
              "color": "white"
             }
            },
            "header": {
             "fill": {
              "color": "#C8D4E3"
             },
             "line": {
              "color": "white"
             }
            },
            "type": "table"
           }
          ]
         },
         "layout": {
          "annotationdefaults": {
           "arrowcolor": "#2a3f5f",
           "arrowhead": 0,
           "arrowwidth": 1
          },
          "autotypenumbers": "strict",
          "coloraxis": {
           "colorbar": {
            "outlinewidth": 0,
            "ticks": ""
           }
          },
          "colorscale": {
           "diverging": [
            [
             0,
             "#8e0152"
            ],
            [
             0.1,
             "#c51b7d"
            ],
            [
             0.2,
             "#de77ae"
            ],
            [
             0.3,
             "#f1b6da"
            ],
            [
             0.4,
             "#fde0ef"
            ],
            [
             0.5,
             "#f7f7f7"
            ],
            [
             0.6,
             "#e6f5d0"
            ],
            [
             0.7,
             "#b8e186"
            ],
            [
             0.8,
             "#7fbc41"
            ],
            [
             0.9,
             "#4d9221"
            ],
            [
             1,
             "#276419"
            ]
           ],
           "sequential": [
            [
             0,
             "#0d0887"
            ],
            [
             0.1111111111111111,
             "#46039f"
            ],
            [
             0.2222222222222222,
             "#7201a8"
            ],
            [
             0.3333333333333333,
             "#9c179e"
            ],
            [
             0.4444444444444444,
             "#bd3786"
            ],
            [
             0.5555555555555556,
             "#d8576b"
            ],
            [
             0.6666666666666666,
             "#ed7953"
            ],
            [
             0.7777777777777778,
             "#fb9f3a"
            ],
            [
             0.8888888888888888,
             "#fdca26"
            ],
            [
             1,
             "#f0f921"
            ]
           ],
           "sequentialminus": [
            [
             0,
             "#0d0887"
            ],
            [
             0.1111111111111111,
             "#46039f"
            ],
            [
             0.2222222222222222,
             "#7201a8"
            ],
            [
             0.3333333333333333,
             "#9c179e"
            ],
            [
             0.4444444444444444,
             "#bd3786"
            ],
            [
             0.5555555555555556,
             "#d8576b"
            ],
            [
             0.6666666666666666,
             "#ed7953"
            ],
            [
             0.7777777777777778,
             "#fb9f3a"
            ],
            [
             0.8888888888888888,
             "#fdca26"
            ],
            [
             1,
             "#f0f921"
            ]
           ]
          },
          "colorway": [
           "#636efa",
           "#EF553B",
           "#00cc96",
           "#ab63fa",
           "#FFA15A",
           "#19d3f3",
           "#FF6692",
           "#B6E880",
           "#FF97FF",
           "#FECB52"
          ],
          "font": {
           "color": "#2a3f5f"
          },
          "geo": {
           "bgcolor": "white",
           "lakecolor": "white",
           "landcolor": "#E5ECF6",
           "showlakes": true,
           "showland": true,
           "subunitcolor": "white"
          },
          "hoverlabel": {
           "align": "left"
          },
          "hovermode": "closest",
          "mapbox": {
           "style": "light"
          },
          "paper_bgcolor": "white",
          "plot_bgcolor": "#E5ECF6",
          "polar": {
           "angularaxis": {
            "gridcolor": "white",
            "linecolor": "white",
            "ticks": ""
           },
           "bgcolor": "#E5ECF6",
           "radialaxis": {
            "gridcolor": "white",
            "linecolor": "white",
            "ticks": ""
           }
          },
          "scene": {
           "xaxis": {
            "backgroundcolor": "#E5ECF6",
            "gridcolor": "white",
            "gridwidth": 2,
            "linecolor": "white",
            "showbackground": true,
            "ticks": "",
            "zerolinecolor": "white"
           },
           "yaxis": {
            "backgroundcolor": "#E5ECF6",
            "gridcolor": "white",
            "gridwidth": 2,
            "linecolor": "white",
            "showbackground": true,
            "ticks": "",
            "zerolinecolor": "white"
           },
           "zaxis": {
            "backgroundcolor": "#E5ECF6",
            "gridcolor": "white",
            "gridwidth": 2,
            "linecolor": "white",
            "showbackground": true,
            "ticks": "",
            "zerolinecolor": "white"
           }
          },
          "shapedefaults": {
           "line": {
            "color": "#2a3f5f"
           }
          },
          "ternary": {
           "aaxis": {
            "gridcolor": "white",
            "linecolor": "white",
            "ticks": ""
           },
           "baxis": {
            "gridcolor": "white",
            "linecolor": "white",
            "ticks": ""
           },
           "bgcolor": "#E5ECF6",
           "caxis": {
            "gridcolor": "white",
            "linecolor": "white",
            "ticks": ""
           }
          },
          "title": {
           "x": 0.05
          },
          "xaxis": {
           "automargin": true,
           "gridcolor": "white",
           "linecolor": "white",
           "ticks": "",
           "title": {
            "standoff": 15
           },
           "zerolinecolor": "white",
           "zerolinewidth": 2
          },
          "yaxis": {
           "automargin": true,
           "gridcolor": "white",
           "linecolor": "white",
           "ticks": "",
           "title": {
            "standoff": 15
           },
           "zerolinecolor": "white",
           "zerolinewidth": 2
          }
         }
        },
        "title": {
         "text": "Unknown Start Station Name"
        }
       }
      }
     },
     "metadata": {},
     "output_type": "display_data"
    }
   ],
   "source": [
    "fig = px.scatter_geo(cd_u, lat='start_lat', lon='start_lng',\n",
    "                     title='Unknown Start Station Name')\n",
    "fig.show()"
   ]
  },
  {
   "cell_type": "code",
   "execution_count": 16,
   "metadata": {},
   "outputs": [
    {
     "data": {
      "text/plain": [
       "start_station_name\n",
       "Streeter Dr & Grand Ave                  63675\n",
       "DuSable Lake Shore Dr & Monroe St        41624\n",
       "Michigan Ave & Oak St                    38367\n",
       "DuSable Lake Shore Dr & North Blvd       37837\n",
       "Kingsbury St & Kinzie St                 35995\n",
       "                                         ...  \n",
       "Public Rack - Horner & 85th                  1\n",
       "Public Rack - Princeton Ave & 99th Pl        1\n",
       "Public Rack - Ewing Ave & 96th St S          1\n",
       "Public Rack - Ashland Ave & 45th St          1\n",
       "Public Rack - Pulaski & 84th                 1\n",
       "Name: count, Length: 1705, dtype: int64"
      ]
     },
     "execution_count": 16,
     "metadata": {},
     "output_type": "execute_result"
    }
   ],
   "source": [
    "df['start_station_name'].loc[df['start_station_name'] != 'Unknown'].value_counts()"
   ]
  },
  {
   "cell_type": "code",
   "execution_count": 17,
   "metadata": {},
   "outputs": [
    {
     "data": {
      "text/plain": [
       "0   0 days 00:12:53\n",
       "1   0 days 00:12:09\n",
       "2   0 days 00:04:20\n",
       "3   0 days 00:05:26\n",
       "4   0 days 00:11:30\n",
       "Name: duration, dtype: timedelta64[ns]"
      ]
     },
     "execution_count": 17,
     "metadata": {},
     "output_type": "execute_result"
    }
   ],
   "source": [
    "d1 = df['started_at']\n",
    "d2 = df['ended_at']\n",
    "\n",
    "diff = d2-d1\n",
    "df['duration'] = diff\n",
    "df['duration'].head()"
   ]
  },
  {
   "cell_type": "code",
   "execution_count": 18,
   "metadata": {},
   "outputs": [
    {
     "data": {
      "text/html": [
       "<div>\n",
       "<style scoped>\n",
       "    .dataframe tbody tr th:only-of-type {\n",
       "        vertical-align: middle;\n",
       "    }\n",
       "\n",
       "    .dataframe tbody tr th {\n",
       "        vertical-align: top;\n",
       "    }\n",
       "\n",
       "    .dataframe thead th {\n",
       "        text-align: right;\n",
       "    }\n",
       "</style>\n",
       "<table border=\"1\" class=\"dataframe\">\n",
       "  <thead>\n",
       "    <tr style=\"text-align: right;\">\n",
       "      <th></th>\n",
       "      <th>ride_id</th>\n",
       "      <th>rideable_type</th>\n",
       "      <th>started_at</th>\n",
       "      <th>ended_at</th>\n",
       "      <th>start_station_name</th>\n",
       "      <th>start_station_id</th>\n",
       "      <th>end_station_name</th>\n",
       "      <th>end_station_id</th>\n",
       "      <th>start_lat</th>\n",
       "      <th>start_lng</th>\n",
       "      <th>end_lat</th>\n",
       "      <th>end_lng</th>\n",
       "      <th>member_casual</th>\n",
       "      <th>duration</th>\n",
       "    </tr>\n",
       "  </thead>\n",
       "  <tbody>\n",
       "    <tr>\n",
       "      <th>0</th>\n",
       "      <td>4449097279F8BBE7</td>\n",
       "      <td>classic_bike</td>\n",
       "      <td>2023-10-08 10:36:26</td>\n",
       "      <td>2023-10-08 10:49:19</td>\n",
       "      <td>Orleans St &amp; Chestnut St (NEXT Apts)</td>\n",
       "      <td>620</td>\n",
       "      <td>Sheffield Ave &amp; Webster Ave</td>\n",
       "      <td>TA1309000033</td>\n",
       "      <td>41.898203</td>\n",
       "      <td>-87.637536</td>\n",
       "      <td>41.921540</td>\n",
       "      <td>-87.653818</td>\n",
       "      <td>member</td>\n",
       "      <td>0 days 00:12:53</td>\n",
       "    </tr>\n",
       "    <tr>\n",
       "      <th>1</th>\n",
       "      <td>9CF060543CA7B439</td>\n",
       "      <td>electric_bike</td>\n",
       "      <td>2023-10-11 17:23:59</td>\n",
       "      <td>2023-10-11 17:36:08</td>\n",
       "      <td>Desplaines St &amp; Kinzie St</td>\n",
       "      <td>TA1306000003</td>\n",
       "      <td>Sheffield Ave &amp; Webster Ave</td>\n",
       "      <td>TA1309000033</td>\n",
       "      <td>41.888641</td>\n",
       "      <td>-87.644415</td>\n",
       "      <td>41.921540</td>\n",
       "      <td>-87.653818</td>\n",
       "      <td>member</td>\n",
       "      <td>0 days 00:12:09</td>\n",
       "    </tr>\n",
       "    <tr>\n",
       "      <th>2</th>\n",
       "      <td>667F21F4D6BDE69C</td>\n",
       "      <td>electric_bike</td>\n",
       "      <td>2023-10-12 07:02:33</td>\n",
       "      <td>2023-10-12 07:06:53</td>\n",
       "      <td>Orleans St &amp; Chestnut St (NEXT Apts)</td>\n",
       "      <td>620</td>\n",
       "      <td>Franklin St &amp; Lake St</td>\n",
       "      <td>TA1307000111</td>\n",
       "      <td>41.898073</td>\n",
       "      <td>-87.637514</td>\n",
       "      <td>41.885837</td>\n",
       "      <td>-87.635500</td>\n",
       "      <td>member</td>\n",
       "      <td>0 days 00:04:20</td>\n",
       "    </tr>\n",
       "    <tr>\n",
       "      <th>3</th>\n",
       "      <td>F92714CC6B019B96</td>\n",
       "      <td>classic_bike</td>\n",
       "      <td>2023-10-24 19:13:03</td>\n",
       "      <td>2023-10-24 19:18:29</td>\n",
       "      <td>Desplaines St &amp; Kinzie St</td>\n",
       "      <td>TA1306000003</td>\n",
       "      <td>Franklin St &amp; Lake St</td>\n",
       "      <td>TA1307000111</td>\n",
       "      <td>41.888716</td>\n",
       "      <td>-87.644448</td>\n",
       "      <td>41.885837</td>\n",
       "      <td>-87.635500</td>\n",
       "      <td>member</td>\n",
       "      <td>0 days 00:05:26</td>\n",
       "    </tr>\n",
       "    <tr>\n",
       "      <th>4</th>\n",
       "      <td>5E34BA5DE945A9CC</td>\n",
       "      <td>classic_bike</td>\n",
       "      <td>2023-10-09 18:19:26</td>\n",
       "      <td>2023-10-09 18:30:56</td>\n",
       "      <td>Desplaines St &amp; Kinzie St</td>\n",
       "      <td>TA1306000003</td>\n",
       "      <td>Franklin St &amp; Lake St</td>\n",
       "      <td>TA1307000111</td>\n",
       "      <td>41.888716</td>\n",
       "      <td>-87.644448</td>\n",
       "      <td>41.885837</td>\n",
       "      <td>-87.635500</td>\n",
       "      <td>member</td>\n",
       "      <td>0 days 00:11:30</td>\n",
       "    </tr>\n",
       "  </tbody>\n",
       "</table>\n",
       "</div>"
      ],
      "text/plain": [
       "            ride_id  rideable_type          started_at            ended_at  \\\n",
       "0  4449097279F8BBE7   classic_bike 2023-10-08 10:36:26 2023-10-08 10:49:19   \n",
       "1  9CF060543CA7B439  electric_bike 2023-10-11 17:23:59 2023-10-11 17:36:08   \n",
       "2  667F21F4D6BDE69C  electric_bike 2023-10-12 07:02:33 2023-10-12 07:06:53   \n",
       "3  F92714CC6B019B96   classic_bike 2023-10-24 19:13:03 2023-10-24 19:18:29   \n",
       "4  5E34BA5DE945A9CC   classic_bike 2023-10-09 18:19:26 2023-10-09 18:30:56   \n",
       "\n",
       "                     start_station_name start_station_id  \\\n",
       "0  Orleans St & Chestnut St (NEXT Apts)              620   \n",
       "1             Desplaines St & Kinzie St     TA1306000003   \n",
       "2  Orleans St & Chestnut St (NEXT Apts)              620   \n",
       "3             Desplaines St & Kinzie St     TA1306000003   \n",
       "4             Desplaines St & Kinzie St     TA1306000003   \n",
       "\n",
       "              end_station_name end_station_id  start_lat  start_lng  \\\n",
       "0  Sheffield Ave & Webster Ave   TA1309000033  41.898203 -87.637536   \n",
       "1  Sheffield Ave & Webster Ave   TA1309000033  41.888641 -87.644415   \n",
       "2        Franklin St & Lake St   TA1307000111  41.898073 -87.637514   \n",
       "3        Franklin St & Lake St   TA1307000111  41.888716 -87.644448   \n",
       "4        Franklin St & Lake St   TA1307000111  41.888716 -87.644448   \n",
       "\n",
       "     end_lat    end_lng member_casual        duration  \n",
       "0  41.921540 -87.653818        member 0 days 00:12:53  \n",
       "1  41.921540 -87.653818        member 0 days 00:12:09  \n",
       "2  41.885837 -87.635500        member 0 days 00:04:20  \n",
       "3  41.885837 -87.635500        member 0 days 00:05:26  \n",
       "4  41.885837 -87.635500        member 0 days 00:11:30  "
      ]
     },
     "execution_count": 18,
     "metadata": {},
     "output_type": "execute_result"
    }
   ],
   "source": [
    "df.head()"
   ]
  },
  {
   "cell_type": "code",
   "execution_count": 19,
   "metadata": {},
   "outputs": [
    {
     "name": "stdout",
     "output_type": "stream",
     "text": [
      "member_casual\n",
      "casual   0 days 00:27:06.764142763\n",
      "member   0 days 00:12:58.785200452\n",
      "Name: duration, dtype: timedelta64[ns]\n"
     ]
    }
   ],
   "source": [
    "# Looking at the average ride time for members vs. casual riders\n",
    "\n",
    "mc = df.groupby(df['member_casual'])\n",
    "mc_duration = mc['duration'].mean()\n",
    "\n",
    "print(mc_duration)"
   ]
  },
  {
   "cell_type": "markdown",
   "metadata": {},
   "source": [
    "## Observation #1\n",
    "The average member pass ride is less than half the time of the average casual pass ride. It is unfortunate that there is not a way to parse out the casual pass rides into daily and single-ride passes. We can learn from this though that members' rides are usually shorter than the casual rides. "
   ]
  },
  {
   "cell_type": "code",
   "execution_count": 20,
   "metadata": {},
   "outputs": [
    {
     "data": {
      "image/png": "[encoded data removed]",
      "text/plain": [
       "<Figure size 640x480 with 1 Axes>"
      ]
     },
     "metadata": {},
     "output_type": "display_data"
    }
   ],
   "source": [
    "ax = mc['duration'].mean().plot(kind='bar', title='Average Ride Time Member vs. Casual')"
   ]
  },
  {
   "cell_type": "code",
   "execution_count": 21,
   "metadata": {},
   "outputs": [
    {
     "name": "stdout",
     "output_type": "stream",
     "text": [
      "             casual  member\n",
      "avg_minutes   27.12   12.98\n"
     ]
    }
   ],
   "source": [
    "# Creating a simple data frame that shows the difference in average ride time between casual and member ride times.\n",
    "art_data = {'casual' : [27.12],\n",
    "        'member' : [12.98]}\n",
    "\n",
    "art = pd.DataFrame(art_data, index=['avg_minutes'])\n",
    "\n",
    "print(art)"
   ]
  },
  {
   "cell_type": "code",
   "execution_count": 22,
   "metadata": {},
   "outputs": [
    {
     "data": {
      "image/png": "[encoded data removed]",
      "text/plain": [
       "<Figure size 640x480 with 1 Axes>"
      ]
     },
     "metadata": {},
     "output_type": "display_data"
    }
   ],
   "source": [
    "# Visualizing to show the stark difference in average ride times. \n",
    "\n",
    "ax = sns.barplot(art)\n",
    "\n",
    "for i in ax.containers:\n",
    "    ax.bar_label(i,)\n",
    "    ax.set(xlabel='Ride Type', ylabel='Average Minutes Per Ride')"
   ]
  },
  {
   "cell_type": "code",
   "execution_count": 23,
   "metadata": {},
   "outputs": [
    {
     "data": {
      "text/plain": [
       "member_casual\n",
       "member    3677040\n",
       "casual    2038442\n",
       "Name: count, dtype: int64"
      ]
     },
     "execution_count": 23,
     "metadata": {},
     "output_type": "execute_result"
    }
   ],
   "source": [
    "# Now looking at the number of bike rental events for members vs. casual riders. \n",
    "\n",
    "df['member_casual'].value_counts()"
   ]
  },
  {
   "cell_type": "markdown",
   "metadata": {},
   "source": [
    "## Observation #2\n",
    "So we've found that the average ride time for casual riders is much higher than members, but we've now seen that the number of rental events for members is much higher than the number of casual rider rentals. "
   ]
  },
  {
   "cell_type": "code",
   "execution_count": 24,
   "metadata": {},
   "outputs": [
    {
     "data": {
      "image/png": "[encoded data removed]",
      "text/plain": [
       "<Figure size 640x480 with 1 Axes>"
      ]
     },
     "metadata": {},
     "output_type": "display_data"
    }
   ],
   "source": [
    "from matplotlib import ticker\n",
    "import warnings\n",
    "warnings.simplefilter(action='ignore', category=FutureWarning)\n",
    "\n",
    "# additional code before plt.show()\n",
    "formatter = ticker.ScalarFormatter()\n",
    "formatter.set_scientific(False)\n",
    "\n",
    "ax = sns.barplot(df['member_casual'].value_counts(), palette='Set1')\n",
    "plt.xlabel(\"Ride Type\")\n",
    "plt.ylabel(\"# of Rides (in Millions)\")\n",
    "plt.title(\"Rides per Pass Type\")\n",
    "ax.yaxis.set_major_formatter(formatter)"
   ]
  },
  {
   "cell_type": "markdown",
   "metadata": {},
   "source": [
    "Still in progress...to be continued"
   ]
  }
 ],
 "metadata": {
  "kernelspec": {
   "display_name": "Python 3",
   "language": "python",
   "name": "python3"
  },
  "language_info": {
   "codemirror_mode": {
    "name": "ipython",
    "version": 3
   },
   "file_extension": ".py",
   "mimetype": "text/x-python",
   "name": "python",
   "nbconvert_exporter": "python",
   "pygments_lexer": "ipython3",
   "version": "3.12.4"
  }
 },
 "nbformat": 4,
 "nbformat_minor": 2
}

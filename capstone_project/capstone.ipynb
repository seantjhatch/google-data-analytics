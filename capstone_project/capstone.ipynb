{
 "cells": [
  {
   "cell_type": "markdown",
   "metadata": {},
   "source": [
    "# Cyclistic Case Study\n",
    "\n",
    "## Intro\n",
    "The goal of this project is to gain insight into how casual riders and annual members differ in their usage of a bike-share company. Withing the company, the director of marketing believes that the company's future success depends on maximizing the number of annual memberships. Therefore, the insights found in this analysis will be used to design a digital marketing strategy aimed at converting casual riders into annual members. \n",
    "\n",
    "For the purpose of this study, **casual riders** are defined as customers who purchase single-ride or full-day passes, while **Cyclistic members** are customers who purchase an annual membership. "
   ]
  },
  {
   "cell_type": "code",
   "execution_count": null,
   "metadata": {},
   "outputs": [],
   "source": [
    "# Importing data science libraries\n",
    "import pandas as pd\n",
    "import numpy as np\n",
    "import glob\n",
    "import os\n",
    "\n",
    "# Importing visualization libraries\n",
    "import seaborn as sns\n",
    "import matplotlib.pyplot as plt\n",
    "import plotly as px\n",
    "import missingno as msno\n",
    "import plotly.offline as pyo \n",
    "import plotly.express as px\n",
    "import plotly.io as pio\n",
    "import plotly.graph_objects as go\n",
    "from plotly.subplots import make_subplots\n",
    "\n",
    "plt.style.use('fivethirtyeight')"
   ]
  },
  {
   "cell_type": "code",
   "execution_count": null,
   "metadata": {},
   "outputs": [],
   "source": [
    "# Importing the data\n",
    "path = 'data'\n",
    "csv_files = glob.glob(os.path.join(path, \"*.csv\"))\n",
    "\n",
    "dfs = []\n",
    "\n",
    "for file in csv_files:\n",
    "    df = pd.read_csv(file)\n",
    "    dfs.append(df)"
   ]
  },
  {
   "cell_type": "code",
   "execution_count": null,
   "metadata": {},
   "outputs": [],
   "source": [
    "# Combining the data into a single data frame\n",
    "cdf = pd.concat(dfs, ignore_index=True).drop_duplicates('ride_id') #cdf standing for \"combined data frame\"\n",
    "\n",
    "# Checking the combined data frame\n",
    "cdf.head(10)"
   ]
  },
  {
   "cell_type": "code",
   "execution_count": null,
   "metadata": {},
   "outputs": [],
   "source": [
    "cdf.shape"
   ]
  },
  {
   "cell_type": "code",
   "execution_count": null,
   "metadata": {},
   "outputs": [],
   "source": [
    "cdf.info()"
   ]
  },
  {
   "cell_type": "code",
   "execution_count": null,
   "metadata": {},
   "outputs": [],
   "source": [
    "# Converting `started_at` and `ended_at` to datetime format\n",
    "cdf['started_at'] = pd.to_datetime(cdf['started_at'], format='mixed')\n",
    "cdf['ended_at'] = pd.to_datetime(cdf['ended_at'], format='mixed')\n",
    "\n",
    "cdf.info()"
   ]
  },
  {
   "cell_type": "code",
   "execution_count": null,
   "metadata": {},
   "outputs": [],
   "source": [
    "# Sorting by datetime, most recent first\n",
    "cdf.sort_values('started_at', ascending = False).head(10)"
   ]
  },
  {
   "cell_type": "markdown",
   "metadata": {},
   "source": [
    "## Cleaning the data\n",
    "Next we will look for missing values and duplicates and figure out how to deal with them. "
   ]
  },
  {
   "cell_type": "code",
   "execution_count": null,
   "metadata": {},
   "outputs": [],
   "source": [
    "# Checking if there are any missing values across each column\n",
    "\n",
    "cdf.isnull().any()"
   ]
  },
  {
   "cell_type": "code",
   "execution_count": null,
   "metadata": {},
   "outputs": [],
   "source": [
    "cdf.isna().sum()"
   ]
  },
  {
   "cell_type": "code",
   "execution_count": null,
   "metadata": {},
   "outputs": [],
   "source": [
    "msno.bar(cdf)"
   ]
  },
  {
   "cell_type": "code",
   "execution_count": null,
   "metadata": {},
   "outputs": [],
   "source": [
    "msno.heatmap(cdf, cmap='YlGnBu')"
   ]
  },
  {
   "cell_type": "code",
   "execution_count": null,
   "metadata": {},
   "outputs": [],
   "source": [
    "msno.matrix(cdf)"
   ]
  },
  {
   "cell_type": "code",
   "execution_count": null,
   "metadata": {},
   "outputs": [],
   "source": [
    "# Replacing missing values\n",
    "cdf['start_station_name'] = cdf['start_station_name'].fillna('Unknown')\n",
    "cdf['start_station_id'] = cdf['start_station_id'].fillna('Unknown')\n",
    "cdf['end_station_name'] = cdf['end_station_name'].fillna('Unknown')\n",
    "cdf['end_station_id'] = cdf['end_station_id'].fillna('Unknown')\n",
    "\n",
    "cd_u = cdf.loc[cdf['start_station_name'] == 'Unknown'].sample(n = 100)\n",
    "\n",
    "cd_u.head(30)"
   ]
  },
  {
   "cell_type": "code",
   "execution_count": null,
   "metadata": {},
   "outputs": [],
   "source": [
    "fig = px.scatter_geo(cd_u, lat='start_lat', lon='start_lng',\n",
    "                     title='Unknown Start Station Name')\n",
    "fig.show()"
   ]
  },
  {
   "cell_type": "code",
   "execution_count": null,
   "metadata": {},
   "outputs": [],
   "source": [
    "cdf['start_station_name'].loc[cdf['start_station_name'] != 'Unknown'].value_counts()"
   ]
  },
  {
   "cell_type": "code",
   "execution_count": null,
   "metadata": {},
   "outputs": [],
   "source": [
    "d1 = cdf['started_at']\n",
    "d2 = cdf['ended_at']\n",
    "\n",
    "diff = d2-d1\n",
    "cdf['duration'] = diff\n",
    "cdf['duration'].head()"
   ]
  },
  {
   "cell_type": "code",
   "execution_count": null,
   "metadata": {},
   "outputs": [],
   "source": [
    "cdf.head()"
   ]
  },
  {
   "cell_type": "code",
   "execution_count": null,
   "metadata": {},
   "outputs": [],
   "source": [
    "# Looking at the average ride time for members vs. casual riders\n",
    "\n",
    "mc = cdf.groupby(cdf['member_casual'])\n",
    "mc_duration = mc['duration'].mean()\n",
    "\n",
    "print(mc_duration)"
   ]
  },
  {
   "cell_type": "markdown",
   "metadata": {},
   "source": [
    "## Observation #1\n",
    "The average member pass ride is less than half the time of the average casual pass ride. It is unfortunate that there is not a way to parse out the casual pass rides into daily and single-ride passes. We can learn from this though that members' rides are usually shorter than the casual rides. "
   ]
  },
  {
   "cell_type": "code",
   "execution_count": null,
   "metadata": {},
   "outputs": [],
   "source": [
    "ax = mc['duration'].mean().plot(kind='bar', title='Average Ride Time Member vs. Casual')"
   ]
  },
  {
   "cell_type": "code",
   "execution_count": null,
   "metadata": {},
   "outputs": [],
   "source": [
    "# Creating a simple data frame that shows the difference in average ride time between casual and member ride times.\n",
    "art_data = {'casual' : [27.12],\n",
    "        'member' : [12.98]}\n",
    "\n",
    "art = pd.DataFrame(art_data, index=['avg_minutes'])\n",
    "\n",
    "print(art)"
   ]
  },
  {
   "cell_type": "code",
   "execution_count": null,
   "metadata": {},
   "outputs": [],
   "source": [
    "# Visualizing to show the stark difference in average ride times. \n",
    "\n",
    "ax = sns.barplot(art)\n",
    "\n",
    "for i in ax.containers:\n",
    "    ax.bar_label(i,)\n",
    "    ax.set(xlabel='Ride Type', ylabel='Average Minutes Per Ride')"
   ]
  },
  {
   "cell_type": "code",
   "execution_count": null,
   "metadata": {},
   "outputs": [],
   "source": [
    "# Now looking at the number of bike rental events for members vs. casual riders. \n",
    "\n",
    "cdf['member_casual'].value_counts()"
   ]
  },
  {
   "cell_type": "markdown",
   "metadata": {},
   "source": [
    "## Observation #2\n",
    "So we've found that the average ride time for casual riders is much higher than members, but we've now seen that the number of rental events for members is much higher than the number of casual rider rentals. "
   ]
  },
  {
   "cell_type": "code",
   "execution_count": null,
   "metadata": {},
   "outputs": [],
   "source": [
    "from matplotlib import ticker\n",
    "import warnings\n",
    "warnings.simplefilter(action='ignore', category=FutureWarning)\n",
    "\n",
    "# additional code before plt.show()\n",
    "formatter = ticker.ScalarFormatter()\n",
    "formatter.set_scientific(False)\n",
    "\n",
    "ax = sns.barplot(cdf['member_casual'].value_counts(), palette='Set1')\n",
    "plt.xlabel(\"Ride Type\")\n",
    "plt.ylabel(\"# of Rides (in Millions)\")\n",
    "plt.title(\"Rides per Pass Type\")\n",
    "ax.yaxis.set_major_formatter(formatter)"
   ]
  }
 ],
 "metadata": {
  "kernelspec": {
   "display_name": "Python 3",
   "language": "python",
   "name": "python3"
  },
  "language_info": {
   "codemirror_mode": {
    "name": "ipython",
    "version": 3
   },
   "file_extension": ".py",
   "mimetype": "text/x-python",
   "name": "python",
   "nbconvert_exporter": "python",
   "pygments_lexer": "ipython3",
   "version": "3.12.4"
  }
 },
 "nbformat": 4,
 "nbformat_minor": 2
}
